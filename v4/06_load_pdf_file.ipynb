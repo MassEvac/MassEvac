{
 "cells": [
  {
   "cell_type": "code",
   "execution_count": 9,
   "metadata": {
    "collapsed": true
   },
   "outputs": [],
   "source": [
    "class PDF(object):\n",
    "    ''' Loads a pdf file inline '''\n",
    "    def __init__(self, pdf, size=(800,600)):\n",
    "        self.pdf = pdf\n",
    "        self.size = size\n",
    "\n",
    "    def _repr_html_(self):\n",
    "        return '<iframe src={0} width={1[0]} height={1[1]}></iframe>'.format(self.pdf, self.size)\n",
    "\n",
    "    def _repr_latex_(self):\n",
    "        return r'\\includegraphics[width=1.0\\textwidth]{{{0}}}'.format(self.pdf)"
   ]
  },
  {
   "cell_type": "code",
   "execution_count": 10,
   "metadata": {
    "collapsed": false
   },
   "outputs": [
    {
     "data": {
      "text/html": [
       "<iframe src=./flood/figs/30min-AUC.pdf width=800 height=600></iframe>"
      ],
      "text/latex": [
       "\\includegraphics[width=1.0\\textwidth]{./flood/figs/30min-AUC.pdf}"
      ],
      "text/plain": [
       "<__main__.PDF at 0x104612310>"
      ]
     },
     "execution_count": 10,
     "metadata": {},
     "output_type": "execute_result"
    }
   ],
   "source": [
    "PDF('./flood/figs/30min-AUC.pdf')"
   ]
  },
  {
   "cell_type": "code",
   "execution_count": 11,
   "metadata": {
    "collapsed": false,
    "scrolled": false
   },
   "outputs": [
    {
     "data": {
      "text/html": [
       "<iframe src=flood/figs/carlisle+floodmap+hospital+ref-node.pdf width=800 height=600></iframe>"
      ],
      "text/latex": [
       "\\includegraphics[width=1.0\\textwidth]{flood/figs/carlisle+floodmap+hospital+ref-node.pdf}"
      ],
      "text/plain": [
       "<__main__.PDF at 0x104612610>"
      ]
     },
     "execution_count": 11,
     "metadata": {},
     "output_type": "execute_result"
    }
   ],
   "source": [
    "PDF('flood/figs/carlisle+floodmap+hospital+ref-node.pdf')"
   ]
  }
 ],
 "metadata": {
  "kernelspec": {
   "display_name": "Python 2",
   "language": "python",
   "name": "python2"
  },
  "language_info": {
   "codemirror_mode": {
    "name": "ipython",
    "version": 2
   },
   "file_extension": ".py",
   "mimetype": "text/x-python",
   "name": "python",
   "nbconvert_exporter": "python",
   "pygments_lexer": "ipython2",
   "version": "2.7.12"
  }
 },
 "nbformat": 4,
 "nbformat_minor": 0
}
