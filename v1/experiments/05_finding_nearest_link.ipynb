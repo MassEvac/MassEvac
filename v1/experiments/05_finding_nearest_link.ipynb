{
 "metadata": {
  "name": ""
 },
 "nbformat": 3,
 "nbformat_minor": 0,
 "worksheets": [
  {
   "cells": [
    {
     "cell_type": "code",
     "collapsed": false,
     "input": [
      "import scipy.io\n",
      "import networkx as nx"
     ],
     "language": "python",
     "metadata": {},
     "outputs": [],
     "prompt_number": 1
    },
    {
     "cell_type": "markdown",
     "metadata": {},
     "source": [
      "Load Bristol and convert to networkx"
     ]
    },
    {
     "cell_type": "code",
     "collapsed": false,
     "input": [
      "mat = scipy.io.loadmat('Bristol/DAMsimple.mat')\n",
      "AM = mat['DAM'];\n",
      "\n",
      "mat = scipy.io.loadmat('Bristol/nodesSimple.mat')\n",
      "nodelist = mat['nodes'];"
     ],
     "language": "python",
     "metadata": {},
     "outputs": [],
     "prompt_number": 2
    },
    {
     "cell_type": "code",
     "collapsed": false,
     "input": [
      "G=nx.from_scipy_sparse_matrix(AM);"
     ],
     "language": "python",
     "metadata": {},
     "outputs": [],
     "prompt_number": 3
    },
    {
     "cell_type": "markdown",
     "metadata": {},
     "source": [
      "Graph check"
     ]
    },
    {
     "cell_type": "code",
     "collapsed": false,
     "input": [
      "G.number_of_nodes()==len(nodelist)"
     ],
     "language": "python",
     "metadata": {},
     "outputs": [
      {
       "metadata": {},
       "output_type": "pyout",
       "prompt_number": 4,
       "text": [
        "True"
       ]
      }
     ],
     "prompt_number": 4
    },
    {
     "cell_type": "markdown",
     "metadata": {},
     "source": [
      "Generate a background image of the map"
     ]
    },
    {
     "cell_type": "code",
     "collapsed": false,
     "input": [
      "l,r=min(nodelist[:,0]),max(nodelist[:,0])\n",
      "b,t=min(nodelist[:,1]),max(nodelist[:,1])\n",
      "\n",
      "fig=plt.figure()\n",
      "ax = plt.axes(xlim=(l, r), ylim=(b, t))\n",
      "nx.draw_networkx_edges(G,pos=nodelist)\n",
      "extent = ax.get_window_extent().transformed(fig.dpi_scale_trans.inverted())\n",
      "savefig('map.png', bbox_inches=extent)\n",
      "plt.close('all')"
     ],
     "language": "python",
     "metadata": {},
     "outputs": [],
     "prompt_number": 6
    },
    {
     "cell_type": "markdown",
     "metadata": {},
     "source": [
      "Function to solely determine position on the nearest link"
     ]
    },
    {
     "cell_type": "code",
     "collapsed": false,
     "input": [
      "def pos_link(a, b, p): # x3,y3 is the point\n",
      "    l,d=[None]*2,[None]*2\n",
      "    \n",
      "    # Length components of the line\n",
      "    l[0] = b[0]-a[0]\n",
      "    l[1] = b[1]-a[1]\n",
      "\n",
      "    thing = l[0]*l[0] + l[1]*l[1]\n",
      "\n",
      "    u =  ((p[0] - a[0]) * l[0] + (p[1] - a[1]) * l[1]) / float(thing)\n",
      "\n",
      "    if u > 1:\n",
      "        u = 1\n",
      "    elif u < 0:\n",
      "        u = 0\n",
      "\n",
      "    x = a[0] + u * l[0]\n",
      "    y = a[1] + u * l[1]\n",
      "\n",
      "    return [x,y]\n",
      "\n",
      "pos_link((1,1), (3,3), (3,4)) "
     ],
     "language": "python",
     "metadata": {},
     "outputs": [
      {
       "metadata": {},
       "output_type": "pyout",
       "prompt_number": 7,
       "text": [
        "[3, 3]"
       ]
      }
     ],
     "prompt_number": 7
    },
    {
     "cell_type": "markdown",
     "metadata": {},
     "source": [
      "Distance to nearest link"
     ]
    },
    {
     "cell_type": "code",
     "collapsed": false,
     "input": [
      "def dis_link(a, b, p): # x3,y3 is the point\n",
      "    l,n,d=[None]*2,[None]*2,[None]*2\n",
      "    \n",
      "    # Length components of the line\n",
      "    l[0] = b[0]-a[0]\n",
      "    l[1] = b[1]-a[1]\n",
      "    \n",
      "    n[0] = p[0]-a[0]\n",
      "    n[1] = p[1]-a[1]\n",
      "\n",
      "    lSq = l[0]*l[0] + l[1]*l[1]\n",
      " \n",
      "    u =(n[0]*l[0] + n[1]*l[1]) / float(lSq)\n",
      "\n",
      "    if u > 1:\n",
      "        u = 1\n",
      "    elif u < 0:\n",
      "        u = 0\n",
      "\n",
      "    d[0] = u*l[0]-n[0]\n",
      "    d[1] = u*l[1]-n[1]\n",
      "\n",
      "    # This is actually just the square of the distance\n",
      "    return d[0]*d[0] + d[1]*d[1] "
     ],
     "language": "python",
     "metadata": {},
     "outputs": [],
     "prompt_number": 8
    },
    {
     "cell_type": "markdown",
     "metadata": {},
     "source": [
      "Function to determine the row index, column index and position of the link that calculate distance to the link for all nodes "
     ]
    },
    {
     "cell_type": "code",
     "collapsed": false,
     "input": [
      "def nearest_link(p):\n",
      "    cx = scipy.sparse.coo_matrix(AM)\n",
      "    D2L = scipy.sparse.lil_matrix(shape(AM))\n",
      "    for i,j,v in zip(cx.row, cx.col, cx.data):\n",
      "        D2L[i,j]=dis_link(nodelist[i,:],nodelist[j,:],p)\n",
      "    D2L = D2L.tocoo()\n",
      "    index=D2L.data.argmin()\n",
      "    ri=D2L.row[index]\n",
      "    ci=D2L.col[index]\n",
      "    pos=pos_link(nodelist[ri,:],nodelist[ci,:],p)\n",
      "    return ri,ci,pos"
     ],
     "language": "python",
     "metadata": {},
     "outputs": [],
     "prompt_number": 9
    },
    {
     "cell_type": "markdown",
     "metadata": {},
     "source": [
      "Initialise agents"
     ]
    },
    {
     "cell_type": "code",
     "collapsed": false,
     "input": [
      "# Number of agents\n",
      "n=5\n",
      "\n",
      "I=rand(n,2)\n",
      "# 0 is x and 1 is y\n",
      "I[:,0]=(r-l)*I[:,0]+l\n",
      "I[:,1]=(t-b)*I[:,1]+b\n",
      "\n",
      "# Calculate the location of nearest node\n",
      "N=zeros((n,2))\n",
      "\n",
      "for i in range(n):\n",
      "    ri,ci,N[i,:]=nearest_link(I[i,:])  "
     ],
     "language": "python",
     "metadata": {},
     "outputs": [],
     "prompt_number": 10
    },
    {
     "cell_type": "markdown",
     "metadata": {},
     "source": [
      "Now animate the dots"
     ]
    },
    {
     "cell_type": "code",
     "collapsed": false,
     "input": [
      "\"\"\"\n",
      "Matplotlib Animation Example\n",
      "\n",
      "author: Jake Vanderplas\n",
      "email: vanderplas@astro.washington.edu\n",
      "website: http://jakevdp.github.com\n",
      "license: BSD\n",
      "Please feel free to use and modify this, but keep the above information. Thanks!\n",
      "\"\"\"\n",
      "\n",
      "import numpy as np\n",
      "from matplotlib import animation\n",
      "from scipy.misc import imread\n",
      "\n",
      "datafile = ('map.png')\n",
      "img = imread(datafile)\n",
      "\n",
      "# First set up the figure, the axis, and the plot element we want to animate\n",
      "plt.ion()\n",
      "fig = plt.figure()\n",
      "ax1 = plt.axes(xlim=(l, r), ylim=(b, t))\n",
      "plt.imshow(img, zorder=0, extent=[l, r, b, t])\n",
      "# Alternatively do the following to see how much speed boost the above command gives\n",
      "# nx.draw_networkx_edges(G,pos=nodelist)\n",
      "\n",
      "ax2 = plt.axes(xlim=(l, r), ylim=(b, t))\n",
      "\n",
      "ax3 = plt.axes(xlim=(l, r), ylim=(b, t))\n",
      "\n",
      "# Number of frames\n",
      "f = 50\n",
      "\n",
      "# Calculate centre of map and radius\n",
      "C = [(l+r)/2,(t+b)/2]\n",
      "R = max([r-l,t-b])\n",
      "\n",
      "# Initial position of the agents\n",
      "P = I;\n",
      "\n",
      "# Speed of agents\n",
      "vel = 0.001\n",
      "\n",
      "# Tolerance\n",
      "tol = 0.001\n",
      "\n",
      "point, = ax1.plot([], [], 'r.') \n",
      "nearp, = ax2.plot([], [], 'bo') \n",
      "line, = ax3.plot([], [], 'g-',linewidth=2.0) \n",
      "\n",
      "# Evacuation time vs % evacuated\n",
      "EvE=zeros((1,2))\n",
      "\n",
      "# initialization function: plot the background of each frame\n",
      "def init():\n",
      "    return 0,\n",
      "\n",
      "# animation function.  This is called sequentially\n",
      "def animate(i):\n",
      "    global P, EvE, f\n",
      "    \n",
      "    # Determine the components of unit vector towards the nearest node\n",
      "    v = N - P\n",
      "    MAGv = sqrt(v[:,0]*v[:,0] + v[:,1]*v[:,1])\n",
      "    \n",
      "    # Incremental step towards the node\n",
      "    E = v.T / MAGv * vel;\n",
      "    \n",
      "    # Update the array with position of agents\n",
      "    P=P+E.T\n",
      "    \n",
      "    # Update the agent location graph\n",
      "    point.set_data(P[:,0], P[:,1])\n",
      "    nearp.set_data(N[:,0], N[:,1])\n",
      "    \n",
      "    # Count the number of agents that are within 0.1 of the radius\n",
      "    a = sum(d < tol for d in MAGv)\n",
      "    \n",
      "    # Update the array with evacuation time vs number of evacuaees\n",
      "    EvE=append(EvE,[[i,a]],axis=0)\n",
      "    \n",
      "    # Update the progress graph\n",
      "    line.set_data(EvE[:,0]/float(f)*(r-l)+l, EvE[:,1]/float(n)*(t-b)+b)\n",
      "    return 0,\n",
      "\n",
      "# call the animator.  blit=True means only re-draw the parts that have changed.\n",
      "anim = animation.FuncAnimation(fig, animate, init_func=init,\n",
      "                               frames=f, interval = 10,blit=False)\n",
      "\n",
      "# save the animation as an mp4.  This requires ffmpeg or mencoder to be\n",
      "# installed.  The extra_args ensure that the x264 codec is used, so that\n",
      "# the video can be embedded in html5.  You may need to adjust this for\n",
      "# your system: for more information, see\n",
      "# http://matplotlib.sourceforge.net/api/animation_api.html\n",
      "anim.save('bristol-nearest-link.mp4', fps=25, extra_args=['-vcodec', 'libx264'])\n",
      "\n",
      "plt.ioff()\n",
      "plt.close('all')"
     ],
     "language": "python",
     "metadata": {},
     "outputs": [],
     "prompt_number": 13
    }
   ],
   "metadata": {}
  }
 ]
}