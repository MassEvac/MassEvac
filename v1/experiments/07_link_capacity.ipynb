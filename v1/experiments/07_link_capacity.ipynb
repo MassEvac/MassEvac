{
 "metadata": {
  "name": ""
 },
 "nbformat": 3,
 "nbformat_minor": 0,
 "worksheets": [
  {
   "cells": [
    {
     "cell_type": "code",
     "collapsed": false,
     "input": [
      "import scipy.io\n",
      "import networkx as nx"
     ],
     "language": "python",
     "metadata": {},
     "outputs": [],
     "prompt_number": 1
    },
    {
     "cell_type": "markdown",
     "metadata": {},
     "source": [
      "Load Bristol and convert to networkx"
     ]
    },
    {
     "cell_type": "code",
     "collapsed": false,
     "input": [
      "mat = scipy.io.loadmat('Bristol/DAMsimple.mat')\n",
      "DAM = mat['DAM'].tocoo();\n",
      "\n",
      "mat = scipy.io.loadmat('Bristol/HAMsimple.mat')\n",
      "HAM = mat['HAM'].astype(int).tocoo();\n",
      "\n",
      "mat = scipy.io.loadmat('Bristol/nodesSimple.mat')\n",
      "nodelist = mat['nodes'];"
     ],
     "language": "python",
     "metadata": {},
     "outputs": [],
     "prompt_number": 2
    },
    {
     "cell_type": "markdown",
     "metadata": {},
     "source": [
      "Make highway graph and do checks"
     ]
    },
    {
     "cell_type": "code",
     "collapsed": false,
     "input": [
      "HG=nx.DiGraph(HAM,format='weighted_adjacency_matrix')\n",
      "nx.is_directed(HG)"
     ],
     "language": "python",
     "metadata": {},
     "outputs": [
      {
       "metadata": {},
       "output_type": "pyout",
       "prompt_number": 3,
       "text": [
        "True"
       ]
      }
     ],
     "prompt_number": 3
    },
    {
     "cell_type": "code",
     "collapsed": false,
     "input": [
      "HG.number_of_nodes()==len(nodelist)"
     ],
     "language": "python",
     "metadata": {},
     "outputs": [
      {
       "metadata": {},
       "output_type": "pyout",
       "prompt_number": 4,
       "text": [
        "True"
       ]
      }
     ],
     "prompt_number": 4
    },
    {
     "cell_type": "markdown",
     "metadata": {},
     "source": [
      "Generate a background image of the map"
     ]
    },
    {
     "cell_type": "code",
     "collapsed": false,
     "input": [
      "big=[(u,v) for (u,v,d) in HG.edges(data=True) if d['weight'] < 3.5]\n",
      "sml=[(u,v) for (u,v,d) in HG.edges(data=True) if d['weight'] > 3.5]"
     ],
     "language": "python",
     "metadata": {},
     "outputs": [],
     "prompt_number": 5
    },
    {
     "cell_type": "code",
     "collapsed": false,
     "input": [
      "l,r=min(nodelist[:,0]),max(nodelist[:,0])\n",
      "b,t=min(nodelist[:,1]),max(nodelist[:,1])\n",
      "\n",
      "fig=plt.figure()\n",
      "ax = plt.axes(xlim=(l, r), ylim=(b, t))\n",
      "nx.draw_networkx_edges(HG,pos=nodelist, arrows=False, edgelist=big, alpha=1.0)\n",
      "nx.draw_networkx_edges(HG,pos=nodelist, arrows=False, edgelist=sml, alpha=0.2)\n",
      "extent = ax.get_window_extent().transformed(fig.dpi_scale_trans.inverted())\n",
      "savefig('map.png', bbox_inches=extent)\n",
      "plt.close(fig) # Change close to show in order to see the image"
     ],
     "language": "python",
     "metadata": {},
     "outputs": [],
     "prompt_number": 6
    },
    {
     "cell_type": "markdown",
     "metadata": {},
     "source": [
      "Function to get the node number nearest to a prescribed node\n"
     ]
    },
    {
     "cell_type": "code",
     "collapsed": false,
     "input": [
      "def nearest_node(x,y,nodelist):\n",
      "    distance=sqrt(square(nodelist[:,0]-x)+square(nodelist[:,1]-y))\n",
      "    nearest=min(range(len(distance)), key=distance.__getitem__)\n",
      "    return nearest"
     ],
     "language": "python",
     "metadata": {},
     "outputs": [],
     "prompt_number": 7
    },
    {
     "cell_type": "markdown",
     "metadata": {},
     "source": [
      "Determine shortest paths by reversing the direction of the paths (from the transpose of the graph)"
     ]
    },
    {
     "cell_type": "code",
     "collapsed": false,
     "input": [
      "dest=nearest_node(-2.56718,51.5412,nodelist)\n",
      "nodelist[dest,:]"
     ],
     "language": "python",
     "metadata": {},
     "outputs": [
      {
       "metadata": {},
       "output_type": "pyout",
       "prompt_number": 8,
       "text": [
        "array([ -2.5667524,  51.5415639])"
       ]
      }
     ],
     "prompt_number": 8
    },
    {
     "cell_type": "code",
     "collapsed": false,
     "input": [
      "DAMT = DAM.T\n",
      "DGT=nx.DiGraph(DAMT)\n",
      "path=nx.single_source_dijkstra_path(DGT,dest)"
     ],
     "language": "python",
     "metadata": {},
     "outputs": [],
     "prompt_number": 9
    },
    {
     "cell_type": "markdown",
     "metadata": {},
     "source": [
      "Determine the links connected to the node"
     ]
    },
    {
     "cell_type": "code",
     "collapsed": false,
     "input": [
      "destEdges=list(find(HAM.col==dest))"
     ],
     "language": "python",
     "metadata": {},
     "outputs": [],
     "prompt_number": 10
    },
    {
     "cell_type": "markdown",
     "metadata": {},
     "source": [
      "Initialise agents, agent distribution matrix, agent link and progress"
     ]
    },
    {
     "cell_type": "code",
     "collapsed": false,
     "input": [
      "# Number of agents\n",
      "n=1000\n",
      "\n",
      "edges = len(DAM.data) # Number of edges"
     ],
     "language": "python",
     "metadata": {},
     "outputs": [],
     "prompt_number": 22
    },
    {
     "cell_type": "markdown",
     "metadata": {},
     "source": [
      "Calculate the area of the edges"
     ]
    },
    {
     "cell_type": "code",
     "collapsed": false,
     "input": [
      "# Standard with of a lane\n",
      "w = 0.2\n",
      "\n",
      "# Widths of the 7 types of highways\n",
      "width = [3.0*w, 2.0*w, 2.0*w, 1.5*w, 1.0*w, 1.0*w, 0.5*w]\n",
      "\n",
      "# Initialise area of edges\n",
      "A = [None] * edges\n",
      "\n",
      "# Assign the widths to the edges\n",
      "for i in range(edges):\n",
      "    A[i] = DAM.data[i]*width[HAM.data[i]-1]\n",
      "    # If the edges are part of the destination edges, give them 10 times the capacity of the agents\n",
      "    if i in destEdges:\n",
      "        A[i] = n*10"
     ],
     "language": "python",
     "metadata": {},
     "outputs": [],
     "prompt_number": 36
    },
    {
     "cell_type": "markdown",
     "metadata": {},
     "source": [
      "Initialise an edge number matrix"
     ]
    },
    {
     "cell_type": "code",
     "collapsed": false,
     "input": [
      "# Initialise matrix with edge number\n",
      "EM = scipy.sparse.lil_matrix(shape(DAM),dtype=int)\n",
      "\n",
      "# Number of edges in EM is always going to be edges-1 because the first edge is 0\n",
      "for i in range(edges):\n",
      "    EM[DAM.row[i],DAM.col[i]]=i"
     ],
     "language": "python",
     "metadata": {},
     "outputs": [],
     "prompt_number": 13
    },
    {
     "cell_type": "markdown",
     "metadata": {},
     "source": [
      "This should form the basis for calculation of speed from density, simply use $velocity = m*density + c$"
     ]
    },
    {
     "cell_type": "code",
     "collapsed": false,
     "input": [
      "vMax = 1.34\n",
      "vMin = 0.01\n",
      "pMax = 7.00\n",
      "pMin = 0.00\n",
      "\n",
      "m = (vMax - vMin)/(pMin - pMax)\n",
      "c = vMin - m*pMax"
     ],
     "language": "python",
     "metadata": {},
     "outputs": [],
     "prompt_number": 14
    },
    {
     "cell_type": "code",
     "collapsed": false,
     "input": [
      "def get_velocity(p):\n",
      "    # Calculate velocity from the input density within the boundary limits\n",
      "    v = m * p + c\n",
      "    if v > vMax:\n",
      "        v = vMax\n",
      "    elif v < vMin:\n",
      "        v = vMin * random.random()\n",
      "    return v"
     ],
     "language": "python",
     "metadata": {},
     "outputs": [],
     "prompt_number": 37
    },
    {
     "cell_type": "markdown",
     "metadata": {},
     "source": [
      "Initialise agent properties"
     ]
    },
    {
     "cell_type": "code",
     "collapsed": false,
     "input": [
      "def initialise_position():\n",
      "    from random import uniform, randrange\n",
      "    \n",
      "    # Simply produce a list of agents so that they can be dealt with in this order\n",
      "    S = range(n)\n",
      "\n",
      "    # Position of the agents\n",
      "    P = zeros((n,2))\n",
      "\n",
      "    # Location of along the link (min = 0, max = DAM.data[thisEdge])\n",
      "    L = [None]*n    \n",
      "    \n",
      "    # Edge that the agent is on\n",
      "    E = [None]*n\n",
      "    \n",
      "    # Time at which destination reached\n",
      "    T = [None]*n\n",
      "\n",
      "    # Matrix with number of agents\n",
      "    N = [0]*edges\n",
      "    \n",
      "    # Velocity array\n",
      "    V = [0]\n",
      "\n",
      "    # Corresponding Density array\n",
      "    D = [0]\n",
      "    \n",
      "    i = 0\n",
      "    e = 0\n",
      "    while i < n:\n",
      "        # Randomly determine an edge\n",
      "        thisEdge = randrange(edges);\n",
      "\n",
      "        # Determine the node that the agent is travelling from\n",
      "        ci = DAM.col[thisEdge]\n",
      "     \n",
      "        try:\n",
      "            # Check to see if the agent can actually reach destination from our node\n",
      "            mypath=path[ci] # If this does not throw KeyError then all is good, proceed\n",
      "  \n",
      "            # Agent is on this edge\n",
      "            E[i] = thisEdge\n",
      "            \n",
      "            # Randomly assign a position of the agent on the edge\n",
      "            L[i] = uniform(0,DAM.data[thisEdge])    \n",
      "\n",
      "            # Calculate the position co-ordinates\n",
      "            di = DAM.data[thisEdge]\n",
      "            ri = DAM.row[thisEdge]\n",
      "            Pr = L[i]/di            \n",
      "            thisNode = nodelist[ci,:]\n",
      "            thatNode = nodelist[ri,:]\n",
      "            P[i,:] = thisNode + (thatNode - thisNode)*Pr\n",
      "            \n",
      "            # Add to the number of agents on that link\n",
      "            N[thisEdge] += 1 # In the future, I will need to check capacity of the link before adding the agent\n",
      "\n",
      "            # Count the number of agents created\n",
      "            i += 1\n",
      "            print 'Agent', i\n",
      "        except KeyError:\n",
      "            # Count the number of agents that had to be re-created\n",
      "            e += 1\n",
      "            print '     Re-creating Agent', i+1\n",
      "\n",
      "    print e,', ',e/float(i)*100.0,'% of agents had to be re-created!'\n",
      "            \n",
      "    return S, P, L, E, N, T, V, D"
     ],
     "language": "python",
     "metadata": {},
     "outputs": [],
     "prompt_number": 24
    },
    {
     "cell_type": "markdown",
     "metadata": {},
     "source": [
      "Function to get current position of agents"
     ]
    },
    {
     "cell_type": "code",
     "collapsed": false,
     "input": [
      "def update_position(S, P, L, E, N, T, V, D, t):\n",
      "    # Shuffle the order of the agents around\n",
      "    random.shuffle(S)\n",
      "    for i in S:\n",
      "        # If this agent hasn't finished its journey, proceed\n",
      "        if T[i] == None:\n",
      "            thisEdge = E[i]\n",
      "            # Here, we are assuming that N is proportional to density, later need to take area of the edge into account\n",
      "            density = N[thisEdge]/A[thisEdge]\n",
      "            velocity = get_velocity(density)*100\n",
      "            V = hstack([V,velocity])\n",
      "            D = hstack([D,density])\n",
      "            L[i] += velocity # Move the agent                \n",
      "            di = DAM.data[thisEdge]            \n",
      "            ci = DAM.col[thisEdge]\n",
      "            ri = DAM.row[thisEdge]\n",
      "            Pr = L[i]/di # Percentage progress along the link (1 = completed)\n",
      "            # If the agent travels beyond the length of the link\n",
      "            while Pr > 1:\n",
      "                next_ci = path[ci][-2]\n",
      "                if next_ci == dest:\n",
      "                    # Agent has reached its destination, record time\n",
      "                    T[i] = t\n",
      "                    L[i] = 0\n",
      "                    Pr = 1\n",
      "                    print 'Timeout', i\n",
      "                else:\n",
      "                    # Calculate the next edge\n",
      "                    next_ri = ci\n",
      "                    nextEdge = EM[next_ri,next_ci]\n",
      "                    next_density = N[nextEdge]/A[nextEdge]\n",
      "                    # Subtract the length of last link to account for residual progress\n",
      "                    L[i] = L[i] - di\n",
      "                    # Assign new nodes\n",
      "                    ri = next_ri\n",
      "                    ci = next_ci\n",
      "                    # Find and reassign new edge\n",
      "                    N[thisEdge] -= 1\n",
      "                    N[nextEdge] += 1\n",
      "                    di = DAM.data[nextEdge]\n",
      "                    Pr = L[i]/di                  \n",
      "                    E[i] = thisEdge = nextEdge                        \n",
      "            # Determine new position        \n",
      "            thisNode = nodelist[ci,:]\n",
      "            thatNode = nodelist[ri,:]\n",
      "            P[i,:] = thisNode + (thatNode - thisNode)*Pr\n",
      "    return S, P, L, E, N, T, V, D"
     ],
     "language": "python",
     "metadata": {},
     "outputs": [],
     "prompt_number": 26
    },
    {
     "cell_type": "markdown",
     "metadata": {},
     "source": [
      "Now animate the dots"
     ]
    },
    {
     "cell_type": "code",
     "collapsed": false,
     "input": [
      "# Initialise these variables\n",
      "S1,P1,L1,E1,N1,T1,V1,D1 = initialise_position()"
     ],
     "language": "python",
     "metadata": {},
     "outputs": [
      {
       "output_type": "stream",
       "stream": "stdout",
       "text": [
        "Agent 1\n",
        "Agent 2\n",
        "Agent 3\n",
        "Agent 4\n",
        "Agent 5\n",
        "Agent 6\n",
        "Agent 7\n",
        "Agent 8\n",
        "Agent 9\n",
        "Agent 10\n",
        "Agent 11\n",
        "Agent 12\n",
        "Agent 13\n",
        "Agent 14\n",
        "Agent 15\n",
        "Agent 16\n",
        "Agent 17\n",
        "Agent 18\n",
        "Agent 19\n",
        "Agent 20\n",
        "Agent 21\n",
        "Agent 22\n",
        "Agent 23\n",
        "Agent 24\n",
        "Agent 25\n",
        "Agent 26\n",
        "Agent 27\n",
        "Agent 28\n",
        "Agent 29\n",
        "Agent 30\n",
        "Agent 31\n",
        "Agent 32\n",
        "Agent 33\n",
        "Agent 34\n",
        "Agent 35\n",
        "Agent 36\n",
        "Agent 37\n",
        "Agent 38\n",
        "Agent 39\n",
        "Agent 40\n",
        "Agent 41\n",
        "Agent 42\n",
        "Agent 43\n",
        "Agent 44\n",
        "Agent 45\n",
        "Agent 46\n",
        "Agent 47\n",
        "Agent 48\n",
        "Agent 49\n",
        "Agent 50\n",
        "Agent 51\n",
        "Agent 52\n",
        "Agent 53\n",
        "Agent 54\n",
        "Agent 55\n",
        "Agent 56\n",
        "Agent 57\n",
        "Agent 58\n",
        "Agent 59\n",
        "Agent 60\n",
        "Agent 61\n",
        "Agent 62\n",
        "Agent 63\n",
        "Agent 64\n",
        "Agent 65\n",
        "Agent 66\n",
        "Agent 67\n",
        "Agent 68\n",
        "Agent 69\n",
        "Agent 70\n",
        "Agent 71\n",
        "Agent 72\n",
        "Agent 73\n",
        "Agent 74\n",
        "Agent 75\n",
        "Agent 76\n",
        "Agent 77\n",
        "Agent 78\n",
        "Agent 79\n",
        "Agent 80\n",
        "Agent 81\n",
        "Agent 82\n",
        "Agent 83\n",
        "Agent 84\n",
        "Agent 85\n",
        "Agent 86\n",
        "Agent 87\n",
        "Agent 88\n",
        "Agent 89\n",
        "Agent 90\n",
        "Agent 91\n",
        "Agent 92\n",
        "Agent 93\n",
        "Agent 94\n",
        "Agent 95\n",
        "Agent 96\n",
        "Agent 97\n",
        "Agent 98\n",
        "Agent 99\n",
        "Agent 100\n",
        "Agent 101\n",
        "Agent 102\n",
        "Agent 103\n",
        "Agent 104\n",
        "Agent 105\n",
        "Agent 106\n",
        "Agent 107\n",
        "Agent 108\n",
        "Agent 109\n",
        "Agent 110\n",
        "Agent 111\n",
        "Agent 112\n",
        "Agent 113\n",
        "Agent 114\n",
        "Agent 115\n",
        "Agent 116\n",
        "Agent 117\n",
        "Agent 118\n",
        "Agent 119\n",
        "Agent 120\n",
        "Agent 121\n",
        "Agent 122\n",
        "Agent 123\n",
        "Agent 124\n",
        "Agent 125\n",
        "Agent 126\n",
        "Agent 127\n",
        "Agent 128\n",
        "Agent 129\n",
        "Agent 130\n",
        "Agent 131\n",
        "Agent 132\n",
        "Agent 133\n",
        "Agent 134\n",
        "Agent 135\n",
        "Agent 136\n",
        "Agent 137\n",
        "Agent 138\n",
        "Agent 139\n",
        "Agent 140\n",
        "Agent 141\n",
        "Agent 142\n",
        "Agent 143\n",
        "Agent 144\n",
        "Agent 145\n",
        "Agent 146\n",
        "Agent 147\n",
        "Agent 148\n",
        "Agent 149\n",
        "Agent 150\n",
        "Agent 151\n",
        "Agent 152\n",
        "Agent 153\n",
        "Agent 154\n",
        "Agent 155\n",
        "Agent 156\n",
        "Agent 157\n",
        "Agent 158\n",
        "Agent 159\n",
        "Agent 160\n",
        "Agent 161\n",
        "Agent 162\n",
        "Agent 163\n",
        "Agent 164\n",
        "Agent 165\n",
        "Agent 166\n",
        "Agent 167\n",
        "Agent 168\n",
        "Agent 169\n",
        "Agent 170\n",
        "Agent 171\n",
        "Agent 172\n",
        "Agent 173\n",
        "Agent 174\n",
        "Agent 175\n",
        "Agent 176\n",
        "Agent 177\n",
        "Agent 178\n",
        "Agent 179\n",
        "Agent 180\n",
        "Agent 181\n",
        "Agent 182\n",
        "Agent 183\n",
        "Agent 184\n",
        "Agent 185\n",
        "Agent 186\n",
        "Agent 187\n",
        "Agent 188\n",
        "Agent 189\n",
        "Agent 190\n",
        "Agent 191\n",
        "Agent 192\n",
        "Agent 193\n",
        "Agent 194\n",
        "Agent 195\n",
        "Agent 196\n",
        "Agent 197\n",
        "Agent 198\n",
        "Agent 199\n",
        "Agent 200\n",
        "Agent 201\n",
        "Agent 202\n",
        "Agent 203\n",
        "Agent 204\n",
        "Agent 205\n",
        "Agent 206\n",
        "Agent 207\n",
        "Agent 208\n",
        "Agent 209\n",
        "Agent 210\n",
        "Agent 211\n",
        "Agent 212\n",
        "Agent 213\n",
        "Agent 214\n",
        "Agent 215\n",
        "Agent 216\n",
        "Agent 217\n",
        "Agent 218\n",
        "Agent 219\n",
        "Agent 220\n",
        "Agent 221\n",
        "Agent 222\n",
        "Agent 223\n",
        "Agent 224\n",
        "Agent 225\n",
        "Agent 226\n",
        "Agent 227\n",
        "Agent 228\n",
        "     Re-creating Agent 229\n",
        "Agent 229\n",
        "Agent 230\n",
        "Agent 231\n",
        "Agent 232\n",
        "Agent 233\n",
        "Agent 234\n",
        "Agent 235\n",
        "Agent 236\n",
        "Agent 237\n",
        "Agent 238\n",
        "Agent 239\n",
        "Agent 240\n",
        "Agent 241\n",
        "Agent 242\n",
        "Agent 243\n",
        "Agent 244\n",
        "Agent 245\n",
        "Agent 246\n",
        "Agent 247\n",
        "Agent 248\n",
        "Agent 249\n",
        "Agent 250\n",
        "Agent 251\n",
        "Agent 252\n",
        "Agent 253\n",
        "Agent 254\n",
        "Agent 255\n",
        "Agent 256\n",
        "Agent 257\n",
        "Agent 258\n",
        "Agent 259\n",
        "Agent 260\n",
        "Agent 261\n",
        "Agent 262\n",
        "Agent 263\n",
        "     Re-creating Agent 264\n",
        "Agent 264\n",
        "Agent 265\n",
        "Agent 266\n",
        "Agent 267\n",
        "Agent 268\n",
        "Agent 269\n",
        "Agent 270\n",
        "Agent 271\n",
        "Agent 272\n",
        "Agent 273\n",
        "Agent 274\n",
        "Agent 275\n",
        "Agent 276\n",
        "Agent 277\n",
        "Agent 278\n",
        "Agent 279\n",
        "Agent 280\n",
        "Agent 281\n",
        "Agent 282\n",
        "Agent 283\n",
        "     Re-creating Agent 284\n",
        "Agent 284\n",
        "Agent 285\n",
        "Agent 286\n",
        "Agent 287\n",
        "Agent 288\n",
        "Agent 289\n",
        "Agent 290\n",
        "Agent 291\n",
        "Agent 292\n",
        "Agent 293\n",
        "Agent 294\n",
        "Agent 295\n",
        "Agent 296\n",
        "Agent 297\n",
        "Agent 298\n",
        "Agent 299\n",
        "Agent 300\n",
        "Agent 301\n",
        "Agent 302\n",
        "Agent 303\n",
        "Agent 304\n",
        "Agent 305\n",
        "Agent 306\n",
        "Agent 307\n",
        "Agent 308\n",
        "Agent 309\n",
        "Agent 310\n",
        "Agent 311\n",
        "Agent 312\n",
        "Agent 313\n",
        "Agent 314\n",
        "Agent 315\n",
        "Agent 316\n",
        "Agent 317\n",
        "Agent 318\n",
        "Agent 319\n",
        "Agent 320\n",
        "Agent 321\n",
        "Agent 322\n",
        "Agent 323\n",
        "Agent 324\n",
        "Agent 325\n",
        "Agent 326\n",
        "     Re-creating Agent 327\n",
        "Agent 327\n",
        "Agent 328\n",
        "Agent 329\n",
        "Agent 330\n",
        "Agent 331\n",
        "Agent 332\n",
        "Agent 333\n",
        "Agent 334\n",
        "Agent 335\n",
        "Agent 336\n",
        "Agent 337\n",
        "Agent 338\n",
        "Agent 339\n",
        "Agent 340\n",
        "Agent 341\n",
        "Agent 342\n",
        "Agent 343\n",
        "Agent 344\n",
        "Agent 345\n",
        "Agent 346\n",
        "Agent 347\n",
        "Agent 348\n",
        "Agent 349\n",
        "Agent 350\n",
        "Agent 351\n",
        "Agent 352\n",
        "Agent"
       ]
      },
      {
       "output_type": "stream",
       "stream": "stdout",
       "text": [
        " 353\n",
        "Agent 354\n",
        "Agent 355\n",
        "Agent 356\n",
        "Agent 357\n",
        "Agent 358\n",
        "Agent 359\n",
        "Agent 360\n",
        "Agent 361\n",
        "     Re-creating Agent 362\n",
        "Agent 362\n",
        "Agent 363\n",
        "Agent 364\n",
        "Agent 365\n",
        "Agent 366\n",
        "Agent 367\n",
        "Agent 368\n",
        "Agent 369\n",
        "Agent 370\n",
        "Agent 371\n",
        "Agent 372\n",
        "Agent 373\n",
        "Agent 374\n",
        "Agent 375\n",
        "Agent 376\n",
        "Agent 377\n",
        "Agent 378\n",
        "Agent 379\n",
        "Agent 380\n",
        "Agent 381\n",
        "Agent 382\n",
        "Agent 383\n",
        "Agent 384\n",
        "Agent 385\n",
        "Agent 386\n",
        "Agent 387\n",
        "Agent 388\n",
        "Agent 389\n",
        "Agent 390\n",
        "Agent 391\n",
        "Agent 392\n",
        "Agent 393\n",
        "Agent 394\n",
        "Agent 395\n",
        "Agent 396\n",
        "Agent 397\n",
        "Agent 398\n",
        "Agent 399\n",
        "Agent 400\n",
        "Agent 401\n",
        "Agent 402\n",
        "Agent 403\n",
        "Agent 404\n",
        "Agent 405\n",
        "Agent 406\n",
        "Agent 407\n",
        "Agent 408\n",
        "Agent 409\n",
        "Agent 410\n",
        "Agent 411\n",
        "Agent 412\n",
        "Agent 413\n",
        "Agent 414\n",
        "Agent 415\n",
        "Agent 416\n",
        "Agent 417\n",
        "Agent 418\n",
        "Agent 419\n",
        "Agent 420\n",
        "Agent 421\n",
        "Agent 422\n",
        "Agent 423\n",
        "Agent 424\n",
        "Agent 425\n",
        "Agent 426\n",
        "Agent 427\n",
        "Agent 428\n",
        "Agent 429\n",
        "Agent 430\n",
        "Agent 431\n",
        "Agent 432\n",
        "Agent 433\n",
        "Agent 434\n",
        "Agent 435\n",
        "Agent 436\n",
        "Agent 437\n",
        "Agent 438\n",
        "Agent 439\n",
        "Agent 440\n",
        "Agent 441\n",
        "Agent 442\n",
        "Agent 443\n",
        "Agent 444\n",
        "Agent 445\n",
        "Agent 446\n",
        "Agent 447\n",
        "Agent 448\n",
        "Agent 449\n",
        "Agent 450\n",
        "Agent 451\n",
        "Agent 452\n",
        "Agent 453\n",
        "Agent 454\n",
        "Agent 455\n",
        "Agent 456\n",
        "Agent 457\n",
        "Agent 458\n",
        "Agent 459\n",
        "Agent 460\n",
        "Agent 461\n",
        "Agent 462\n",
        "Agent 463\n",
        "Agent 464\n",
        "Agent 465\n",
        "Agent 466\n",
        "Agent 467\n",
        "Agent 468\n",
        "Agent 469\n",
        "Agent 470\n",
        "Agent 471\n",
        "Agent 472\n",
        "Agent 473\n",
        "Agent 474\n",
        "Agent 475\n",
        "Agent 476\n",
        "Agent 477\n",
        "Agent 478\n",
        "Agent 479\n",
        "Agent 480\n",
        "Agent 481\n",
        "Agent 482\n",
        "Agent 483\n",
        "Agent 484\n",
        "Agent 485\n",
        "Agent 486\n",
        "Agent 487\n",
        "Agent 488\n",
        "Agent 489\n",
        "Agent 490\n",
        "Agent 491\n",
        "Agent 492\n",
        "Agent 493\n",
        "Agent 494\n",
        "Agent 495\n",
        "Agent 496\n",
        "Agent 497\n",
        "Agent 498\n",
        "Agent 499\n",
        "Agent 500\n",
        "Agent 501\n",
        "Agent 502\n",
        "Agent 503\n",
        "Agent 504\n",
        "Agent 505\n",
        "Agent 506\n",
        "Agent 507\n",
        "Agent 508\n",
        "Agent 509\n",
        "Agent 510\n",
        "Agent 511\n",
        "Agent 512\n",
        "Agent 513\n",
        "Agent 514\n",
        "Agent 515\n",
        "Agent 516\n",
        "Agent 517\n",
        "Agent 518\n",
        "Agent 519\n",
        "Agent 520\n",
        "Agent 521\n",
        "Agent 522\n",
        "Agent 523\n",
        "Agent 524\n",
        "Agent 525\n",
        "Agent 526\n",
        "Agent 527\n",
        "Agent 528\n",
        "Agent 529\n",
        "Agent 530\n",
        "Agent 531\n",
        "Agent 532\n",
        "Agent 533\n",
        "Agent 534\n",
        "Agent 535\n",
        "Agent 536\n",
        "Agent 537\n",
        "Agent 538\n",
        "Agent 539\n",
        "Agent 540\n",
        "Agent 541\n",
        "Agent 542\n",
        "Agent 543\n",
        "Agent 544\n",
        "Agent 545\n",
        "Agent 546\n",
        "Agent 547\n",
        "Agent 548\n",
        "Agent 549\n",
        "Agent 550\n",
        "Agent 551\n",
        "Agent 552\n",
        "Agent 553\n",
        "     Re-creating Agent 554\n",
        "Agent 554\n",
        "Agent 555\n",
        "Agent 556\n",
        "Agent 557\n",
        "Agent 558\n",
        "Agent 559\n",
        "Agent 560\n",
        "Agent 561\n",
        "Agent 562\n",
        "Agent 563\n",
        "Agent 564\n",
        "Agent 565\n",
        "Agent 566\n",
        "Agent 567\n",
        "Agent 568\n",
        "Agent 569\n",
        "Agent 570\n",
        "Agent 571\n",
        "Agent 572\n",
        "Agent 573\n",
        "Agent 574\n",
        "Agent 575\n",
        "     Re-creating Agent 576\n",
        "Agent 576\n",
        "Agent 577\n",
        "Agent 578\n",
        "Agent 579\n",
        "Agent 580\n",
        "Agent 581\n",
        "Agent 582\n",
        "Agent 583\n",
        "Agent 584\n",
        "Agent 585\n",
        "Agent 586\n",
        "Agent 587\n",
        "Agent 588\n",
        "Agent 589\n",
        "Agent 590\n",
        "Agent 591\n",
        "Agent 592\n",
        "Agent 593\n",
        "Agent 594\n",
        "Agent 595\n",
        "Agent 596\n",
        "Agent 597\n",
        "Agent 598\n",
        "Agent 599\n",
        "Agent 600\n",
        "Agent 601\n",
        "Agent 602\n",
        "Agent 603\n",
        "Agent 604\n",
        "Agent 605\n",
        "Agent 606\n",
        "Agent 607\n",
        "Agent 608\n",
        "Agent 609\n",
        "Agent 610\n",
        "Agent 611\n",
        "Agent 612\n",
        "Agent 613\n",
        "Agent 614\n",
        "Agent 615\n",
        "Agent 616\n",
        "Agent 617\n",
        "Agent 618\n",
        "Agent 619\n",
        "Agent 620\n",
        "Agent 621\n",
        "Agent 622\n",
        "Agent 623\n",
        "Agent 624\n",
        "Agent 625\n",
        "Agent 626\n",
        "Agent 627\n",
        "     Re-creating Agent 628\n",
        "Agent 628\n",
        "Agent 629\n",
        "Agent 630\n",
        "Agent 631\n",
        "Agent 632\n",
        "Agent 633\n",
        "Agent 634\n",
        "Agent 635\n",
        "Agent 636\n",
        "Agent 637\n",
        "Agent 638\n",
        "Agent 639\n",
        "Agent 640\n",
        "Agent 641\n",
        "Agent 642\n",
        "Agent 643\n",
        "Agent 644\n",
        "Agent 645\n",
        "Agent 646\n",
        "Agent 647\n",
        "Agent 648\n",
        "Agent 649\n",
        "Agent 650\n",
        "Agent 651\n",
        "Agent 652\n",
        "Agent 653\n",
        "Agent 654\n",
        "Agent 655\n",
        "Agent 656\n",
        "Agent 657\n",
        "Agent 658\n",
        "Agent 659\n",
        "Agent 660\n",
        "Agent 661\n",
        "Agent 662\n",
        "Agent 663\n",
        "Agent 664\n",
        "Agent 665\n",
        "Agent 666\n",
        "Agent 667\n",
        "Agent 668\n",
        "Agent 669\n",
        "Agent 670\n",
        "Agent 671\n",
        "Agent 672\n",
        "Agent 673\n",
        "Agent 674\n",
        "Agent 675\n",
        "Agent 676\n",
        "Agent 677\n",
        "Agent 678\n",
        "Agent 679\n",
        "Agent 680\n",
        "Agent 681\n",
        "Agent 682\n",
        "Agent 683\n",
        "Agent 684\n",
        "Agent 685\n",
        "Agent 686\n",
        "Agent 687\n",
        "     Re-creating Agent 688\n",
        "Agent 688\n",
        "Agent 689\n",
        "Agent 690\n",
        "Agent 691\n",
        "Agent 692\n",
        "Agent 693\n",
        "Agent 694\n",
        "Agent 695\n",
        "Agent 696\n",
        "Agent 697\n",
        "Agent 698\n",
        "Agent 699\n",
        "Agent 700\n",
        "Agent 701\n",
        "Agent 702\n",
        "Agent 703\n",
        "Agent 704\n",
        "Agent 705\n",
        "Agent 706\n",
        "Agent 707\n",
        "Agent"
       ]
      },
      {
       "output_type": "stream",
       "stream": "stdout",
       "text": [
        " 708\n",
        "Agent 709\n",
        "Agent 710\n",
        "Agent 711\n",
        "Agent 712\n",
        "Agent 713\n",
        "Agent 714\n",
        "     Re-creating Agent 715\n",
        "Agent 715\n",
        "Agent 716\n",
        "Agent 717\n",
        "Agent 718\n",
        "Agent 719\n",
        "Agent 720\n",
        "Agent 721\n",
        "Agent 722\n",
        "Agent 723\n",
        "Agent 724\n",
        "Agent 725\n",
        "Agent 726\n",
        "Agent 727\n",
        "Agent 728\n",
        "Agent 729\n",
        "Agent 730\n",
        "Agent 731\n",
        "Agent 732\n",
        "Agent 733\n",
        "Agent 734\n",
        "Agent 735\n",
        "Agent 736\n",
        "Agent 737\n",
        "Agent 738\n",
        "Agent 739\n",
        "Agent 740\n",
        "Agent 741\n",
        "Agent 742\n",
        "Agent 743\n",
        "Agent 744\n",
        "Agent 745\n",
        "Agent 746\n",
        "Agent 747\n",
        "Agent 748\n",
        "Agent 749\n",
        "Agent 750\n",
        "Agent 751\n",
        "Agent 752\n",
        "Agent 753\n",
        "     Re-creating Agent 754\n",
        "Agent 754\n",
        "Agent 755\n",
        "Agent 756\n",
        "Agent 757\n",
        "Agent 758\n",
        "Agent 759\n",
        "Agent 760\n",
        "Agent 761\n",
        "Agent 762\n",
        "Agent 763\n",
        "Agent 764\n",
        "Agent 765\n",
        "Agent 766\n",
        "Agent 767\n",
        "Agent 768\n",
        "Agent 769\n",
        "Agent 770\n",
        "Agent 771\n",
        "Agent 772\n",
        "     Re-creating Agent 773\n",
        "Agent 773\n",
        "Agent 774\n",
        "Agent 775\n",
        "Agent 776\n",
        "Agent 777\n",
        "Agent 778\n",
        "Agent 779\n",
        "Agent 780\n",
        "Agent 781\n",
        "Agent 782\n",
        "Agent 783\n",
        "Agent 784\n",
        "Agent 785\n",
        "Agent 786\n",
        "Agent 787\n",
        "Agent 788\n",
        "Agent 789\n",
        "Agent 790\n",
        "Agent 791\n",
        "Agent 792\n",
        "Agent 793\n",
        "Agent 794\n",
        "Agent 795\n",
        "Agent 796\n",
        "Agent 797\n",
        "Agent 798\n",
        "Agent 799\n",
        "Agent 800\n",
        "Agent 801\n",
        "Agent 802\n",
        "Agent 803\n",
        "Agent 804\n",
        "Agent 805\n",
        "Agent 806\n",
        "Agent 807\n",
        "Agent 808\n",
        "Agent 809\n",
        "Agent 810\n",
        "Agent 811\n",
        "Agent 812\n",
        "Agent 813\n",
        "Agent 814\n",
        "Agent 815\n",
        "Agent 816\n",
        "Agent 817\n",
        "Agent 818\n",
        "Agent 819\n",
        "Agent 820\n",
        "Agent 821\n",
        "Agent 822\n",
        "Agent 823\n",
        "Agent 824\n",
        "Agent 825\n",
        "Agent 826\n",
        "Agent 827\n",
        "Agent 828\n",
        "Agent 829\n",
        "Agent 830\n",
        "Agent 831\n",
        "Agent 832\n",
        "Agent 833\n",
        "Agent 834\n",
        "Agent 835\n",
        "Agent 836\n",
        "Agent 837\n",
        "Agent 838\n",
        "Agent 839\n",
        "Agent 840\n",
        "Agent 841\n",
        "Agent 842\n",
        "Agent 843\n",
        "Agent 844\n",
        "Agent 845\n",
        "Agent 846\n",
        "Agent 847\n",
        "Agent 848\n",
        "Agent 849\n",
        "Agent 850\n",
        "Agent 851\n",
        "Agent 852\n",
        "Agent 853\n",
        "Agent 854\n",
        "Agent 855\n",
        "Agent 856\n",
        "Agent 857\n",
        "Agent 858\n",
        "Agent 859\n",
        "Agent 860\n",
        "Agent 861\n",
        "Agent 862\n",
        "Agent 863\n",
        "Agent 864\n",
        "Agent 865\n",
        "Agent 866\n",
        "Agent 867\n",
        "Agent 868\n",
        "Agent 869\n",
        "Agent 870\n",
        "Agent 871\n",
        "Agent 872\n",
        "Agent 873\n",
        "Agent 874\n",
        "Agent 875\n",
        "Agent 876\n",
        "Agent 877\n",
        "Agent 878\n",
        "Agent 879\n",
        "Agent 880\n",
        "Agent 881\n",
        "Agent 882\n",
        "Agent 883\n",
        "Agent 884\n",
        "Agent 885\n",
        "Agent 886\n",
        "Agent 887\n",
        "Agent 888\n",
        "Agent 889\n",
        "Agent 890\n",
        "Agent 891\n",
        "Agent 892\n",
        "Agent 893\n",
        "Agent 894\n",
        "Agent 895\n",
        "Agent 896\n",
        "Agent 897\n",
        "Agent 898\n",
        "Agent 899\n",
        "Agent 900\n",
        "Agent 901\n",
        "Agent 902\n",
        "Agent 903\n",
        "Agent 904\n",
        "Agent 905\n",
        "Agent 906\n",
        "Agent 907\n",
        "Agent 908\n",
        "Agent 909\n",
        "Agent 910\n",
        "     Re-creating Agent 911\n",
        "Agent 911\n",
        "Agent 912\n",
        "Agent 913\n",
        "Agent 914\n",
        "Agent 915\n",
        "Agent 916\n",
        "     Re-creating Agent 917\n",
        "Agent 917\n",
        "Agent 918\n",
        "     Re-creating Agent 919\n",
        "Agent 919\n",
        "Agent 920\n",
        "Agent 921\n",
        "Agent 922\n",
        "Agent 923\n",
        "Agent 924\n",
        "Agent 925\n",
        "Agent 926\n",
        "Agent 927\n",
        "Agent 928\n",
        "Agent 929\n",
        "Agent 930\n",
        "Agent 931\n",
        "Agent 932\n",
        "Agent 933\n",
        "Agent 934\n",
        "Agent 935\n",
        "Agent 936\n",
        "Agent 937\n",
        "Agent 938\n",
        "Agent 939\n",
        "Agent 940\n",
        "Agent 941\n",
        "Agent 942\n",
        "Agent 943\n",
        "Agent 944\n",
        "Agent 945\n",
        "Agent 946\n",
        "Agent 947\n",
        "Agent 948\n",
        "Agent 949\n",
        "Agent 950\n",
        "Agent 951\n",
        "Agent 952\n",
        "Agent 953\n",
        "Agent 954\n",
        "Agent 955\n",
        "Agent 956\n",
        "Agent 957\n",
        "Agent 958\n",
        "Agent 959\n",
        "Agent 960\n",
        "Agent 961\n",
        "Agent 962\n",
        "Agent 963\n",
        "Agent 964\n",
        "Agent 965\n",
        "Agent 966\n",
        "Agent 967\n",
        "Agent 968\n",
        "Agent 969\n",
        "Agent 970\n",
        "Agent 971\n",
        "Agent 972\n",
        "Agent 973\n",
        "Agent 974\n",
        "Agent 975\n",
        "Agent 976\n",
        "Agent 977\n",
        "Agent 978\n",
        "Agent 979\n",
        "Agent 980\n",
        "Agent 981\n",
        "Agent 982\n",
        "Agent 983\n",
        "Agent 984\n",
        "Agent 985\n",
        "Agent 986\n",
        "Agent 987\n",
        "Agent 988\n",
        "Agent 989\n",
        "Agent 990\n",
        "Agent 991\n",
        "Agent 992\n",
        "Agent 993\n",
        "Agent 994\n",
        "Agent 995\n",
        "Agent 996\n",
        "Agent 997\n",
        "Agent 998\n",
        "Agent 999\n",
        "Agent 1000\n",
        "15 ,  1.5 % of agents had to be re-created!\n"
       ]
      }
     ],
     "prompt_number": 27
    },
    {
     "cell_type": "code",
     "collapsed": false,
     "input": [
      "\"\"\"\n",
      "Matplotlib Animation Example\n",
      "\n",
      "author: Jake Vanderplas\n",
      "email: vanderplas@astro.washington.edu\n",
      "website: http://jakevdp.github.com\n",
      "license: BSD\n",
      "Please feel free to use and modify this, but keep the above information. Thanks!\n",
      "\"\"\"\n",
      "\n",
      "import numpy as np\n",
      "from matplotlib import animation\n",
      "from scipy.misc import imread\n",
      "\n",
      "datafile = ('map.png')\n",
      "img = imread(datafile)\n",
      "\n",
      "# Number of frames\n",
      "f = 500\n",
      "\n",
      "# First set up the figure, the axis, and the plot element we want to animate\n",
      "plt.ion()\n",
      "fig = plt.figure()\n",
      "axs = plt.axes(xlim=(l, r), ylim=(b, t))\n",
      "\n",
      "# Initialise the plots\n",
      "point, = axs.plot([], [], 'r.')  \n",
      "trail, = axs.plot([], [], 'g-')  \n",
      "\n",
      "# Initialise these variables\n",
      "S,P,L,E,N,T,V,D = S1[:],P1[:],L1[:],E1[:],N1[:],T1[:],V1[:],D1[:]\n",
      "#P,L,E,N,T = initialise_position()\n",
      "\n",
      "# Tolerance\n",
      "tol = 0.001\n",
      "\n",
      "# initialization function: plot the background of each frame\n",
      "def init():\n",
      "    plt.imshow(img, zorder=0, extent=[l, r, b, t])    \n",
      "    return 0,\n",
      "\n",
      "# animation function.  This is called sequentially\n",
      "def animate(i):\n",
      "    global S, P, L, E, N, T, V, D\n",
      "    \n",
      "    S, P, L, E, N, T, V, D = update_position(S, P, L, E, N, T, V, D, i)\n",
      "    \n",
      "    thisNode=DAM.row[E[0]]\n",
      "    M=nodelist[path[thisNode],:]\n",
      "\n",
      "    # Update the agent location graph\n",
      "    point.set_data(P[:,0], P[:,1])\n",
      "    trail.set_data(M[:,0], M[:,1])\n",
      "    \n",
      "    if (T.count(None)==0):\n",
      "        exit()\n",
      "\n",
      "    return 0,\n",
      "\n",
      "# call the animator.  blit=True means only re-draw the parts that have changed.\n",
      "anim = animation.FuncAnimation(fig, animate, init_func=init,\n",
      "                               frames=f, interval = 10,blit=False)\n",
      "\n",
      "# save the animation as an mp4.  This requires ffmpeg or mencoder to be\n",
      "# installed.  The extra_args ensure that the x264 codec is used, so that\n",
      "# the video can be embedded in html5.  You may need to adjust this for\n",
      "# your system: for more information, see\n",
      "# http://matplotlib.sourceforge.net/api/animation_api.html\n",
      "anim.save('bristol-link-capacity.mp4', fps=25, extra_args=['-vcodec', 'libx264'])\n",
      "\n",
      "plt.ioff()\n",
      "plt.close(fig)"
     ],
     "language": "python",
     "metadata": {},
     "outputs": [
      {
       "output_type": "stream",
       "stream": "stdout",
       "text": [
        "Timeout 775\n",
        "Timeout"
       ]
      },
      {
       "output_type": "stream",
       "stream": "stdout",
       "text": [
        " 171\n",
        "Timeout 131\n",
        "Timeout 917\n",
        "Timeout"
       ]
      },
      {
       "output_type": "stream",
       "stream": "stdout",
       "text": [
        " 915\n",
        "Timeout"
       ]
      },
      {
       "output_type": "stream",
       "stream": "stdout",
       "text": [
        " 64\n",
        "Timeout"
       ]
      },
      {
       "output_type": "stream",
       "stream": "stdout",
       "text": [
        " 578\n",
        "Timeout 560\n",
        "Timeout"
       ]
      },
      {
       "output_type": "stream",
       "stream": "stdout",
       "text": [
        " 509\n",
        "Timeout 695\n",
        "Timeout"
       ]
      },
      {
       "output_type": "stream",
       "stream": "stdout",
       "text": [
        " 348\n",
        "Timeout"
       ]
      },
      {
       "output_type": "stream",
       "stream": "stdout",
       "text": [
        " 398\n",
        "Timeout"
       ]
      },
      {
       "output_type": "stream",
       "stream": "stdout",
       "text": [
        " 266\n",
        "Timeout 976\n",
        "Timeout 286\n",
        "Timeout"
       ]
      },
      {
       "output_type": "stream",
       "stream": "stdout",
       "text": [
        " 207\n",
        "Timeout 108\n",
        "Timeout"
       ]
      },
      {
       "output_type": "stream",
       "stream": "stdout",
       "text": [
        " 483\n",
        "Timeout"
       ]
      },
      {
       "output_type": "stream",
       "stream": "stdout",
       "text": [
        " 648\n",
        "Timeout 671\n",
        "Timeout 386\n",
        "Timeout"
       ]
      },
      {
       "output_type": "stream",
       "stream": "stdout",
       "text": [
        " 230\n",
        "Timeout"
       ]
      },
      {
       "output_type": "stream",
       "stream": "stdout",
       "text": [
        " 414\n",
        "Timeout 596\n",
        "Timeout 677\n",
        "Timeout"
       ]
      },
      {
       "output_type": "stream",
       "stream": "stdout",
       "text": [
        " 586\n",
        "Timeout 466\n",
        "Timeout"
       ]
      },
      {
       "output_type": "stream",
       "stream": "stdout",
       "text": [
        " 801\n",
        "Timeout"
       ]
      },
      {
       "output_type": "stream",
       "stream": "stdout",
       "text": [
        " 871\n",
        "Timeout"
       ]
      },
      {
       "output_type": "stream",
       "stream": "stdout",
       "text": [
        " 18\n",
        "Timeout 558\n",
        "Timeout 85\n",
        "Timeout"
       ]
      },
      {
       "output_type": "stream",
       "stream": "stdout",
       "text": [
        " 592\n",
        "Timeout"
       ]
      },
      {
       "output_type": "stream",
       "stream": "stdout",
       "text": [
        " 298\n",
        "Timeout 52\n",
        "Timeout"
       ]
      },
      {
       "output_type": "stream",
       "stream": "stdout",
       "text": [
        " 338\n",
        "Timeout 362\n",
        "Timeout 203\n",
        "Timeout"
       ]
      },
      {
       "output_type": "stream",
       "stream": "stdout",
       "text": [
        " 219\n",
        "Timeout"
       ]
      },
      {
       "output_type": "stream",
       "stream": "stdout",
       "text": [
        " 714\n",
        "Timeout 79\n",
        "Timeout"
       ]
      },
      {
       "output_type": "stream",
       "stream": "stdout",
       "text": [
        " 191\n",
        "Timeout 893\n",
        "Timeout"
       ]
      },
      {
       "output_type": "stream",
       "stream": "stdout",
       "text": [
        " 616\n",
        "Timeout 909\n",
        "Timeout 779\n",
        "Timeout 354\n",
        "Timeout"
       ]
      },
      {
       "output_type": "stream",
       "stream": "stdout",
       "text": [
        " 505\n",
        "Timeout 645\n",
        "Timeout 611\n",
        "Timeout"
       ]
      },
      {
       "output_type": "stream",
       "stream": "stdout",
       "text": [
        " 877\n",
        "Timeout"
       ]
      },
      {
       "output_type": "stream",
       "stream": "stdout",
       "text": [
        " 320\n",
        "Timeout"
       ]
      },
      {
       "output_type": "stream",
       "stream": "stdout",
       "text": [
        " 445\n",
        "Timeout"
       ]
      },
      {
       "output_type": "stream",
       "stream": "stdout",
       "text": [
        " 564\n",
        "Timeout"
       ]
      },
      {
       "output_type": "stream",
       "stream": "stdout",
       "text": [
        " 684\n",
        "Timeout 34\n",
        "Timeout"
       ]
      },
      {
       "output_type": "stream",
       "stream": "stdout",
       "text": [
        " 977\n",
        "Timeout 607\n",
        "Timeout"
       ]
      },
      {
       "output_type": "stream",
       "stream": "stdout",
       "text": [
        " 323\n",
        "Timeout"
       ]
      },
      {
       "output_type": "stream",
       "stream": "stdout",
       "text": [
        " 83\n",
        "Timeout"
       ]
      },
      {
       "output_type": "stream",
       "stream": "stdout",
       "text": [
        " 402\n",
        "Timeout"
       ]
      },
      {
       "output_type": "stream",
       "stream": "stdout",
       "text": [
        " 936\n",
        "Timeout"
       ]
      },
      {
       "output_type": "stream",
       "stream": "stdout",
       "text": [
        " 673\n",
        "Timeout 495\n",
        "Timeout 529\n",
        "Timeout 241\n",
        "Timeout"
       ]
      },
      {
       "output_type": "stream",
       "stream": "stdout",
       "text": [
        " 456\n",
        "Timeout 333\n",
        "Timeout 992\n",
        "Timeout 353\n",
        "Timeout"
       ]
      },
      {
       "output_type": "stream",
       "stream": "stdout",
       "text": [
        " 591\n",
        "Timeout 222\n",
        "Timeout"
       ]
      },
      {
       "output_type": "stream",
       "stream": "stdout",
       "text": [
        " 30\n",
        "Timeout 20\n",
        "Timeout"
       ]
      },
      {
       "output_type": "stream",
       "stream": "stdout",
       "text": [
        " 593\n",
        "Timeout 790\n",
        "Timeout"
       ]
      },
      {
       "output_type": "stream",
       "stream": "stdout",
       "text": [
        " 185\n",
        "Timeout"
       ]
      },
      {
       "output_type": "stream",
       "stream": "stdout",
       "text": [
        " 521\n",
        "Timeout"
       ]
      },
      {
       "output_type": "stream",
       "stream": "stdout",
       "text": [
        " 937\n",
        "Timeout 590\n",
        "Timeout"
       ]
      },
      {
       "output_type": "stream",
       "stream": "stdout",
       "text": [
        " 428\n",
        "Timeout"
       ]
      },
      {
       "output_type": "stream",
       "stream": "stdout",
       "text": [
        " 640\n",
        "Timeout 36\n",
        "Timeout"
       ]
      },
      {
       "output_type": "stream",
       "stream": "stdout",
       "text": [
        " 862\n",
        "Timeout 162\n",
        "Timeout"
       ]
      },
      {
       "output_type": "stream",
       "stream": "stdout",
       "text": [
        " 115\n",
        "Timeout"
       ]
      },
      {
       "output_type": "stream",
       "stream": "stdout",
       "text": [
        " 830\n",
        "Timeout 211\n",
        "Timeout 620\n",
        "Timeout 954\n",
        "Timeout"
       ]
      },
      {
       "output_type": "stream",
       "stream": "stdout",
       "text": [
        " 22\n",
        "Timeout"
       ]
      },
      {
       "output_type": "stream",
       "stream": "stdout",
       "text": [
        " 626\n",
        "Timeout 395\n",
        "Timeout"
       ]
      },
      {
       "output_type": "stream",
       "stream": "stdout",
       "text": [
        " 834\n",
        "Timeout 70\n",
        "Timeout 117\n",
        "Timeout 77\n",
        "Timeout"
       ]
      },
      {
       "output_type": "stream",
       "stream": "stdout",
       "text": [
        " 819\n",
        "Timeout"
       ]
      },
      {
       "output_type": "stream",
       "stream": "stdout",
       "text": [
        " 377\n",
        "Timeout 257\n",
        "Timeout"
       ]
      },
      {
       "output_type": "stream",
       "stream": "stdout",
       "text": [
        " 268\n",
        "Timeout"
       ]
      },
      {
       "output_type": "stream",
       "stream": "stdout",
       "text": [
        " 998\n",
        "Timeout"
       ]
      },
      {
       "output_type": "stream",
       "stream": "stdout",
       "text": [
        " 157\n",
        "Timeout 698\n",
        "Timeout"
       ]
      },
      {
       "output_type": "stream",
       "stream": "stdout",
       "text": [
        " 279\n",
        "Timeout 23\n",
        "Timeout 722\n",
        "Timeout"
       ]
      },
      {
       "output_type": "stream",
       "stream": "stdout",
       "text": [
        " 55\n",
        "Timeout 175\n",
        "Timeout"
       ]
      },
      {
       "output_type": "stream",
       "stream": "stdout",
       "text": [
        " 795\n",
        "Timeout 358\n",
        "Timeout 659\n",
        "Timeout"
       ]
      },
      {
       "output_type": "stream",
       "stream": "stdout",
       "text": [
        " 65\n",
        "Timeout"
       ]
      },
      {
       "output_type": "stream",
       "stream": "stdout",
       "text": [
        " 651\n",
        "Timeout"
       ]
      },
      {
       "output_type": "stream",
       "stream": "stdout",
       "text": [
        " 8\n",
        "Timeout 953\n",
        "Timeout"
       ]
      },
      {
       "output_type": "stream",
       "stream": "stdout",
       "text": [
        " 42\n",
        "Timeout"
       ]
      },
      {
       "output_type": "stream",
       "stream": "stdout",
       "text": [
        " 53\n",
        "Timeout 231\n",
        "Timeout 127\n",
        "Timeout 833\n",
        "Timeout"
       ]
      },
      {
       "output_type": "stream",
       "stream": "stdout",
       "text": [
        " 271\n",
        "Timeout"
       ]
      },
      {
       "output_type": "stream",
       "stream": "stdout",
       "text": [
        " 599\n",
        "Timeout 167\n",
        "Timeout 347\n",
        "Timeout"
       ]
      },
      {
       "output_type": "stream",
       "stream": "stdout",
       "text": [
        " 422\n",
        "Timeout 406\n",
        "Timeout"
       ]
      },
      {
       "output_type": "stream",
       "stream": "stdout",
       "text": [
        " 965\n",
        "Timeout 255\n",
        "Timeout"
       ]
      },
      {
       "output_type": "stream",
       "stream": "stdout",
       "text": [
        " 850\n",
        "Timeout"
       ]
      },
      {
       "output_type": "stream",
       "stream": "stdout",
       "text": [
        " 721\n",
        "Timeout"
       ]
      },
      {
       "output_type": "stream",
       "stream": "stdout",
       "text": [
        " 783\n",
        "Timeout"
       ]
      },
      {
       "output_type": "stream",
       "stream": "stdout",
       "text": [
        " 210\n",
        "Timeout"
       ]
      },
      {
       "output_type": "stream",
       "stream": "stdout",
       "text": [
        " 582\n",
        "Timeout"
       ]
      },
      {
       "output_type": "stream",
       "stream": "stdout",
       "text": [
        " 689\n",
        "Timeout"
       ]
      },
      {
       "output_type": "stream",
       "stream": "stdout",
       "text": [
        " 216\n",
        "Timeout"
       ]
      },
      {
       "output_type": "stream",
       "stream": "stdout",
       "text": [
        " 706\n",
        "Timeout 3\n",
        "Timeout 678\n",
        "Timeout 688\n",
        "Timeout"
       ]
      },
      {
       "output_type": "stream",
       "stream": "stdout",
       "text": [
        " 896\n",
        "Timeout"
       ]
      },
      {
       "output_type": "stream",
       "stream": "stdout",
       "text": [
        " 256\n",
        "Timeout 747\n",
        "Timeout"
       ]
      },
      {
       "output_type": "stream",
       "stream": "stdout",
       "text": [
        " 405\n",
        "Timeout 476\n",
        "Timeout"
       ]
      },
      {
       "output_type": "stream",
       "stream": "stdout",
       "text": [
        " 686\n",
        "Timeout"
       ]
      },
      {
       "output_type": "stream",
       "stream": "stdout",
       "text": [
        " 935\n",
        "Timeout"
       ]
      },
      {
       "output_type": "stream",
       "stream": "stdout",
       "text": [
        " 963\n",
        "Timeout"
       ]
      },
      {
       "output_type": "stream",
       "stream": "stdout",
       "text": [
        " 244\n",
        "Timeout 734\n",
        "Timeout"
       ]
      },
      {
       "output_type": "stream",
       "stream": "stdout",
       "text": [
        " 176\n",
        "Timeout"
       ]
      },
      {
       "output_type": "stream",
       "stream": "stdout",
       "text": [
        " 702\n",
        "Timeout 534\n",
        "Timeout"
       ]
      },
      {
       "output_type": "stream",
       "stream": "stdout",
       "text": [
        " 51\n",
        "Timeout"
       ]
      },
      {
       "output_type": "stream",
       "stream": "stdout",
       "text": [
        " 457\n",
        "Timeout"
       ]
      },
      {
       "output_type": "stream",
       "stream": "stdout",
       "text": [
        " 838\n",
        "Timeout"
       ]
      },
      {
       "output_type": "stream",
       "stream": "stdout",
       "text": [
        " 974\n",
        "Timeout 86\n",
        "Timeout"
       ]
      },
      {
       "output_type": "stream",
       "stream": "stdout",
       "text": [
        " 580\n",
        "Timeout 313\n",
        "Timeout 416\n",
        "Timeout 975\n",
        "Timeout"
       ]
      },
      {
       "output_type": "stream",
       "stream": "stdout",
       "text": [
        " 166\n",
        "Timeout"
       ]
      },
      {
       "output_type": "stream",
       "stream": "stdout",
       "text": [
        " 164\n",
        "Timeout"
       ]
      },
      {
       "output_type": "stream",
       "stream": "stdout",
       "text": [
        " 253\n",
        "Timeout 767\n",
        "Timeout"
       ]
      },
      {
       "output_type": "stream",
       "stream": "stdout",
       "text": [
        " 996\n",
        "Timeout"
       ]
      },
      {
       "output_type": "stream",
       "stream": "stdout",
       "text": [
        " 37\n",
        "Timeout 588\n",
        "Timeout 826\n",
        "Timeout"
       ]
      },
      {
       "output_type": "stream",
       "stream": "stdout",
       "text": [
        " 491\n",
        "Timeout"
       ]
      },
      {
       "output_type": "stream",
       "stream": "stdout",
       "text": [
        " 78\n",
        "Timeout"
       ]
      },
      {
       "output_type": "stream",
       "stream": "stdout",
       "text": [
        " 829\n",
        "Timeout 485\n",
        "Timeout"
       ]
      },
      {
       "output_type": "stream",
       "stream": "stdout",
       "text": [
        " 103\n",
        "Timeout 778\n",
        "Timeout 835\n",
        "Timeout"
       ]
      },
      {
       "output_type": "stream",
       "stream": "stdout",
       "text": [
        " 926\n",
        "Timeout"
       ]
      },
      {
       "output_type": "stream",
       "stream": "stdout",
       "text": [
        " 307\n",
        "Timeout 746\n",
        "Timeout"
       ]
      },
      {
       "output_type": "stream",
       "stream": "stdout",
       "text": [
        " 904\n",
        "Timeout 462\n",
        "Timeout 631\n",
        "Timeout 118\n",
        "Timeout"
       ]
      },
      {
       "output_type": "stream",
       "stream": "stdout",
       "text": [
        " 121\n",
        "Timeout 851\n",
        "Timeout"
       ]
      },
      {
       "output_type": "stream",
       "stream": "stdout",
       "text": [
        " 437\n",
        "Timeout 163\n",
        "Timeout 321\n",
        "Timeout 90\n",
        "Timeout"
       ]
      },
      {
       "output_type": "stream",
       "stream": "stdout",
       "text": [
        " 293\n",
        "Timeout 827\n",
        "Timeout 547\n",
        "Timeout"
       ]
      },
      {
       "output_type": "stream",
       "stream": "stdout",
       "text": [
        " 518\n",
        "Timeout 238\n",
        "Timeout"
       ]
      },
      {
       "output_type": "stream",
       "stream": "stdout",
       "text": [
        " 397\n",
        "Timeout 179\n",
        "Timeout"
       ]
      },
      {
       "output_type": "stream",
       "stream": "stdout",
       "text": [
        " 470\n",
        "Timeout 417\n",
        "Timeout"
       ]
      },
      {
       "output_type": "stream",
       "stream": "stdout",
       "text": [
        " 800\n",
        "Timeout 345\n",
        "Timeout"
       ]
      },
      {
       "output_type": "stream",
       "stream": "stdout",
       "text": [
        " 195\n",
        "Timeout 306\n",
        "Timeout"
       ]
      },
      {
       "output_type": "stream",
       "stream": "stdout",
       "text": [
        " 668\n",
        "Timeout 288\n",
        "Timeout"
       ]
      },
      {
       "output_type": "stream",
       "stream": "stdout",
       "text": [
        " 254\n",
        "Timeout"
       ]
      },
      {
       "output_type": "stream",
       "stream": "stdout",
       "text": [
        " 24\n",
        "Timeout"
       ]
      },
      {
       "output_type": "stream",
       "stream": "stdout",
       "text": [
        " 964\n",
        "Timeout 530\n",
        "Timeout"
       ]
      },
      {
       "output_type": "stream",
       "stream": "stdout",
       "text": [
        " 683\n",
        "Timeout 875\n",
        "Timeout 903\n",
        "Timeout"
       ]
      },
      {
       "output_type": "stream",
       "stream": "stdout",
       "text": [
        " 537\n",
        "Timeout"
       ]
      },
      {
       "output_type": "stream",
       "stream": "stdout",
       "text": [
        " 378\n",
        "Timeout"
       ]
      },
      {
       "output_type": "stream",
       "stream": "stdout",
       "text": [
        " 541\n",
        "Timeout"
       ]
      },
      {
       "output_type": "stream",
       "stream": "stdout",
       "text": [
        " 885\n",
        "Timeout"
       ]
      },
      {
       "output_type": "stream",
       "stream": "stdout",
       "text": [
        " 723\n",
        "Timeout"
       ]
      },
      {
       "output_type": "stream",
       "stream": "stdout",
       "text": [
        " 374\n",
        "Timeout"
       ]
      },
      {
       "output_type": "stream",
       "stream": "stdout",
       "text": [
        " 239\n",
        "Timeout"
       ]
      },
      {
       "output_type": "stream",
       "stream": "stdout",
       "text": [
        " 158\n",
        "Timeout"
       ]
      },
      {
       "output_type": "stream",
       "stream": "stdout",
       "text": [
        " 328\n",
        "Timeout 112\n",
        "Timeout"
       ]
      },
      {
       "output_type": "stream",
       "stream": "stdout",
       "text": [
        " 407\n",
        "Timeout"
       ]
      },
      {
       "output_type": "stream",
       "stream": "stdout",
       "text": [
        " 408\n",
        "Timeout"
       ]
      },
      {
       "output_type": "stream",
       "stream": "stdout",
       "text": [
        " 543\n",
        "Timeout"
       ]
      },
      {
       "output_type": "stream",
       "stream": "stdout",
       "text": [
        " 61\n",
        "Timeout"
       ]
      },
      {
       "output_type": "stream",
       "stream": "stdout",
       "text": [
        " 368\n",
        "Timeout"
       ]
      },
      {
       "output_type": "stream",
       "stream": "stdout",
       "text": [
        " 652\n",
        "Timeout"
       ]
      },
      {
       "output_type": "stream",
       "stream": "stdout",
       "text": [
        " 217\n",
        "Timeout"
       ]
      },
      {
       "output_type": "stream",
       "stream": "stdout",
       "text": [
        " 228\n",
        "Timeout"
       ]
      },
      {
       "output_type": "stream",
       "stream": "stdout",
       "text": [
        " 889\n",
        "Timeout 519\n",
        "Timeout"
       ]
      },
      {
       "output_type": "stream",
       "stream": "stdout",
       "text": [
        " 434\n",
        "Timeout"
       ]
      },
      {
       "output_type": "stream",
       "stream": "stdout",
       "text": [
        " 773\n",
        "Timeout 100\n",
        "Timeout 758\n",
        "Timeout"
       ]
      },
      {
       "output_type": "stream",
       "stream": "stdout",
       "text": [
        " 247\n",
        "Timeout"
       ]
      },
      {
       "output_type": "stream",
       "stream": "stdout",
       "text": [
        " 883\n",
        "Timeout"
       ]
      },
      {
       "output_type": "stream",
       "stream": "stdout",
       "text": [
        " 54\n",
        "Timeout 781\n",
        "Timeout 847\n",
        "Timeout"
       ]
      },
      {
       "output_type": "stream",
       "stream": "stdout",
       "text": [
        " 719\n",
        "Timeout 246\n",
        "Timeout"
       ]
      },
      {
       "output_type": "stream",
       "stream": "stdout",
       "text": [
        " 685\n",
        "Timeout 165\n",
        "Timeout"
       ]
      },
      {
       "output_type": "stream",
       "stream": "stdout",
       "text": [
        " 985\n",
        "Timeout 839\n",
        "Timeout"
       ]
      },
      {
       "output_type": "stream",
       "stream": "stdout",
       "text": [
        " 204\n",
        "Timeout 110\n",
        "Timeout"
       ]
      },
      {
       "output_type": "stream",
       "stream": "stdout",
       "text": [
        " 622\n",
        "Timeout 153\n",
        "Timeout"
       ]
      },
      {
       "output_type": "stream",
       "stream": "stdout",
       "text": [
        " 477\n",
        "Timeout 218\n",
        "Timeout"
       ]
      },
      {
       "output_type": "stream",
       "stream": "stdout",
       "text": [
        " 170\n",
        "Timeout"
       ]
      },
      {
       "output_type": "stream",
       "stream": "stdout",
       "text": [
        " 300\n",
        "Timeout 803\n",
        "Timeout 504\n",
        "Timeout"
       ]
      },
      {
       "output_type": "stream",
       "stream": "stdout",
       "text": [
        " 318\n",
        "Timeout"
       ]
      },
      {
       "output_type": "stream",
       "stream": "stdout",
       "text": [
        " 335\n",
        "Timeout"
       ]
      },
      {
       "output_type": "stream",
       "stream": "stdout",
       "text": [
        " 629\n",
        "Timeout 464\n",
        "Timeout"
       ]
      },
      {
       "output_type": "stream",
       "stream": "stdout",
       "text": [
        " 150\n",
        "Timeout"
       ]
      },
      {
       "output_type": "stream",
       "stream": "stdout",
       "text": [
        " 184\n",
        "Timeout"
       ]
      },
      {
       "output_type": "stream",
       "stream": "stdout",
       "text": [
        " 511\n",
        "Timeout"
       ]
      },
      {
       "output_type": "stream",
       "stream": "stdout",
       "text": [
        " 276\n",
        "Timeout 752\n",
        "Timeout"
       ]
      },
      {
       "output_type": "stream",
       "stream": "stdout",
       "text": [
        " 566\n",
        "Timeout"
       ]
      },
      {
       "output_type": "stream",
       "stream": "stdout",
       "text": [
        " 243\n",
        "Timeout 873\n",
        "Timeout"
       ]
      },
      {
       "output_type": "stream",
       "stream": "stdout",
       "text": [
        " 409\n",
        "Timeout 45\n",
        "Timeout"
       ]
      },
      {
       "output_type": "stream",
       "stream": "stdout",
       "text": [
        " 209\n",
        "Timeout"
       ]
      },
      {
       "output_type": "stream",
       "stream": "stdout",
       "text": [
        " 691\n",
        "Timeout 569\n",
        "Timeout 352\n",
        "Timeout 373\n",
        "Timeout"
       ]
      },
      {
       "output_type": "stream",
       "stream": "stdout",
       "text": [
        " 391\n",
        "Timeout 370\n",
        "Timeout"
       ]
      },
      {
       "output_type": "stream",
       "stream": "stdout",
       "text": [
        " 441\n",
        "Timeout 178\n",
        "Timeout 111\n",
        "Timeout 212\n",
        "Timeout 644\n",
        "Timeout 628\n",
        "Timeout 303\n",
        "Timeout"
       ]
      },
      {
       "output_type": "stream",
       "stream": "stdout",
       "text": [
        " 994\n",
        "Timeout 618\n",
        "Timeout"
       ]
      },
      {
       "output_type": "stream",
       "stream": "stdout",
       "text": [
        " 866\n",
        "Timeout 821\n",
        "Timeout 557\n",
        "Timeout"
       ]
      },
      {
       "output_type": "stream",
       "stream": "stdout",
       "text": [
        " 761\n",
        "Timeout 769\n",
        "Timeout"
       ]
      },
      {
       "output_type": "stream",
       "stream": "stdout",
       "text": [
        " 262\n",
        "Timeout 46\n",
        "Timeout"
       ]
      },
      {
       "output_type": "stream",
       "stream": "stdout",
       "text": [
        " 865\n",
        "Timeout 123\n",
        "Timeout"
       ]
      },
      {
       "output_type": "stream",
       "stream": "stdout",
       "text": [
        " 952\n",
        "Timeout 174\n",
        "Timeout"
       ]
      },
      {
       "output_type": "stream",
       "stream": "stdout",
       "text": [
        " 520\n",
        "Timeout 435\n",
        "Timeout 196\n",
        "Timeout 925\n",
        "Timeout 658\n",
        "Timeout"
       ]
      },
      {
       "output_type": "stream",
       "stream": "stdout",
       "text": [
        " 275\n",
        "Timeout 553\n",
        "Timeout 577\n",
        "Timeout 922\n",
        "Timeout"
       ]
      },
      {
       "output_type": "stream",
       "stream": "stdout",
       "text": [
        " 93\n",
        "Timeout"
       ]
      },
      {
       "output_type": "stream",
       "stream": "stdout",
       "text": [
        " 680\n",
        "Timeout"
       ]
      },
      {
       "output_type": "stream",
       "stream": "stdout",
       "text": [
        " 749\n",
        "Timeout 493\n",
        "Timeout"
       ]
      },
      {
       "output_type": "stream",
       "stream": "stdout",
       "text": [
        " 450\n",
        "Timeout 661\n",
        "Timeout"
       ]
      },
      {
       "output_type": "stream",
       "stream": "stdout",
       "text": [
        " 766\n",
        "Timeout 756\n",
        "Timeout"
       ]
      },
      {
       "output_type": "stream",
       "stream": "stdout",
       "text": [
        " 710\n",
        "Timeout 699\n",
        "Timeout"
       ]
      },
      {
       "output_type": "stream",
       "stream": "stdout",
       "text": [
        " 853\n",
        "Timeout"
       ]
      },
      {
       "output_type": "stream",
       "stream": "stdout",
       "text": [
        " 214\n",
        "Timeout 264\n",
        "Timeout 539\n",
        "Timeout"
       ]
      },
      {
       "output_type": "stream",
       "stream": "stdout",
       "text": [
        " 13\n",
        "Timeout 584\n",
        "Timeout 574\n",
        "Timeout 943\n",
        "Timeout"
       ]
      },
      {
       "output_type": "stream",
       "stream": "stdout",
       "text": [
        " 882\n",
        "Timeout 950\n",
        "Timeout 589\n",
        "Timeout 535\n",
        "Timeout 625\n",
        "Timeout"
       ]
      },
      {
       "output_type": "stream",
       "stream": "stdout",
       "text": [
        " 970\n",
        "Timeout 968\n",
        "Timeout 739\n",
        "Timeout 540\n",
        "Timeout"
       ]
      },
      {
       "output_type": "stream",
       "stream": "stdout",
       "text": [
        " 798\n",
        "Timeout 497\n",
        "Timeout 755\n",
        "Timeout 17\n",
        "Timeout"
       ]
      },
      {
       "output_type": "stream",
       "stream": "stdout",
       "text": [
        " 988\n",
        "Timeout 119\n",
        "Timeout"
       ]
      },
      {
       "output_type": "stream",
       "stream": "stdout",
       "text": [
        " 240\n",
        "Timeout"
       ]
      },
      {
       "output_type": "stream",
       "stream": "stdout",
       "text": [
        " 793\n",
        "Timeout 967\n",
        "Timeout 794\n",
        "Timeout 785\n",
        "Timeout 186\n",
        "Timeout"
       ]
      },
      {
       "output_type": "stream",
       "stream": "stdout",
       "text": [
        " 15\n",
        "Timeout"
       ]
      },
      {
       "output_type": "stream",
       "stream": "stdout",
       "text": [
        " 4\n",
        "Timeout 160\n",
        "Timeout 737\n",
        "Timeout"
       ]
      },
      {
       "output_type": "stream",
       "stream": "stdout",
       "text": [
        " 583\n",
        "Timeout 717\n",
        "Timeout 585\n",
        "Timeout 762\n",
        "Timeout 341\n",
        "Timeout 810\n",
        "Timeout 194\n",
        "Timeout 562\n",
        "Timeout"
       ]
      },
      {
       "output_type": "stream",
       "stream": "stdout",
       "text": [
        " 39\n",
        "Timeout"
       ]
      },
      {
       "output_type": "stream",
       "stream": "stdout",
       "text": [
        " 41\n",
        "Timeout"
       ]
      },
      {
       "output_type": "stream",
       "stream": "stdout",
       "text": [
        " 366\n",
        "Timeout 233\n",
        "Timeout"
       ]
      },
      {
       "output_type": "stream",
       "stream": "stdout",
       "text": [
        " 751\n",
        "Timeout 193\n",
        "Timeout 863\n",
        "Timeout"
       ]
      },
      {
       "output_type": "stream",
       "stream": "stdout",
       "text": [
        " 606\n",
        "Timeout 565\n",
        "Timeout 475\n",
        "Timeout"
       ]
      },
      {
       "output_type": "stream",
       "stream": "stdout",
       "text": [
        " 693\n",
        "Timeout 573\n",
        "Timeout 892\n",
        "Timeout"
       ]
      },
      {
       "output_type": "stream",
       "stream": "stdout",
       "text": [
        " 708\n",
        "Timeout 451\n",
        "Timeout"
       ]
      },
      {
       "output_type": "stream",
       "stream": "stdout",
       "text": [
        " 148\n",
        "Timeout 5\n",
        "Timeout"
       ]
      },
      {
       "output_type": "stream",
       "stream": "stdout",
       "text": [
        " 187\n",
        "Timeout 49\n",
        "Timeout 760\n",
        "Timeout"
       ]
      },
      {
       "output_type": "stream",
       "stream": "stdout",
       "text": [
        " 188\n",
        "Timeout 137\n",
        "Timeout"
       ]
      },
      {
       "output_type": "stream",
       "stream": "stdout",
       "text": [
        " 28\n",
        "Timeout 270\n",
        "Timeout"
       ]
      },
      {
       "output_type": "stream",
       "stream": "stdout",
       "text": [
        " 930\n",
        "Timeout 305\n",
        "Timeout"
       ]
      },
      {
       "output_type": "stream",
       "stream": "stdout",
       "text": [
        " 389\n",
        "Timeout"
       ]
      },
      {
       "output_type": "stream",
       "stream": "stdout",
       "text": [
        " 277\n",
        "Timeout 147\n",
        "Timeout"
       ]
      },
      {
       "output_type": "stream",
       "stream": "stdout",
       "text": [
        " 379\n",
        "Timeout"
       ]
      },
      {
       "output_type": "stream",
       "stream": "stdout",
       "text": [
        " 99\n",
        "Timeout 604\n",
        "Timeout"
       ]
      },
      {
       "output_type": "stream",
       "stream": "stdout",
       "text": [
        " 415\n",
        "Timeout"
       ]
      },
      {
       "output_type": "stream",
       "stream": "stdout",
       "text": [
        " 336\n",
        "Timeout"
       ]
      },
      {
       "output_type": "stream",
       "stream": "stdout",
       "text": [
        " 346\n",
        "Timeout 463\n",
        "Timeout"
       ]
      },
      {
       "output_type": "stream",
       "stream": "stdout",
       "text": [
        " 169\n",
        "Timeout"
       ]
      },
      {
       "output_type": "stream",
       "stream": "stdout",
       "text": [
        " 545\n",
        "Timeout 465\n",
        "Timeout 498\n",
        "Timeout 845\n",
        "Timeout"
       ]
      },
      {
       "output_type": "stream",
       "stream": "stdout",
       "text": [
        " 283\n",
        "Timeout 650\n",
        "Timeout"
       ]
      },
      {
       "output_type": "stream",
       "stream": "stdout",
       "text": [
        " 536\n",
        "Timeout 224\n",
        "Timeout 273\n",
        "Timeout 316\n",
        "Timeout"
       ]
      },
      {
       "output_type": "stream",
       "stream": "stdout",
       "text": [
        " 660\n",
        "Timeout"
       ]
      },
      {
       "output_type": "stream",
       "stream": "stdout",
       "text": [
        " 817\n",
        "Timeout 969\n",
        "Timeout"
       ]
      },
      {
       "output_type": "stream",
       "stream": "stdout",
       "text": [
        " 325\n",
        "Timeout 563\n",
        "Timeout 512\n",
        "Timeout 906\n",
        "Timeout"
       ]
      },
      {
       "output_type": "stream",
       "stream": "stdout",
       "text": [
        " 728\n",
        "Timeout"
       ]
      },
      {
       "output_type": "stream",
       "stream": "stdout",
       "text": [
        " 460\n",
        "Timeout 130\n",
        "Timeout"
       ]
      },
      {
       "output_type": "stream",
       "stream": "stdout",
       "text": [
        " 983\n",
        "Timeout 92\n",
        "Timeout"
       ]
      },
      {
       "output_type": "stream",
       "stream": "stdout",
       "text": [
        " 986\n",
        "Timeout 999\n",
        "Timeout 799\n",
        "Timeout 669\n",
        "Timeout 846\n",
        "Timeout 697\n",
        "Timeout"
       ]
      },
      {
       "output_type": "stream",
       "stream": "stdout",
       "text": [
        " 809\n",
        "Timeout 337\n",
        "Timeout"
       ]
      },
      {
       "output_type": "stream",
       "stream": "stdout",
       "text": [
        " 681\n",
        "Timeout 124\n",
        "Timeout 371\n",
        "Timeout"
       ]
      },
      {
       "output_type": "stream",
       "stream": "stdout",
       "text": [
        " 654\n",
        "Timeout 220\n",
        "Timeout 731\n",
        "Timeout 227\n",
        "Timeout"
       ]
      },
      {
       "output_type": "stream",
       "stream": "stdout",
       "text": [
        " 707\n",
        "Timeout 280\n",
        "Timeout"
       ]
      },
      {
       "output_type": "stream",
       "stream": "stdout",
       "text": [
        " 340\n",
        "Timeout"
       ]
      },
      {
       "output_type": "stream",
       "stream": "stdout",
       "text": [
        " 430\n",
        "Timeout 199\n",
        "Timeout 924\n",
        "Timeout"
       ]
      },
      {
       "output_type": "stream",
       "stream": "stdout",
       "text": [
        " 10\n",
        "Timeout 289\n",
        "Timeout 796\n",
        "Timeout"
       ]
      },
      {
       "output_type": "stream",
       "stream": "stdout",
       "text": [
        " 138\n",
        "Timeout"
       ]
      },
      {
       "output_type": "stream",
       "stream": "stdout",
       "text": [
        " 542\n",
        "Timeout 571\n",
        "Timeout 812\n",
        "Timeout"
       ]
      },
      {
       "output_type": "stream",
       "stream": "stdout",
       "text": [
        " 657\n",
        "Timeout"
       ]
      },
      {
       "output_type": "stream",
       "stream": "stdout",
       "text": [
        " 713\n",
        "Timeout"
       ]
      },
      {
       "output_type": "stream",
       "stream": "stdout",
       "text": [
        " 330\n",
        "Timeout 392\n",
        "Timeout 894\n",
        "Timeout 133\n",
        "Timeout"
       ]
      },
      {
       "output_type": "stream",
       "stream": "stdout",
       "text": [
        " 837\n",
        "Timeout"
       ]
      },
      {
       "output_type": "stream",
       "stream": "stdout",
       "text": [
        " 304\n",
        "Timeout 229\n",
        "Timeout 916\n",
        "Timeout 813\n",
        "Timeout 568\n",
        "Timeout 874\n",
        "Timeout"
       ]
      },
      {
       "output_type": "stream",
       "stream": "stdout",
       "text": [
        " 854\n",
        "Timeout 58\n",
        "Timeout"
       ]
      },
      {
       "output_type": "stream",
       "stream": "stdout",
       "text": [
        " 929\n",
        "Timeout"
       ]
      },
      {
       "output_type": "stream",
       "stream": "stdout",
       "text": [
        " 403\n",
        "Timeout"
       ]
      },
      {
       "output_type": "stream",
       "stream": "stdout",
       "text": [
        " 712\n",
        "Timeout 143\n",
        "Timeout"
       ]
      },
      {
       "output_type": "stream",
       "stream": "stdout",
       "text": [
        " 857\n",
        "Timeout 868\n",
        "Timeout 113\n",
        "Timeout"
       ]
      },
      {
       "output_type": "stream",
       "stream": "stdout",
       "text": [
        " 201\n",
        "Timeout 120\n",
        "Timeout"
       ]
      },
      {
       "output_type": "stream",
       "stream": "stdout",
       "text": [
        " 820\n",
        "Timeout"
       ]
      },
      {
       "output_type": "stream",
       "stream": "stdout",
       "text": [
        " 555\n",
        "Timeout 98\n",
        "Timeout 129\n",
        "Timeout 754\n",
        "Timeout"
       ]
      },
      {
       "output_type": "stream",
       "stream": "stdout",
       "text": [
        " 899\n",
        "Timeout 782\n",
        "Timeout"
       ]
      },
      {
       "output_type": "stream",
       "stream": "stdout",
       "text": [
        " 197\n",
        "Timeout 136\n",
        "Timeout 776\n",
        "Timeout 57\n",
        "Timeout 941\n",
        "Timeout"
       ]
      },
      {
       "output_type": "stream",
       "stream": "stdout",
       "text": [
        " 344\n",
        "Timeout 40\n",
        "Timeout 525\n",
        "Timeout 959\n",
        "Timeout 982\n",
        "Timeout 750\n",
        "Timeout"
       ]
      },
      {
       "output_type": "stream",
       "stream": "stdout",
       "text": [
        " 897\n",
        "Timeout"
       ]
      },
      {
       "output_type": "stream",
       "stream": "stdout",
       "text": [
        " 261\n",
        "Timeout 448\n",
        "Timeout"
       ]
      },
      {
       "output_type": "stream",
       "stream": "stdout",
       "text": [
        " 155\n",
        "Timeout"
       ]
      },
      {
       "output_type": "stream",
       "stream": "stdout",
       "text": [
        " 841\n",
        "Timeout 234\n",
        "Timeout"
       ]
      },
      {
       "output_type": "stream",
       "stream": "stdout",
       "text": [
        " 161\n",
        "Timeout"
       ]
      },
      {
       "output_type": "stream",
       "stream": "stdout",
       "text": [
        " 309\n",
        "Timeout 473\n",
        "Timeout"
       ]
      },
      {
       "output_type": "stream",
       "stream": "stdout",
       "text": [
        " 743\n",
        "Timeout"
       ]
      },
      {
       "output_type": "stream",
       "stream": "stdout",
       "text": [
        " 263\n",
        "Timeout 44\n",
        "Timeout"
       ]
      },
      {
       "output_type": "stream",
       "stream": "stdout",
       "text": [
        " 641\n",
        "Timeout 632\n",
        "Timeout 995\n",
        "Timeout"
       ]
      },
      {
       "output_type": "stream",
       "stream": "stdout",
       "text": [
        " 823\n",
        "Timeout"
       ]
      },
      {
       "output_type": "stream",
       "stream": "stdout",
       "text": [
        " 724\n",
        "Timeout 910\n",
        "Timeout 375\n",
        "Timeout 978\n",
        "Timeout"
       ]
      },
      {
       "output_type": "stream",
       "stream": "stdout",
       "text": [
        " 101\n",
        "Timeout 836\n",
        "Timeout 355\n",
        "Timeout 709\n",
        "Timeout"
       ]
      },
      {
       "output_type": "stream",
       "stream": "stdout",
       "text": [
        " 744\n",
        "Timeout 488\n",
        "Timeout 945\n",
        "Timeout 507\n",
        "Timeout"
       ]
      },
      {
       "output_type": "stream",
       "stream": "stdout",
       "text": [
        " 2\n",
        "Timeout 95\n",
        "Timeout 339\n",
        "Timeout 958\n",
        "Timeout 860\n",
        "Timeout"
       ]
      },
      {
       "output_type": "stream",
       "stream": "stdout",
       "text": [
        " 81\n",
        "Timeout 694\n",
        "Timeout 715\n",
        "Timeout"
       ]
      },
      {
       "output_type": "stream",
       "stream": "stdout",
       "text": [
        " 880\n",
        "Timeout 474\n",
        "Timeout 454\n",
        "Timeout 887\n",
        "Timeout"
       ]
      },
      {
       "output_type": "stream",
       "stream": "stdout",
       "text": [
        " 716\n",
        "Timeout"
       ]
      },
      {
       "output_type": "stream",
       "stream": "stdout",
       "text": [
        " 19\n",
        "Timeout 705\n",
        "Timeout"
       ]
      },
      {
       "output_type": "stream",
       "stream": "stdout",
       "text": [
        " 919\n",
        "Timeout"
       ]
      },
      {
       "output_type": "stream",
       "stream": "stdout",
       "text": [
        " 394\n",
        "Timeout 152\n",
        "Timeout 84\n",
        "Timeout 468\n",
        "Timeout 388\n",
        "Timeout"
       ]
      },
      {
       "output_type": "stream",
       "stream": "stdout",
       "text": [
        " 432\n",
        "Timeout 670\n",
        "Timeout"
       ]
      },
      {
       "output_type": "stream",
       "stream": "stdout",
       "text": [
        " 87\n",
        "Timeout 126\n",
        "Timeout"
       ]
      },
      {
       "output_type": "stream",
       "stream": "stdout",
       "text": [
        " 690\n",
        "Timeout 991\n",
        "Timeout 508\n",
        "Timeout 516\n",
        "Timeout 549\n",
        "Timeout"
       ]
      },
      {
       "output_type": "stream",
       "stream": "stdout",
       "text": [
        " 43\n",
        "Timeout 47\n",
        "Timeout 920\n",
        "Timeout 666\n",
        "Timeout"
       ]
      },
      {
       "output_type": "stream",
       "stream": "stdout",
       "text": [
        " 792\n",
        "Timeout"
       ]
      },
      {
       "output_type": "stream",
       "stream": "stdout",
       "text": [
        " 192\n",
        "Timeout 500\n",
        "Timeout 890\n",
        "Timeout 334\n",
        "Timeout 514\n",
        "Timeout 423\n",
        "Timeout"
       ]
      },
      {
       "output_type": "stream",
       "stream": "stdout",
       "text": [
        " 342\n",
        "Timeout 401\n",
        "Timeout"
       ]
      },
      {
       "output_type": "stream",
       "stream": "stdout",
       "text": [
        " 363\n",
        "Timeout 662\n",
        "Timeout"
       ]
      },
      {
       "output_type": "stream",
       "stream": "stdout",
       "text": [
        " 624\n",
        "Timeout 317\n",
        "Timeout"
       ]
      },
      {
       "output_type": "stream",
       "stream": "stdout",
       "text": [
        " 807\n",
        "Timeout 332\n",
        "Timeout 494\n",
        "Timeout"
       ]
      },
      {
       "output_type": "stream",
       "stream": "stdout",
       "text": [
        " 787\n",
        "Timeout 223\n",
        "Timeout 956\n",
        "Timeout"
       ]
      },
      {
       "output_type": "stream",
       "stream": "stdout",
       "text": [
        " 797\n",
        "Timeout 763\n",
        "Timeout 472\n",
        "Timeout"
       ]
      },
      {
       "output_type": "stream",
       "stream": "stdout",
       "text": [
        " 142\n",
        "Timeout 849\n",
        "Timeout 16\n",
        "Timeout 918\n",
        "Timeout"
       ]
      },
      {
       "output_type": "stream",
       "stream": "stdout",
       "text": [
        " 125\n",
        "Timeout 615\n",
        "Timeout 642\n",
        "Timeout 324\n",
        "Timeout"
       ]
      },
      {
       "output_type": "stream",
       "stream": "stdout",
       "text": [
        " 856\n",
        "Timeout 609\n",
        "Timeout 149\n",
        "Timeout 299\n",
        "Timeout 814\n",
        "Timeout 544\n",
        "Timeout 426\n",
        "Timeout"
       ]
      },
      {
       "output_type": "stream",
       "stream": "stdout",
       "text": [
        " 369\n",
        "Timeout 469\n",
        "Timeout"
       ]
      },
      {
       "output_type": "stream",
       "stream": "stdout",
       "text": [
        " 700\n",
        "Timeout 957\n",
        "Timeout"
       ]
      },
      {
       "output_type": "stream",
       "stream": "stdout",
       "text": [
        " 784\n",
        "Timeout"
       ]
      },
      {
       "output_type": "stream",
       "stream": "stdout",
       "text": [
        " 951\n",
        "Timeout 442\n",
        "Timeout"
       ]
      },
      {
       "output_type": "stream",
       "stream": "stdout",
       "text": [
        " 908\n",
        "Timeout 200\n",
        "Timeout 259\n",
        "Timeout 765\n",
        "Timeout 66\n",
        "Timeout 881\n",
        "Timeout"
       ]
      },
      {
       "output_type": "stream",
       "stream": "stdout",
       "text": [
        " 931\n",
        "Timeout"
       ]
      },
      {
       "output_type": "stream",
       "stream": "stdout",
       "text": [
        " 139\n",
        "Timeout 367\n",
        "Timeout 942\n",
        "Timeout"
       ]
      },
      {
       "output_type": "stream",
       "stream": "stdout",
       "text": [
        " 285\n",
        "Timeout 634\n",
        "Timeout 107\n",
        "Timeout"
       ]
      },
      {
       "output_type": "stream",
       "stream": "stdout",
       "text": [
        " 284\n",
        "Timeout 331\n",
        "Timeout"
       ]
      },
      {
       "output_type": "stream",
       "stream": "stdout",
       "text": [
        " 385\n",
        "Timeout"
       ]
      },
      {
       "output_type": "stream",
       "stream": "stdout",
       "text": [
        " 480\n",
        "Timeout 287\n",
        "Timeout"
       ]
      },
      {
       "output_type": "stream",
       "stream": "stdout",
       "text": [
        " 295\n",
        "Timeout"
       ]
      },
      {
       "output_type": "stream",
       "stream": "stdout",
       "text": [
        " 633\n",
        "Timeout"
       ]
      },
      {
       "output_type": "stream",
       "stream": "stdout",
       "text": [
        " 656\n",
        "Timeout 421\n",
        "Timeout 824\n",
        "Timeout"
       ]
      },
      {
       "output_type": "stream",
       "stream": "stdout",
       "text": [
        " 550\n",
        "Timeout 453\n",
        "Timeout"
       ]
      },
      {
       "output_type": "stream",
       "stream": "stdout",
       "text": [
        " 14\n",
        "Timeout 602\n",
        "Timeout"
       ]
      },
      {
       "output_type": "stream",
       "stream": "stdout",
       "text": [
        " 548\n",
        "Timeout 419\n",
        "Timeout"
       ]
      },
      {
       "output_type": "stream",
       "stream": "stdout",
       "text": [
        " 116\n",
        "Timeout"
       ]
      },
      {
       "output_type": "stream",
       "stream": "stdout",
       "text": [
        " 736\n",
        "Timeout 636\n",
        "Timeout 601\n",
        "Timeout 376\n",
        "Timeout"
       ]
      },
      {
       "output_type": "stream",
       "stream": "stdout",
       "text": [
        " 704\n",
        "Timeout 74\n",
        "Timeout 598\n",
        "Timeout"
       ]
      },
      {
       "output_type": "stream",
       "stream": "stdout",
       "text": [
        " 322\n",
        "Timeout 393\n",
        "Timeout 349\n",
        "Timeout 825\n",
        "Timeout"
       ]
      },
      {
       "output_type": "stream",
       "stream": "stdout",
       "text": [
        " 523\n",
        "Timeout 267\n",
        "Timeout 738\n",
        "Timeout 979\n",
        "Timeout"
       ]
      },
      {
       "output_type": "stream",
       "stream": "stdout",
       "text": [
        " 418\n",
        "Timeout 987\n",
        "Timeout 410\n",
        "Timeout"
       ]
      },
      {
       "output_type": "stream",
       "stream": "stdout",
       "text": [
        " 372\n",
        "Timeout 489\n",
        "Timeout 106\n",
        "Timeout 503\n",
        "Timeout"
       ]
      },
      {
       "output_type": "stream",
       "stream": "stdout",
       "text": [
        " 649\n",
        "Timeout 587\n",
        "Timeout 993\n",
        "Timeout"
       ]
      },
      {
       "output_type": "stream",
       "stream": "stdout",
       "text": [
        " 350\n",
        "Timeout"
       ]
      },
      {
       "output_type": "stream",
       "stream": "stdout",
       "text": [
        " 672\n",
        "Timeout 190\n",
        "Timeout 76\n",
        "Timeout"
       ]
      },
      {
       "output_type": "stream",
       "stream": "stdout",
       "text": [
        " 984\n",
        "Timeout 122\n",
        "Timeout 431\n",
        "Timeout 989\n",
        "Timeout"
       ]
      },
      {
       "output_type": "stream",
       "stream": "stdout",
       "text": [
        " 33\n",
        "Timeout 932\n",
        "Timeout"
       ]
      },
      {
       "output_type": "stream",
       "stream": "stdout",
       "text": [
        " 552\n",
        "Timeout 490\n",
        "Timeout 429\n",
        "Timeout 832\n",
        "Timeout"
       ]
      },
      {
       "output_type": "stream",
       "stream": "stdout",
       "text": [
        " 842\n",
        "Timeout 923\n",
        "Timeout 424\n",
        "Timeout 205\n",
        "Timeout"
       ]
      },
      {
       "output_type": "stream",
       "stream": "stdout",
       "text": [
        " 73\n",
        "Timeout 487\n",
        "Timeout"
       ]
      },
      {
       "output_type": "stream",
       "stream": "stdout",
       "text": [
        " 928\n",
        "Timeout"
       ]
      },
      {
       "output_type": "stream",
       "stream": "stdout",
       "text": [
        " 390\n",
        "Timeout 831\n",
        "Timeout"
       ]
      },
      {
       "output_type": "stream",
       "stream": "stdout",
       "text": [
        " 811\n",
        "Timeout"
       ]
      },
      {
       "output_type": "stream",
       "stream": "stdout",
       "text": [
        " 248\n",
        "Timeout 135\n",
        "Timeout 971\n",
        "Timeout"
       ]
      },
      {
       "output_type": "stream",
       "stream": "stdout",
       "text": [
        " 159\n",
        "Timeout 515\n",
        "Timeout 911\n",
        "Timeout 944\n",
        "Timeout 635\n",
        "Timeout"
       ]
      },
      {
       "output_type": "stream",
       "stream": "stdout",
       "text": [
        " 621\n",
        "Timeout 146\n",
        "Timeout"
       ]
      },
      {
       "output_type": "stream",
       "stream": "stdout",
       "text": [
        " 72\n",
        "Timeout 594\n",
        "Timeout"
       ]
      },
      {
       "output_type": "stream",
       "stream": "stdout",
       "text": [
        " 888\n",
        "Timeout 771\n",
        "Timeout"
       ]
      },
      {
       "output_type": "stream",
       "stream": "stdout",
       "text": [
        " 725\n",
        "Timeout"
       ]
      },
      {
       "output_type": "stream",
       "stream": "stdout",
       "text": [
        " 315\n",
        "Timeout"
       ]
      },
      {
       "output_type": "stream",
       "stream": "stdout",
       "text": [
        " 38\n",
        "Timeout 946\n",
        "Timeout 327\n",
        "Timeout 872\n",
        "Timeout 297\n",
        "Timeout 891\n",
        "Timeout"
       ]
      },
      {
       "output_type": "stream",
       "stream": "stdout",
       "text": [
        " 250\n",
        "Timeout 0\n",
        "Timeout 949\n",
        "Timeout 522\n",
        "Timeout"
       ]
      },
      {
       "output_type": "stream",
       "stream": "stdout",
       "text": [
        " 492\n",
        "Timeout 206\n",
        "Timeout"
       ]
      },
      {
       "output_type": "stream",
       "stream": "stdout",
       "text": [
        " 579\n",
        "Timeout"
       ]
      },
      {
       "output_type": "stream",
       "stream": "stdout",
       "text": [
        " 600\n",
        "Timeout"
       ]
      },
      {
       "output_type": "stream",
       "stream": "stdout",
       "text": [
        " 27\n",
        "Timeout 269\n",
        "Timeout 816\n",
        "Timeout"
       ]
      },
      {
       "output_type": "stream",
       "stream": "stdout",
       "text": [
        " 439\n",
        "Timeout 735\n",
        "Timeout 617\n",
        "Timeout 436\n",
        "Timeout"
       ]
      },
      {
       "output_type": "stream",
       "stream": "stdout",
       "text": [
        " 780\n",
        "Timeout 156\n",
        "Timeout"
       ]
      },
      {
       "output_type": "stream",
       "stream": "stdout",
       "text": [
        " 455\n",
        "Timeout 726\n",
        "Timeout 296\n",
        "Timeout 777\n",
        "Timeout 973\n",
        "Timeout"
       ]
      },
      {
       "output_type": "stream",
       "stream": "stdout",
       "text": [
        " 311\n",
        "Timeout 517\n",
        "Timeout 502\n",
        "Timeout 96\n",
        "Timeout 554\n",
        "Timeout 88\n",
        "Timeout 912\n",
        "Timeout 884\n",
        "Timeout 56\n",
        "Timeout"
       ]
      },
      {
       "output_type": "stream",
       "stream": "stdout",
       "text": [
        " 786\n",
        "Timeout"
       ]
      },
      {
       "output_type": "stream",
       "stream": "stdout",
       "text": [
        " 789\n",
        "Timeout 308\n",
        "Timeout 551\n",
        "Timeout 682\n",
        "Timeout"
       ]
      },
      {
       "output_type": "stream",
       "stream": "stdout",
       "text": [
        " 948\n",
        "Timeout 235\n",
        "Timeout"
       ]
      },
      {
       "output_type": "stream",
       "stream": "stdout",
       "text": [
        " 449\n",
        "Timeout"
       ]
      },
      {
       "output_type": "stream",
       "stream": "stdout",
       "text": [
        " 404\n",
        "Timeout 961\n",
        "Timeout 663\n",
        "Timeout 675\n",
        "Timeout 226\n",
        "Timeout"
       ]
      },
      {
       "output_type": "stream",
       "stream": "stdout",
       "text": [
        " 411\n",
        "Timeout 843\n",
        "Timeout 208\n",
        "Timeout 855\n",
        "Timeout"
       ]
      },
      {
       "output_type": "stream",
       "stream": "stdout",
       "text": [
        " 7\n",
        "Timeout 496\n",
        "Timeout 361\n",
        "Timeout 260\n",
        "Timeout"
       ]
      },
      {
       "output_type": "stream",
       "stream": "stdout",
       "text": [
        " 859\n",
        "Timeout 301\n",
        "Timeout 533\n",
        "Timeout"
       ]
      },
      {
       "output_type": "stream",
       "stream": "stdout",
       "text": [
        " 981\n",
        "Timeout 25\n",
        "Timeout 413\n",
        "Timeout 531\n",
        "Timeout"
       ]
      },
      {
       "output_type": "stream",
       "stream": "stdout",
       "text": [
        " 265\n",
        "Timeout"
       ]
      },
      {
       "output_type": "stream",
       "stream": "stdout",
       "text": [
        " 608\n",
        "Timeout"
       ]
      },
      {
       "output_type": "stream",
       "stream": "stdout",
       "text": [
        " 572\n",
        "Timeout"
       ]
      },
      {
       "output_type": "stream",
       "stream": "stdout",
       "text": [
        " 546\n",
        "Timeout"
       ]
      },
      {
       "output_type": "stream",
       "stream": "stdout",
       "text": [
        " 360\n",
        "Timeout"
       ]
      },
      {
       "output_type": "stream",
       "stream": "stdout",
       "text": [
        " 605\n",
        "Timeout"
       ]
      },
      {
       "output_type": "stream",
       "stream": "stdout",
       "text": [
        " 221\n",
        "Timeout 172\n",
        "Timeout 575\n",
        "Timeout"
       ]
      },
      {
       "output_type": "stream",
       "stream": "stdout",
       "text": [
        " 63\n",
        "Timeout"
       ]
      },
      {
       "output_type": "stream",
       "stream": "stdout",
       "text": [
        " 11\n",
        "Timeout"
       ]
      },
      {
       "output_type": "stream",
       "stream": "stdout",
       "text": [
        " 132\n",
        "Timeout 729\n",
        "Timeout"
       ]
      },
      {
       "output_type": "stream",
       "stream": "stdout",
       "text": [
        " 182\n",
        "Timeout"
       ]
      },
      {
       "output_type": "stream",
       "stream": "stdout",
       "text": [
        " 934\n",
        "Timeout 183\n",
        "Timeout"
       ]
      },
      {
       "output_type": "stream",
       "stream": "stdout",
       "text": [
        " 134\n",
        "Timeout 177\n",
        "Timeout"
       ]
      },
      {
       "output_type": "stream",
       "stream": "stdout",
       "text": [
        " 281\n",
        "Timeout"
       ]
      },
      {
       "output_type": "stream",
       "stream": "stdout",
       "text": [
        " 727\n",
        "Timeout"
       ]
      },
      {
       "output_type": "stream",
       "stream": "stdout",
       "text": [
        " 613\n",
        "Timeout"
       ]
      },
      {
       "output_type": "stream",
       "stream": "stdout",
       "text": [
        " 128\n",
        "Timeout"
       ]
      },
      {
       "output_type": "stream",
       "stream": "stdout",
       "text": [
        " 898\n",
        "Timeout"
       ]
      },
      {
       "output_type": "stream",
       "stream": "stdout",
       "text": [
        " 770\n",
        "Timeout"
       ]
      },
      {
       "output_type": "stream",
       "stream": "stdout",
       "text": [
        " 251\n",
        "Timeout"
       ]
      },
      {
       "output_type": "stream",
       "stream": "stdout",
       "text": [
        " 291\n",
        "Timeout"
       ]
      },
      {
       "output_type": "stream",
       "stream": "stdout",
       "text": [
        " 643\n",
        "Timeout 861\n",
        "Timeout"
       ]
      },
      {
       "output_type": "stream",
       "stream": "stdout",
       "text": [
        " 319\n",
        "Timeout"
       ]
      },
      {
       "output_type": "stream",
       "stream": "stdout",
       "text": [
        " 412\n",
        "Timeout 806\n",
        "Timeout 32\n",
        "Timeout 438\n",
        "Timeout"
       ]
      },
      {
       "output_type": "stream",
       "stream": "stdout",
       "text": [
        " 914\n",
        "Timeout 67\n",
        "Timeout"
       ]
      },
      {
       "output_type": "stream",
       "stream": "stdout",
       "text": [
        " 627\n",
        "Timeout"
       ]
      },
      {
       "output_type": "stream",
       "stream": "stdout",
       "text": [
        " 701\n",
        "Timeout"
       ]
      },
      {
       "output_type": "stream",
       "stream": "stdout",
       "text": [
        " 764\n",
        "Timeout"
       ]
      },
      {
       "output_type": "stream",
       "stream": "stdout",
       "text": [
        " 741\n",
        "Timeout"
       ]
      },
      {
       "output_type": "stream",
       "stream": "stdout",
       "text": [
        " 102\n",
        "Timeout 278\n",
        "Timeout"
       ]
      },
      {
       "output_type": "stream",
       "stream": "stdout",
       "text": [
        " 581\n",
        "Timeout"
       ]
      },
      {
       "output_type": "stream",
       "stream": "stdout",
       "text": [
        " 759\n",
        "Timeout"
       ]
      },
      {
       "output_type": "stream",
       "stream": "stdout",
       "text": [
        " 757\n",
        "Timeout"
       ]
      },
      {
       "output_type": "stream",
       "stream": "stdout",
       "text": [
        " 237\n",
        "Timeout 69\n",
        "Timeout 900\n",
        "Timeout"
       ]
      },
      {
       "output_type": "stream",
       "stream": "stdout",
       "text": [
        " 733\n",
        "Timeout 740\n",
        "Timeout 679\n",
        "Timeout"
       ]
      },
      {
       "output_type": "stream",
       "stream": "stdout",
       "text": [
        " 75\n",
        "Timeout 867\n",
        "Timeout"
       ]
      },
      {
       "output_type": "stream",
       "stream": "stdout",
       "text": [
        " 597\n",
        "Timeout 459\n",
        "Timeout 351\n",
        "Timeout"
       ]
      },
      {
       "output_type": "stream",
       "stream": "stdout",
       "text": [
        " 804\n",
        "Timeout"
       ]
      },
      {
       "output_type": "stream",
       "stream": "stdout",
       "text": [
        " 805\n",
        "Timeout"
       ]
      },
      {
       "output_type": "stream",
       "stream": "stdout",
       "text": [
        " 384\n",
        "Timeout"
       ]
      },
      {
       "output_type": "stream",
       "stream": "stdout",
       "text": [
        " 852\n",
        "Timeout 886\n",
        "Timeout"
       ]
      },
      {
       "output_type": "stream",
       "stream": "stdout",
       "text": [
        " 31\n",
        "Timeout"
       ]
      },
      {
       "output_type": "stream",
       "stream": "stdout",
       "text": [
        " 528\n",
        "Timeout"
       ]
      },
      {
       "output_type": "stream",
       "stream": "stdout",
       "text": [
        " 225\n",
        "Timeout"
       ]
      },
      {
       "output_type": "stream",
       "stream": "stdout",
       "text": [
        " 774\n",
        "Timeout 357\n",
        "Timeout 104\n",
        "Timeout"
       ]
      },
      {
       "output_type": "stream",
       "stream": "stdout",
       "text": [
        " 35\n",
        "Timeout 870\n",
        "Timeout"
       ]
      },
      {
       "output_type": "stream",
       "stream": "stdout",
       "text": [
        " 822\n",
        "Timeout 467\n",
        "Timeout"
       ]
      },
      {
       "output_type": "stream",
       "stream": "stdout",
       "text": [
        " 400\n",
        "Timeout 802\n",
        "Timeout"
       ]
      },
      {
       "output_type": "stream",
       "stream": "stdout",
       "text": [
        " 181\n",
        "Timeout 140\n",
        "Timeout"
       ]
      },
      {
       "output_type": "stream",
       "stream": "stdout",
       "text": [
        " 501\n",
        "Timeout 720\n",
        "Timeout"
       ]
      },
      {
       "output_type": "stream",
       "stream": "stdout",
       "text": [
        " 396\n",
        "Timeout"
       ]
      },
      {
       "output_type": "stream",
       "stream": "stdout",
       "text": [
        " 141\n",
        "Timeout"
       ]
      },
      {
       "output_type": "stream",
       "stream": "stdout",
       "text": [
        " 939\n",
        "Timeout 895\n",
        "Timeout 440\n",
        "Timeout"
       ]
      },
      {
       "output_type": "stream",
       "stream": "stdout",
       "text": [
        " 242\n",
        "Timeout 189\n",
        "Timeout 310\n",
        "Timeout"
       ]
      },
      {
       "output_type": "stream",
       "stream": "stdout",
       "text": [
        " 940\n",
        "Timeout 292\n",
        "Timeout"
       ]
      },
      {
       "output_type": "stream",
       "stream": "stdout",
       "text": [
        " 9\n",
        "Timeout"
       ]
      },
      {
       "output_type": "stream",
       "stream": "stdout",
       "text": [
        " 443\n",
        "Timeout 252\n",
        "Timeout"
       ]
      },
      {
       "output_type": "stream",
       "stream": "stdout",
       "text": [
        " 532\n",
        "Timeout"
       ]
      },
      {
       "output_type": "stream",
       "stream": "stdout",
       "text": [
        " 876\n",
        "Timeout 742\n",
        "Timeout 647\n",
        "Timeout"
       ]
      },
      {
       "output_type": "stream",
       "stream": "stdout",
       "text": [
        " 312\n",
        "Timeout 808\n",
        "Timeout"
       ]
      },
      {
       "output_type": "stream",
       "stream": "stdout",
       "text": [
        " 382\n",
        "Timeout 570\n",
        "Timeout"
       ]
      },
      {
       "output_type": "stream",
       "stream": "stdout",
       "text": [
        " 326\n",
        "Timeout"
       ]
      },
      {
       "output_type": "stream",
       "stream": "stdout",
       "text": [
        " 213\n",
        "Timeout"
       ]
      },
      {
       "output_type": "stream",
       "stream": "stdout",
       "text": [
        " 905\n",
        "Timeout"
       ]
      },
      {
       "output_type": "stream",
       "stream": "stdout",
       "text": [
        " 258\n",
        "Timeout 538\n",
        "Timeout 481\n",
        "Timeout"
       ]
      },
      {
       "output_type": "stream",
       "stream": "stdout",
       "text": [
        " 646\n",
        "Timeout"
       ]
      },
      {
       "output_type": "stream",
       "stream": "stdout",
       "text": [
        " 282\n",
        "Timeout 730\n",
        "Timeout 687\n",
        "Timeout"
       ]
      },
      {
       "output_type": "stream",
       "stream": "stdout",
       "text": [
        " 91\n",
        "Timeout"
       ]
      },
      {
       "output_type": "stream",
       "stream": "stdout",
       "text": [
        " 458\n",
        "Timeout 478\n",
        "Timeout 840\n",
        "Timeout"
       ]
      },
      {
       "output_type": "stream",
       "stream": "stdout",
       "text": [
        " 48\n",
        "Timeout 427\n",
        "Timeout 314\n",
        "Timeout 938\n",
        "Timeout 791\n",
        "Timeout 215\n",
        "Timeout"
       ]
      },
      {
       "output_type": "stream",
       "stream": "stdout",
       "text": [
        " 630\n",
        "Timeout"
       ]
      },
      {
       "output_type": "stream",
       "stream": "stdout",
       "text": [
        " 655\n",
        "Timeout"
       ]
      },
      {
       "output_type": "stream",
       "stream": "stdout",
       "text": [
        " 561\n",
        "Timeout 71\n",
        "Timeout 990\n",
        "Timeout"
       ]
      },
      {
       "output_type": "stream",
       "stream": "stdout",
       "text": [
        " 202\n",
        "Timeout"
       ]
      },
      {
       "output_type": "stream",
       "stream": "stdout",
       "text": [
        " 80\n",
        "Timeout 433\n",
        "Timeout 94\n",
        "Timeout 290\n",
        "Timeout"
       ]
      },
      {
       "output_type": "stream",
       "stream": "stdout",
       "text": [
        " 168\n",
        "Timeout 665\n",
        "Timeout"
       ]
      },
      {
       "output_type": "stream",
       "stream": "stdout",
       "text": [
        " 844\n",
        "Timeout"
       ]
      },
      {
       "output_type": "stream",
       "stream": "stdout",
       "text": [
        " 513\n",
        "Timeout 68\n",
        "Timeout 526\n",
        "Timeout 510\n",
        "Timeout 576\n",
        "Timeout"
       ]
      },
      {
       "output_type": "stream",
       "stream": "stdout",
       "text": [
        " 499\n",
        "Timeout"
       ]
      },
      {
       "output_type": "stream",
       "stream": "stdout",
       "text": [
        " 482\n",
        "Timeout 12\n",
        "Timeout 380\n",
        "Timeout 446\n",
        "Timeout"
       ]
      },
      {
       "output_type": "stream",
       "stream": "stdout",
       "text": [
        " 858\n",
        "Timeout 869\n",
        "Timeout"
       ]
      },
      {
       "output_type": "stream",
       "stream": "stdout",
       "text": [
        " 567\n",
        "Timeout 692\n",
        "Timeout 97\n",
        "Timeout 815\n",
        "Timeout 82\n",
        "Timeout"
       ]
      },
      {
       "output_type": "stream",
       "stream": "stdout",
       "text": [
        " 879\n",
        "Timeout 343\n",
        "Timeout"
       ]
      },
      {
       "output_type": "stream",
       "stream": "stdout",
       "text": [
        " 452\n",
        "Timeout 198\n",
        "Timeout 272\n",
        "Timeout"
       ]
      },
      {
       "output_type": "stream",
       "stream": "stdout",
       "text": [
        " 89\n",
        "Timeout 639\n",
        "Timeout 980\n",
        "Timeout"
       ]
      },
      {
       "output_type": "stream",
       "stream": "stdout",
       "text": [
        " 484\n",
        "Timeout 972\n",
        "Timeout 447\n",
        "Timeout 50\n",
        "Timeout"
       ]
      },
      {
       "output_type": "stream",
       "stream": "stdout",
       "text": [
        " 960\n",
        "Timeout"
       ]
      },
      {
       "output_type": "stream",
       "stream": "stdout",
       "text": [
        " 109\n",
        "Timeout"
       ]
      },
      {
       "output_type": "stream",
       "stream": "stdout",
       "text": [
        " 997\n",
        "Timeout 676\n",
        "Timeout 105\n",
        "Timeout"
       ]
      },
      {
       "output_type": "stream",
       "stream": "stdout",
       "text": [
        " 486\n",
        "Timeout 444\n",
        "Timeout"
       ]
      },
      {
       "output_type": "stream",
       "stream": "stdout",
       "text": [
        " 927\n",
        "Timeout"
       ]
      },
      {
       "output_type": "stream",
       "stream": "stdout",
       "text": [
        " 818\n",
        "Timeout 955\n",
        "Timeout 848\n",
        "Timeout 236\n",
        "Timeout"
       ]
      },
      {
       "output_type": "stream",
       "stream": "stdout",
       "text": [
        " 556\n",
        "Timeout 26\n",
        "Timeout 913\n",
        "Timeout 381\n",
        "Timeout"
       ]
      },
      {
       "output_type": "stream",
       "stream": "stdout",
       "text": [
        " 768\n",
        "Timeout"
       ]
      },
      {
       "output_type": "stream",
       "stream": "stdout",
       "text": [
        " 902\n",
        "Timeout 6\n",
        "Timeout"
       ]
      },
      {
       "output_type": "stream",
       "stream": "stdout",
       "text": [
        " 356\n",
        "Timeout 154\n",
        "Timeout 114\n",
        "Timeout"
       ]
      },
      {
       "output_type": "stream",
       "stream": "stdout",
       "text": [
        " 471\n",
        "Timeout 294\n",
        "Timeout"
       ]
      },
      {
       "output_type": "stream",
       "stream": "stdout",
       "text": [
        " 623\n",
        "Timeout 245\n",
        "Timeout 718\n",
        "Timeout"
       ]
      },
      {
       "output_type": "stream",
       "stream": "stdout",
       "text": [
        " 638\n",
        "Timeout 864\n",
        "Timeout 506\n",
        "Timeout 144\n",
        "Timeout 614\n",
        "Timeout 60\n",
        "Timeout"
       ]
      },
      {
       "output_type": "stream",
       "stream": "stdout",
       "text": [
        " 180\n",
        "Timeout 274\n",
        "Timeout 610\n",
        "Timeout 420\n",
        "Timeout 667\n",
        "Timeout"
       ]
      },
      {
       "output_type": "stream",
       "stream": "stdout",
       "text": [
        " 664\n",
        "Timeout 745\n",
        "Timeout"
       ]
      },
      {
       "output_type": "stream",
       "stream": "stdout",
       "text": [
        " 364\n",
        "Timeout"
       ]
      },
      {
       "output_type": "stream",
       "stream": "stdout",
       "text": [
        " 703\n",
        "Timeout 788\n",
        "Timeout"
       ]
      },
      {
       "output_type": "stream",
       "stream": "stdout",
       "text": [
        " 962\n",
        "Timeout"
       ]
      },
      {
       "output_type": "stream",
       "stream": "stdout",
       "text": [
        " 674\n",
        "Timeout 637\n",
        "Timeout 145\n",
        "Timeout 612\n",
        "Timeout"
       ]
      },
      {
       "output_type": "stream",
       "stream": "stdout",
       "text": [
        " 772\n",
        "Timeout"
       ]
      },
      {
       "output_type": "stream",
       "stream": "stdout",
       "text": [
        " 907\n",
        "Timeout"
       ]
      },
      {
       "output_type": "stream",
       "stream": "stdout",
       "text": [
        " 59\n",
        "Timeout"
       ]
      },
      {
       "output_type": "stream",
       "stream": "stdout",
       "text": [
        " 329\n",
        "Timeout 921\n",
        "Timeout"
       ]
      },
      {
       "output_type": "stream",
       "stream": "stdout",
       "text": [
        " 399\n",
        "Timeout 173\n",
        "Timeout 901\n",
        "Timeout 232\n",
        "Timeout"
       ]
      },
      {
       "output_type": "stream",
       "stream": "stdout",
       "text": [
        " 603\n",
        "Timeout 524\n",
        "Timeout 828\n",
        "Timeout"
       ]
      },
      {
       "output_type": "stream",
       "stream": "stdout",
       "text": [
        " 249\n",
        "Timeout"
       ]
      },
      {
       "output_type": "stream",
       "stream": "stdout",
       "text": [
        " 559\n",
        "Timeout 711\n",
        "Timeout"
       ]
      },
      {
       "output_type": "stream",
       "stream": "stdout",
       "text": [
        " 383\n",
        "Timeout"
       ]
      },
      {
       "output_type": "stream",
       "stream": "stdout",
       "text": [
        " 748\n",
        "Timeout"
       ]
      },
      {
       "output_type": "stream",
       "stream": "stdout",
       "text": [
        " 21\n",
        "Timeout 425\n",
        "Timeout"
       ]
      },
      {
       "output_type": "stream",
       "stream": "stdout",
       "text": [
        " 753\n",
        "Timeout 479\n",
        "Timeout"
       ]
      },
      {
       "output_type": "stream",
       "stream": "stdout",
       "text": [
        " 387\n",
        "Timeout 302\n",
        "Timeout"
       ]
      },
      {
       "output_type": "stream",
       "stream": "stdout",
       "text": [
        " 696\n",
        "Timeout"
       ]
      },
      {
       "output_type": "stream",
       "stream": "stdout",
       "text": [
        " 461\n",
        "Timeout"
       ]
      },
      {
       "output_type": "stream",
       "stream": "stdout",
       "text": [
        " 732\n",
        "Timeout"
       ]
      },
      {
       "output_type": "stream",
       "stream": "stdout",
       "text": [
        " 151\n",
        "Timeout"
       ]
      },
      {
       "output_type": "stream",
       "stream": "stdout",
       "text": [
        " 365\n",
        "Timeout"
       ]
      },
      {
       "output_type": "stream",
       "stream": "stdout",
       "text": [
        " 359\n",
        "Timeout 29\n",
        "Timeout 878\n",
        "Timeout 933\n",
        "Timeout"
       ]
      },
      {
       "output_type": "stream",
       "stream": "stdout",
       "text": [
        " 619\n",
        "Timeout"
       ]
      },
      {
       "output_type": "stream",
       "stream": "stdout",
       "text": [
        " 947\n",
        "Timeout"
       ]
      },
      {
       "output_type": "stream",
       "stream": "stdout",
       "text": [
        " 595\n",
        "Timeout"
       ]
      },
      {
       "output_type": "stream",
       "stream": "stdout",
       "text": [
        " 1\n",
        "Timeout"
       ]
      },
      {
       "output_type": "stream",
       "stream": "stdout",
       "text": [
        " 527\n",
        "Timeout"
       ]
      },
      {
       "output_type": "stream",
       "stream": "stdout",
       "text": [
        " 62\n",
        "Timeout"
       ]
      },
      {
       "output_type": "stream",
       "stream": "stdout",
       "text": [
        " 653\n",
        "Timeout"
       ]
      },
      {
       "output_type": "stream",
       "stream": "stdout",
       "text": [
        " 966\n"
       ]
      }
     ],
     "prompt_number": 42
    },
    {
     "cell_type": "markdown",
     "metadata": {},
     "source": [
      "Produce histogram of the evacuation time"
     ]
    },
    {
     "cell_type": "code",
     "collapsed": false,
     "input": [
      "if T.count(None)==0:\n",
      "    hist, bins = np.histogram(T, bins=20)\n",
      "    width = 0.7 * (bins[1] - bins[0])\n",
      "    center = (bins[:-1] + bins[1:]) / 2\n",
      "    fig = plt.figure()\n",
      "    plt.bar(center, hist, align='center', width=width)\n",
      "    plt.show()\n",
      "else:\n",
      "    print T.count(None) ,' agents did not reach destination. Increase the number of frames available!'"
     ],
     "language": "python",
     "metadata": {},
     "outputs": [],
     "prompt_number": 29
    },
    {
     "cell_type": "markdown",
     "metadata": {},
     "source": [
      "Produce Flow-Density diagram"
     ]
    },
    {
     "cell_type": "code",
     "collapsed": false,
     "input": [
      "F=[x*y for x, y in zip(V, D)]\n",
      "fig = plt.figure()\n",
      "plt.plot(D,F,'.')\n",
      "plt.show()"
     ],
     "language": "python",
     "metadata": {},
     "outputs": [],
     "prompt_number": 39
    },
    {
     "cell_type": "code",
     "collapsed": false,
     "input": [
      "T.count(None)"
     ],
     "language": "python",
     "metadata": {},
     "outputs": [
      {
       "metadata": {},
       "output_type": "pyout",
       "prompt_number": 40,
       "text": [
        "0"
       ]
      }
     ],
     "prompt_number": 40
    },
    {
     "cell_type": "code",
     "collapsed": false,
     "input": [],
     "language": "python",
     "metadata": {},
     "outputs": []
    }
   ],
   "metadata": {}
  }
 ]
}