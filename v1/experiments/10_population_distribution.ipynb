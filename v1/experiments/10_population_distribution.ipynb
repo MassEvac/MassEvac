{
 "metadata": {
  "name": ""
 },
 "nbformat": 3,
 "nbformat_minor": 0,
 "worksheets": [
  {
   "cells": [
    {
     "cell_type": "code",
     "collapsed": false,
     "input": [
      "import scipy.io\n",
      "import networkx as nx"
     ],
     "language": "python",
     "metadata": {},
     "outputs": [],
     "prompt_number": 47
    },
    {
     "cell_type": "markdown",
     "metadata": {},
     "source": [
      "Load Bristol and convert to networkx"
     ]
    },
    {
     "cell_type": "code",
     "collapsed": false,
     "input": [
      "mat = scipy.io.loadmat('Bristol/DAMsimple.mat')\n",
      "DAM = mat['DAM'].tocoo()\n",
      "\n",
      "mat = scipy.io.loadmat('Bristol/HAMsimple.mat')\n",
      "HAM = mat['HAM'].astype(int).tocoo()\n",
      "\n",
      "mat = scipy.io.loadmat('Bristol/nodesSimple.mat')\n",
      "nodelist = mat['nodes']"
     ],
     "language": "python",
     "metadata": {},
     "outputs": [],
     "prompt_number": 48
    },
    {
     "cell_type": "markdown",
     "metadata": {},
     "source": [
      "Make highway graph and do checks"
     ]
    },
    {
     "cell_type": "code",
     "collapsed": false,
     "input": [
      "HG=nx.DiGraph(HAM,format='weighted_adjacency_matrix')\n",
      "nx.is_directed(HG)"
     ],
     "language": "python",
     "metadata": {},
     "outputs": [
      {
       "metadata": {},
       "output_type": "pyout",
       "prompt_number": 49,
       "text": [
        "True"
       ]
      }
     ],
     "prompt_number": 49
    },
    {
     "cell_type": "code",
     "collapsed": false,
     "input": [
      "HG.number_of_nodes()==len(nodelist)"
     ],
     "language": "python",
     "metadata": {},
     "outputs": [
      {
       "metadata": {},
       "output_type": "pyout",
       "prompt_number": 50,
       "text": [
        "True"
       ]
      }
     ],
     "prompt_number": 50
    },
    {
     "cell_type": "markdown",
     "metadata": {},
     "source": [
      "Generate a background image of the map"
     ]
    },
    {
     "cell_type": "code",
     "collapsed": false,
     "input": [
      "big=[(u,v) for (u,v,d) in HG.edges(data=True) if d['weight'] < 3.5]\n",
      "sml=[(u,v) for (u,v,d) in HG.edges(data=True) if d['weight'] > 3.5]"
     ],
     "language": "python",
     "metadata": {},
     "outputs": [],
     "prompt_number": 51
    },
    {
     "cell_type": "code",
     "collapsed": false,
     "input": [
      "l,r=min(nodelist[:,0]),max(nodelist[:,0])\n",
      "b,t=min(nodelist[:,1]),max(nodelist[:,1])\n",
      "\n",
      "fig = plt.figure()\n",
      "ax = plt.axes(xlim=(l, r), ylim=(b, t))\n",
      "nx.draw_networkx_edges(HG,pos=nodelist, arrows=False, edgelist=big, alpha=1.0)\n",
      "nx.draw_networkx_edges(HG,pos=nodelist, arrows=False, edgelist=sml, alpha=0.2)\n",
      "extent = ax.get_window_extent().transformed(fig.dpi_scale_trans.inverted())\n",
      "savefig('map.png', bbox_inches=extent)\n",
      "fig\n",
      "plt.close(fig) # Change close to show in order to see the image"
     ],
     "language": "python",
     "metadata": {},
     "outputs": [],
     "prompt_number": 52
    },
    {
     "cell_type": "code",
     "collapsed": false,
     "input": [
      "plt.show()"
     ],
     "language": "python",
     "metadata": {},
     "outputs": [],
     "prompt_number": 53
    },
    {
     "cell_type": "markdown",
     "metadata": {},
     "source": [
      "Function to get the node number nearest to a prescribed node\n"
     ]
    },
    {
     "cell_type": "code",
     "collapsed": false,
     "input": [
      "def nearest_node(x,y,nodelist):\n",
      "    distance=sqrt(square(nodelist[:,0]-x)+square(nodelist[:,1]-y))\n",
      "    nearest=min(range(len(distance)), key=distance.__getitem__)\n",
      "    return nearest"
     ],
     "language": "python",
     "metadata": {},
     "outputs": [],
     "prompt_number": 54
    },
    {
     "cell_type": "code",
     "collapsed": false,
     "input": [
      "mat = scipy.io.loadmat('Bristol/population.mat')\n",
      "population = mat['result']\n",
      "edges = len(DAM.data)\n",
      "\n",
      "# List to record the total length of links per node on population grid\n",
      "TL = [0]*len(population)\n",
      "\n",
      "# List to record which node on population grid the link is nearest to\n",
      "NP = [None]*edges\n",
      "\n",
      "# Determine the nearest node on population grid for every link\n",
      "for i in range(edges):\n",
      "    ri = DAM.row[i]\n",
      "    ci = DAM.col[i]\n",
      "    di = DAM.data[i]\n",
      "    midpoint = (nodelist[ri,:]+nodelist[ci,:])/2\n",
      "    pi = nearest_node(midpoint[0],midpoint[1],population[:,0:2])\n",
      "    NP[i] = pi\n",
      "    TL[pi] += di\n",
      "    \n",
      "# List to record the percentage of total population per edge\n",
      "LP = [None]*edges\n",
      "\n",
      "# This could be the total population density depending on the data used\n",
      "used_nodes = unique(NP)\n",
      "total_population = sum(population[used_nodes,2])\n",
      "\n",
      "# Now distribute the population proportional to the length of link\n",
      "for i in range(edges):\n",
      "    di = DAM.data[i]\n",
      "    pi = NP[i]\n",
      "    LP[i] = population[pi,2]/total_population * di/TL[pi]"
     ],
     "language": "python",
     "metadata": {},
     "outputs": [],
     "prompt_number": 55
    },
    {
     "cell_type": "markdown",
     "metadata": {},
     "source": [
      "Function to get population distribution"
     ]
    },
    {
     "cell_type": "code",
     "collapsed": false,
     "input": [
      "fig = plt.figure()\n",
      "axs = plt.axes(xlim=(l, r), ylim=(b, t))\n",
      "plt.scatter(population[used_nodes,0],population[used_nodes,1],c=population[used_nodes,2])\n",
      "plt.colorbar()\n",
      "plt.close(fig)\n",
      "fig"
     ],
     "language": "python",
     "metadata": {},
     "outputs": [
      {
       "metadata": {},
       "output_type": "pyout",
       "png": "[encoded data removed]",
       "prompt_number": 56,
       "text": [
        "<matplotlib.figure.Figure at 0x10c8b2e10>"
       ]
      }
     ],
     "prompt_number": 56
    },
    {
     "cell_type": "markdown",
     "metadata": {},
     "source": [
      "Determine shortest paths by reversing the direction of the paths (from the transpose of the graph)"
     ]
    },
    {
     "cell_type": "code",
     "collapsed": false,
     "input": [
      "# Determine the index of destination node\n",
      "dest=nearest_node(-2.56718,51.5412,nodelist)\n",
      "print 'Our destination co-ordinates are',nodelist[dest,:]\n",
      "\n",
      "# Determine the transpose of DAM to use \n",
      "DAMT = DAM.T\n",
      "DGT=nx.DiGraph(DAMT)\n",
      "DG=nx.DiGraph(DAM)\n",
      "\n",
      "# Calculate a single SINK shortest path\n",
      "path=nx.single_source_dijkstra_path(DGT,dest)\n",
      "\n",
      "# Determine the links connected to the node\n",
      "destEdges=list(find(HAM.col==dest))\n",
      "\n",
      "# Returns true if the nodes that come before the destination nodes match\n",
      "print 'Nodes match:',array(DGT.edges(dest))[:,1]==HAM.row[destEdges],array(DGT.edges(dest))[:,1],HAM.row[destEdges]"
     ],
     "language": "python",
     "metadata": {},
     "outputs": [
      {
       "output_type": "stream",
       "stream": "stdout",
       "text": [
        "Our destination co-ordinates are [ -2.5667524  51.5415639]\n",
        "Nodes match:"
       ]
      },
      {
       "output_type": "stream",
       "stream": "stdout",
       "text": [
        " [ True  True] [20531 20892] [20531 20892]\n"
       ]
      }
     ],
     "prompt_number": 57
    },
    {
     "cell_type": "markdown",
     "metadata": {},
     "source": [
      "Calculate the area of the edges"
     ]
    },
    {
     "cell_type": "code",
     "collapsed": false,
     "input": [
      "def area():\n",
      "    # Standard with of a lane\n",
      "    w = 2\n",
      "    \n",
      "    # Widths of the 7 types of highways\n",
      "    width = [3.0*w, 2.0*w, 2.0*w, 1.5*w, 1.0*w, 1.0*w, 0.5*w]\n",
      "    \n",
      "    # Initialise area of edges\n",
      "    A = [None] * edges\n",
      "    \n",
      "    # Assign the widths to the edges\n",
      "    for i in range(edges):\n",
      "        A[i] = DAM.data[i]*width[HAM.data[i]-1]\n",
      "        if i in destEdges:\n",
      "            A[i] = n\n",
      "\n",
      "    return A"
     ],
     "language": "python",
     "metadata": {},
     "outputs": [],
     "prompt_number": 58
    },
    {
     "cell_type": "markdown",
     "metadata": {},
     "source": [
      "Initialise an edge number matrix"
     ]
    },
    {
     "cell_type": "code",
     "collapsed": false,
     "input": [
      "# Initialise matrix with edge number\n",
      "EM = scipy.sparse.lil_matrix(shape(DAM),dtype=int)\n",
      "\n",
      "# Number of edges in EM is always going to be edges-1 because the first edge is 0\n",
      "for i in range(edges):\n",
      "    EM[DAM.row[i],DAM.col[i]]=i"
     ],
     "language": "python",
     "metadata": {},
     "outputs": [],
     "prompt_number": 59
    },
    {
     "cell_type": "markdown",
     "metadata": {},
     "source": [
      "This should form the basis for calculation of speed from density, simply use $velocity = m*density + c$"
     ]
    },
    {
     "cell_type": "code",
     "collapsed": false,
     "input": [
      "# Maximum and minimum velocity\n",
      "vMax = 1.34\n",
      "vMin = 0.01\n",
      "\n",
      "# Maximum and minimum density\n",
      "pMax = 7.00\n",
      "pMin = 0.00\n",
      "\n",
      "# Speed up the simulation by factor of this\n",
      "speedup = 10\n",
      "\n",
      "# Calculate the gradient and the offset of the Speed-Density chart\n",
      "m = (vMax - vMin)/(pMin - pMax)\n",
      "c = vMin - m*pMax\n",
      "\n",
      "def get_velocity(p):\n",
      "    # Calculate velocity from the input density within the boundary limits\n",
      "    v = m * p + c\n",
      "    if v > vMax:\n",
      "        v = vMax\n",
      "    elif v < vMin:\n",
      "        v = vMin\n",
      "    return v * speedup"
     ],
     "language": "python",
     "metadata": {},
     "outputs": [],
     "prompt_number": 65
    },
    {
     "cell_type": "markdown",
     "metadata": {},
     "source": [
      "Function to initialise agent properties"
     ]
    },
    {
     "cell_type": "code",
     "collapsed": false,
     "input": [
      "# Function that rounds by using probability based on decimal places of the number\n",
      "# E.g. 6.7 has a 70% probability of being rounded to 7 and 30% probability of being rounded to 6\n",
      "def prob_round(x):\n",
      "    sign = np.sign(x)\n",
      "    x = abs(x)\n",
      "    is_up = random.random() < x-int(x)\n",
      "    round_func = math.ceil if is_up else math.floor\n",
      "    return int(sign * round_func(x))"
     ],
     "language": "python",
     "metadata": {},
     "outputs": [],
     "prompt_number": 66
    },
    {
     "cell_type": "code",
     "collapsed": false,
     "input": [
      "def initialise_position(LP):\n",
      "    from random import uniform, shuffle\n",
      "    \n",
      "    # Simply produce a list of agents so that they can be dealt with in this order\n",
      "    S = range(n)\n",
      "\n",
      "    # Position of the agents\n",
      "    P = zeros((n,2))\n",
      "\n",
      "    # Location of along the link (min = 0, max = DAM.data[thisEdge])\n",
      "    L = [None]*n    \n",
      "    \n",
      "    # Edge that the agent is on\n",
      "    E = [None]*n\n",
      "    \n",
      "    # Time at which destination reached\n",
      "    T = [None]*n\n",
      "\n",
      "    # Velocity array\n",
      "    V = [0]*n\n",
      "\n",
      "    # Corresponding Density array\n",
      "    D = [0]*n    \n",
      "    \n",
      "    # Matrix with number of agents\n",
      "    N = [0]*edges\n",
      "    \n",
      "    i = 0\n",
      "    e = 0    \n",
      "    \n",
      "    randomEdges = range(edges)\n",
      "    \n",
      "    while i < n:\n",
      "        # Randomly determine an edge        \n",
      "        shuffle(randomEdges)\n",
      "        for thisEdge in randomEdges:\n",
      "            \n",
      "            # This is how many agents are supposed to be on this edge\n",
      "            x = prob_round(LP[thisEdge]*n)\n",
      "    \n",
      "            # If the total number of agents for this link exceeds the total allowed to be created\n",
      "            if i + x > n:\n",
      "                x = n - i\n",
      "            \n",
      "            for j in range(x):\n",
      "                # Determine the node that the agent is travelling from\n",
      "                ci = DAM.col[thisEdge]\n",
      "                try:  \n",
      "                    # Check to see if the agent can actually reach destination from our node\n",
      "                    mypath=path[ci] # If this does not throw KeyError then all is good, proceed\n",
      "                    \n",
      "                    # Agent is on this edge\n",
      "                    E[i] = thisEdge\n",
      "                    \n",
      "                    # Randomly assign a position of the agent on the edge\n",
      "                    L[i] = uniform(0,DAM.data[thisEdge])    \n",
      "        \n",
      "                    # Calculate the position co-ordinates\n",
      "                    di = DAM.data[thisEdge]\n",
      "                    ri = DAM.row[thisEdge]\n",
      "                    Pr = L[i]/di            \n",
      "                    thisNode = nodelist[ci,:]\n",
      "                    thatNode = nodelist[ri,:]\n",
      "                    P[i,:] = thisNode + (thatNode - thisNode)*Pr\n",
      "                    \n",
      "                    # Add to the number of agents on that link\n",
      "                    N[thisEdge] += 1 # In the future, I will need to check capacity of the link before adding the agent\n",
      "        \n",
      "                    # Count the number of agents created\n",
      "                    i += 1\n",
      "            \n",
      "                except KeyError:\n",
      "                    # Count the number of agents that had to be re-created\n",
      "                    e += 1\n",
      "\n",
      "            # If we have the specified number of agents, stop\n",
      "            if i==n:\n",
      "                break\n",
      "\n",
      "    print e,', ',e/float(i)*100.0,'% of agents had to be re-created!'\n",
      "    \n",
      "    # Construct a profile of journey time based on number of agents on various links\n",
      "    JT=nx.DiGraph()\n",
      "    for i in range(edges):\n",
      "        ci=DAM.col[i]\n",
      "        ri=DAM.row[i] \n",
      "        di=DAM.data[i] \n",
      "        density = N[i]/A[i]\n",
      "        velocity = get_velocity(density)*speedup\n",
      "        JT.add_edge(ci,ri,{'weight':di/velocity})\n",
      "    \n",
      "    return S, P, L, E, T, V, D, N, JT"
     ],
     "language": "python",
     "metadata": {},
     "outputs": [],
     "prompt_number": 67
    },
    {
     "cell_type": "markdown",
     "metadata": {},
     "source": [
      "Function to get current position of agents"
     ]
    },
    {
     "cell_type": "code",
     "collapsed": false,
     "input": [
      "def update_position(S, P, L, E, T, V, D, N, JT, t):\n",
      "    global path,last_congested\n",
      "    # Shuffle the order of the agents around\n",
      "    random.shuffle(S)\n",
      "    for i in S:\n",
      "        # If this agent hasn't finished its journey, proceed\n",
      "        if T[i]==None:\n",
      "            thisEdge = E[i]\n",
      "            D[i] = N[thisEdge]/A[thisEdge]\n",
      "            V[i] = get_velocity(D[i])\n",
      "            L[i] += V[i] # Move the agent              \n",
      "            di = DAM.data[thisEdge]            \n",
      "            ci = DAM.col[thisEdge]\n",
      "            ri = DAM.row[thisEdge]\n",
      "            Pr = L[i]/di # Percentage progress along the link (1 = completed)\n",
      "            # If the agent travels beyond the length of the link            \n",
      "            while Pr > 1:\n",
      "                next_ci = path[ci][-2]\n",
      "                if next_ci==dest:\n",
      "                    # Agent has reached its destination, record time\n",
      "                    T[i] = t\n",
      "                    L[i] = 1\n",
      "                    Pr = 1\n",
      "                else:\n",
      "                    # Assign new nodes\n",
      "                    ri = ci\n",
      "                    ci = next_ci\n",
      "\n",
      "                    # Subtract agent away from previous edge\n",
      "                    N[thisEdge] -= 1\n",
      "                    \n",
      "                    # Determine the index of new edge\n",
      "                    E[i] = thisEdge = EM[ri,ci]\n",
      "\n",
      "                    # Add agent to the new edge\n",
      "                    N[thisEdge] += 1                    \n",
      "                    \n",
      "                    # Calculate the new density\n",
      "                    D[i] = N[thisEdge]/A[thisEdge]\n",
      "\n",
      "                    # If the next edge has vacancy then progress to the next edge\n",
      "                    if D[i]>pMax and random.random()<0.01: # 1% chance of rerouting\n",
      "                        print 'Congestion, rerouting...',D[i], thisEdge\n",
      "                        #path=nx.single_source_dijkstra_path(JT,dest)\n",
      "                    \n",
      "                    # Determine the amount of time remaining from last run\n",
      "                    residual_dist = L[i] - di\n",
      "                    residual_time = residual_dist/V[i]\n",
      "                                        \n",
      "                    # Calculate new velocity\n",
      "                    V[i] = get_velocity(D[i])\n",
      "                                        \n",
      "                    # Assign the new distance taking into account the remaining time\n",
      "                    L[i] = V[i] * residual_time\n",
      "                    \n",
      "                    # Calculate new progress\n",
      "                    di = DAM.data[thisEdge]\n",
      "                    Pr = L[i]/di\n",
      "                                        \n",
      "            # Determine new position        \n",
      "            thisNode = nodelist[ci,:]\n",
      "            thatNode = nodelist[ri,:]\n",
      "            P[i,:] = thisNode + (thatNode - thisNode)*Pr\n",
      "            \n",
      "            # Update journey time based on velocity on this link\n",
      "            JT[ci][ri]['weight']=di/V[i]            \n",
      "    return S, P, L, E, T, V, D, N, JT"
     ],
     "language": "python",
     "metadata": {},
     "outputs": [],
     "prompt_number": 68
    },
    {
     "cell_type": "markdown",
     "metadata": {},
     "source": [
      "Now animate the dots"
     ]
    },
    {
     "cell_type": "code",
     "collapsed": false,
     "input": [
      "# Number of agents\n",
      "n=1000\n",
      "\n",
      "A = area()\n",
      "\n",
      "# Initialise these variables\n",
      "S0,P0,L0,E0,T0,V0,D0,N0,JT0 = initialise_position(LP)\n",
      "\n",
      "# Cache these variables\n",
      "import pickle\n",
      "file = open('cache.var', 'w')\n",
      "pickle.dump([S0,P0,L0,E0,T0,V0,D0,N0,JT0], file)\n",
      "file.close()"
     ],
     "language": "python",
     "metadata": {},
     "outputs": [
      {
       "output_type": "stream",
       "stream": "stdout",
       "text": [
        "34 ,  3.4 % of agents had to be re-created!\n"
       ]
      },
      {
       "output_type": "stream",
       "stream": "stdout",
       "text": [
        "26 ,  2.6 % of agents had to be re-created!\n"
       ]
      }
     ],
     "prompt_number": 69
    },
    {
     "cell_type": "markdown",
     "metadata": {},
     "source": [
      "Load cache variables"
     ]
    },
    {
     "cell_type": "code",
     "collapsed": false,
     "input": [
      "# Load cache\n",
      "import pickle\n",
      "file = open('cache.var', 'r')\n",
      "S0,P0,L0,E0,T0,V0,D0,N0,JT0=pickle.load(file)\n",
      "file.close()"
     ],
     "language": "python",
     "metadata": {},
     "outputs": [],
     "prompt_number": 70
    },
    {
     "cell_type": "markdown",
     "metadata": {},
     "source": [
      "Plot population distribution map"
     ]
    },
    {
     "cell_type": "code",
     "collapsed": false,
     "input": [
      "fig = plt.figure()\n",
      "axs = plt.axes(xlim=(l, r), ylim=(b, t))\n",
      "plt.scatter(P0[:,0],P0[:,1],c=E0)\n",
      "plt.close(fig)\n",
      "fig"
     ],
     "language": "python",
     "metadata": {},
     "outputs": [
      {
       "metadata": {},
       "output_type": "pyout",
       "png": "[encoded data removed]",
       "prompt_number": 71,
       "text": [
        "<matplotlib.figure.Figure at 0x1075d8b90>"
       ]
      }
     ],
     "prompt_number": 71
    },
    {
     "cell_type": "code",
     "collapsed": false,
     "input": [
      "\"\"\"\n",
      "Matplotlib Animation Example\n",
      "\n",
      "author: Jake Vanderplas\n",
      "email: vanderplas@astro.washington.edu\n",
      "website: http://jakevdp.github.com\n",
      "license: BSD\n",
      "Please feel free to use and modify this, but keep the above information. Thanks!\n",
      "\"\"\"\n",
      "\n",
      "import numpy as np\n",
      "from matplotlib import animation\n",
      "from scipy.misc import imread\n",
      "\n",
      "datafile = ('map.png')\n",
      "img = imread(datafile)\n",
      "\n",
      "# Number of frames\n",
      "f = 200\n",
      "\n",
      "# First set up the figure, the axis, and the plot element we want to animate\n",
      "# plt.ion()\n",
      "fig = plt.figure()\n",
      "axs = plt.axes(xlim=(l, r), ylim=(b, t))\n",
      "\n",
      "# Initialise these variables\n",
      "S,P,L,E,T,V,D,N,JT = S0[:],P0[:],L0[:],E0[:],T0[:],V0[:],D0[:],N0[:],JT0.copy()\n",
      "\n",
      "cm = plt.cm.get_cmap('jet')\n",
      "\n",
      "# Initialise the plots\n",
      "point = axs.scatter([0],[0],c=[0],marker='o',cmap=cm,alpha=0.5)\n",
      "trail, = axs.plot([], [], 'g-')  \n",
      "\n",
      "plt.colorbar(point)\n",
      "\n",
      "# Tolerance\n",
      "tol = 0.001\n",
      "\n",
      "# initialization function: plot the background of each frame\n",
      "def init():\n",
      "    plt.imshow(img, zorder=0, extent=[l, r, b, t])    \n",
      "    return 0,\n",
      "\n",
      "# animation function.  This is called sequentially\n",
      "def animate(i):\n",
      "    global S, P, L, E, T, V, D, N, JT\n",
      "    \n",
      "    lP = P[:]\n",
      "    \n",
      "    S, P, L, E, T, V, D, N, JT = update_position(S, P, L, E, T, V, D, N, JT, i)\n",
      "    \n",
      "    thisNode=DAM.row[E[0]]\n",
      "    M=nodelist[path[thisNode],:]\n",
      "    \n",
      "    # Update the agent location graph\n",
      "    point.set_offsets(P)\n",
      "    # Update the color array\n",
      "    point.set_array(array(D))      \n",
      "    # Update the colorbar limits\n",
      "    point.set_clim(min(D),max(D))\n",
      "    \n",
      "    trail.set_data(M[:,0], M[:,1])\n",
      "    \n",
      "    if i%10==0:\n",
      "        print 'Frame',i,'Agents',n-T.count(None)\n",
      "\n",
      "    return 0,\n",
      "\n",
      "# call the animator.  blit=True means only re-draw the parts that have changed.\n",
      "anim = animation.FuncAnimation(fig, animate, init_func=init,\n",
      "                               frames=f, interval = 1,blit=False)\n",
      "\n",
      "# save the animation as an mp4.  This requires ffmpeg or mencoder to be\n",
      "# installed.  The extra_args ensure that the x264 codec is used, so that\n",
      "# the video can be embedded in html5.  You may need to adjust this for\n",
      "# your system: for more information, see\n",
      "# http://matplotlib.sourceforge.net/api/animation_api.html\n",
      "\n",
      "videoFile = 'bristol-pop-dist-100.mp4'\n",
      "anim.save(videoFile, fps=20,  extra_args=['-vcodec', 'libx264', '-pix_fmt', 'yuv420p'])\n",
      "\n",
      "# plt.ioff()\n",
      "plt.close('all')"
     ],
     "language": "python",
     "metadata": {},
     "outputs": [
      {
       "output_type": "stream",
       "stream": "stdout",
       "text": [
        "Frame 0 Agents 0\n",
        "Frame"
       ]
      },
      {
       "output_type": "stream",
       "stream": "stdout",
       "text": [
        " 1 Agents 0\n",
        "Frame"
       ]
      },
      {
       "output_type": "stream",
       "stream": "stdout",
       "text": [
        " 2 Agents 0\n",
        "Frame"
       ]
      },
      {
       "output_type": "stream",
       "stream": "stdout",
       "text": [
        " 3 Agents 0\n",
        "Frame"
       ]
      },
      {
       "output_type": "stream",
       "stream": "stdout",
       "text": [
        " 4 Agents 0\n",
        "Frame"
       ]
      },
      {
       "output_type": "stream",
       "stream": "stdout",
       "text": [
        " 5 Agents 0\n",
        "Frame"
       ]
      },
      {
       "output_type": "stream",
       "stream": "stdout",
       "text": [
        " 6 Agents 0\n",
        "Frame"
       ]
      },
      {
       "output_type": "stream",
       "stream": "stdout",
       "text": [
        " 7 Agents 0\n",
        "Frame"
       ]
      },
      {
       "output_type": "stream",
       "stream": "stdout",
       "text": [
        " 8 Agents 0\n",
        "Frame"
       ]
      },
      {
       "output_type": "stream",
       "stream": "stdout",
       "text": [
        " 9 Agents 0\n",
        "Frame"
       ]
      },
      {
       "output_type": "stream",
       "stream": "stdout",
       "text": [
        " 10 Agents 0\n",
        "Frame"
       ]
      },
      {
       "output_type": "stream",
       "stream": "stdout",
       "text": [
        " 11 Agents 0\n",
        "Frame"
       ]
      },
      {
       "output_type": "stream",
       "stream": "stdout",
       "text": [
        " 12 Agents 0\n",
        "Frame"
       ]
      },
      {
       "output_type": "stream",
       "stream": "stdout",
       "text": [
        " 13 Agents 0\n",
        "Frame"
       ]
      },
      {
       "output_type": "stream",
       "stream": "stdout",
       "text": [
        " 14 Agents 0\n",
        "Frame"
       ]
      },
      {
       "output_type": "stream",
       "stream": "stdout",
       "text": [
        " 15 Agents 0\n",
        "Frame"
       ]
      },
      {
       "output_type": "stream",
       "stream": "stdout",
       "text": [
        " 16 Agents 0\n",
        "Frame"
       ]
      },
      {
       "output_type": "stream",
       "stream": "stdout",
       "text": [
        " 17 Agents 0\n",
        "Frame"
       ]
      },
      {
       "output_type": "stream",
       "stream": "stdout",
       "text": [
        " 18 Agents 0\n",
        "Frame"
       ]
      },
      {
       "output_type": "stream",
       "stream": "stdout",
       "text": [
        " 19 Agents 0\n",
        "Frame"
       ]
      },
      {
       "output_type": "stream",
       "stream": "stdout",
       "text": [
        " 20 Agents 0\n",
        "Frame"
       ]
      },
      {
       "output_type": "stream",
       "stream": "stdout",
       "text": [
        " 21 Agents 0\n",
        "Frame"
       ]
      },
      {
       "output_type": "stream",
       "stream": "stdout",
       "text": [
        " 22 Agents 0\n",
        "Frame"
       ]
      },
      {
       "output_type": "stream",
       "stream": "stdout",
       "text": [
        " 23 Agents 0\n",
        "Frame"
       ]
      },
      {
       "output_type": "stream",
       "stream": "stdout",
       "text": [
        " 24 Agents 0\n",
        "Frame"
       ]
      },
      {
       "output_type": "stream",
       "stream": "stdout",
       "text": [
        " 25 Agents 0\n",
        "Frame"
       ]
      },
      {
       "output_type": "stream",
       "stream": "stdout",
       "text": [
        " 26 Agents 0\n",
        "Frame"
       ]
      },
      {
       "output_type": "stream",
       "stream": "stdout",
       "text": [
        " 27 Agents 1\n",
        "Frame"
       ]
      },
      {
       "output_type": "stream",
       "stream": "stdout",
       "text": [
        " 28 Agents 1\n",
        "Frame"
       ]
      },
      {
       "output_type": "stream",
       "stream": "stdout",
       "text": [
        " 29 Agents 1\n",
        "Frame"
       ]
      },
      {
       "output_type": "stream",
       "stream": "stdout",
       "text": [
        " 30 Agents 1\n",
        "Frame"
       ]
      },
      {
       "output_type": "stream",
       "stream": "stdout",
       "text": [
        " 31 Agents 1\n",
        "Frame"
       ]
      },
      {
       "output_type": "stream",
       "stream": "stdout",
       "text": [
        " 32 Agents 1\n",
        "Frame"
       ]
      },
      {
       "output_type": "stream",
       "stream": "stdout",
       "text": [
        " 33 Agents 1\n",
        "Frame"
       ]
      },
      {
       "output_type": "stream",
       "stream": "stdout",
       "text": [
        " 34 Agents 1\n",
        "Frame"
       ]
      },
      {
       "output_type": "stream",
       "stream": "stdout",
       "text": [
        " 35 Agents 1\n",
        "Frame"
       ]
      },
      {
       "output_type": "stream",
       "stream": "stdout",
       "text": [
        " 36 Agents 1\n",
        "Frame"
       ]
      },
      {
       "output_type": "stream",
       "stream": "stdout",
       "text": [
        " 37 Agents 1\n",
        "Frame"
       ]
      },
      {
       "output_type": "stream",
       "stream": "stdout",
       "text": [
        " 38 Agents 1\n",
        "Frame"
       ]
      },
      {
       "output_type": "stream",
       "stream": "stdout",
       "text": [
        " 39 Agents 1\n",
        "Frame"
       ]
      },
      {
       "output_type": "stream",
       "stream": "stdout",
       "text": [
        " 40 Agents 1\n",
        "Frame"
       ]
      },
      {
       "output_type": "stream",
       "stream": "stdout",
       "text": [
        " 41 Agents 1\n",
        "Frame"
       ]
      },
      {
       "output_type": "stream",
       "stream": "stdout",
       "text": [
        " 42 Agents 1\n",
        "Frame"
       ]
      },
      {
       "output_type": "stream",
       "stream": "stdout",
       "text": [
        " 43 Agents 2\n",
        "Frame"
       ]
      },
      {
       "output_type": "stream",
       "stream": "stdout",
       "text": [
        " 44 Agents 2\n",
        "Frame"
       ]
      },
      {
       "output_type": "stream",
       "stream": "stdout",
       "text": [
        " 45 Agents 2\n",
        "Frame"
       ]
      },
      {
       "output_type": "stream",
       "stream": "stdout",
       "text": [
        " 46 Agents 2\n",
        "Frame"
       ]
      },
      {
       "output_type": "stream",
       "stream": "stdout",
       "text": [
        " 47 Agents 2\n",
        "Frame"
       ]
      },
      {
       "output_type": "stream",
       "stream": "stdout",
       "text": [
        " 48 Agents 2\n",
        "Frame"
       ]
      },
      {
       "output_type": "stream",
       "stream": "stdout",
       "text": [
        " 49 Agents 2\n",
        "Frame"
       ]
      },
      {
       "output_type": "stream",
       "stream": "stdout",
       "text": [
        " 50 Agents 2\n",
        "Frame"
       ]
      },
      {
       "output_type": "stream",
       "stream": "stdout",
       "text": [
        " 51 Agents 2\n",
        "Frame"
       ]
      },
      {
       "output_type": "stream",
       "stream": "stdout",
       "text": [
        " 52 Agents 2\n",
        "Frame"
       ]
      },
      {
       "output_type": "stream",
       "stream": "stdout",
       "text": [
        " 53 Agents 2\n",
        "Frame"
       ]
      },
      {
       "output_type": "stream",
       "stream": "stdout",
       "text": [
        " 54 Agents 2\n",
        "Frame"
       ]
      },
      {
       "output_type": "stream",
       "stream": "stdout",
       "text": [
        " 55 Agents 2\n",
        "Frame"
       ]
      },
      {
       "output_type": "stream",
       "stream": "stdout",
       "text": [
        " 56 Agents 2\n",
        "Frame"
       ]
      },
      {
       "output_type": "stream",
       "stream": "stdout",
       "text": [
        " 57 Agents 2\n",
        "Frame"
       ]
      },
      {
       "output_type": "stream",
       "stream": "stdout",
       "text": [
        " 58 Agents 2\n",
        "Frame"
       ]
      },
      {
       "output_type": "stream",
       "stream": "stdout",
       "text": [
        " 59 Agents 2\n",
        "Frame"
       ]
      },
      {
       "output_type": "stream",
       "stream": "stdout",
       "text": [
        " 60 Agents 2\n",
        "Frame"
       ]
      },
      {
       "output_type": "stream",
       "stream": "stdout",
       "text": [
        " 61 Agents 2\n",
        "Frame"
       ]
      },
      {
       "output_type": "stream",
       "stream": "stdout",
       "text": [
        " 62 Agents 2\n",
        "Frame"
       ]
      },
      {
       "output_type": "stream",
       "stream": "stdout",
       "text": [
        " 63 Agents 2\n",
        "Frame"
       ]
      },
      {
       "output_type": "stream",
       "stream": "stdout",
       "text": [
        " 64 Agents 3\n",
        "Frame"
       ]
      },
      {
       "output_type": "stream",
       "stream": "stdout",
       "text": [
        " 65 Agents 3\n",
        "Frame"
       ]
      },
      {
       "output_type": "stream",
       "stream": "stdout",
       "text": [
        " 66 Agents 3\n",
        "Frame"
       ]
      },
      {
       "output_type": "stream",
       "stream": "stdout",
       "text": [
        " 67 Agents 3\n",
        "Frame"
       ]
      },
      {
       "output_type": "stream",
       "stream": "stdout",
       "text": [
        " 68 Agents 4\n",
        "Frame"
       ]
      },
      {
       "output_type": "stream",
       "stream": "stdout",
       "text": [
        " 69 Agents 4\n",
        "Frame"
       ]
      },
      {
       "output_type": "stream",
       "stream": "stdout",
       "text": [
        " 70 Agents 5\n",
        "Frame"
       ]
      },
      {
       "output_type": "stream",
       "stream": "stdout",
       "text": [
        " 71 Agents 6\n",
        "Frame"
       ]
      },
      {
       "output_type": "stream",
       "stream": "stdout",
       "text": [
        " 72 Agents 6\n",
        "Frame"
       ]
      },
      {
       "output_type": "stream",
       "stream": "stdout",
       "text": [
        " 73 Agents 6\n",
        "Frame"
       ]
      },
      {
       "output_type": "stream",
       "stream": "stdout",
       "text": [
        " 74 Agents 6\n",
        "Frame"
       ]
      },
      {
       "output_type": "stream",
       "stream": "stdout",
       "text": [
        " 75 Agents 6\n",
        "Frame"
       ]
      },
      {
       "output_type": "stream",
       "stream": "stdout",
       "text": [
        " 76 Agents 6\n",
        "Frame"
       ]
      },
      {
       "output_type": "stream",
       "stream": "stdout",
       "text": [
        " 77 Agents 6\n",
        "Frame"
       ]
      },
      {
       "output_type": "stream",
       "stream": "stdout",
       "text": [
        " 78 Agents 6\n",
        "Frame"
       ]
      },
      {
       "output_type": "stream",
       "stream": "stdout",
       "text": [
        " 79 Agents 6\n",
        "Frame"
       ]
      },
      {
       "output_type": "stream",
       "stream": "stdout",
       "text": [
        " 80 Agents 6\n",
        "Frame"
       ]
      },
      {
       "output_type": "stream",
       "stream": "stdout",
       "text": [
        " 81 Agents 6\n",
        "Frame"
       ]
      },
      {
       "output_type": "stream",
       "stream": "stdout",
       "text": [
        " 82 Agents 6\n",
        "Frame"
       ]
      },
      {
       "output_type": "stream",
       "stream": "stdout",
       "text": [
        " 83 Agents 7\n",
        "Frame"
       ]
      },
      {
       "output_type": "stream",
       "stream": "stdout",
       "text": [
        " 84 Agents 8\n",
        "Frame"
       ]
      },
      {
       "output_type": "stream",
       "stream": "stdout",
       "text": [
        " 85 Agents 8\n",
        "Frame"
       ]
      },
      {
       "output_type": "stream",
       "stream": "stdout",
       "text": [
        " 86 Agents 8\n",
        "Frame"
       ]
      },
      {
       "output_type": "stream",
       "stream": "stdout",
       "text": [
        " 87 Agents 8\n",
        "Frame"
       ]
      },
      {
       "output_type": "stream",
       "stream": "stdout",
       "text": [
        " 88 Agents 9\n",
        "Frame"
       ]
      },
      {
       "output_type": "stream",
       "stream": "stdout",
       "text": [
        " 89 Agents 9\n",
        "Frame"
       ]
      },
      {
       "output_type": "stream",
       "stream": "stdout",
       "text": [
        " 90 Agents 9\n",
        "Frame"
       ]
      },
      {
       "output_type": "stream",
       "stream": "stdout",
       "text": [
        " 91 Agents 9\n",
        "Frame"
       ]
      },
      {
       "output_type": "stream",
       "stream": "stdout",
       "text": [
        " 92 Agents 10\n",
        "Frame"
       ]
      },
      {
       "output_type": "stream",
       "stream": "stdout",
       "text": [
        " 93 Agents 10\n",
        "Frame"
       ]
      },
      {
       "output_type": "stream",
       "stream": "stdout",
       "text": [
        " 94 Agents 10\n",
        "Frame"
       ]
      },
      {
       "output_type": "stream",
       "stream": "stdout",
       "text": [
        " 95 Agents 10\n",
        "Frame"
       ]
      },
      {
       "output_type": "stream",
       "stream": "stdout",
       "text": [
        " 96 Agents 11\n",
        "Frame"
       ]
      },
      {
       "output_type": "stream",
       "stream": "stdout",
       "text": [
        " 97 Agents 11\n",
        "Frame"
       ]
      },
      {
       "output_type": "stream",
       "stream": "stdout",
       "text": [
        " 98 Agents 11\n",
        "Frame"
       ]
      },
      {
       "output_type": "stream",
       "stream": "stdout",
       "text": [
        " 99 Agents 11\n",
        "Frame"
       ]
      },
      {
       "output_type": "stream",
       "stream": "stdout",
       "text": [
        " 100 Agents 11\n",
        "Frame"
       ]
      },
      {
       "output_type": "stream",
       "stream": "stdout",
       "text": [
        " 101 Agents 11\n",
        "Frame"
       ]
      },
      {
       "output_type": "stream",
       "stream": "stdout",
       "text": [
        " 102 Agents 11\n",
        "Frame"
       ]
      },
      {
       "output_type": "stream",
       "stream": "stdout",
       "text": [
        " 103 Agents 11\n",
        "Frame"
       ]
      },
      {
       "output_type": "stream",
       "stream": "stdout",
       "text": [
        " 104 Agents 11\n",
        "Frame"
       ]
      },
      {
       "output_type": "stream",
       "stream": "stdout",
       "text": [
        " 105 Agents 11\n",
        "Frame"
       ]
      },
      {
       "output_type": "stream",
       "stream": "stdout",
       "text": [
        " 106 Agents 11\n",
        "Frame"
       ]
      },
      {
       "output_type": "stream",
       "stream": "stdout",
       "text": [
        " 107 Agents 11\n",
        "Frame"
       ]
      },
      {
       "output_type": "stream",
       "stream": "stdout",
       "text": [
        " 108 Agents 11\n",
        "Frame"
       ]
      },
      {
       "output_type": "stream",
       "stream": "stdout",
       "text": [
        " 109 Agents 11\n",
        "Frame"
       ]
      },
      {
       "output_type": "stream",
       "stream": "stdout",
       "text": [
        " 110 Agents 11\n",
        "Frame"
       ]
      },
      {
       "output_type": "stream",
       "stream": "stdout",
       "text": [
        " 111 Agents 11\n",
        "Frame"
       ]
      },
      {
       "output_type": "stream",
       "stream": "stdout",
       "text": [
        " 112 Agents 13\n",
        "Frame"
       ]
      },
      {
       "output_type": "stream",
       "stream": "stdout",
       "text": [
        " 113 Agents 13\n",
        "Frame"
       ]
      },
      {
       "output_type": "stream",
       "stream": "stdout",
       "text": [
        " 114 Agents 14\n",
        "Frame"
       ]
      },
      {
       "output_type": "stream",
       "stream": "stdout",
       "text": [
        " 115 Agents 15\n",
        "Frame"
       ]
      },
      {
       "output_type": "stream",
       "stream": "stdout",
       "text": [
        " 116 Agents 15\n",
        "Frame"
       ]
      },
      {
       "output_type": "stream",
       "stream": "stdout",
       "text": [
        " 117 Agents 17\n",
        "Frame"
       ]
      },
      {
       "output_type": "stream",
       "stream": "stdout",
       "text": [
        " 118 Agents 17\n",
        "Frame"
       ]
      },
      {
       "output_type": "stream",
       "stream": "stdout",
       "text": [
        " 119 Agents 18\n",
        "Frame"
       ]
      },
      {
       "output_type": "stream",
       "stream": "stdout",
       "text": [
        " 120 Agents 18\n",
        "Frame"
       ]
      },
      {
       "output_type": "stream",
       "stream": "stdout",
       "text": [
        " 121 Agents 18\n",
        "Frame"
       ]
      },
      {
       "output_type": "stream",
       "stream": "stdout",
       "text": [
        " 122 Agents 18\n",
        "Frame"
       ]
      },
      {
       "output_type": "stream",
       "stream": "stdout",
       "text": [
        " 123 Agents 18\n",
        "Frame"
       ]
      },
      {
       "output_type": "stream",
       "stream": "stdout",
       "text": [
        " 124 Agents 19\n",
        "Frame"
       ]
      },
      {
       "output_type": "stream",
       "stream": "stdout",
       "text": [
        " 125 Agents 19\n",
        "Frame"
       ]
      },
      {
       "output_type": "stream",
       "stream": "stdout",
       "text": [
        " 126 Agents 19\n",
        "Frame"
       ]
      },
      {
       "output_type": "stream",
       "stream": "stdout",
       "text": [
        " 127 Agents 20\n",
        "Frame"
       ]
      },
      {
       "output_type": "stream",
       "stream": "stdout",
       "text": [
        " 128 Agents 21\n",
        "Frame"
       ]
      },
      {
       "output_type": "stream",
       "stream": "stdout",
       "text": [
        " 129 Agents 21\n",
        "Frame"
       ]
      },
      {
       "output_type": "stream",
       "stream": "stdout",
       "text": [
        " 130 Agents 21\n",
        "Frame"
       ]
      },
      {
       "output_type": "stream",
       "stream": "stdout",
       "text": [
        " 131 Agents 21\n",
        "Frame"
       ]
      },
      {
       "output_type": "stream",
       "stream": "stdout",
       "text": [
        " 132 Agents 22\n",
        "Frame"
       ]
      },
      {
       "output_type": "stream",
       "stream": "stdout",
       "text": [
        " 133 Agents 23\n",
        "Frame"
       ]
      },
      {
       "output_type": "stream",
       "stream": "stdout",
       "text": [
        " 134 Agents 24\n",
        "Frame"
       ]
      },
      {
       "output_type": "stream",
       "stream": "stdout",
       "text": [
        " 135 Agents 24\n",
        "Frame"
       ]
      },
      {
       "output_type": "stream",
       "stream": "stdout",
       "text": [
        " 136 Agents 24\n",
        "Frame"
       ]
      },
      {
       "output_type": "stream",
       "stream": "stdout",
       "text": [
        " 137 Agents 24\n",
        "Frame"
       ]
      },
      {
       "output_type": "stream",
       "stream": "stdout",
       "text": [
        " 138 Agents 25\n",
        "Frame"
       ]
      },
      {
       "output_type": "stream",
       "stream": "stdout",
       "text": [
        " 139 Agents 25\n",
        "Frame"
       ]
      },
      {
       "output_type": "stream",
       "stream": "stdout",
       "text": [
        " 140 Agents 25\n",
        "Frame"
       ]
      },
      {
       "output_type": "stream",
       "stream": "stdout",
       "text": [
        " 141 Agents 25\n",
        "Frame"
       ]
      },
      {
       "output_type": "stream",
       "stream": "stdout",
       "text": [
        " 142 Agents 26\n",
        "Frame"
       ]
      },
      {
       "output_type": "stream",
       "stream": "stdout",
       "text": [
        " 143 Agents 26\n",
        "Frame"
       ]
      },
      {
       "output_type": "stream",
       "stream": "stdout",
       "text": [
        " 144 Agents 26\n",
        "Frame"
       ]
      },
      {
       "output_type": "stream",
       "stream": "stdout",
       "text": [
        " 145 Agents 26\n",
        "Frame"
       ]
      },
      {
       "output_type": "stream",
       "stream": "stdout",
       "text": [
        " 146 Agents 27\n",
        "Frame"
       ]
      },
      {
       "output_type": "stream",
       "stream": "stdout",
       "text": [
        " 147 Agents 27\n",
        "Frame"
       ]
      },
      {
       "output_type": "stream",
       "stream": "stdout",
       "text": [
        " 148 Agents 27\n",
        "Frame"
       ]
      },
      {
       "output_type": "stream",
       "stream": "stdout",
       "text": [
        " 149 Agents 27\n",
        "Frame"
       ]
      },
      {
       "output_type": "stream",
       "stream": "stdout",
       "text": [
        " 150 Agents 27\n",
        "Frame"
       ]
      },
      {
       "output_type": "stream",
       "stream": "stdout",
       "text": [
        " 151 Agents 29\n",
        "Frame"
       ]
      },
      {
       "output_type": "stream",
       "stream": "stdout",
       "text": [
        " 152 Agents 29\n",
        "Frame"
       ]
      },
      {
       "output_type": "stream",
       "stream": "stdout",
       "text": [
        " 153 Agents 30\n",
        "Frame"
       ]
      },
      {
       "output_type": "stream",
       "stream": "stdout",
       "text": [
        " 154 Agents 30\n",
        "Frame"
       ]
      },
      {
       "output_type": "stream",
       "stream": "stdout",
       "text": [
        " 155 Agents 30\n",
        "Frame"
       ]
      },
      {
       "output_type": "stream",
       "stream": "stdout",
       "text": [
        " 156 Agents 30\n",
        "Frame"
       ]
      },
      {
       "output_type": "stream",
       "stream": "stdout",
       "text": [
        " 157 Agents 31\n",
        "Frame"
       ]
      },
      {
       "output_type": "stream",
       "stream": "stdout",
       "text": [
        " 158 Agents 34\n",
        "Frame"
       ]
      },
      {
       "output_type": "stream",
       "stream": "stdout",
       "text": [
        " 159 Agents 34\n",
        "Frame"
       ]
      },
      {
       "output_type": "stream",
       "stream": "stdout",
       "text": [
        " 160 Agents 34\n",
        "Frame"
       ]
      },
      {
       "output_type": "stream",
       "stream": "stdout",
       "text": [
        " 161 Agents 37\n",
        "Frame"
       ]
      },
      {
       "output_type": "stream",
       "stream": "stdout",
       "text": [
        " 162 Agents 37\n",
        "Frame"
       ]
      },
      {
       "output_type": "stream",
       "stream": "stdout",
       "text": [
        " 163 Agents 38\n",
        "Frame"
       ]
      },
      {
       "output_type": "stream",
       "stream": "stdout",
       "text": [
        " 164 Agents 39\n",
        "Frame"
       ]
      },
      {
       "output_type": "stream",
       "stream": "stdout",
       "text": [
        " 165 Agents 39\n",
        "Frame"
       ]
      },
      {
       "output_type": "stream",
       "stream": "stdout",
       "text": [
        " 166 Agents 40\n",
        "Frame"
       ]
      },
      {
       "output_type": "stream",
       "stream": "stdout",
       "text": [
        " 167 Agents 40\n",
        "Frame"
       ]
      },
      {
       "output_type": "stream",
       "stream": "stdout",
       "text": [
        " 168 Agents 40\n",
        "Frame"
       ]
      },
      {
       "output_type": "stream",
       "stream": "stdout",
       "text": [
        " 169 Agents 40\n",
        "Frame"
       ]
      },
      {
       "output_type": "stream",
       "stream": "stdout",
       "text": [
        " 170 Agents 40\n",
        "Frame"
       ]
      },
      {
       "output_type": "stream",
       "stream": "stdout",
       "text": [
        " 171 Agents 40\n",
        "Frame"
       ]
      },
      {
       "output_type": "stream",
       "stream": "stdout",
       "text": [
        " 172 Agents 40\n",
        "Frame"
       ]
      },
      {
       "output_type": "stream",
       "stream": "stdout",
       "text": [
        " 173 Agents 40\n",
        "Frame"
       ]
      },
      {
       "output_type": "stream",
       "stream": "stdout",
       "text": [
        " 174 Agents 40\n",
        "Frame"
       ]
      },
      {
       "output_type": "stream",
       "stream": "stdout",
       "text": [
        " 175 Agents 40\n",
        "Frame"
       ]
      },
      {
       "output_type": "stream",
       "stream": "stdout",
       "text": [
        " 176 Agents 40\n",
        "Frame"
       ]
      },
      {
       "output_type": "stream",
       "stream": "stdout",
       "text": [
        " 177 Agents 40\n",
        "Frame"
       ]
      },
      {
       "output_type": "stream",
       "stream": "stdout",
       "text": [
        " 178 Agents 40\n",
        "Frame"
       ]
      },
      {
       "output_type": "stream",
       "stream": "stdout",
       "text": [
        " 179 Agents 41\n",
        "Frame"
       ]
      },
      {
       "output_type": "stream",
       "stream": "stdout",
       "text": [
        " 180 Agents 42\n",
        "Frame"
       ]
      },
      {
       "output_type": "stream",
       "stream": "stdout",
       "text": [
        " 181 Agents 42\n",
        "Frame"
       ]
      },
      {
       "output_type": "stream",
       "stream": "stdout",
       "text": [
        " 182 Agents 42\n",
        "Frame"
       ]
      },
      {
       "output_type": "stream",
       "stream": "stdout",
       "text": [
        " 183 Agents 43\n",
        "Frame"
       ]
      },
      {
       "output_type": "stream",
       "stream": "stdout",
       "text": [
        " 184 Agents 44\n",
        "Frame"
       ]
      },
      {
       "output_type": "stream",
       "stream": "stdout",
       "text": [
        " 185 Agents 44\n",
        "Frame"
       ]
      },
      {
       "output_type": "stream",
       "stream": "stdout",
       "text": [
        " 186 Agents 44\n",
        "Frame"
       ]
      },
      {
       "output_type": "stream",
       "stream": "stdout",
       "text": [
        " 187 Agents 44\n",
        "Frame"
       ]
      },
      {
       "output_type": "stream",
       "stream": "stdout",
       "text": [
        " 188 Agents 45\n",
        "Frame"
       ]
      },
      {
       "output_type": "stream",
       "stream": "stdout",
       "text": [
        " 189 Agents 45\n",
        "Frame"
       ]
      },
      {
       "output_type": "stream",
       "stream": "stdout",
       "text": [
        " 190 Agents 46\n",
        "Frame"
       ]
      },
      {
       "output_type": "stream",
       "stream": "stdout",
       "text": [
        " 191 Agents 46\n",
        "Frame"
       ]
      },
      {
       "output_type": "stream",
       "stream": "stdout",
       "text": [
        " 192 Agents 46\n",
        "Frame"
       ]
      },
      {
       "output_type": "stream",
       "stream": "stdout",
       "text": [
        " 193 Agents 46\n",
        "Frame"
       ]
      },
      {
       "output_type": "stream",
       "stream": "stdout",
       "text": [
        " 194 Agents 46\n",
        "Frame"
       ]
      },
      {
       "output_type": "stream",
       "stream": "stdout",
       "text": [
        " 195 Agents 47\n",
        "Frame"
       ]
      },
      {
       "output_type": "stream",
       "stream": "stdout",
       "text": [
        " 196 Agents 47\n",
        "Frame"
       ]
      },
      {
       "output_type": "stream",
       "stream": "stdout",
       "text": [
        " 197 Agents 47\n",
        "Frame"
       ]
      },
      {
       "output_type": "stream",
       "stream": "stdout",
       "text": [
        " 198 Agents 47\n",
        "Frame"
       ]
      },
      {
       "output_type": "stream",
       "stream": "stdout",
       "text": [
        " 199 Agents 47\n"
       ]
      },
      {
       "output_type": "stream",
       "stream": "stderr",
       "text": [
        "/Users/bharatkunwar/Applications/anaconda/lib/python2.7/site-packages/matplotlib/colorbar.py:829: RuntimeWarning: invalid value encountered in divide\n",
        "  z = np.take(y, i0) + (xn - np.take(b, i0)) * dy / db\n"
       ]
      }
     ],
     "prompt_number": 73
    },
    {
     "cell_type": "markdown",
     "metadata": {},
     "source": [
      "Load video to HTML"
     ]
    },
    {
     "cell_type": "code",
     "collapsed": false,
     "input": [
      "def anim_to_html(anim, videoFile):\n",
      "    from IPython.display import HTML\n",
      "    VIDEO_TAG = \"\"\"<video controls autoplay>\n",
      "     <source src=\"data:{0}\">\n",
      "     Your browser does not support the video tag.\n",
      "    </video>\"\"\"\n",
      "    video = open(videoFile, \"rb\").read()\n",
      "    anim._encoded_video = 'video/mp4;base64,' + video.encode(\"base64\")\n",
      "    return HTML(VIDEO_TAG.format(anim._encoded_video))\n",
      "\n",
      "def play_video_inline(videoFile):\n",
      "    from IPython.display import HTML\n",
      "    VIDEO_TAG = \"\"\"<video controls autoplay>\n",
      "     <source src=\"data:{0}\">\n",
      "     Your browser does not support the video tag.\n",
      "    </video>\"\"\"\n",
      "    video = open(videoFile, \"rb\").read()\n",
      "    encoded_video = 'video/mp4;base64,' + video.encode(\"base64\")\n",
      "    return HTML(VIDEO_TAG.format(encoded_video))"
     ],
     "language": "python",
     "metadata": {},
     "outputs": []
    },
    {
     "cell_type": "code",
     "collapsed": false,
     "input": [
      "play_video_inline(videoFile)"
     ],
     "language": "python",
     "metadata": {},
     "outputs": []
    },
    {
     "cell_type": "markdown",
     "metadata": {},
     "source": [
      "Produce histogram of the evacuation time"
     ]
    },
    {
     "cell_type": "code",
     "collapsed": false,
     "input": [
      "if T.count(None)==0:\n",
      "    hist, bins = np.histogram(T, bins=20)\n",
      "    width = 0.7 * (bins[1] - bins[0])\n",
      "    center = (bins[:-1] + bins[1:]) / 2\n",
      "    fig = plt.figure()\n",
      "    plt.bar(center, hist, align='center', width=width)\n",
      "    plt.show()\n",
      "else:\n",
      "    print T.count(None) ,' agents did not reach destination. Increase the number of frames available!'"
     ],
     "language": "python",
     "metadata": {},
     "outputs": []
    },
    {
     "cell_type": "markdown",
     "metadata": {},
     "source": [
      "Produce Flow-Density diagram"
     ]
    },
    {
     "cell_type": "code",
     "collapsed": false,
     "input": [
      "F=[x*y for x, y in zip(V, D)]\n",
      "fig = plt.figure()\n",
      "plt.plot(D,F,'.')\n",
      "plt.show()"
     ],
     "language": "python",
     "metadata": {},
     "outputs": [],
     "prompt_number": 259
    },
    {
     "cell_type": "code",
     "collapsed": false,
     "input": [
      "print zip(V,D)"
     ],
     "language": "python",
     "metadata": {},
     "outputs": [
      {
       "output_type": "stream",
       "stream": "stdout",
       "text": [
        "[(109.83550231619938, 1.271815667568454), (127.42358607339604, 0.34612704876862987), (105.78259605910625, 1.4851265232049353), (106.01200584724357, 1.4730523238292854), (106.0884757766227, 1.4690275907040689), (109.22374288116646, 1.3040135325701872), (108.9943330930291, 1.3160877319458368), (108.76492330489175, 1.3281619313214867), (114.88251765522104, 1.0061832813041567), (126.88829656774223, 0.37430018064514631), (131.78237204800564, 0.11671726063128217), (132.011781836143, 0.10464306125563229), (131.85884197738474, 0.11269252750606555), (132.62354127117592, 0.07244519625389928), (100.20029121443076, 1.778932041345749), (126.8118266383631, 0.37832491377036293), (93.776817146585032, 2.1170096238639458), (95.000336016650905, 2.0526138938604794), (95.765035310442045, 2.0123665626083134), (94.082696864101507, 2.1009106913630791), (117.78837497162743, 0.85324342254592489), (99.129712203123148, 1.8352783050987818), (124.42227538050128, 0.50409076944730169), (123.22505980306393, 0.56710211562821444), (125.02088316921996, 0.47258509635684537), (96.223854886716737, 1.9882181638570136), (111.59431069191905, 1.1792468056884717), (117.32955539535274, 0.87739182129722459), (117.40602532473186, 0.87336708817200803), (128.95298466097836, 0.26563238626429736), (100.27676114380988, 1.7749073082205324), (101.72968980201308, 1.6984373788414164), (93.70034721720593, 2.1210343569891621), (93.853287075964161, 2.112984890738729), (111.82372048005639, 1.1671726063128218), (131.40002240111005, 0.1368409262573653), (125.7412476270555, 0.43467117752339568), (126.04712734457195, 0.41857224502252915), (132.47060141241769, 0.080494662504332529), (118.78248405355593, 0.8009218919181087), (119.08836377107241, 0.78482295941724223), (96.759144392370573, 1.9600450319804972), (107.31199464668855, 1.4046318607006028), (107.69434429358414, 1.3845081950745195), (95.000336016650905, 2.0526138938604794), (95.153275875409122, 2.0445644276100463), (99.282652061881379, 1.8272288388483486), (126.65888677960488, 0.38637438002079616), (126.88829656774223, 0.37430018064514631), (129.56474409601128, 0.23343452126256434), (116.25897638404513, 0.93373808505025735), (106.31788556476005, 1.4569533913284189), (100.88852057884283, 1.7427094432187993), (108.91786316365, 1.3201124650710536), (108.68845337551262, 1.3321866644467035), (108.53551351675441, 1.3402361306971367), (115.03545751397925, 0.99813381505372345), (127.34711614401692, 0.35015178189384655), (116.94720574845716, 0.89751548692330774), (119.5471833473471, 0.76067456066594241), (100.88852057884283, 1.7427094432187993), (112.81782956198489, 1.1148510756850056), (112.89429949136402, 1.1108263425597891), (112.74135963260579, 1.1188758088102222), (112.3590099857102, 1.1389994744363054), (112.81782956198489, 1.1148510756850056), (112.20607012695199, 1.1470489406867386), (104.48260725966128, 1.553546986333618), (110.14138203371584, 1.2557167350675875), (129.80974547896932, 0.2205397116331945), (130.40835326768797, 0.18903403854273815), (100.27676114380988, 1.7749073082205324), (117.78837497162743, 0.85324342254592489), (121.38246165244588, 0.66408096566074337), (121.07658193492942, 0.68017989816160995), (121.38246165244588, 0.66408096566074337), (106.16494570600182, 1.4650028575788521), (125.28242805078081, 0.45881957627469544), (129.02945459035749, 0.26160765313908074), (126.35300706208841, 0.40247331252166269), (119.92953299424269, 0.74055089503985927), (119.62365327672622, 0.75664982754072585), (120.38835257051738, 0.71640249628855956), (119.77659313548446, 0.74860036129029262), (130.02356367228597, 0.20928612251126458), (124.13537911009405, 0.51919057315294481), (129.87062381352774, 0.21733558876169784), (94.159166793480622, 2.0968859582378627), (125.66477769767637, 0.4386959106486123), (125.8177175564346, 0.43064644439817906), (125.66477769767637, 0.4386959106486123), (121.99422108747882, 0.63188310065901043), (122.9118602400282, 0.58358630315641091), (121.91775115809969, 0.63590783378422699), (129.56474409601128, 0.23343452126256434), (128.49416508470367, 0.28978078501559712), (128.80004480222013, 0.27368185251473059), (129.10592451973659, 0.25758292001386413), (112.05313026819374, 1.1550984069371719), (112.12960019757286, 1.1510736738119551), (130.02356367228597, 0.20928612251126458), (116.56485610156157, 0.91763915254939088), (93.317997570310339, 2.1411580226152456), (93.317997570310339, 2.1411580226152456), (114.42369807894633, 1.0303316800554565), (114.34722814956721, 1.0343564131806731), (110.06491210433673, 1.2597414681928041), (109.83550231619938, 1.271815667568454), (109.4531526693038, 1.2919393331945372), (105.40024641221066, 1.5052501888310184), (117.25308546597361, 0.88141655442244127), (127.65299586153338, 0.33405284939298002), (127.65299586153338, 0.33405284939298002), (96.759144392370573, 1.9600450319804972), (105.55318627096888, 1.4972007225805852), (105.85906598848536, 1.4811017900797185), (111.21196104502347, 1.1993704713145548), (107.84728415234237, 1.3764587288240864), (132.39413148303859, 0.08451939562954916), (120.00600292362181, 0.73652616191464271), (119.85306306486356, 0.74457562816507594), (97.141494039266135, 1.9399213663544141), (97.447373756782611, 1.9238224338535477), (96.759144392370573, 1.9600450319804972), (96.835614321749674, 1.9560202988552806), (103.7179079658701, 1.5937943175857843), (103.79437789524921, 1.5897695844605675), (101.80615973139223, 1.6944126457161999), (132.16472169490123, 0.09659359500519904), (118.55307426541859, 0.8129960912937586), (127.50005600277517, 0.34210231564341326), (124.28831896885228, 0.51114110690251158), (93.70034721720593, 2.1210343569891621), (120.61776235865472, 0.70432829691290966), (106.54729535289739, 1.444879191952769), (111.90019040943551, 1.163147873187605), (111.90019040943551, 1.163147873187605), (108.00022401110061, 1.368409262573653), (125.05301826264346, 0.47089377565034535), (124.97654833326433, 0.47491850877556196), (102.03556951952955, 1.68233844634055), (102.80026881332071, 1.6420911150883837), (129.02945459035749, 0.26160765313908074), (128.87651473159926, 0.26965711938951398), (128.95298466097836, 0.26563238626429736), (125.66477769767637, 0.4386959106486123), (125.7412476270555, 0.43467117752339568), (125.8177175564346, 0.43064644439817906), (115.64721694901219, 0.9659359500519904), (125.20595812140168, 0.46284430939991206), (92.629768205898301, 2.1773806207421948), (92.629768205898301, 2.1773806207421948), (92.629768205898301, 2.1773806207421948), (92.935647923414763, 2.1612816882413286), (105.09436669469419, 1.5213491213318848), (110.29432189247407, 1.2476672688171542), (105.01789676531507, 1.5253738544571016), (96.912084251128789, 1.9519955657300641), (116.71779596031982, 0.90958968629895764), (130.10003360166507, 0.20526138938604796), (130.10003360166507, 0.20526138938604796), (125.58830776829726, 0.44272064377382891), (99.053242273744033, 1.8393030382239983), (117.23898191587723, 0.88215884653277798), (117.8375897045959, 0.85065317344232161), (118.43619749331458, 0.81914750035186523), (121.30599172306677, 0.66810569878596004), (121.00011200555029, 0.68420463128682651), (99.129712203123148, 1.8352783050987818), (102.03556951952955, 1.68233844634055), (124.28831896885228, 0.51114110690251158), (124.28831896885228, 0.51114110690251158), (123.2942098869238, 0.56346263753032777), (105.32377648283156, 1.5092749219562349), (105.78259605910625, 1.4851265232049353), (103.87084782462834, 1.5857448513353509), (95.153275875409122, 2.0445644276100463), (106.85317507041385, 1.4287802594519026), (107.15905478793033, 1.4126813269510359), (108.84139323427087, 1.3241371981962702), (111.05902118626523, 1.2074199375649881), (120.84717214679208, 0.69225409753725975), (131.47649233048918, 0.13281619313214868), (99.359121991260508, 1.8232041057231319), (124.21184903947318, 0.51516584002772825), (105.17083662407332, 1.5173243882066683), (120.61776235865472, 0.70432829691290966), (111.59431069191905, 1.1792468056884717), (94.159166793480622, 2.0968859582378627), (112.12960019757286, 1.1510736738119551), (130.40591331918156, 0.18916245688518146), (107.31199464668855, 1.4046318607006028), (126.47971554302666, 0.39580444510386098), (127.41975110014832, 0.34632888946587836), (93.623877287826801, 2.1250590901143789), (98.059133191815533, 1.8916245688518145), (118.62954419479772, 0.80897135816854193), (118.47660433603949, 0.81702082441897528), (102.26497930766692, 1.6702642469649001), (102.95320867207896, 1.6340416488379506), (126.21809874665728, 0.40957375017593262), (126.21809874665728, 0.40957375017593262), (101.65321987263398, 1.702462111966633), (101.72968980201308, 1.6984373788414164), (101.50028001387574, 1.7105115782170663), (132.62354127117592, 0.07244519625389928), (114.80604772584191, 1.0102080144293732), (122.22363087561617, 0.61980890128336052), (130.71179303669803, 0.17306352438431494), (133.23530070620885, 0.040247331252166264), (133.84706014124177, 0.0080494662504332539), (115.49427709025395, 0.97398541630242363), (125.35889798015991, 0.45479484314947882), (129.29982221439167, 0.24737777818991311), (92.476828347140057, 2.1854300869926284), (92.400358417760955, 2.1894548201178448), (92.24741855900271, 2.1975042863682783), (110.44726175123232, 1.239617802566721), (110.60020160999053, 1.2315683363162877), (110.98255125688613, 1.2114446706902047), (132.11992888575668, 0.098951111275965245), (132.92942098869239, 0.056346263753032776), (133.05996444287834, 0.049475555637982623), (92.629768205898301, 2.1773806207421948), (92.706238135277403, 2.1733558876169785), (129.71768395476951, 0.2253850550121311), (115.34133723149573, 0.98203488255285687), (108.84139323427087, 1.3241371981962702), (112.20607012695199, 1.1470489406867386), (132.77648112993415, 0.064395730003466031), (130.94120282483536, 0.16098932500866506), (117.48249525411096, 0.86934235504679136), (117.71190504224833, 0.85726815567114145), (121.42923643690793, 0.66161913489958346), (120.23202085947058, 0.72463048108049621), (121.42923643690793, 0.66161913489958346), (120.83062864818925, 0.69312480799003984), (132.92942098869239, 0.056346263753032776), (98.059133191815533, 1.8916245688518145), (97.906193333057303, 1.8996740351022479), (97.906193333057303, 1.8996740351022479), (98.059133191815533, 1.8916245688518145), (98.059133191815533, 1.8916245688518145), (98.059133191815533, 1.8916245688518145), (97.829723403678187, 1.9036987682274644), (98.365012909331995, 1.875525636350948), (97.676783544919957, 1.9117482344778978), (98.059133191815533, 1.8916245688518145), (98.059133191815533, 1.8916245688518145), (97.982663262436404, 1.8956493019770311), (97.829723403678187, 1.9036987682274644), (97.829723403678187, 1.9036987682274644), (123.82366759178261, 0.53559644253775807), (96.453264674854097, 1.9761439644813636), (129.21113769025064, 0.25204538472365084), (128.61252990153199, 0.28355105781410722), (96.453264674854097, 1.9761439644813636), (96.453264674854097, 1.9761439644813636), (96.453264674854097, 1.9761439644813636), (115.11192744335838, 0.99410908192850678), (100.96499050822194, 1.7386847100935827), (104.86495690655686, 1.5334233207075347), (104.06961056406647, 1.5752836545228177), (115.49427709025395, 0.97398541630242363), (92.170948629623609, 2.2015290194934947), (92.170948629623609, 2.2015290194934947), (92.170948629623609, 2.2015290194934947), (112.3590099857102, 1.1389994744363054), (120.15894278238002, 0.72847669566420947), (117.17661553659451, 0.88544128754765783), (126.35300706208841, 0.40247331252166269), (121.68834136996234, 0.6479820331598769), (108.00022401110061, 1.368409262573653), (107.84728415234237, 1.3764587288240864), (117.55896518349009, 0.8653176219215748), (116.41191624280336, 0.92568861879982411), (116.64132603094069, 0.91361441942417432), (107.0825848585512, 1.4167060600762527), (106.70023521165564, 1.4368297257023357), (100.96499050822194, 1.7386847100935827), (94.082696864101507, 2.1009106913630791), (111.28843097440257, 1.1953457381893382), (115.49427709025395, 0.97398541630242363), (131.00696105640665, 0.15752836545228177), (118.55307426541859, 0.8129960912937586), (118.32366447728124, 0.82507029066940851), (112.3590099857102, 1.1389994744363054), (121.99422108747882, 0.63188310065901043), (122.52951059313261, 0.60370996878249406), (109.75903238682025, 1.2758404006936708), (109.9119722455785, 1.2677909344432374), (100.96499050822194, 1.7386847100935827), (117.78837497162743, 0.85324342254592489), (127.57652593215427, 0.33807758251819664), (130.1765035310442, 0.20123665626083134), (120.69423228803385, 0.7003035637876931), (100.27676114380988, 1.7749073082205324), (100.27676114380988, 1.7749073082205324), (116.64037412715855, 0.91366451962323436), (113.04872739484652, 1.1026985581659725), (112.45011960612786, 1.1342042312564289), (129.41180423725305, 0.2414839875129976), (100.27676114380988, 1.7749073082205324), (122.83539031064909, 0.58761103628162747), (124.05890918071493, 0.52321530627816148), (114.50016800832546, 1.0263069469302397), (93.088587782172993, 2.1532322219908955), (95.994445098579391, 2.0002923632326635), (133.15883077682972, 0.044272064377382896), (133.31177063558798, 0.03622259812694964), (122.45304066375351, 0.60773470190771062), (118.40013440666036, 0.82104555754419184), (117.94131483038566, 0.84519395629549166), (127.57652593215427, 0.33807758251819664), (127.50005600277517, 0.34210231564341326), (106.24141563538095, 1.4609781244536355), (128.57063501408277, 0.2857560518903805), (103.48849817773275, 1.605868516961434), (102.49438909580427, 1.6581900475892501), (101.88262966077133, 1.6903879125909833), (101.88262966077133, 1.6903879125909833), (102.72379888394161, 1.6461158482136002), (102.64732895456248, 1.650140581338817), (99.588531779397854, 1.8111299063474819), (105.86543393022248, 1.4807666352514488), (127.27064621463782, 0.35417651501906317), (127.80593572029161, 0.32600338314254679), (103.41202824835365, 1.6098932500866507), (95.153275875409122, 2.0445644276100463), (95.076805946030007, 2.0485891607352631), (94.770926228513559, 2.0646880932361293), (94.69445629913443, 2.0687128263613461), (102.87673874269983, 1.6380663819631671), (103.1826184602163, 1.6219674494623006), (106.92964499979298, 1.4247555263266858), (1.0, 14.020024525253078), (1.0, 14.020024525253078), (1.0, 14.020024525253078), (94.46504651099707, 2.080787025736996), (102.64732895456248, 1.650140581338817), (116.87073581907805, 0.90154022004852441), (116.41191624280336, 0.92568861879982411), (99.435591920639624, 1.8191793725979153), (93.317997570310339, 2.1411580226152456), (114.57663793770456, 1.0222822138050232), (108.91786316365, 1.3201124650710536), (97.523843686161712, 1.9197977007283309), (122.62645201434526, 0.59860778871867082), (127.04123642650048, 0.36625071439471302), (127.19417628525869, 0.35820124814427978), (126.8118266383631, 0.37832491377036293), (125.89418748581372, 0.42662171127296244), (126.27653713270929, 0.4064980456468793), (122.75892038126996, 0.59163576940684415), (95.229745804788251, 2.0405396944848295), (110.52373168061142, 1.2355930694415045), (116.94720574845716, 0.89751548692330774), (132.54707134179679, 0.076469929379115911), (113.58252885577606, 1.0746037444328393), (113.81193864391341, 1.0625295450571894), (132.80278442256267, 0.063011346180912711), (121.76481129934147, 0.64395730003466023), (128.34122522594541, 0.29783025126603035), (128.41769515532457, 0.29380551814081374), (128.6471049434619, 0.28173131876516389), (128.6471049434619, 0.28173131876516389), (94.69445629913443, 2.0687128263613461), (94.69445629913443, 2.0687128263613461), (94.617986369755315, 2.0727375594865629), (95.153275875409122, 2.0445644276100463), (101.07657162047312, 1.7328120199750996), (102.27378719791047, 1.6698006737941868), (101.67517940919177, 1.7013063468846432), (103.4710027753478, 1.6067893276132741), (106.92964499979298, 1.4247555263266858), (108.07669394047971, 1.3643845294484365), (95.841505239821174, 2.0083418294830966), (96.07091502795852, 1.9962676301074469), (116.79426588969892, 0.90556495317374097), (131.09414268359362, 0.15293985875823182), (131.24708254235185, 0.14489039250779856), (131.09414268359362, 0.15293985875823182), (131.09414268359362, 0.15293985875823182), (133.46471049434621, 0.028173131876516388), (133.77059021186267, 0.01207419937564988), (133.61765035310441, 0.020123665626083132), (133.46471049434621, 0.028173131876516388), (133.61765035310441, 0.020123665626083132), (133.46471049434621, 0.028173131876516388), (120.38835257051738, 0.71640249628855956), (120.4648224998965, 0.71237776316334289), (129.87062381352774, 0.21733558876169784), (107.61787436420502, 1.3885329281997363), (93.165057711552109, 2.1492074888656787), (108.00022401110061, 1.368409262573653), (124.90007840388522, 0.47894324190077858), (124.74713854512697, 0.48699270815121182), (124.74713854512697, 0.48699270815121182), (124.59419868636874, 0.49504217440164511), (105.62965620034801, 1.4931759894553684), (103.41202824835365, 1.6098932500866507), (102.18850937828779, 1.6742889800901166), (112.81782956198489, 1.1148510756850056), (114.88251765522104, 1.0061832813041567), (107.84728415234237, 1.3764587288240864), (102.03556951952955, 1.68233844634055), (98.083532676879756, 1.8903403854273815), (99.280748254317103, 1.8273290392464687), (119.70012320610533, 0.75262509441550918), (104.66821835278512, 1.5437779814323616), (133.40139221128135, 0.031505673090456356), (129.64121402539038, 0.22940978813734772), (119.24130362983063, 0.77677349316680899), (101.80615973139223, 1.6944126457161999), (115.41780716087484, 0.97801014942764031), (114.88251765522104, 1.0061832813041567), (108.84139323427087, 1.3241371981962702), (101.88262966077133, 1.6903879125909833), (103.87084782462834, 1.5857448513353509), (121.458931581825, 0.66005623253552681), (120.31188264113825, 0.72042722941377624), (121.15305186430854, 0.67615516503639328), (121.53540151120413, 0.65603149941031014), (120.23541271175915, 0.7244519625389928), (123.9059693219567, 0.53126477252859472), (130.48238324856067, 0.18513772375996482), (114.65310786708369, 1.0182574806798066), (113.50605892639693, 1.0786284775580559), (113.96487850267165, 1.0544800788067561), (99.206182132502278, 1.8312535719735652), (124.97654833326433, 0.47491850877556196), (100.27676114380988, 1.7749073082205324), (100.58264086132635, 1.758808375719666), (106.16494570600182, 1.4650028575788521), (101.19440029635929, 1.7266105107179328), (107.06264950765983, 1.4177552890705361), (106.46404171894115, 1.4492609621609924), (94.006226934722378, 2.1049354244882958), (94.006226934722378, 2.1049354244882958), (108.15316386985883, 1.3603597963232199), (97.676783544919957, 1.9117482344778978), (118.40013440666036, 0.82104555754419184), (118.24719454790214, 0.82909502379462507), (118.24719454790214, 0.82909502379462507), (118.78248405355593, 0.8009218919181087), (118.24719454790214, 0.82909502379462507), (115.64721694901219, 0.9659359500519904), (115.57074701963307, 0.96996068317720707), (93.547407358447686, 2.1290838232395957), (93.623877287826801, 2.1250590901143789), (124.44125882761053, 0.50309164065207834), (115.49427709025395, 0.97398541630242363), (130.63532310731892, 0.17708825750953158), (111.44137083316082, 1.1872962719389049), (110.67667153936966, 1.2275436031910711), (110.14138203371584, 1.2557167350675875), (119.92953299424269, 0.74055089503985927), (120.08247285300091, 0.73250142878942603), (119.62365327672622, 0.75664982754072585), (119.47071341796797, 0.76469929379115908), (115.49427709025395, 0.97398541630242363), (133.08236084745062, 0.04829679750259952), (111.51784076253992, 1.1832715388136883), (129.87062381352774, 0.21733558876169784), (133.38824056496708, 0.032197865001733016), (131.17989332863499, 0.14842666691394787), (93.165057711552109, 2.1492074888656787), (130.71179303669803, 0.17306352438431494), (99.66500170877697, 1.8071051732222654), (99.588531779397854, 1.8111299063474819), (125.61949095793862, 0.44107942326638899), (111.90019040943551, 1.163147873187605), (111.90019040943551, 1.163147873187605), (109.9119722455785, 1.2677909344432374), (109.52962259868291, 1.2879146000693205), (110.29432189247407, 1.2476672688171542), (109.75903238682025, 1.2758404006936708), (98.083532676879756, 1.8903403854273815), (98.083532676879756, 1.8903403854273815), (98.682140465598422, 1.8588347123369251), (99.87935604303577, 1.7958233661560123), (113.42958899701783, 1.0826532106832727), (99.206182132502278, 1.8312535719735652), (103.7179079658701, 1.5937943175857843), (132.31766155365946, 0.088544128754765791), (102.41791916642514, 1.6622147807144669), (101.57674994325485, 1.7064868450918498), (127.88240564967073, 0.32197865001733011), (100.12382128505166, 1.7829567744709656), (131.55296225986831, 0.12879146000693206), (131.55296225986831, 0.12879146000693206), (131.55296225986831, 0.12879146000693206), (114.57663793770456, 1.0222822138050232), (123.98243925133583, 0.52724003940337805), (123.82949939257759, 0.53528950565381139), (110.65429623997186, 1.2287212505277978), (115.44315854972123, 0.976675865804147), (111.25290402869052, 1.1972155774373416), (116.04176633843988, 0.94517019271369074), (114.24594297228387, 1.0396872119850598), (114.84455076100255, 1.0081815388946034), (111.85151181740918, 1.1657099043468853), (129.18239444911569, 0.25355818688864751), (111.90019040943551, 1.163147873187605), (111.90019040943551, 1.163147873187605), (107.31199464668855, 1.4046318607006028), (106.92964499979298, 1.4247555263266858), (105.62965620034801, 1.4931759894553684), (106.01200584724357, 1.4730523238292854), (104.94142683593597, 1.5293985875823182), (105.47671634158976, 1.5012254557058018), (106.39435549413916, 1.4529286582032022), (112.81782956198489, 1.1148510756850056), (102.34144923704602, 1.6662395138396835), (96.07091502795852, 1.9962676301074469), (95.229745804788251, 2.0405396944848295), (95.535625522304699, 2.0244407619839633), (95.841505239821174, 2.0083418294830966), (95.153275875409122, 2.0445644276100463), (115.34133723149573, 0.98203488255285687), (117.25308546597361, 0.88141655442244127), (117.1001456072154, 0.8894660206728745), (122.52951059313261, 0.60370996878249406), (120.69423228803385, 0.7003035637876931), (130.71179303669803, 0.17306352438431494), (107.54140443482592, 1.3925576613249528), (130.86473289545626, 0.1650140581338817), (104.71201704779862, 1.5414727869579681), (105.01789676531507, 1.5253738544571016), (104.94142683593597, 1.5293985875823182), (99.435591920639624, 1.8191793725979153), (100.96499050822194, 1.7386847100935827), (100.96499050822194, 1.7386847100935827), (121.458931581825, 0.66005623253552681), (109.9884421749576, 1.2637662013180209), (97.141494039266135, 1.9399213663544141), (97.06502410988702, 1.9439460994796307), (97.370903827403481, 1.9278471669787642), (122.75892038126996, 0.59163576940684415), (121.91775115809969, 0.63590783378422699), (122.75892038126996, 0.59163576940684415), (124.13537911009405, 0.51919057315294481), (122.83539031064909, 0.58761103628162747), (114.11781836142987, 1.046430612556323), (126.58241685022577, 0.39039911314601278), (110.65429623997186, 1.2287212505277978), (108.25986508509718, 1.3547439428896233), (107.66125729637849, 1.3862496159800797), (110.05568845125318, 1.2602269236182542), (107.66125729637849, 1.3862496159800797), (108.85847287381583, 1.3232382697991669), (94.46504651099707, 2.080787025736996), (118.78248405355593, 0.8009218919181087), (102.80026881332071, 1.6420911150883837), (127.41531432409462, 0.34656240399501992), (126.21809874665728, 0.40957375017593262), (117.02367567783627, 0.89349075379809118), (131.60556884512533, 0.12602269236182542), (132.20417663384401, 0.094517019271369074), (97.447373756782611, 1.9238224338535477), (114.04134843205075, 1.0504553456815395), (113.04723935012224, 1.1027768763093557), (114.194288290809, 1.0424058794311064), (119.03480528203323, 0.78764182726140886), (125.43536790953902, 0.4507701100242622), (121.38246165244588, 0.66408096566074337), (112.12960019757286, 1.1510736738119551), (125.89418748581372, 0.42662171127296244), (120.08247285300091, 0.73250142878942603), (105.78259605910625, 1.4851265232049353), (116.33544631342423, 0.92971335192504079), (119.6334130707519, 0.75613615417095259), (96.759144392370573, 1.9600450319804972), (96.682674462991443, 1.9640697651057137), (132.70001120055502, 0.068420463128682649), (104.40613733028215, 1.5575717194588345), (103.87084782462834, 1.5857448513353509), (103.79437789524921, 1.5897695844605675), (103.79437789524921, 1.5897695844605675), (103.87084782462834, 1.5857448513353509), (103.87084782462834, 1.5857448513353509), (124.28831896885228, 0.51114110690251158), (113.42958899701783, 1.0826532106832727), (113.04723935012224, 1.1027768763093557), (113.27664913825959, 1.0907026769337058), (121.76481129934147, 0.64395730003466023), (122.68245045189086, 0.59566050253206071), (122.98833016940731, 0.57956157003119424), (123.21773995754467, 0.56748737065554433), (121.53540151120413, 0.65603149941031014), (123.06480009878644, 0.57553683690597757), (127.57652593215427, 0.33807758251819664), (127.95887557904986, 0.3179539168921135), (107.23552471730943, 1.4086565938258193), (114.80604772584191, 1.0102080144293732), (105.26682614150383, 1.5122723083419052), (107.0825848585512, 1.4167060600762527), (107.0825848585512, 1.4167060600762527), (106.62376528227651, 1.4408544588275525), (127.50005600277517, 0.34210231564341326), (116.10603652528688, 0.9417875513006907), (132.16472169490123, 0.09659359500519904), (131.9353119067639, 0.10866779438084892), (131.85884197738474, 0.11269252750606555), (99.66500170877697, 1.8071051732222654), (103.25908838959541, 1.6179427163370839), (103.02967860145806, 1.6300169157127338), (110.90608132750701, 1.2154694038154212), (118.0942546891439, 0.83714449004505831), (105.62965620034801, 1.4931759894553684), (105.78259605910625, 1.4851265232049353), (100.12382128505166, 1.7829567744709656), (128.26475529656631, 0.30185498439124703), (120.69423228803385, 0.7003035637876931), (130.23985777151333, 0.19790222255193049), (99.66500170877697, 1.8071051732222654), (103.7179079658701, 1.5937943175857843), (128.35978665726998, 0.29685333382789575), (1.0, 14.020024525253078), (1.0, 14.020024525253078), (1.0, 14.020024525253078), (17.271481199859195, 6.1436062526389899), (1.0, 14.020024525253078), (48.997694001948759, 4.4738055788448028), (1.0, 14.020024525253078), (1.0, 14.020024525253078), (1.0, 14.020024525253078), (62.167065353759511, 3.780680770854763), (1.0, 14.020024525253078), (1.0, 14.020024525253078), (78.928083437882293, 2.8985219243219849), (1.0, 14.020024525253078), (49.596301790667432, 4.4422999057543464), (1.0, 14.020024525253078), (1.0, 14.020024525253078), (1.0, 14.020024525253078), (79.52669122660096, 2.8670162512315285), (1.0, 14.020024525253078), (1.0, 14.020024525253078), (50.793517368104766, 4.3792885595734337), (1.0, 14.020024525253078), (1.0, 14.020024525253078), (1.0, 14.020024525253078), (37.624146016294013, 5.0724133675634731), (1.0, 14.020024525253078), (1.0, 14.020024525253078), (1.0, 14.020024525253078), (13.081226678828518, 6.3641459642721836), (19.665912354733894, 6.0175835602771643), (1.0, 14.020024525253078), (1.0, 14.020024525253078), (1.0, 14.020024525253078), (1.0, 14.020024525253078), (1.0, 14.020024525253078), (1.0, 14.020024525253078), (80.125299015319641, 2.8355105781410721), (1.0, 14.020024525253078), (1.0, 14.020024525253078), (80.723906804038307, 2.8040049050506157), (1.0, 14.020024525253078), (1.0, 14.020024525253078), (1.0, 14.020024525253078), (1.0, 14.020024525253078), (1.0, 14.020024525253078), (25.053382453201923, 5.734032502463057), (1.0, 14.020024525253078), (1.0, 14.020024525253078), (1.0, 14.020024525253078), (1.0, 8.6010487536945845), (1.0, 14.020024525253078), (1.0, 14.020024525253078), (1.0, 14.020024525253078), (1.0, 14.020024525253078), (1.0, 14.020024525253078), (1.0, 14.020024525253078), (82.519730170194322, 2.7094878857792466), (1.0, 14.020024525253078), (1.0, 14.020024525253078), (1.0, 14.020024525253078), (1.0, 14.020024525253078), (1.0, 14.020024525253078), (14.278442256265865, 6.3011346180912708), (1.0, 14.020024525253078), (1.0, 14.020024525253078), (1.0, 14.020024525253078), (1.0, 14.020024525253078), (34.032499283981984, 5.2614474061062113), (1.0, 14.020024525253078), (64.561496508634193, 3.6546580784929374), (1.0, 14.020024525253078), (79.52669122660096, 2.8670162512315285), (1.0, 14.020024525253078), (1.0, 14.020024525253078), (89.104415846099698, 2.3629254817842269), (1.0, 14.020024525253078), (1.0, 14.020024525253078), (1.0, 14.020024525253078), (1.0, 14.020024525253078), (1.0, 14.020024525253078), (1.0, 14.020024525253078), (74.737828916851598, 3.1190616359551795), (68.751751029664902, 3.4341183668597428), (1.0, 14.020024525253078), (1.0, 14.020024525253078), (92.696062578411727, 2.1738914432414886), (88.505808057381017, 2.3944311548746833), (1.0, 14.020024525253078), (1.0, 14.020024525253078), (1.0, 14.020024525253078), (1.0, 14.020024525253078), (1.0, 14.020024525253078), (1.0, 14.020024525253078), (1.0, 14.020024525253078), (1.0, 9.6092302925891886), (1.0, 14.020024525253078), (1.0, 14.020024525253078), (1.0, 14.020024525253078), (1.0, 14.020024525253078), (1.0, 14.020024525253078), (1.0, 14.020024525253078), (1.0, 14.020024525253078), (1.0, 14.020024525253078), (34.032499283981984, 5.2614474061062113), (1.0, 14.020024525253078), (1.0, 14.020024525253078), (1.0, 14.020024525253078), (1.0, 14.020024525253078), (1.0, 14.020024525253078), (1.0, 14.020024525253078), (1.0, 14.020024525253078), (72.942005550695583, 3.2135786552265482), (35.229714861419339, 5.1984360599252986), (1.0, 14.020024525253078), (42.413008326043368, 4.8203679828398229), (1.0, 14.020024525253078), (91.498847000974379, 2.2369027894224014), (1.0, 14.020024525253078), (1.0, 14.020024525253078), (67.554535452227555, 3.4971297130406556), (1.0, 14.020024525253078), (1.0, 14.020024525253078), (1.0, 14.020024525253078), (84.914161325069003, 2.5834651934174211), (36.426930438856672, 5.1354247137443858), (1.0, 14.020024525253078), (1.0, 14.020024525253078), (1.0, 14.020024525253078), (1.0, 14.020024525253078), (1.0, 14.020024525253078), (1.0, 14.020024525253078), (1.0, 14.020024525253078), (1.0, 14.020024525253078), (69.350358818383569, 3.4026126937692864), (1.0, 14.020024525253078), (1.0, 14.020024525253078), (89.703023634818365, 2.3314198086937705), (1.0, 14.020024525253078), (1.0, 14.020024525253078), (1.0, 14.020024525253078), (38.222753805012687, 5.0409076944730167), (1.0, 14.020024525253078), (83.716945747631669, 2.6464765395983338), (1.0, 14.020024525253078), (1.0, 14.020024525253078), (87.308592479943698, 2.4574425010555956), (34.631107072700665, 5.2299417330157549), (1.0, 14.020024525253078), (1.0, 14.020024525253078), (1.0, 14.020024525253078), (47.201870635792744, 4.5683225981161719), (1.0, 14.020024525253078), (1.0, 14.020024525253078), (1.0, 14.020024525253078), (1.0, 14.020024525253078), (1.0, 14.020024525253078), (1.0, 14.020024525253078), (34.631107072700665, 5.2299417330157549), (59.77263419888483, 3.906703463216588), (1.0, 14.020024525253078), (38.821361593731361, 5.0094020213825603), (83.716945747631669, 2.6464765395983338), (1.0, 14.020024525253078), (1.0, 14.020024525253078), (1.0, 14.020024525253078), (60.371241987603511, 3.8751977901261316), (1.0, 14.020024525253078), (1.0, 14.020024525253078), (1.0, 14.020024525253078), (48.997694001948759, 4.4738055788448028), (1.0, 14.020024525253078), (1.0, 14.020024525253078), (1.0, 14.020024525253078), (1.0, 14.020024525253078), (1.0, 14.020024525253078), (1.0, 14.020024525253078), (1.0, 14.020024525253078), (79.52669122660096, 2.8670162512315285), (1.0, 14.020024525253078), (47.201870635792744, 4.5683225981161719), (1.0, 14.020024525253078), (1.0, 14.020024525253078), (1.0, 14.020024525253078), (1.0, 14.020024525253078), (1.0, 14.020024525253078), (19.067304566015221, 6.0490892333676207), (1.0, 14.020024525253078), (1.0, 10.428377792941054), (40.018577171168701, 4.9463906752016475), (1.0, 14.020024525253078), (1.0, 14.020024525253078), (1.0, 14.020024525253078), (1.0, 14.020024525253078), (1.0, 14.020024525253078), (94.491885944567741, 2.0793744239701195), (73.540613339414264, 3.1820729821360918), (1.0, 14.020024525253078), (1.0, 14.020024525253078), (1.0, 14.020024525253078), (1.0, 14.020024525253078), (1.0, 14.020024525253078), (1.0, 14.020024525253078), (86.709984691225017, 2.488948174146052), (1.0, 14.020024525253078), (1.0, 14.020024525253078), (59.77263419888483, 3.906703463216588), (1.0, 14.020024525253078), (1.0, 14.020024525253078), (1.0, 14.020024525253078), (1.0, 14.020024525253078), (1.0, 14.020024525253078), (1.0, 14.020024525253078), (29.842244762951296, 5.4819871177394059), (1.0, 14.020024525253078), (1.0, 14.020024525253078), (1.0, 14.020024525253078), (1.0, 14.020024525253078), (1.0, 14.020024525253078), (89.104415846099698, 2.3629254817842269), (60.371241987603511, 3.8751977901261316), (1.0, 14.020024525253078), (1.0, 14.020024525253078), (63.364280931196845, 3.7176694246738502), (61.568457565040838, 3.8121864439452193), (44.807439480918056, 4.6943452904779974), (31.039460340388647, 5.4189757715584932), (1.0, 14.020024525253078), (1.0, 14.020024525253078), (1.0, 14.020024525253078), (1.0, 14.020024525253078), (1.0, 14.020024525253078), (1.0, 14.020024525253078), (1.0, 14.020024525253078), (17.870088988577869, 6.1121005795485335), (1.0, 14.020024525253078), (1.0, 14.020024525253078), (1.0, 14.020024525253078), (1.0, 14.020024525253078), (78.329475649163626, 2.9300275974124412), (48.399086213230078, 4.5053112519352592), (1.0, 14.020024525253078), (1.0, 14.020024525253078), (65.75871208607154, 3.5916467323120247), (1.0, 14.020024525253078), (92.696062578411727, 2.1738914432414886), (1.0, 14.020024525253078), (50.793517368104766, 4.3792885595734337), (1.0, 14.020024525253078), (1.0, 14.020024525253078), (1.0, 14.020024525253078), (1.0, 14.020024525253078), (1.0, 14.020024525253078), (89.104415846099698, 2.3629254817842269), (1.0, 14.020024525253078), (25.053382453201923, 5.734032502463057), (1.0, 14.020024525253078), (1.0, 14.020024525253078), (1.0, 14.020024525253078), (1.0, 14.020024525253078), (1.0, 14.020024525253078), (1.0, 14.020024525253078), (1.0, 14.020024525253078), (1.0, 11.184513947112006), (1.0, 14.020024525253078), (25.053382453201923, 5.734032502463057), (1.0, 14.020024525253078), (66.955927663508888, 3.5286353861311119), (1.0, 14.020024525253078), (1.0, 14.020024525253078), (1.0, 14.020024525253078), (1.0, 14.020024525253078), (1.0, 14.020024525253078), (1.0, 14.020024525253078), (1.0, 14.020024525253078), (1.0, 14.020024525253078), (1.0, 14.020024525253078), (1.0, 14.020024525253078), (1.0, 14.020024525253078), (1.0, 14.020024525253078), (93.294670367130394, 2.1423857701510323), (1.0, 14.020024525253078), (1.0, 14.020024525253078), (1.0, 14.020024525253078), (1.0, 14.020024525253078), (1.0, 14.020024525253078), (1.0, 14.020024525253078), (1.0, 14.020024525253078), (87.907200268662351, 2.4259368279651397), (45.40604726963673, 4.662839617387541), (26.250598030639271, 5.6710211562821442), (1.0, 14.020024525253078), (1.0, 14.020024525253078), (1.0, 14.020024525253078), (1.0, 14.020024525253078), (86.111376902506336, 2.5204538472365083), (1.0, 14.020024525253078), (1.0, 14.020024525253078), (59.77263419888483, 3.906703463216588), (1.0, 14.020024525253078), (1.0, 14.020024525253078), (1.0, 14.020024525253078), (1.0, 14.020024525253078), (1.0, 14.020024525253078), (1.0, 14.020024525253078), (1.0, 14.020024525253078), (40.018577171168701, 4.9463906752016475), (43.610223903480716, 4.7573566366589102), (1.0, 14.020024525253078), (1.0, 14.020024525253078), (1.0, 14.020024525253078), (1.0, 14.020024525253078), (1.0, 14.020024525253078), (1.0, 14.020024525253078), (1.0, 14.020024525253078), (1.0, 14.020024525253078), (17.271481199859195, 6.1436062526389899), (1.0, 14.020024525253078), (1.0, 14.020024525253078), (1.0, 14.020024525253078), (1.0, 14.020024525253078), (1.0, 14.020024525253078), (9.4895799465164909, 6.5531800028149219), (85.512769113787684, 2.5519595203269647), (1.0, 14.020024525253078), (1.0, 14.020024525253078), (44.208831692199382, 4.7258509635684538), (63.962888719915526, 3.6861637515833938), (1.0, 14.020024525253078), (1.0, 14.020024525253078), (54.385164100416794, 4.1902545210306954), (1.0, 14.020024525253078), (1.0, 14.020024525253078), (1.0, 14.020024525253078), (6.4965410029231396, 6.7107083682672037), (1.0, 14.020024525253078), (83.118337958912988, 2.6779822126887902), (40.617184959887375, 4.9148850021111912), (1.0, 14.020024525253078), (1.0, 8.2229806766091098), (1.0, 14.020024525253078), (57.378203044010142, 4.0327261555784135), (74.737828916851598, 3.1190616359551795), (1.0, 14.020024525253078), (1.0, 14.020024525253078), (1.0, 14.020024525253078), (1.0, 14.020024525253078), (35.229714861419339, 5.1984360599252986), (1.0, 14.020024525253078), (1.0, 14.020024525253078), (34.032499283981984, 5.2614474061062113), (1.0, 14.020024525253078), (1.0, 14.020024525253078), (1.0, 14.020024525253078), (1.0, 14.020024525253078), (1.0, 14.020024525253078), (1.0, 14.020024525253078), (1.0, 14.020024525253078), (1.0, 14.020024525253078), (51.39212515682344, 4.3477828864829773), (1.0, 14.020024525253078), (1.0, 14.020024525253078), (91.498847000974379, 2.2369027894224014), (1.0, 9.3571849078655376), (52.58934073426078, 4.2847715403020645), (1.0, 14.020024525253078), (83.716945747631669, 2.6464765395983338), (1.0, 14.020024525253078), (36.426930438856672, 5.1354247137443858), (53.786556311698121, 4.2217601941211518), (35.229714861419339, 5.1984360599252986), (58.575418621447497, 3.9697148093975008), (1.0, 14.020024525253078), (37.025538227575353, 5.1039190406539294), (53.786556311698121, 4.2217601941211518), (1.0, 14.020024525253078), (1.0, 14.020024525253078), (1.0, 14.020024525253078), (1.0, 14.020024525253078), (1.0, 14.020024525253078), (47.800478424511418, 4.5368169250257155), (46.004655058355404, 4.6313339442970847)]\n"
       ]
      }
     ],
     "prompt_number": 262
    },
    {
     "cell_type": "code",
     "collapsed": false,
     "input": [],
     "language": "python",
     "metadata": {},
     "outputs": []
    }
   ],
   "metadata": {}
  }
 ]
}