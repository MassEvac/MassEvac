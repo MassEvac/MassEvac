{
 "metadata": {
  "name": ""
 },
 "nbformat": 3,
 "nbformat_minor": 0,
 "worksheets": [
  {
   "cells": [
    {
     "cell_type": "markdown",
     "metadata": {},
     "source": [
      "Load Bristol and convert to networkx"
     ]
    },
    {
     "cell_type": "code",
     "collapsed": false,
     "input": [
      "import abm, gc, os, time\n",
      "reload(abm)\n",
      "\n",
      "cities=os.listdir('cities/osm_gb')\n",
      "\n",
      "sim = 'pfactor'\n",
      "cities = [   'City of Edinburgh',\n",
      "             'Glasgow City',\n",
      "             'Cardiff',\n",
      "             'Liverpool',\n",
      "             'Manchester',\n",
      "             'Bradford',\n",
      "             'City of Bristol',\n",
      "             'Sheffield',\n",
      "             'Cambridge',\n",
      "             'Birmingham',\n",
      "             'Leeds',   \n",
      "             'London',\n",
      "            ]\n",
      "\n",
      "# Best estimate of population multiplier\n",
      "# Assumes that population growth spread is uniform across the UK\\\n",
      "p2000 = 58.459\n",
      "# Source: http://en.wikipedia.org/wiki/List_of_countries_by_population_in_2000\n",
      "p2015 = 63.935\n",
      "# Source: http://en.wikipedia.org/wiki/List_of_countries_by_future_population_(Medium_variant)\n",
      "p_factor = p2015/p2000\n",
      "\n",
      "# Save each exit to a different file\n",
      "for city in cities:\n",
      "    run = abm.ABM(sim=sim,name=city,p_factor=p_factor,speedup=60,loadpath=True,n=None,destins=None)\n",
      "    for df in [0,1]:\n",
      "        run.density_factor = df\n",
      "        run.make_agents_file()\n",
      "        print run.agents_file\n",
      "        run.run_sim(fps=20,bitrate=4000,video=True)\n",
      "        #run.load_agents('result')\n",
      "        run.save_agents('result')\n",
      "        run.et_figure(count=100,lognorm=1)\n",
      "    del run\n",
      "    gc.collect()"
     ],
     "language": "python",
     "metadata": {},
     "outputs": [
      {
       "output_type": "stream",
       "stream": "stdout",
       "text": [
        "Processing paths to destination 0...\n",
        "Processing paths to destination 5..."
       ]
      },
      {
       "output_type": "stream",
       "stream": "stdout",
       "text": [
        "\n",
        "Processing paths to destination 9..."
       ]
      },
      {
       "output_type": "stream",
       "stream": "stdout",
       "text": [
        "\n",
        "Processing paths to destination 223..."
       ]
      },
      {
       "output_type": "stream",
       "stream": "stdout",
       "text": [
        "\n",
        "Processing paths to destination 243..."
       ]
      },
      {
       "output_type": "stream",
       "stream": "stdout",
       "text": [
        "\n",
        "Processing paths to destination 1441..."
       ]
      },
      {
       "output_type": "stream",
       "stream": "stdout",
       "text": [
        "\n",
        "Processing paths to destination 2635..."
       ]
      },
      {
       "output_type": "stream",
       "stream": "stdout",
       "text": [
        "\n",
        "Processing paths to destination 22475..."
       ]
      },
      {
       "output_type": "stream",
       "stream": "stdout",
       "text": [
        "\n",
        "Processing paths to destination 34088..."
       ]
      },
      {
       "output_type": "stream",
       "stream": "stdout",
       "text": [
        "\n",
        "Processing paths to destination 34104..."
       ]
      },
      {
       "output_type": "stream",
       "stream": "stdout",
       "text": [
        "\n",
        "Processing paths to destination 35255..."
       ]
      },
      {
       "output_type": "stream",
       "stream": "stdout",
       "text": [
        "\n",
        "Processing paths to destination 35448..."
       ]
      },
      {
       "output_type": "stream",
       "stream": "stdout",
       "text": [
        "\n",
        "Processing paths to destination 35486..."
       ]
      },
      {
       "output_type": "stream",
       "stream": "stdout",
       "text": [
        "\n",
        "Processing paths to destination 35491..."
       ]
      },
      {
       "output_type": "stream",
       "stream": "stdout",
       "text": [
        "\n",
        "abm/pfactor/City of Edinburgh/(ff)n-491624-destins-0-5-9-223-243-1441-2635-22475-34088-34104-35255-35448-35486-35491"
       ]
      },
      {
       "output_type": "stream",
       "stream": "stdout",
       "text": [
        "\n",
        "0.49692447887% of agents (2443 of 491624) had to be re-created!"
       ]
      },
      {
       "output_type": "stream",
       "stream": "stdout",
       "text": [
        "\n",
        "Agents saved to cache."
       ]
      },
      {
       "output_type": "stream",
       "stream": "stdout",
       "text": [
        "\n",
        "Starting this simulation..."
       ]
      },
      {
       "output_type": "stream",
       "stream": "stdout",
       "text": [
        "\n",
        "Frame 0 Agents 490651 A0: Density 0.0 Time None..."
       ]
      },
      {
       "output_type": "stream",
       "stream": "stdout",
       "text": [
        "\n",
        "Frame 10 Agents 483100 A0: Density 0.0 Time None..."
       ]
      },
      {
       "output_type": "stream",
       "stream": "stdout",
       "text": [
        "\n",
        "Frame 20 Agents 464466 A0: Density 0.0 Time None..."
       ]
      },
      {
       "output_type": "stream",
       "stream": "stdout",
       "text": [
        "\n",
        "Frame 30 Agents 437209 A0: Density 0.0 Time None..."
       ]
      },
      {
       "output_type": "stream",
       "stream": "stdout",
       "text": [
        "\n",
        "Frame 40 Agents 398569 A0: Density 0.0 Time None..."
       ]
      },
      {
       "output_type": "stream",
       "stream": "stdout",
       "text": [
        "\n",
        "Frame 50 Agents 348804 A0: Density 0.0 Time None..."
       ]
      },
      {
       "output_type": "stream",
       "stream": "stdout",
       "text": [
        "\n",
        "Frame 60 Agents 292061 A0: Density 0.0 Time None..."
       ]
      },
      {
       "output_type": "stream",
       "stream": "stdout",
       "text": [
        "\n",
        "Frame 70 Agents 219884 A0: Density 0.0 Time None..."
       ]
      },
      {
       "output_type": "stream",
       "stream": "stdout",
       "text": [
        "\n",
        "Frame 80 Agents 152623 A0: Density 0.0 Time None..."
       ]
      },
      {
       "output_type": "stream",
       "stream": "stdout",
       "text": [
        "\n",
        "Frame 90 Agents 105559 A0: Density 0.0 Time None..."
       ]
      },
      {
       "output_type": "stream",
       "stream": "stdout",
       "text": [
        "\n",
        "Frame 100 Agents 60781 A0: Density 0.0 Time None..."
       ]
      },
      {
       "output_type": "stream",
       "stream": "stdout",
       "text": [
        "\n",
        "Frame 110 Agents 30650 A0: Density 0.0 Time 101.160139176..."
       ]
      },
      {
       "output_type": "stream",
       "stream": "stdout",
       "text": [
        "\n",
        "Frame 120 Agents 11387 A0: Density 0.0 Time 101.160139176..."
       ]
      },
      {
       "output_type": "stream",
       "stream": "stdout",
       "text": [
        "\n",
        "Frame 130 Agents 3388 A0: Density 0.0 Time 101.160139176..."
       ]
      },
      {
       "output_type": "stream",
       "stream": "stdout",
       "text": [
        "\n",
        "Frame 140 Agents 70 A0: Density 0.0 Time 101.160139176..."
       ]
      },
      {
       "output_type": "stream",
       "stream": "stdout",
       "text": [
        "\n",
        "Frame 150 Agents 40 A0: Density 0.0 Time 101.160139176..."
       ]
      },
      {
       "output_type": "stream",
       "stream": "stdout",
       "text": [
        "\n",
        "Frame 160 Agents 23 A0: Density 0.0 Time 101.160139176..."
       ]
      },
      {
       "output_type": "stream",
       "stream": "stdout",
       "text": [
        "\n",
        "Frame 170 Agents 0 A0: Density 0.0 Time 101.160139176..."
       ]
      },
      {
       "output_type": "stream",
       "stream": "stdout",
       "text": [
        "\n",
        "Frame 171 Agents 0 A0: Density 0.0 Time 101.160139176..."
       ]
      },
      {
       "output_type": "stream",
       "stream": "stdout",
       "text": [
        "\n",
        "End of this simulation.\n",
        "Agents saved to result."
       ]
      },
      {
       "output_type": "stream",
       "stream": "stdout",
       "text": [
        "\n",
        "abm/pfactor/City of Edinburgh/n-491624-destins-0-5-9-223-243-1441-2635-22475-34088-34104-35255-35448-35486-35491"
       ]
      },
      {
       "output_type": "stream",
       "stream": "stdout",
       "text": [
        "\n",
        "0.493263144191% of agents (2425 of 491624) had to be re-created!"
       ]
      },
      {
       "output_type": "stream",
       "stream": "stdout",
       "text": [
        "\n",
        "Agents saved to cache."
       ]
      },
      {
       "output_type": "stream",
       "stream": "stdout",
       "text": [
        "\n",
        "Starting this simulation..."
       ]
      },
      {
       "output_type": "stream",
       "stream": "stdout",
       "text": [
        "\n",
        "Frame 0 Agents 491125 A0: Density 0.210789832301 Time None..."
       ]
      },
      {
       "output_type": "stream",
       "stream": "stdout",
       "text": [
        "\n",
        "Frame 10 Agents 483042 A0: Density 0.782252717058 Time None..."
       ]
      },
      {
       "output_type": "stream",
       "stream": "stdout",
       "text": [
        "\n",
        "Frame 20 Agents 465567 A0: Density 0.813159531453 Time None..."
       ]
      },
      {
       "output_type": "stream",
       "stream": "stdout",
       "text": [
        "\n",
        "Frame 30 Agents 441708 A0: Density 3.51478522303 Time None..."
       ]
      },
      {
       "output_type": "stream",
       "stream": "stdout",
       "text": [
        "\n",
        "Frame 40 Agents 416514 A0: Density 5.49994546854 Time None..."
       ]
      },
      {
       "output_type": "stream",
       "stream": "stdout",
       "text": [
        "\n",
        "Frame 50 Agents 392877 A0: Density 5.49994546854 Time None..."
       ]
      },
      {
       "output_type": "stream",
       "stream": "stdout",
       "text": [
        "\n",
        "Frame 60 Agents 377631 A0: Density 5.49994546854 Time None..."
       ]
      },
      {
       "output_type": "stream",
       "stream": "stdout",
       "text": [
        "\n",
        "Frame 70 Agents 364640 A0: Density 5.49994546854 Time None..."
       ]
      },
      {
       "output_type": "stream",
       "stream": "stdout",
       "text": [
        "\n",
        "Frame 80 Agents 350428 A0: Density 5.49994546854 Time None..."
       ]
      },
      {
       "output_type": "stream",
       "stream": "stdout",
       "text": [
        "\n",
        "Frame 90 Agents 340226 A0: Density 5.49994546854 Time None..."
       ]
      },
      {
       "output_type": "stream",
       "stream": "stdout",
       "text": [
        "\n",
        "Frame 100 Agents 328750 A0: Density 5.49994546854 Time None..."
       ]
      },
      {
       "output_type": "stream",
       "stream": "stdout",
       "text": [
        "\n",
        "Frame 110 Agents 317045 A0: Density 5.49994546854 Time None..."
       ]
      },
      {
       "output_type": "stream",
       "stream": "stdout",
       "text": [
        "\n",
        "Frame 120 Agents 308363 A0: Density 5.4994862596 Time None..."
       ]
      },
      {
       "output_type": "stream",
       "stream": "stdout",
       "text": [
        "\n",
        "Frame 130 Agents 298003 A0: Density 5.49994546854 Time None..."
       ]
      },
      {
       "output_type": "stream",
       "stream": "stdout",
       "text": [
        "\n",
        "Frame 140 Agents 290637 A0: Density 5.49994546854 Time None..."
       ]
      },
      {
       "output_type": "stream",
       "stream": "stdout",
       "text": [
        "\n",
        "Frame 150 Agents 284186 A0: Density 5.49994546854 Time None..."
       ]
      },
      {
       "output_type": "stream",
       "stream": "stdout",
       "text": [
        "\n",
        "Frame 160 Agents 276833 A0: Density 5.49994546854 Time None..."
       ]
      },
      {
       "output_type": "stream",
       "stream": "stdout",
       "text": [
        "\n",
        "Frame 170 Agents 264994 A0: Density 5.49994546854 Time None..."
       ]
      },
      {
       "output_type": "stream",
       "stream": "stdout",
       "text": [
        "\n",
        "Frame 180 Agents 258984 A0: Density 5.49994546854 Time None..."
       ]
      },
      {
       "output_type": "stream",
       "stream": "stdout",
       "text": [
        "\n",
        "Frame 190 Agents 253418 A0: Density 5.49764311395 Time None..."
       ]
      },
      {
       "output_type": "stream",
       "stream": "stdout",
       "text": [
        "\n",
        "Frame 200 Agents 247741 A0: Density 5.49764311395 Time None..."
       ]
      },
      {
       "output_type": "stream",
       "stream": "stdout",
       "text": [
        "\n",
        "Frame 210 Agents 241559 A0: Density 5.49764311395 Time None..."
       ]
      },
      {
       "output_type": "stream",
       "stream": "stdout",
       "text": [
        "\n",
        "Frame 220 Agents 236178 A0: Density 5.49829480227 Time None..."
       ]
      },
      {
       "output_type": "stream",
       "stream": "stdout",
       "text": [
        "\n",
        "Frame 230 Agents 230382 A0: Density 5.49265263213 Time None..."
       ]
      },
      {
       "output_type": "stream",
       "stream": "stdout",
       "text": [
        "\n",
        "Frame 240 Agents 224669 A0: Density 5.49265263213 Time None..."
       ]
      },
      {
       "output_type": "stream",
       "stream": "stdout",
       "text": [
        "\n",
        "Frame 250 Agents 218757 A0: Density 0.64538488545 Time None..."
       ]
      },
      {
       "output_type": "stream",
       "stream": "stdout",
       "text": [
        "\n",
        "Frame 260 Agents 213770 A0: Density 0.939579888779 Time None..."
       ]
      },
      {
       "output_type": "stream",
       "stream": "stdout",
       "text": [
        "\n",
        "Frame 270 Agents 209006 A0: Density 0.588042853112 Time None..."
       ]
      },
      {
       "output_type": "stream",
       "stream": "stdout",
       "text": [
        "\n",
        "Frame 280 Agents 204224 A0: Density 0.589870713237 Time None..."
       ]
      },
      {
       "output_type": "stream",
       "stream": "stdout",
       "text": [
        "\n",
        "Frame 290 Agents 199516 A0: Density 0.0806551348185 Time 282.480425334..."
       ]
      },
      {
       "output_type": "stream",
       "stream": "stdout",
       "text": [
        "\n",
        "Frame 300 Agents 194520 A0: Density 0.0806551348185 Time 282.480425334..."
       ]
      },
      {
       "output_type": "stream",
       "stream": "stdout",
       "text": [
        "\n",
        "Frame 310 Agents 189302 A0: Density 0.0806551348185 Time 282.480425334..."
       ]
      },
      {
       "output_type": "stream",
       "stream": "stdout",
       "text": [
        "\n",
        "Frame 320 Agents 184524 A0: Density 0.0806551348185 Time 282.480425334..."
       ]
      },
      {
       "output_type": "stream",
       "stream": "stdout",
       "text": [
        "\n",
        "Frame 330 Agents 180315 A0: Density 0.0806551348185 Time 282.480425334..."
       ]
      },
      {
       "output_type": "stream",
       "stream": "stdout",
       "text": [
        "\n",
        "Frame 340 Agents 175843 A0: Density 0.0806551348185 Time 282.480425334..."
       ]
      },
      {
       "output_type": "stream",
       "stream": "stdout",
       "text": [
        "\n",
        "Frame 350 Agents 171611 A0: Density 0.0806551348185 Time 282.480425334..."
       ]
      },
      {
       "output_type": "stream",
       "stream": "stdout",
       "text": [
        "\n",
        "Frame 360 Agents 167344 A0: Density 0.0806551348185 Time 282.480425334..."
       ]
      },
      {
       "output_type": "stream",
       "stream": "stdout",
       "text": [
        "\n",
        "Frame 370 Agents 162820 A0: Density 0.0806551348185 Time 282.480425334..."
       ]
      },
      {
       "output_type": "stream",
       "stream": "stdout",
       "text": [
        "\n",
        "Frame 380 Agents 158680 A0: Density 0.0806551348185 Time 282.480425334..."
       ]
      },
      {
       "output_type": "stream",
       "stream": "stdout",
       "text": [
        "\n",
        "Frame 390 Agents 154411 A0: Density 0.0806551348185 Time 282.480425334..."
       ]
      },
      {
       "output_type": "stream",
       "stream": "stdout",
       "text": [
        "\n",
        "Frame 400 Agents 149875 A0: Density 0.0806551348185 Time 282.480425334..."
       ]
      },
      {
       "output_type": "stream",
       "stream": "stdout",
       "text": [
        "\n",
        "Frame 410 Agents 145791 A0: Density 0.0806551348185 Time 282.480425334..."
       ]
      },
      {
       "output_type": "stream",
       "stream": "stdout",
       "text": [
        "\n",
        "Frame 420 Agents 141404 A0: Density 0.0806551348185 Time 282.480425334..."
       ]
      },
      {
       "output_type": "stream",
       "stream": "stdout",
       "text": [
        "\n",
        "Frame 430 Agents 137004 A0: Density 0.0806551348185 Time 282.480425334..."
       ]
      },
      {
       "output_type": "stream",
       "stream": "stdout",
       "text": [
        "\n",
        "Frame 440 Agents 132833 A0: Density 0.0806551348185 Time 282.480425334..."
       ]
      },
      {
       "output_type": "stream",
       "stream": "stdout",
       "text": [
        "\n",
        "Frame 450 Agents 128419 A0: Density 0.0806551348185 Time 282.480425334..."
       ]
      },
      {
       "output_type": "stream",
       "stream": "stdout",
       "text": [
        "\n",
        "Frame 460 Agents 124090 A0: Density 0.0806551348185 Time 282.480425334..."
       ]
      },
      {
       "output_type": "stream",
       "stream": "stdout",
       "text": [
        "\n",
        "Frame 470 Agents 119867 A0: Density 0.0806551348185 Time 282.480425334..."
       ]
      },
      {
       "output_type": "stream",
       "stream": "stdout",
       "text": [
        "\n",
        "Frame 480 Agents 115440 A0: Density 0.0806551348185 Time 282.480425334..."
       ]
      },
      {
       "output_type": "stream",
       "stream": "stdout",
       "text": [
        "\n",
        "Frame 490 Agents 111175 A0: Density 0.0806551348185 Time 282.480425334..."
       ]
      },
      {
       "output_type": "stream",
       "stream": "stdout",
       "text": [
        "\n",
        "Frame 500 Agents 106991 A0: Density 0.0806551348185 Time 282.480425334..."
       ]
      },
      {
       "output_type": "stream",
       "stream": "stdout",
       "text": [
        "\n",
        "Frame 510 Agents 102431 A0: Density 0.0806551348185 Time 282.480425334..."
       ]
      },
      {
       "output_type": "stream",
       "stream": "stdout",
       "text": [
        "\n",
        "Frame 520 Agents 98268 A0: Density 0.0806551348185 Time 282.480425334..."
       ]
      },
      {
       "output_type": "stream",
       "stream": "stdout",
       "text": [
        "\n",
        "Frame 530 Agents 94008 A0: Density 0.0806551348185 Time 282.480425334..."
       ]
      },
      {
       "output_type": "stream",
       "stream": "stdout",
       "text": [
        "\n",
        "Frame 540 Agents 89514 A0: Density 0.0806551348185 Time 282.480425334..."
       ]
      },
      {
       "output_type": "stream",
       "stream": "stdout",
       "text": [
        "\n",
        "Frame 550 Agents 85369 A0: Density 0.0806551348185 Time 282.480425334..."
       ]
      },
      {
       "output_type": "stream",
       "stream": "stdout",
       "text": [
        "\n",
        "Frame 560 Agents 81072 A0: Density 0.0806551348185 Time 282.480425334..."
       ]
      },
      {
       "output_type": "stream",
       "stream": "stdout",
       "text": [
        "\n",
        "Frame 570 Agents 76610 A0: Density 0.0806551348185 Time 282.480425334..."
       ]
      },
      {
       "output_type": "stream",
       "stream": "stdout",
       "text": [
        "\n",
        "Frame 580 Agents 72407 A0: Density 0.0806551348185 Time 282.480425334..."
       ]
      },
      {
       "output_type": "stream",
       "stream": "stdout",
       "text": [
        "\n",
        "Frame 590 Agents 68114 A0: Density 0.0806551348185 Time 282.480425334..."
       ]
      },
      {
       "output_type": "stream",
       "stream": "stdout",
       "text": [
        "\n",
        "Frame 600 Agents 63685 A0: Density 0.0806551348185 Time 282.480425334..."
       ]
      },
      {
       "output_type": "stream",
       "stream": "stdout",
       "text": [
        "\n",
        "Frame 610 Agents 59503 A0: Density 0.0806551348185 Time 282.480425334..."
       ]
      },
      {
       "output_type": "stream",
       "stream": "stdout",
       "text": [
        "\n",
        "Frame 620 Agents 55093 A0: Density 0.0806551348185 Time 282.480425334..."
       ]
      },
      {
       "output_type": "stream",
       "stream": "stdout",
       "text": [
        "\n",
        "Frame 630 Agents 50698 A0: Density 0.0806551348185 Time 282.480425334..."
       ]
      },
      {
       "output_type": "stream",
       "stream": "stdout",
       "text": [
        "\n",
        "Frame 640 Agents 46008 A0: Density 0.0806551348185 Time 282.480425334..."
       ]
      },
      {
       "output_type": "stream",
       "stream": "stdout",
       "text": [
        "\n",
        "Frame 650 Agents 41408 A0: Density 0.0806551348185 Time 282.480425334..."
       ]
      },
      {
       "output_type": "stream",
       "stream": "stdout",
       "text": [
        "\n",
        "Frame 660 Agents 39991 A0: Density 0.0806551348185 Time 282.480425334..."
       ]
      },
      {
       "output_type": "stream",
       "stream": "stdout",
       "text": [
        "\n",
        "Frame 670 Agents 38275 A0: Density 0.0806551348185 Time 282.480425334..."
       ]
      },
      {
       "output_type": "stream",
       "stream": "stdout",
       "text": [
        "\n",
        "Frame 680 Agents 36677 A0: Density 0.0806551348185 Time 282.480425334..."
       ]
      },
      {
       "output_type": "stream",
       "stream": "stdout",
       "text": [
        "\n",
        "Frame 690 Agents 35304 A0: Density 0.0806551348185 Time 282.480425334..."
       ]
      },
      {
       "output_type": "stream",
       "stream": "stdout",
       "text": [
        "\n",
        "Frame 700 Agents 33909 A0: Density 0.0806551348185 Time 282.480425334..."
       ]
      },
      {
       "output_type": "stream",
       "stream": "stdout",
       "text": [
        "\n",
        "Frame 710 Agents 32289 A0: Density 0.0806551348185 Time 282.480425334..."
       ]
      },
      {
       "output_type": "stream",
       "stream": "stdout",
       "text": [
        "\n",
        "Frame 720 Agents 30966 A0: Density 0.0806551348185 Time 282.480425334..."
       ]
      },
      {
       "output_type": "stream",
       "stream": "stdout",
       "text": [
        "\n",
        "Frame 730 Agents 29328 A0: Density 0.0806551348185 Time 282.480425334..."
       ]
      },
      {
       "output_type": "stream",
       "stream": "stdout",
       "text": [
        "\n",
        "Frame 740 Agents 27756 A0: Density 0.0806551348185 Time 282.480425334..."
       ]
      },
      {
       "output_type": "stream",
       "stream": "stdout",
       "text": [
        "\n",
        "Frame 750 Agents 26708 A0: Density 0.0806551348185 Time 282.480425334..."
       ]
      },
      {
       "output_type": "stream",
       "stream": "stdout",
       "text": [
        "\n",
        "Frame 760 Agents 25943 A0: Density 0.0806551348185 Time 282.480425334..."
       ]
      },
      {
       "output_type": "stream",
       "stream": "stdout",
       "text": [
        "\n",
        "Frame 770 Agents 25180 A0: Density 0.0806551348185 Time 282.480425334..."
       ]
      },
      {
       "output_type": "stream",
       "stream": "stdout",
       "text": [
        "\n",
        "Frame 780 Agents 24418 A0: Density 0.0806551348185 Time 282.480425334..."
       ]
      },
      {
       "output_type": "stream",
       "stream": "stdout",
       "text": [
        "\n",
        "Frame 790 Agents 23655 A0: Density 0.0806551348185 Time 282.480425334..."
       ]
      },
      {
       "output_type": "stream",
       "stream": "stdout",
       "text": [
        "\n",
        "Frame 800 Agents 22905 A0: Density 0.0806551348185 Time 282.480425334..."
       ]
      },
      {
       "output_type": "stream",
       "stream": "stdout",
       "text": [
        "\n",
        "Frame 810 Agents 22149 A0: Density 0.0806551348185 Time 282.480425334..."
       ]
      },
      {
       "output_type": "stream",
       "stream": "stdout",
       "text": [
        "\n",
        "Frame 820 Agents 21391 A0: Density 0.0806551348185 Time 282.480425334..."
       ]
      },
      {
       "output_type": "stream",
       "stream": "stdout",
       "text": [
        "\n",
        "Frame 830 Agents 20626 A0: Density 0.0806551348185 Time 282.480425334..."
       ]
      },
      {
       "output_type": "stream",
       "stream": "stdout",
       "text": [
        "\n",
        "Frame 840 Agents 19865 A0: Density 0.0806551348185 Time 282.480425334..."
       ]
      },
      {
       "output_type": "stream",
       "stream": "stdout",
       "text": [
        "\n",
        "Frame 850 Agents 19104 A0: Density 0.0806551348185 Time 282.480425334..."
       ]
      },
      {
       "output_type": "stream",
       "stream": "stdout",
       "text": [
        "\n",
        "Frame 860 Agents 18338 A0: Density 0.0806551348185 Time 282.480425334..."
       ]
      },
      {
       "output_type": "stream",
       "stream": "stdout",
       "text": [
        "\n",
        "Frame 870 Agents 17582 A0: Density 0.0806551348185 Time 282.480425334..."
       ]
      },
      {
       "output_type": "stream",
       "stream": "stdout",
       "text": [
        "\n",
        "Frame 880 Agents 16810 A0: Density 0.0806551348185 Time 282.480425334..."
       ]
      },
      {
       "output_type": "stream",
       "stream": "stdout",
       "text": [
        "\n",
        "Frame 890 Agents 16058 A0: Density 0.0806551348185 Time 282.480425334..."
       ]
      },
      {
       "output_type": "stream",
       "stream": "stdout",
       "text": [
        "\n",
        "Frame 900 Agents 15294 A0: Density 0.0806551348185 Time 282.480425334..."
       ]
      },
      {
       "output_type": "stream",
       "stream": "stdout",
       "text": [
        "\n",
        "Frame 910 Agents 14538 A0: Density 0.0806551348185 Time 282.480425334..."
       ]
      },
      {
       "output_type": "stream",
       "stream": "stdout",
       "text": [
        "\n",
        "Frame 920 Agents 13776 A0: Density 0.0806551348185 Time 282.480425334..."
       ]
      },
      {
       "output_type": "stream",
       "stream": "stdout",
       "text": [
        "\n",
        "Frame 930 Agents 13017 A0: Density 0.0806551348185 Time 282.480425334..."
       ]
      },
      {
       "output_type": "stream",
       "stream": "stdout",
       "text": [
        "\n",
        "Frame 940 Agents 12255 A0: Density 0.0806551348185 Time 282.480425334..."
       ]
      },
      {
       "output_type": "stream",
       "stream": "stdout",
       "text": [
        "\n",
        "Frame 950 Agents 11492 A0: Density 0.0806551348185 Time 282.480425334..."
       ]
      },
      {
       "output_type": "stream",
       "stream": "stdout",
       "text": [
        "\n",
        "Frame 960 Agents 10734 A0: Density 0.0806551348185 Time 282.480425334..."
       ]
      },
      {
       "output_type": "stream",
       "stream": "stdout",
       "text": [
        "\n",
        "Frame 970 Agents 9975 A0: Density 0.0806551348185 Time 282.480425334..."
       ]
      },
      {
       "output_type": "stream",
       "stream": "stdout",
       "text": [
        "\n",
        "Frame 980 Agents 9212 A0: Density 0.0806551348185 Time 282.480425334..."
       ]
      },
      {
       "output_type": "stream",
       "stream": "stdout",
       "text": [
        "\n",
        "Frame 990 Agents 8452 A0: Density 0.0806551348185 Time 282.480425334..."
       ]
      },
      {
       "output_type": "stream",
       "stream": "stdout",
       "text": [
        "\n",
        "Frame 1000 Agents 7688 A0: Density 0.0806551348185 Time 282.480425334..."
       ]
      },
      {
       "output_type": "stream",
       "stream": "stdout",
       "text": [
        "\n",
        "Frame 1010 Agents 6925 A0: Density 0.0806551348185 Time 282.480425334..."
       ]
      },
      {
       "output_type": "stream",
       "stream": "stdout",
       "text": [
        "\n",
        "Frame 1020 Agents 6159 A0: Density 0.0806551348185 Time 282.480425334..."
       ]
      },
      {
       "output_type": "stream",
       "stream": "stdout",
       "text": [
        "\n",
        "Frame 1030 Agents 5393 A0: Density 0.0806551348185 Time 282.480425334..."
       ]
      },
      {
       "output_type": "stream",
       "stream": "stdout",
       "text": [
        "\n",
        "Frame 1040 Agents 4640 A0: Density 0.0806551348185 Time 282.480425334..."
       ]
      },
      {
       "output_type": "stream",
       "stream": "stdout",
       "text": [
        "\n",
        "Frame 1050 Agents 3877 A0: Density 0.0806551348185 Time 282.480425334..."
       ]
      },
      {
       "output_type": "stream",
       "stream": "stdout",
       "text": [
        "\n",
        "Frame 1060 Agents 3107 A0: Density 0.0806551348185 Time 282.480425334..."
       ]
      },
      {
       "output_type": "stream",
       "stream": "stdout",
       "text": [
        "\n",
        "Frame 1070 Agents 2351 A0: Density 0.0806551348185 Time 282.480425334..."
       ]
      },
      {
       "output_type": "stream",
       "stream": "stdout",
       "text": [
        "\n",
        "Frame 1080 Agents 1587 A0: Density 0.0806551348185 Time 282.480425334..."
       ]
      },
      {
       "output_type": "stream",
       "stream": "stdout",
       "text": [
        "\n",
        "Frame 1090 Agents 823 A0: Density 0.0806551348185 Time 282.480425334..."
       ]
      },
      {
       "output_type": "stream",
       "stream": "stdout",
       "text": [
        "\n",
        "Frame 1099 Agents 0 A0: Density 0.0806551348185 Time 282.480425334..."
       ]
      },
      {
       "output_type": "stream",
       "stream": "stdout",
       "text": [
        "\n",
        "End of this simulation.\n",
        "Agents saved to result."
       ]
      },
      {
       "output_type": "stream",
       "stream": "stdout",
       "text": [
        "\n",
        "Processing paths to destination 20..."
       ]
      },
      {
       "output_type": "stream",
       "stream": "stdout",
       "text": [
        "\n",
        "Processing paths to destination 33..."
       ]
      },
      {
       "output_type": "stream",
       "stream": "stdout",
       "text": [
        "\n",
        "Processing paths to destination 43..."
       ]
      },
      {
       "output_type": "stream",
       "stream": "stdout",
       "text": [
        "\n",
        "Processing paths to destination 119..."
       ]
      },
      {
       "output_type": "stream",
       "stream": "stdout",
       "text": [
        "\n",
        "Processing paths to destination 145..."
       ]
      },
      {
       "output_type": "stream",
       "stream": "stdout",
       "text": [
        "\n",
        "Processing paths to destination 327..."
       ]
      },
      {
       "output_type": "stream",
       "stream": "stdout",
       "text": [
        "\n",
        "Processing paths to destination 600..."
       ]
      },
      {
       "output_type": "stream",
       "stream": "stdout",
       "text": [
        "\n",
        "Processing paths to destination 1705..."
       ]
      },
      {
       "output_type": "stream",
       "stream": "stdout",
       "text": [
        "\n",
        "Processing paths to destination 1717..."
       ]
      },
      {
       "output_type": "stream",
       "stream": "stdout",
       "text": [
        "\n",
        "Processing paths to destination 2539..."
       ]
      },
      {
       "output_type": "stream",
       "stream": "stdout",
       "text": [
        "\n",
        "Processing paths to destination 2700..."
       ]
      },
      {
       "output_type": "stream",
       "stream": "stdout",
       "text": [
        "\n",
        "Processing paths to destination 4090..."
       ]
      },
      {
       "output_type": "stream",
       "stream": "stdout",
       "text": [
        "\n",
        "Processing paths to destination 8462..."
       ]
      },
      {
       "output_type": "stream",
       "stream": "stdout",
       "text": [
        "\n",
        "Processing paths to destination 8509..."
       ]
      },
      {
       "output_type": "stream",
       "stream": "stdout",
       "text": [
        "\n",
        "Processing paths to destination 9601..."
       ]
      },
      {
       "output_type": "stream",
       "stream": "stdout",
       "text": [
        "\n",
        "Processing paths to destination 15898..."
       ]
      },
      {
       "output_type": "stream",
       "stream": "stdout",
       "text": [
        "\n",
        "Processing paths to destination 25625..."
       ]
      },
      {
       "output_type": "stream",
       "stream": "stdout",
       "text": [
        "\n",
        "Processing paths to destination 29286..."
       ]
      },
      {
       "output_type": "stream",
       "stream": "stdout",
       "text": [
        "\n",
        "Processing paths to destination 31847..."
       ]
      },
      {
       "output_type": "stream",
       "stream": "stdout",
       "text": [
        "\n",
        "Processing paths to destination 33440..."
       ]
      },
      {
       "output_type": "stream",
       "stream": "stdout",
       "text": [
        "\n",
        "Processing paths to destination 33717..."
       ]
      },
      {
       "output_type": "stream",
       "stream": "stdout",
       "text": [
        "\n",
        "Processing paths to destination 34721..."
       ]
      },
      {
       "output_type": "stream",
       "stream": "stdout",
       "text": [
        "\n",
        "Processing paths to destination 37206..."
       ]
      },
      {
       "output_type": "stream",
       "stream": "stdout",
       "text": [
        "\n",
        "Processing paths to destination 37242..."
       ]
      },
      {
       "output_type": "stream",
       "stream": "stdout",
       "text": [
        "\n",
        "Processing paths to destination 37716..."
       ]
      },
      {
       "output_type": "stream",
       "stream": "stdout",
       "text": [
        "\n",
        "Processing paths to destination 38014..."
       ]
      },
      {
       "output_type": "stream",
       "stream": "stdout",
       "text": [
        "\n",
        "Processing paths to destination 38025..."
       ]
      },
      {
       "output_type": "stream",
       "stream": "stdout",
       "text": [
        "\n",
        "Processing paths to destination 38041..."
       ]
      },
      {
       "output_type": "stream",
       "stream": "stdout",
       "text": [
        "\n",
        "Processing paths to destination 38063..."
       ]
      },
      {
       "output_type": "stream",
       "stream": "stdout",
       "text": [
        "\n",
        "abm/pfactor/Glasgow City/(ff)n-718948-destins-20-33-43-119-145-327-600-1705-1717-2539-2700-4090-8462-8509-9601-15898-25625-29286-31847-33440-33717-34721-37206-37242-37716-38014-38025-38041-38063"
       ]
      },
      {
       "output_type": "stream",
       "stream": "stdout",
       "text": [
        "\n",
        "2.11670385063% of agents (15218 of 718948) had to be re-created!"
       ]
      },
      {
       "output_type": "stream",
       "stream": "stdout",
       "text": [
        "\n",
        "Agents saved to cache."
       ]
      },
      {
       "output_type": "stream",
       "stream": "stdout",
       "text": [
        "\n",
        "Starting this simulation..."
       ]
      },
      {
       "output_type": "stream",
       "stream": "stdout",
       "text": [
        "\n",
        "Frame 0 Agents 718339 A0: Density 0.0 Time None..."
       ]
      },
      {
       "output_type": "stream",
       "stream": "stdout",
       "text": [
        "\n",
        "Frame 10 Agents 687763 A0: Density 0.0 Time None..."
       ]
      },
      {
       "output_type": "stream",
       "stream": "stdout",
       "text": [
        "\n",
        "Frame 20 Agents 578074 A0: Density 0.0 Time None..."
       ]
      },
      {
       "output_type": "stream",
       "stream": "stdout",
       "text": [
        "\n",
        "Frame 30 Agents 396552 A0: Density 0.0 Time 29.4227346412..."
       ]
      },
      {
       "output_type": "stream",
       "stream": "stdout",
       "text": [
        "\n",
        "Frame 40 Agents 215022 A0: Density 0.0 Time 29.4227346412..."
       ]
      },
      {
       "output_type": "stream",
       "stream": "stdout",
       "text": [
        "\n",
        "Frame 50 Agents 92092 A0: Density 0.0 Time 29.4227346412..."
       ]
      },
      {
       "output_type": "stream",
       "stream": "stdout",
       "text": [
        "\n",
        "Frame 60 Agents 22541 A0: Density 0.0 Time 29.4227346412..."
       ]
      },
      {
       "output_type": "stream",
       "stream": "stdout",
       "text": [
        "\n",
        "Frame 70 Agents 5480 A0: Density 0.0 Time 29.4227346412..."
       ]
      },
      {
       "output_type": "stream",
       "stream": "stdout",
       "text": [
        "\n",
        "Frame 80 Agents 1901 A0: Density 0.0 Time 29.4227346412..."
       ]
      },
      {
       "output_type": "stream",
       "stream": "stdout",
       "text": [
        "\n",
        "Frame 90 Agents 1115 A0: Density 0.0 Time 29.4227346412..."
       ]
      },
      {
       "output_type": "stream",
       "stream": "stdout",
       "text": [
        "\n",
        "Frame 100 Agents 787 A0: Density 0.0 Time 29.4227346412..."
       ]
      },
      {
       "output_type": "stream",
       "stream": "stdout",
       "text": [
        "\n",
        "Frame 110 Agents 589 A0: Density 0.0 Time 29.4227346412..."
       ]
      },
      {
       "output_type": "stream",
       "stream": "stdout",
       "text": [
        "\n",
        "Frame 120 Agents 430 A0: Density 0.0 Time 29.4227346412..."
       ]
      },
      {
       "output_type": "stream",
       "stream": "stdout",
       "text": [
        "\n",
        "Frame 130 Agents 325 A0: Density 0.0 Time 29.4227346412..."
       ]
      },
      {
       "output_type": "stream",
       "stream": "stdout",
       "text": [
        "\n",
        "Frame 140 Agents 215 A0: Density 0.0 Time 29.4227346412..."
       ]
      },
      {
       "output_type": "stream",
       "stream": "stdout",
       "text": [
        "\n",
        "Frame 150 Agents 110 A0: Density 0.0 Time 29.4227346412..."
       ]
      },
      {
       "output_type": "stream",
       "stream": "stdout",
       "text": [
        "\n",
        "Frame 160 Agents 2 A0: Density 0.0 Time 29.4227346412..."
       ]
      },
      {
       "output_type": "stream",
       "stream": "stdout",
       "text": [
        "\n",
        "Frame 162 Agents 0 A0: Density 0.0 Time 29.4227346412..."
       ]
      },
      {
       "output_type": "stream",
       "stream": "stdout",
       "text": [
        "\n",
        "End of this simulation.\n",
        "Agents saved to result."
       ]
      },
      {
       "output_type": "stream",
       "stream": "stdout",
       "text": [
        "\n",
        "abm/pfactor/Glasgow City/n-718948-destins-20-33-43-119-145-327-600-1705-1717-2539-2700-4090-8462-8509-9601-15898-25625-29286-31847-33440-33717-34721-37206-37242-37716-38014-38025-38041-38063"
       ]
      },
      {
       "output_type": "stream",
       "stream": "stdout",
       "text": [
        "\n",
        "2.09111090093% of agents (15034 of 718948) had to be re-created!"
       ]
      },
      {
       "output_type": "stream",
       "stream": "stdout",
       "text": [
        "\n",
        "Agents saved to cache."
       ]
      },
      {
       "output_type": "stream",
       "stream": "stdout",
       "text": [
        "\n",
        "Starting this simulation..."
       ]
      },
      {
       "output_type": "stream",
       "stream": "stdout",
       "text": [
        "\n",
        "Frame 0 Agents 718351 A0: Density 0.345713559822 Time None..."
       ]
      },
      {
       "output_type": "stream",
       "stream": "stdout",
       "text": [
        "\n",
        "Frame 10 Agents 689429 A0: Density 0.832645876348 Time None..."
       ]
      },
      {
       "output_type": "stream",
       "stream": "stdout",
       "text": [
        "\n",
        "Frame 20 Agents 619206 A0: Density 5.37518904844 Time None..."
       ]
      },
      {
       "output_type": "stream",
       "stream": "stdout",
       "text": [
        "\n",
        "Frame 30 Agents 547416 A0: Density 0.270950097364 Time None..."
       ]
      },
      {
       "output_type": "stream",
       "stream": "stdout",
       "text": [
        "\n",
        "Frame 40 Agents 483966 A0: Density 0.271946301435 Time None..."
       ]
      },
      {
       "output_type": "stream",
       "stream": "stdout",
       "text": [
        "\n",
        "Frame 50 Agents 431533 A0: Density 0.208115828293 Time None..."
       ]
      },
      {
       "output_type": "stream",
       "stream": "stdout",
       "text": [
        "\n",
        "Frame 60 Agents 392821 A0: Density 0.0261576636975 Time None..."
       ]
      },
      {
       "output_type": "stream",
       "stream": "stdout",
       "text": [
        "\n",
        "Frame 70 Agents 364336 A0: Density 0.0274846025025 Time 67.7899707594..."
       ]
      },
      {
       "output_type": "stream",
       "stream": "stdout",
       "text": [
        "\n",
        "Frame 80 Agents 337498 A0: Density 0.0274846025025 Time 67.7899707594..."
       ]
      },
      {
       "output_type": "stream",
       "stream": "stdout",
       "text": [
        "\n",
        "Frame 90 Agents 312590 A0: Density 0.0274846025025 Time 67.7899707594..."
       ]
      },
      {
       "output_type": "stream",
       "stream": "stdout",
       "text": [
        "\n",
        "Frame 100 Agents 292404 A0: Density 0.0274846025025 Time 67.7899707594..."
       ]
      },
      {
       "output_type": "stream",
       "stream": "stdout",
       "text": [
        "\n",
        "Frame 110 Agents 274982 A0: Density 0.0274846025025 Time 67.7899707594..."
       ]
      },
      {
       "output_type": "stream",
       "stream": "stdout",
       "text": [
        "\n",
        "Frame 120 Agents 256980 A0: Density 0.0274846025025 Time 67.7899707594..."
       ]
      },
      {
       "output_type": "stream",
       "stream": "stdout",
       "text": [
        "\n",
        "Frame 130 Agents 240949 A0: Density 0.0274846025025 Time 67.7899707594..."
       ]
      },
      {
       "output_type": "stream",
       "stream": "stdout",
       "text": [
        "\n",
        "Frame 140 Agents 223983 A0: Density 0.0274846025025 Time 67.7899707594..."
       ]
      },
      {
       "output_type": "stream",
       "stream": "stdout",
       "text": [
        "\n",
        "Frame 150 Agents 209302 A0: Density 0.0274846025025 Time 67.7899707594..."
       ]
      },
      {
       "output_type": "stream",
       "stream": "stdout",
       "text": [
        "\n",
        "Frame 160 Agents 195785 A0: Density 0.0274846025025 Time 67.7899707594..."
       ]
      },
      {
       "output_type": "stream",
       "stream": "stdout",
       "text": [
        "\n",
        "Frame 170 Agents 183808 A0: Density 0.0274846025025 Time 67.7899707594..."
       ]
      },
      {
       "output_type": "stream",
       "stream": "stdout",
       "text": [
        "\n",
        "Frame 180 Agents 169944 A0: Density 0.0274846025025 Time 67.7899707594..."
       ]
      },
      {
       "output_type": "stream",
       "stream": "stdout",
       "text": [
        "\n",
        "Frame 190 Agents 159358 A0: Density 0.0274846025025 Time 67.7899707594..."
       ]
      },
      {
       "output_type": "stream",
       "stream": "stdout",
       "text": [
        "\n",
        "Frame 200 Agents 148493 A0: Density 0.0274846025025 Time 67.7899707594..."
       ]
      },
      {
       "output_type": "stream",
       "stream": "stdout",
       "text": [
        "\n",
        "Frame 210 Agents 136765 A0: Density 0.0274846025025 Time 67.7899707594..."
       ]
      },
      {
       "output_type": "stream",
       "stream": "stdout",
       "text": [
        "\n",
        "Frame 220 Agents 126018 A0: Density 0.0274846025025 Time 67.7899707594..."
       ]
      },
      {
       "output_type": "stream",
       "stream": "stdout",
       "text": [
        "\n",
        "Frame 230 Agents 115687 A0: Density 0.0274846025025 Time 67.7899707594..."
       ]
      },
      {
       "output_type": "stream",
       "stream": "stdout",
       "text": [
        "\n",
        "Frame 240 Agents 105294 A0: Density 0.0274846025025 Time 67.7899707594..."
       ]
      },
      {
       "output_type": "stream",
       "stream": "stdout",
       "text": [
        "\n",
        "Frame 250 Agents 94697 A0: Density 0.0274846025025 Time 67.7899707594..."
       ]
      },
      {
       "output_type": "stream",
       "stream": "stdout",
       "text": [
        "\n",
        "Frame 260 Agents 86355 A0: Density 0.0274846025025 Time 67.7899707594..."
       ]
      },
      {
       "output_type": "stream",
       "stream": "stdout",
       "text": [
        "\n",
        "Frame 270 Agents 80659 A0: Density 0.0274846025025 Time 67.7899707594..."
       ]
      },
      {
       "output_type": "stream",
       "stream": "stdout",
       "text": [
        "\n",
        "Frame 280 Agents 74689 A0: Density 0.0274846025025 Time 67.7899707594..."
       ]
      },
      {
       "output_type": "stream",
       "stream": "stdout",
       "text": [
        "\n",
        "Frame 290 Agents 68787 A0: Density 0.0274846025025 Time 67.7899707594..."
       ]
      },
      {
       "output_type": "stream",
       "stream": "stdout",
       "text": [
        "\n",
        "Frame 300 Agents 64070 A0: Density 0.0274846025025 Time 67.7899707594..."
       ]
      },
      {
       "output_type": "stream",
       "stream": "stdout",
       "text": [
        "\n",
        "Frame 310 Agents 59284 A0: Density 0.0274846025025 Time 67.7899707594..."
       ]
      },
      {
       "output_type": "stream",
       "stream": "stdout",
       "text": [
        "\n",
        "Frame 320 Agents 54305 A0: Density 0.0274846025025 Time 67.7899707594..."
       ]
      },
      {
       "output_type": "stream",
       "stream": "stdout",
       "text": [
        "\n",
        "Frame 330 Agents 49546 A0: Density 0.0274846025025 Time 67.7899707594..."
       ]
      },
      {
       "output_type": "stream",
       "stream": "stdout",
       "text": [
        "\n",
        "Frame 340 Agents 45165 A0: Density 0.0274846025025 Time 67.7899707594..."
       ]
      },
      {
       "output_type": "stream",
       "stream": "stdout",
       "text": [
        "\n",
        "Frame 350 Agents 40656 A0: Density 0.0274846025025 Time 67.7899707594..."
       ]
      },
      {
       "output_type": "stream",
       "stream": "stdout",
       "text": [
        "\n",
        "Frame 360 Agents 36340 A0: Density 0.0274846025025 Time 67.7899707594..."
       ]
      },
      {
       "output_type": "stream",
       "stream": "stdout",
       "text": [
        "\n",
        "Frame 370 Agents 31724 A0: Density 0.0274846025025 Time 67.7899707594..."
       ]
      },
      {
       "output_type": "stream",
       "stream": "stdout",
       "text": [
        "\n",
        "Frame 380 Agents 27199 A0: Density 0.0274846025025 Time 67.7899707594..."
       ]
      },
      {
       "output_type": "stream",
       "stream": "stdout",
       "text": [
        "\n",
        "Frame 390 Agents 22431 A0: Density 0.0274846025025 Time 67.7899707594..."
       ]
      },
      {
       "output_type": "stream",
       "stream": "stdout",
       "text": [
        "\n",
        "Frame 400 Agents 17616 A0: Density 0.0274846025025 Time 67.7899707594..."
       ]
      },
      {
       "output_type": "stream",
       "stream": "stdout",
       "text": [
        "\n",
        "Frame 410 Agents 12323 A0: Density 0.0274846025025 Time 67.7899707594..."
       ]
      },
      {
       "output_type": "stream",
       "stream": "stdout",
       "text": [
        "\n",
        "Frame 420 Agents 9255 A0: Density 0.0274846025025 Time 67.7899707594..."
       ]
      },
      {
       "output_type": "stream",
       "stream": "stdout",
       "text": [
        "\n",
        "Frame 430 Agents 7623 A0: Density 0.0274846025025 Time 67.7899707594..."
       ]
      },
      {
       "output_type": "stream",
       "stream": "stdout",
       "text": [
        "\n",
        "Frame 440 Agents 5980 A0: Density 0.0274846025025 Time 67.7899707594..."
       ]
      },
      {
       "output_type": "stream",
       "stream": "stdout",
       "text": [
        "\n",
        "Frame 450 Agents 4321 A0: Density 0.0274846025025 Time 67.7899707594..."
       ]
      },
      {
       "output_type": "stream",
       "stream": "stdout",
       "text": [
        "\n",
        "Frame 460 Agents 2699 A0: Density 0.0274846025025 Time 67.7899707594..."
       ]
      },
      {
       "output_type": "stream",
       "stream": "stdout",
       "text": [
        "\n",
        "Frame 470 Agents 1922 A0: Density 0.0274846025025 Time 67.7899707594..."
       ]
      },
      {
       "output_type": "stream",
       "stream": "stdout",
       "text": [
        "\n",
        "Frame 480 Agents 1168 A0: Density 0.0274846025025 Time 67.7899707594..."
       ]
      },
      {
       "output_type": "stream",
       "stream": "stdout",
       "text": [
        "\n",
        "Frame 490 Agents 422 A0: Density 0.0274846025025 Time 67.7899707594..."
       ]
      },
      {
       "output_type": "stream",
       "stream": "stdout",
       "text": [
        "\n",
        "Frame 494 Agents 0 A0: Density 0.0274846025025 Time 67.7899707594..."
       ]
      },
      {
       "output_type": "stream",
       "stream": "stdout",
       "text": [
        "\n",
        "End of this simulation.\n",
        "Agents saved to result."
       ]
      },
      {
       "output_type": "stream",
       "stream": "stdout",
       "text": [
        "\n",
        "Processing paths to destination 5..."
       ]
      },
      {
       "output_type": "stream",
       "stream": "stdout",
       "text": [
        "\n",
        "Processing paths to destination 182..."
       ]
      },
      {
       "output_type": "stream",
       "stream": "stdout",
       "text": [
        "\n",
        "Processing paths to destination 204..."
       ]
      },
      {
       "output_type": "stream",
       "stream": "stdout",
       "text": [
        "\n",
        "Processing paths to destination 831..."
       ]
      },
      {
       "output_type": "stream",
       "stream": "stdout",
       "text": [
        "\n",
        "Processing paths to destination 1032..."
       ]
      },
      {
       "output_type": "stream",
       "stream": "stdout",
       "text": [
        "\n",
        "Processing paths to destination 1151..."
       ]
      },
      {
       "output_type": "stream",
       "stream": "stdout",
       "text": [
        "\n",
        "Processing paths to destination 1674..."
       ]
      },
      {
       "output_type": "stream",
       "stream": "stdout",
       "text": [
        "\n",
        "Processing paths to destination 5419..."
       ]
      },
      {
       "output_type": "stream",
       "stream": "stdout",
       "text": [
        "\n",
        "Processing paths to destination 8131..."
       ]
      },
      {
       "output_type": "stream",
       "stream": "stdout",
       "text": [
        "\n",
        "Processing paths to destination 9835..."
       ]
      },
      {
       "output_type": "stream",
       "stream": "stdout",
       "text": [
        "\n",
        "Processing paths to destination 21241..."
       ]
      },
      {
       "output_type": "stream",
       "stream": "stdout",
       "text": [
        "\n",
        "Processing paths to destination 21251..."
       ]
      },
      {
       "output_type": "stream",
       "stream": "stdout",
       "text": [
        "\n",
        "Processing paths to destination 21266..."
       ]
      },
      {
       "output_type": "stream",
       "stream": "stdout",
       "text": [
        "\n",
        "abm/pfactor/Cardiff/(ff)n-159155-destins-5-182-204-831-1032-1151-1674-5419-8131-9835-21241-21251-21266"
       ]
      },
      {
       "output_type": "stream",
       "stream": "stdout",
       "text": [
        "\n",
        "3.13216675568% of agents (4985 of 159155) had to be re-created!"
       ]
      },
      {
       "output_type": "stream",
       "stream": "stdout",
       "text": [
        "\n",
        "Agents saved to cache."
       ]
      },
      {
       "output_type": "stream",
       "stream": "stdout",
       "text": [
        "\n",
        "Starting this simulation..."
       ]
      },
      {
       "output_type": "stream",
       "stream": "stdout",
       "text": [
        "\n",
        "Frame 0 Agents 159087 A0: Density 0.0 Time None..."
       ]
      },
      {
       "output_type": "stream",
       "stream": "stdout",
       "text": [
        "\n",
        "Frame 10 Agents 154959 A0: Density 0.0 Time None..."
       ]
      },
      {
       "output_type": "stream",
       "stream": "stdout",
       "text": [
        "\n",
        "Frame 20 Agents 141147 A0: Density 0.0 Time None..."
       ]
      },
      {
       "output_type": "stream",
       "stream": "stdout",
       "text": [
        "\n",
        "Frame 30 Agents 120495 A0: Density 0.0 Time None..."
       ]
      },
      {
       "output_type": "stream",
       "stream": "stdout",
       "text": [
        "\n",
        "Frame 40 Agents 89538 A0: Density 0.0 Time 34.0085500577..."
       ]
      },
      {
       "output_type": "stream",
       "stream": "stdout",
       "text": [
        "\n",
        "Frame 50 Agents 58657 A0: Density 0.0 Time 34.0085500577..."
       ]
      },
      {
       "output_type": "stream",
       "stream": "stdout",
       "text": [
        "\n",
        "Frame 60 Agents 32009 A0: Density 0.0 Time 34.0085500577..."
       ]
      },
      {
       "output_type": "stream",
       "stream": "stdout",
       "text": [
        "\n",
        "Frame 70 Agents 12617 A0: Density 0.0 Time 34.0085500577..."
       ]
      },
      {
       "output_type": "stream",
       "stream": "stdout",
       "text": [
        "\n",
        "Frame 80 Agents 4438 A0: Density 0.0 Time 34.0085500577..."
       ]
      },
      {
       "output_type": "stream",
       "stream": "stdout",
       "text": [
        "\n",
        "Frame 90 Agents 2195 A0: Density 0.0 Time 34.0085500577..."
       ]
      },
      {
       "output_type": "stream",
       "stream": "stdout",
       "text": [
        "\n",
        "Frame 100 Agents 1154 A0: Density 0.0 Time 34.0085500577..."
       ]
      },
      {
       "output_type": "stream",
       "stream": "stdout",
       "text": [
        "\n",
        "Frame 110 Agents 818 A0: Density 0.0 Time 34.0085500577..."
       ]
      },
      {
       "output_type": "stream",
       "stream": "stdout",
       "text": [
        "\n",
        "Frame 120 Agents 312 A0: Density 0.0 Time 34.0085500577..."
       ]
      },
      {
       "output_type": "stream",
       "stream": "stdout",
       "text": [
        "\n",
        "Frame 130 Agents 85 A0: Density 0.0 Time 34.0085500577..."
       ]
      },
      {
       "output_type": "stream",
       "stream": "stdout",
       "text": [
        "\n",
        "Frame 140 Agents 5 A0: Density 0.0 Time 34.0085500577..."
       ]
      },
      {
       "output_type": "stream",
       "stream": "stdout",
       "text": [
        "\n",
        "Frame 143 Agents 0 A0: Density 0.0 Time 34.0085500577..."
       ]
      },
      {
       "output_type": "stream",
       "stream": "stdout",
       "text": [
        "\n",
        "End of this simulation.\n",
        "Agents saved to result."
       ]
      },
      {
       "output_type": "stream",
       "stream": "stdout",
       "text": [
        "\n",
        "abm/pfactor/Cardiff/n-159155-destins-5-182-204-831-1032-1151-1674-5419-8131-9835-21241-21251-21266"
       ]
      },
      {
       "output_type": "stream",
       "stream": "stdout",
       "text": [
        "\n",
        "3.1761490371% of agents (5055 of 159155) had to be re-created!"
       ]
      },
      {
       "output_type": "stream",
       "stream": "stdout",
       "text": [
        "\n",
        "Agents saved to cache."
       ]
      },
      {
       "output_type": "stream",
       "stream": "stdout",
       "text": [
        "\n",
        "Starting this simulation..."
       ]
      },
      {
       "output_type": "stream",
       "stream": "stdout",
       "text": [
        "\n",
        "Frame 0 Agents 159060 A0: Density 0.13844743053 Time None..."
       ]
      },
      {
       "output_type": "stream",
       "stream": "stdout",
       "text": [
        "\n",
        "Frame 10 Agents 155039 A0: Density 0.422360885291 Time None..."
       ]
      },
      {
       "output_type": "stream",
       "stream": "stdout",
       "text": [
        "\n",
        "Frame 20 Agents 141429 A0: Density 0.518719587585 Time None..."
       ]
      },
      {
       "output_type": "stream",
       "stream": "stdout",
       "text": [
        "\n",
        "Frame 30 Agents 121348 A0: Density 0.946173561214 Time None..."
       ]
      },
      {
       "output_type": "stream",
       "stream": "stdout",
       "text": [
        "\n",
        "Frame 40 Agents 93481 A0: Density 2.234733217 Time None..."
       ]
      },
      {
       "output_type": "stream",
       "stream": "stdout",
       "text": [
        "\n",
        "Frame 50 Agents 65748 A0: Density 3.94494247675 Time None..."
       ]
      },
      {
       "output_type": "stream",
       "stream": "stdout",
       "text": [
        "\n",
        "Frame 60 Agents 41366 A0: Density 0.274553674323 Time None..."
       ]
      },
      {
       "output_type": "stream",
       "stream": "stdout",
       "text": [
        "\n",
        "Frame 70 Agents 20650 A0: Density 0.11954384091 Time 69.4354899844..."
       ]
      },
      {
       "output_type": "stream",
       "stream": "stdout",
       "text": [
        "\n",
        "Frame 80 Agents 6703 A0: Density 0.11954384091 Time 69.4354899844..."
       ]
      },
      {
       "output_type": "stream",
       "stream": "stdout",
       "text": [
        "\n",
        "Frame 90 Agents 2744 A0: Density 0.11954384091 Time 69.4354899844..."
       ]
      },
      {
       "output_type": "stream",
       "stream": "stdout",
       "text": [
        "\n",
        "Frame 100 Agents 1082 A0: Density 0.11954384091 Time 69.4354899844..."
       ]
      },
      {
       "output_type": "stream",
       "stream": "stdout",
       "text": [
        "\n",
        "Frame 110 Agents 782 A0: Density 0.11954384091 Time 69.4354899844..."
       ]
      },
      {
       "output_type": "stream",
       "stream": "stdout",
       "text": [
        "\n",
        "Frame 120 Agents 332 A0: Density 0.11954384091 Time 69.4354899844..."
       ]
      },
      {
       "output_type": "stream",
       "stream": "stdout",
       "text": [
        "\n",
        "Frame 130 Agents 93 A0: Density 0.11954384091 Time 69.4354899844..."
       ]
      },
      {
       "output_type": "stream",
       "stream": "stdout",
       "text": [
        "\n",
        "Frame 140 Agents 7 A0: Density 0.11954384091 Time 69.4354899844..."
       ]
      },
      {
       "output_type": "stream",
       "stream": "stdout",
       "text": [
        "\n",
        "Frame 143 Agents 0 A0: Density 0.11954384091 Time 69.4354899844..."
       ]
      },
      {
       "output_type": "stream",
       "stream": "stdout",
       "text": [
        "\n",
        "End of this simulation.\n",
        "Agents saved to result."
       ]
      },
      {
       "output_type": "stream",
       "stream": "stdout",
       "text": [
        "\n",
        "Processing paths to destination 1..."
       ]
      },
      {
       "output_type": "stream",
       "stream": "stdout",
       "text": [
        "\n",
        "Processing paths to destination 10..."
       ]
      },
      {
       "output_type": "stream",
       "stream": "stdout",
       "text": [
        "\n",
        "Processing paths to destination 114..."
       ]
      },
      {
       "output_type": "stream",
       "stream": "stdout",
       "text": [
        "\n",
        "Processing paths to destination 757..."
       ]
      },
      {
       "output_type": "stream",
       "stream": "stdout",
       "text": [
        "\n",
        "Processing paths to destination 2034..."
       ]
      },
      {
       "output_type": "stream",
       "stream": "stdout",
       "text": [
        "\n",
        "Processing paths to destination 2771..."
       ]
      },
      {
       "output_type": "stream",
       "stream": "stdout",
       "text": [
        "\n",
        "Processing paths to destination 2975..."
       ]
      },
      {
       "output_type": "stream",
       "stream": "stdout",
       "text": [
        "\n",
        "Processing paths to destination 3067..."
       ]
      },
      {
       "output_type": "stream",
       "stream": "stdout",
       "text": [
        "\n",
        "Processing paths to destination 12265..."
       ]
      },
      {
       "output_type": "stream",
       "stream": "stdout",
       "text": [
        "\n",
        "Processing paths to destination 15923..."
       ]
      },
      {
       "output_type": "stream",
       "stream": "stdout",
       "text": [
        "\n",
        "Processing paths to destination 16749..."
       ]
      },
      {
       "output_type": "stream",
       "stream": "stdout",
       "text": [
        "\n",
        "Processing paths to destination 17294..."
       ]
      },
      {
       "output_type": "stream",
       "stream": "stdout",
       "text": [
        "\n",
        "Processing paths to destination 18403..."
       ]
      },
      {
       "output_type": "stream",
       "stream": "stdout",
       "text": [
        "\n",
        "Processing paths to destination 19689..."
       ]
      },
      {
       "output_type": "stream",
       "stream": "stdout",
       "text": [
        "\n",
        "Processing paths to destination 20112..."
       ]
      },
      {
       "output_type": "stream",
       "stream": "stdout",
       "text": [
        "\n",
        "Processing paths to destination 20365..."
       ]
      },
      {
       "output_type": "stream",
       "stream": "stdout",
       "text": [
        "\n",
        "abm/pfactor/Liverpool/(ff)n-469589-destins-1-10-114-757-2034-2771-2975-3067-12265-15923-16749-17294-18403-19689-20112-20365"
       ]
      },
      {
       "output_type": "stream",
       "stream": "stdout",
       "text": [
        "\n",
        "Starting this simulation..."
       ]
      },
      {
       "output_type": "stream",
       "stream": "stdout",
       "text": [
        "\n",
        "Frame 0 Agents 469412 A0: Density 0.0 Time None..."
       ]
      },
      {
       "output_type": "stream",
       "stream": "stdout",
       "text": [
        "\n",
        "Frame 10 Agents 442897 A0: Density 0.0 Time None..."
       ]
      },
      {
       "output_type": "stream",
       "stream": "stdout",
       "text": [
        "\n",
        "Frame 20 Agents 369575 A0: Density 0.0 Time None..."
       ]
      },
      {
       "output_type": "stream",
       "stream": "stdout",
       "text": [
        "\n",
        "Frame 30 Agents 270430 A0: Density 0.0 Time None..."
       ]
      },
      {
       "output_type": "stream",
       "stream": "stdout",
       "text": [
        "\n",
        "Frame 40 Agents 154629 A0: Density 0.0 Time None..."
       ]
      },
      {
       "output_type": "stream",
       "stream": "stdout",
       "text": [
        "\n",
        "Frame 50 Agents 65654 A0: Density 0.0 Time 44.054820997..."
       ]
      },
      {
       "output_type": "stream",
       "stream": "stdout",
       "text": [
        "\n",
        "Frame 60 Agents 24668 A0: Density 0.0 Time 44.054820997..."
       ]
      },
      {
       "output_type": "stream",
       "stream": "stdout",
       "text": [
        "\n",
        "Frame 70 Agents 6555 A0: Density 0.0 Time 44.054820997..."
       ]
      },
      {
       "output_type": "stream",
       "stream": "stdout",
       "text": [
        "\n",
        "Frame 80 Agents 370 A0: Density 0.0 Time 44.054820997..."
       ]
      },
      {
       "output_type": "stream",
       "stream": "stdout",
       "text": [
        "\n",
        "Frame 90 Agents 16 A0: Density 0.0 Time 44.054820997..."
       ]
      },
      {
       "output_type": "stream",
       "stream": "stdout",
       "text": [
        "\n",
        "Frame 93 Agents 0 A0: Density 0.0 Time 44.054820997..."
       ]
      },
      {
       "output_type": "stream",
       "stream": "stdout",
       "text": [
        "\n",
        "End of this simulation.\n",
        "Agents saved to result."
       ]
      },
      {
       "output_type": "stream",
       "stream": "stdout",
       "text": [
        "\n",
        "abm/pfactor/Liverpool/n-469589-destins-1-10-114-757-2034-2771-2975-3067-12265-15923-16749-17294-18403-19689-20112-20365"
       ]
      },
      {
       "output_type": "stream",
       "stream": "stdout",
       "text": [
        "\n",
        "Starting this simulation..."
       ]
      },
      {
       "output_type": "stream",
       "stream": "stdout",
       "text": [
        "\n",
        "Frame 0 Agents 469404 A0: Density 0.0290276464626 Time None..."
       ]
      },
      {
       "output_type": "stream",
       "stream": "stdout",
       "text": [
        "\n",
        "Frame 10 Agents 446410 A0: Density 2.65901282094 Time None..."
       ]
      },
      {
       "output_type": "stream",
       "stream": "stdout",
       "text": [
        "\n",
        "Frame 20 Agents 396353 A0: Density 2.19521439704 Time None..."
       ]
      },
      {
       "output_type": "stream",
       "stream": "stdout",
       "text": [
        "\n",
        "Frame 30 Agents 350765 A0: Density 1.1605361214 Time None..."
       ]
      },
      {
       "output_type": "stream",
       "stream": "stdout",
       "text": [
        "\n",
        "Frame 40 Agents 320366 A0: Density 0.0439213865742 Time 35.2832176465..."
       ]
      },
      {
       "output_type": "stream",
       "stream": "stdout",
       "text": [
        "\n",
        "Frame 50 Agents 297834 A0: Density 0.0439213865742 Time 35.2832176465..."
       ]
      },
      {
       "output_type": "stream",
       "stream": "stdout",
       "text": [
        "\n",
        "Frame 60 Agents 286030 A0: Density 0.0439213865742 Time 35.2832176465..."
       ]
      },
      {
       "output_type": "stream",
       "stream": "stdout",
       "text": [
        "\n",
        "Frame 70 Agents 274339 A0: Density 0.0439213865742 Time 35.2832176465..."
       ]
      },
      {
       "output_type": "stream",
       "stream": "stdout",
       "text": [
        "\n",
        "Frame 80 Agents 262888 A0: Density 0.0439213865742 Time 35.2832176465..."
       ]
      },
      {
       "output_type": "stream",
       "stream": "stdout",
       "text": [
        "\n",
        "Frame 90 Agents 250589 A0: Density 0.0439213865742 Time 35.2832176465..."
       ]
      },
      {
       "output_type": "stream",
       "stream": "stdout",
       "text": [
        "\n",
        "Frame 100 Agents 241360 A0: Density 0.0439213865742 Time 35.2832176465..."
       ]
      },
      {
       "output_type": "stream",
       "stream": "stdout",
       "text": [
        "\n",
        "Frame 110 Agents 231971 A0: Density 0.0439213865742 Time 35.2832176465..."
       ]
      },
      {
       "output_type": "stream",
       "stream": "stdout",
       "text": [
        "\n",
        "Frame 120 Agents 222923 A0: Density 0.0439213865742 Time 35.2832176465..."
       ]
      },
      {
       "output_type": "stream",
       "stream": "stdout",
       "text": [
        "\n",
        "Frame 130 Agents 213833 A0: Density 0.0439213865742 Time 35.2832176465..."
       ]
      },
      {
       "output_type": "stream",
       "stream": "stdout",
       "text": [
        "\n",
        "Frame 140 Agents 205305 A0: Density 0.0439213865742 Time 35.2832176465..."
       ]
      },
      {
       "output_type": "stream",
       "stream": "stdout",
       "text": [
        "\n",
        "Frame 150 Agents 198558 A0: Density 0.0439213865742 Time 35.2832176465..."
       ]
      },
      {
       "output_type": "stream",
       "stream": "stdout",
       "text": [
        "\n",
        "Frame 160 Agents 190798 A0: Density 0.0439213865742 Time 35.2832176465..."
       ]
      },
      {
       "output_type": "stream",
       "stream": "stdout",
       "text": [
        "\n",
        "Frame 170 Agents 184215 A0: Density 0.0439213865742 Time 35.2832176465..."
       ]
      },
      {
       "output_type": "stream",
       "stream": "stdout",
       "text": [
        "\n",
        "Frame 180 Agents 178004 A0: Density 0.0439213865742 Time 35.2832176465..."
       ]
      },
      {
       "output_type": "stream",
       "stream": "stdout",
       "text": [
        "\n",
        "Frame 190 Agents 172644 A0: Density 0.0439213865742 Time 35.2832176465..."
       ]
      },
      {
       "output_type": "stream",
       "stream": "stdout",
       "text": [
        "\n",
        "Frame 200 Agents 167294 A0: Density 0.0439213865742 Time 35.2832176465..."
       ]
      },
      {
       "output_type": "stream",
       "stream": "stdout",
       "text": [
        "\n",
        "Frame 210 Agents 162009 A0: Density 0.0439213865742 Time 35.2832176465..."
       ]
      },
      {
       "output_type": "stream",
       "stream": "stdout",
       "text": [
        "\n",
        "Frame 220 Agents 156218 A0: Density 0.0439213865742 Time 35.2832176465..."
       ]
      },
      {
       "output_type": "stream",
       "stream": "stdout",
       "text": [
        "\n",
        "Frame 230 Agents 151549 A0: Density 0.0439213865742 Time 35.2832176465..."
       ]
      },
      {
       "output_type": "stream",
       "stream": "stdout",
       "text": [
        "\n",
        "Frame 240 Agents 146880 A0: Density 0.0439213865742 Time 35.2832176465..."
       ]
      },
      {
       "output_type": "stream",
       "stream": "stdout",
       "text": [
        "\n",
        "Frame 250 Agents 142319 A0: Density 0.0439213865742 Time 35.2832176465..."
       ]
      },
      {
       "output_type": "stream",
       "stream": "stdout",
       "text": [
        "\n",
        "Frame 260 Agents 137733 A0: Density 0.0439213865742 Time 35.2832176465..."
       ]
      },
      {
       "output_type": "stream",
       "stream": "stdout",
       "text": [
        "\n",
        "Frame 270 Agents 133663 A0: Density 0.0439213865742 Time 35.2832176465..."
       ]
      },
      {
       "output_type": "stream",
       "stream": "stdout",
       "text": [
        "\n",
        "Frame 280 Agents 130454 A0: Density 0.0439213865742 Time 35.2832176465..."
       ]
      },
      {
       "output_type": "stream",
       "stream": "stdout",
       "text": [
        "\n",
        "Frame 290 Agents 127248 A0: Density 0.0439213865742 Time 35.2832176465..."
       ]
      },
      {
       "output_type": "stream",
       "stream": "stdout",
       "text": [
        "\n",
        "Frame 300 Agents 124063 A0: Density 0.0439213865742 Time 35.2832176465..."
       ]
      },
      {
       "output_type": "stream",
       "stream": "stdout",
       "text": [
        "\n",
        "Frame 310 Agents 120892 A0: Density 0.0439213865742 Time 35.2832176465..."
       ]
      },
      {
       "output_type": "stream",
       "stream": "stdout",
       "text": [
        "\n",
        "Frame 320 Agents 117699 A0: Density 0.0439213865742 Time 35.2832176465..."
       ]
      },
      {
       "output_type": "stream",
       "stream": "stdout",
       "text": [
        "\n",
        "Frame 330 Agents 114513 A0: Density 0.0439213865742 Time 35.2832176465..."
       ]
      },
      {
       "output_type": "stream",
       "stream": "stdout",
       "text": [
        "\n",
        "Frame 340 Agents 111342 A0: Density 0.0439213865742 Time 35.2832176465..."
       ]
      },
      {
       "output_type": "stream",
       "stream": "stdout",
       "text": [
        "\n",
        "Frame 350 Agents 108120 A0: Density 0.0439213865742 Time 35.2832176465..."
       ]
      },
      {
       "output_type": "stream",
       "stream": "stdout",
       "text": [
        "\n",
        "Frame 360 Agents 104871 A0: Density 0.0439213865742 Time 35.2832176465..."
       ]
      },
      {
       "output_type": "stream",
       "stream": "stdout",
       "text": [
        "\n",
        "Frame 370 Agents 101633 A0: Density 0.0439213865742 Time 35.2832176465..."
       ]
      },
      {
       "output_type": "stream",
       "stream": "stdout",
       "text": [
        "\n",
        "Frame 380 Agents 98550 A0: Density 0.0439213865742 Time 35.2832176465..."
       ]
      },
      {
       "output_type": "stream",
       "stream": "stdout",
       "text": [
        "\n",
        "Frame 390 Agents 95566 A0: Density 0.0439213865742 Time 35.2832176465..."
       ]
      },
      {
       "output_type": "stream",
       "stream": "stdout",
       "text": [
        "\n",
        "Frame 400 Agents 92542 A0: Density 0.0439213865742 Time 35.2832176465..."
       ]
      },
      {
       "output_type": "stream",
       "stream": "stdout",
       "text": [
        "\n",
        "Frame 410 Agents 89505 A0: Density 0.0439213865742 Time 35.2832176465..."
       ]
      },
      {
       "output_type": "stream",
       "stream": "stdout",
       "text": [
        "\n",
        "Frame 420 Agents 86459 A0: Density 0.0439213865742 Time 35.2832176465..."
       ]
      },
      {
       "output_type": "stream",
       "stream": "stdout",
       "text": [
        "\n",
        "Frame 430 Agents 83062 A0: Density 0.0439213865742 Time 35.2832176465..."
       ]
      },
      {
       "output_type": "stream",
       "stream": "stdout",
       "text": [
        "\n",
        "Frame 440 Agents 79917 A0: Density 0.0439213865742 Time 35.2832176465..."
       ]
      },
      {
       "output_type": "stream",
       "stream": "stdout",
       "text": [
        "\n",
        "Frame 450 Agents 76702 A0: Density 0.0439213865742 Time 35.2832176465..."
       ]
      },
      {
       "output_type": "stream",
       "stream": "stdout",
       "text": [
        "\n",
        "Frame 460 Agents 73705 A0: Density 0.0439213865742 Time 35.2832176465..."
       ]
      },
      {
       "output_type": "stream",
       "stream": "stdout",
       "text": [
        "\n",
        "Frame 470 Agents 70699 A0: Density 0.0439213865742 Time 35.2832176465..."
       ]
      },
      {
       "output_type": "stream",
       "stream": "stdout",
       "text": [
        "\n",
        "Frame 480 Agents 67432 A0: Density 0.0439213865742 Time 35.2832176465..."
       ]
      },
      {
       "output_type": "stream",
       "stream": "stdout",
       "text": [
        "\n",
        "Frame 490 Agents 65111 A0: Density 0.0439213865742 Time 35.2832176465..."
       ]
      },
      {
       "output_type": "stream",
       "stream": "stdout",
       "text": [
        "\n",
        "Frame 500 Agents 62842 A0: Density 0.0439213865742 Time 35.2832176465..."
       ]
      },
      {
       "output_type": "stream",
       "stream": "stdout",
       "text": [
        "\n",
        "Frame 510 Agents 60568 A0: Density 0.0439213865742 Time 35.2832176465..."
       ]
      },
      {
       "output_type": "stream",
       "stream": "stdout",
       "text": [
        "\n",
        "Frame 520 Agents 58303 A0: Density 0.0439213865742 Time 35.2832176465..."
       ]
      },
      {
       "output_type": "stream",
       "stream": "stdout",
       "text": [
        "\n",
        "Frame 530 Agents 56282 A0: Density 0.0439213865742 Time 35.2832176465..."
       ]
      },
      {
       "output_type": "stream",
       "stream": "stdout",
       "text": [
        "\n",
        "Frame 540 Agents 54810 A0: Density 0.0439213865742 Time 35.2832176465..."
       ]
      },
      {
       "output_type": "stream",
       "stream": "stdout",
       "text": [
        "\n",
        "Frame 550 Agents 53026 A0: Density 0.0439213865742 Time 35.2832176465..."
       ]
      },
      {
       "output_type": "stream",
       "stream": "stdout",
       "text": [
        "\n",
        "Frame 560 Agents 51573 A0: Density 0.0439213865742 Time 35.2832176465..."
       ]
      },
      {
       "output_type": "stream",
       "stream": "stdout",
       "text": [
        "\n",
        "Frame 570 Agents 50121 A0: Density 0.0439213865742 Time 35.2832176465..."
       ]
      },
      {
       "output_type": "stream",
       "stream": "stdout",
       "text": [
        "\n",
        "Frame 580 Agents 48671 A0: Density 0.0439213865742 Time 35.2832176465..."
       ]
      },
      {
       "output_type": "stream",
       "stream": "stdout",
       "text": [
        "\n",
        "Frame 590 Agents 47193 A0: Density 0.0439213865742 Time 35.2832176465..."
       ]
      },
      {
       "output_type": "stream",
       "stream": "stdout",
       "text": [
        "\n",
        "Frame 600 Agents 45708 A0: Density 0.0439213865742 Time 35.2832176465..."
       ]
      },
      {
       "output_type": "stream",
       "stream": "stdout",
       "text": [
        "\n",
        "Frame 610 Agents 44229 A0: Density 0.0439213865742 Time 35.2832176465..."
       ]
      },
      {
       "output_type": "stream",
       "stream": "stdout",
       "text": [
        "\n",
        "Frame 620 Agents 42750 A0: Density 0.0439213865742 Time 35.2832176465..."
       ]
      },
      {
       "output_type": "stream",
       "stream": "stdout",
       "text": [
        "\n",
        "Frame 630 Agents 41264 A0: Density 0.0439213865742 Time 35.2832176465..."
       ]
      },
      {
       "output_type": "stream",
       "stream": "stdout",
       "text": [
        "\n",
        "Frame 640 Agents 39777 A0: Density 0.0439213865742 Time 35.2832176465..."
       ]
      },
      {
       "output_type": "stream",
       "stream": "stdout",
       "text": [
        "\n",
        "Frame 650 Agents 38300 A0: Density 0.0439213865742 Time 35.2832176465..."
       ]
      },
      {
       "output_type": "stream",
       "stream": "stdout",
       "text": [
        "\n",
        "Frame 660 Agents 36307 A0: Density 0.0439213865742 Time 35.2832176465..."
       ]
      },
      {
       "output_type": "stream",
       "stream": "stdout",
       "text": [
        "\n",
        "Frame 670 Agents 34918 A0: Density 0.0439213865742 Time 35.2832176465..."
       ]
      },
      {
       "output_type": "stream",
       "stream": "stdout",
       "text": [
        "\n",
        "Frame 680 Agents 33200 A0: Density 0.0439213865742 Time 35.2832176465..."
       ]
      },
      {
       "output_type": "stream",
       "stream": "stdout",
       "text": [
        "\n",
        "Frame 690 Agents 32433 A0: Density 0.0439213865742 Time 35.2832176465..."
       ]
      },
      {
       "output_type": "stream",
       "stream": "stdout",
       "text": [
        "\n",
        "Frame 700 Agents 31680 A0: Density 0.0439213865742 Time 35.2832176465..."
       ]
      },
      {
       "output_type": "stream",
       "stream": "stdout",
       "text": [
        "\n",
        "Frame 710 Agents 30929 A0: Density 0.0439213865742 Time 35.2832176465..."
       ]
      },
      {
       "output_type": "stream",
       "stream": "stdout",
       "text": [
        "\n",
        "Frame 720 Agents 30177 A0: Density 0.0439213865742 Time 35.2832176465..."
       ]
      },
      {
       "output_type": "stream",
       "stream": "stdout",
       "text": [
        "\n",
        "Frame 730 Agents 29425 A0: Density 0.0439213865742 Time 35.2832176465..."
       ]
      },
      {
       "output_type": "stream",
       "stream": "stdout",
       "text": [
        "\n",
        "Frame 740 Agents 28673 A0: Density 0.0439213865742 Time 35.2832176465..."
       ]
      },
      {
       "output_type": "stream",
       "stream": "stdout",
       "text": [
        "\n",
        "Frame 750 Agents 27921 A0: Density 0.0439213865742 Time 35.2832176465..."
       ]
      },
      {
       "output_type": "stream",
       "stream": "stdout",
       "text": [
        "\n",
        "Frame 760 Agents 27169 A0: Density 0.0439213865742 Time 35.2832176465..."
       ]
      },
      {
       "output_type": "stream",
       "stream": "stdout",
       "text": [
        "\n",
        "Frame 770 Agents 26417 A0: Density 0.0439213865742 Time 35.2832176465..."
       ]
      },
      {
       "output_type": "stream",
       "stream": "stdout",
       "text": [
        "\n",
        "Frame 780 Agents 25665 A0: Density 0.0439213865742 Time 35.2832176465..."
       ]
      },
      {
       "output_type": "stream",
       "stream": "stdout",
       "text": [
        "\n",
        "Frame 790 Agents 24913 A0: Density 0.0439213865742 Time 35.2832176465..."
       ]
      },
      {
       "output_type": "stream",
       "stream": "stdout",
       "text": [
        "\n",
        "Frame 800 Agents 24162 A0: Density 0.0439213865742 Time 35.2832176465..."
       ]
      },
      {
       "output_type": "stream",
       "stream": "stdout",
       "text": [
        "\n",
        "Frame 810 Agents 23409 A0: Density 0.0439213865742 Time 35.2832176465..."
       ]
      },
      {
       "output_type": "stream",
       "stream": "stdout",
       "text": [
        "\n",
        "Frame 820 Agents 22658 A0: Density 0.0439213865742 Time 35.2832176465..."
       ]
      },
      {
       "output_type": "stream",
       "stream": "stdout",
       "text": [
        "\n",
        "Frame 830 Agents 21905 A0: Density 0.0439213865742 Time 35.2832176465..."
       ]
      },
      {
       "output_type": "stream",
       "stream": "stdout",
       "text": [
        "\n",
        "Frame 840 Agents 21154 A0: Density 0.0439213865742 Time 35.2832176465..."
       ]
      },
      {
       "output_type": "stream",
       "stream": "stdout",
       "text": [
        "\n",
        "Frame 850 Agents 20401 A0: Density 0.0439213865742 Time 35.2832176465..."
       ]
      },
      {
       "output_type": "stream",
       "stream": "stdout",
       "text": [
        "\n",
        "Frame 860 Agents 19649 A0: Density 0.0439213865742 Time 35.2832176465..."
       ]
      },
      {
       "output_type": "stream",
       "stream": "stdout",
       "text": [
        "\n",
        "Frame 870 Agents 18897 A0: Density 0.0439213865742 Time 35.2832176465..."
       ]
      },
      {
       "output_type": "stream",
       "stream": "stdout",
       "text": [
        "\n",
        "Frame 880 Agents 18145 A0: Density 0.0439213865742 Time 35.2832176465..."
       ]
      },
      {
       "output_type": "stream",
       "stream": "stdout",
       "text": [
        "\n",
        "Frame 890 Agents 17393 A0: Density 0.0439213865742 Time 35.2832176465..."
       ]
      },
      {
       "output_type": "stream",
       "stream": "stdout",
       "text": [
        "\n",
        "Frame 900 Agents 16641 A0: Density 0.0439213865742 Time 35.2832176465..."
       ]
      },
      {
       "output_type": "stream",
       "stream": "stdout",
       "text": [
        "\n",
        "Frame 910 Agents 15889 A0: Density 0.0439213865742 Time 35.2832176465..."
       ]
      },
      {
       "output_type": "stream",
       "stream": "stdout",
       "text": [
        "\n",
        "Frame 920 Agents 15137 A0: Density 0.0439213865742 Time 35.2832176465..."
       ]
      },
      {
       "output_type": "stream",
       "stream": "stdout",
       "text": [
        "\n",
        "Frame 930 Agents 14385 A0: Density 0.0439213865742 Time 35.2832176465..."
       ]
      },
      {
       "output_type": "stream",
       "stream": "stdout",
       "text": [
        "\n",
        "Frame 940 Agents 13633 A0: Density 0.0439213865742 Time 35.2832176465..."
       ]
      },
      {
       "output_type": "stream",
       "stream": "stdout",
       "text": [
        "\n",
        "Frame 950 Agents 12881 A0: Density 0.0439213865742 Time 35.2832176465..."
       ]
      },
      {
       "output_type": "stream",
       "stream": "stdout",
       "text": [
        "\n",
        "Frame 960 Agents 12129 A0: Density 0.0439213865742 Time 35.2832176465..."
       ]
      },
      {
       "output_type": "stream",
       "stream": "stdout",
       "text": [
        "\n",
        "Frame 970 Agents 11377 A0: Density 0.0439213865742 Time 35.2832176465..."
       ]
      },
      {
       "output_type": "stream",
       "stream": "stdout",
       "text": [
        "\n",
        "Frame 980 Agents 10625 A0: Density 0.0439213865742 Time 35.2832176465..."
       ]
      },
      {
       "output_type": "stream",
       "stream": "stdout",
       "text": [
        "\n",
        "Frame 990 Agents 9873 A0: Density 0.0439213865742 Time 35.2832176465..."
       ]
      },
      {
       "output_type": "stream",
       "stream": "stdout",
       "text": [
        "\n",
        "Frame 1000 Agents 9121 A0: Density 0.0439213865742 Time 35.2832176465..."
       ]
      },
      {
       "output_type": "stream",
       "stream": "stdout",
       "text": [
        "\n",
        "Frame 1010 Agents 8369 A0: Density 0.0439213865742 Time 35.2832176465..."
       ]
      },
      {
       "output_type": "stream",
       "stream": "stdout",
       "text": [
        "\n",
        "Frame 1020 Agents 7617 A0: Density 0.0439213865742 Time 35.2832176465..."
       ]
      },
      {
       "output_type": "stream",
       "stream": "stdout",
       "text": [
        "\n",
        "Frame 1030 Agents 6865 A0: Density 0.0439213865742 Time 35.2832176465..."
       ]
      },
      {
       "output_type": "stream",
       "stream": "stdout",
       "text": [
        "\n",
        "Frame 1040 Agents 6113 A0: Density 0.0439213865742 Time 35.2832176465..."
       ]
      },
      {
       "output_type": "stream",
       "stream": "stdout",
       "text": [
        "\n",
        "Frame 1050 Agents 5361 A0: Density 0.0439213865742 Time 35.2832176465..."
       ]
      },
      {
       "output_type": "stream",
       "stream": "stdout",
       "text": [
        "\n",
        "Frame 1060 Agents 4610 A0: Density 0.0439213865742 Time 35.2832176465..."
       ]
      },
      {
       "output_type": "stream",
       "stream": "stdout",
       "text": [
        "\n",
        "Frame 1070 Agents 3857 A0: Density 0.0439213865742 Time 35.2832176465..."
       ]
      },
      {
       "output_type": "stream",
       "stream": "stdout",
       "text": [
        "\n",
        "Frame 1080 Agents 3105 A0: Density 0.0439213865742 Time 35.2832176465..."
       ]
      },
      {
       "output_type": "stream",
       "stream": "stdout",
       "text": [
        "\n",
        "Frame 1090 Agents 2357 A0: Density 0.0439213865742 Time 35.2832176465..."
       ]
      },
      {
       "output_type": "stream",
       "stream": "stdout",
       "text": [
        "\n",
        "Frame 1100 Agents 1603 A0: Density 0.0439213865742 Time 35.2832176465..."
       ]
      },
      {
       "output_type": "stream",
       "stream": "stdout",
       "text": [
        "\n",
        "Frame 1110 Agents 851 A0: Density 0.0439213865742 Time 35.2832176465..."
       ]
      },
      {
       "output_type": "stream",
       "stream": "stdout",
       "text": [
        "\n",
        "Frame 1119 Agents 0 A0: Density 0.0439213865742 Time 35.2832176465..."
       ]
      },
      {
       "output_type": "stream",
       "stream": "stdout",
       "text": [
        "\n",
        "End of this simulation.\n",
        "Agents saved to result."
       ]
      },
      {
       "output_type": "stream",
       "stream": "stdout",
       "text": [
        "\n",
        "Processing paths to destination 17..."
       ]
      },
      {
       "output_type": "stream",
       "stream": "stdout",
       "text": [
        "\n",
        "Processing paths to destination 55..."
       ]
      },
      {
       "output_type": "stream",
       "stream": "stdout",
       "text": [
        "\n",
        "Processing paths to destination 59..."
       ]
      },
      {
       "output_type": "stream",
       "stream": "stdout",
       "text": [
        "\n",
        "Processing paths to destination 563..."
       ]
      },
      {
       "output_type": "stream",
       "stream": "stdout",
       "text": [
        "\n",
        "Processing paths to destination 599..."
       ]
      },
      {
       "output_type": "stream",
       "stream": "stdout",
       "text": [
        "\n",
        "Processing paths to destination 946..."
       ]
      },
      {
       "output_type": "stream",
       "stream": "stdout",
       "text": [
        "\n",
        "Processing paths to destination 1440..."
       ]
      },
      {
       "output_type": "stream",
       "stream": "stdout",
       "text": [
        "\n",
        "Processing paths to destination 2765..."
       ]
      },
      {
       "output_type": "stream",
       "stream": "stdout",
       "text": [
        "\n",
        "Processing paths to destination 3988..."
       ]
      },
      {
       "output_type": "stream",
       "stream": "stdout",
       "text": [
        "\n",
        "Processing paths to destination 4010..."
       ]
      },
      {
       "output_type": "stream",
       "stream": "stdout",
       "text": [
        "\n",
        "Processing paths to destination 4268..."
       ]
      },
      {
       "output_type": "stream",
       "stream": "stdout",
       "text": [
        "\n",
        "Processing paths to destination 4338..."
       ]
      },
      {
       "output_type": "stream",
       "stream": "stdout",
       "text": [
        "\n",
        "Processing paths to destination 4755..."
       ]
      },
      {
       "output_type": "stream",
       "stream": "stdout",
       "text": [
        "\n",
        "Processing paths to destination 5499..."
       ]
      },
      {
       "output_type": "stream",
       "stream": "stdout",
       "text": [
        "\n",
        "Processing paths to destination 5883..."
       ]
      },
      {
       "output_type": "stream",
       "stream": "stdout",
       "text": [
        "\n",
        "Processing paths to destination 5976..."
       ]
      },
      {
       "output_type": "stream",
       "stream": "stdout",
       "text": [
        "\n",
        "Processing paths to destination 6439..."
       ]
      },
      {
       "output_type": "stream",
       "stream": "stdout",
       "text": [
        "\n",
        "Processing paths to destination 6646..."
       ]
      },
      {
       "output_type": "stream",
       "stream": "stdout",
       "text": [
        "\n",
        "Processing paths to destination 7272..."
       ]
      },
      {
       "output_type": "stream",
       "stream": "stdout",
       "text": [
        "\n",
        "Processing paths to destination 7543..."
       ]
      },
      {
       "output_type": "stream",
       "stream": "stdout",
       "text": [
        "\n",
        "Processing paths to destination 7832..."
       ]
      },
      {
       "output_type": "stream",
       "stream": "stdout",
       "text": [
        "\n",
        "Processing paths to destination 8080..."
       ]
      },
      {
       "output_type": "stream",
       "stream": "stdout",
       "text": [
        "\n",
        "Processing paths to destination 9880..."
       ]
      },
      {
       "output_type": "stream",
       "stream": "stdout",
       "text": [
        "\n",
        "Processing paths to destination 9894..."
       ]
      },
      {
       "output_type": "stream",
       "stream": "stdout",
       "text": [
        "\n",
        "Processing paths to destination 10036..."
       ]
      },
      {
       "output_type": "stream",
       "stream": "stdout",
       "text": [
        "\n",
        "Processing paths to destination 10399..."
       ]
      },
      {
       "output_type": "stream",
       "stream": "stdout",
       "text": [
        "\n",
        "Processing paths to destination 11470..."
       ]
      },
      {
       "output_type": "stream",
       "stream": "stdout",
       "text": [
        "\n",
        "Processing paths to destination 13380..."
       ]
      },
      {
       "output_type": "stream",
       "stream": "stdout",
       "text": [
        "\n",
        "Processing paths to destination 13523..."
       ]
      },
      {
       "output_type": "stream",
       "stream": "stdout",
       "text": [
        "\n",
        "Processing paths to destination 15841..."
       ]
      },
      {
       "output_type": "stream",
       "stream": "stdout",
       "text": [
        "\n",
        "Processing paths to destination 17404..."
       ]
      },
      {
       "output_type": "stream",
       "stream": "stdout",
       "text": [
        "\n",
        "Processing paths to destination 20818..."
       ]
      },
      {
       "output_type": "stream",
       "stream": "stdout",
       "text": [
        "\n",
        "Processing paths to destination 22405..."
       ]
      },
      {
       "output_type": "stream",
       "stream": "stdout",
       "text": [
        "\n",
        "Processing paths to destination 22411..."
       ]
      },
      {
       "output_type": "stream",
       "stream": "stdout",
       "text": [
        "\n",
        "Processing paths to destination 22687..."
       ]
      },
      {
       "output_type": "stream",
       "stream": "stdout",
       "text": [
        "\n",
        "Processing paths to destination 22896..."
       ]
      },
      {
       "output_type": "stream",
       "stream": "stdout",
       "text": [
        "\n",
        "Processing paths to destination 23319..."
       ]
      },
      {
       "output_type": "stream",
       "stream": "stdout",
       "text": [
        "\n",
        "Processing paths to destination 23463..."
       ]
      },
      {
       "output_type": "stream",
       "stream": "stdout",
       "text": [
        "\n",
        "abm/pfactor/Manchester/(ff)n-489144-destins-17-55-59-563-599-946-1440-2765-3988-4010-4268-4338-4755-5499-5883-5976-6439-6646-7272-7543-7832-8080-9880-9894-10036-10399-11470-13380-13523-15841-17404-20818-22405-22411-22687-22896-23319-23463"
       ]
      },
      {
       "output_type": "stream",
       "stream": "stdout",
       "text": [
        "\n",
        "Starting this simulation..."
       ]
      },
      {
       "output_type": "stream",
       "stream": "stdout",
       "text": [
        "\n",
        "Frame 0 Agents 488119 A0: Density 0.0 Time None..."
       ]
      },
      {
       "output_type": "stream",
       "stream": "stdout",
       "text": [
        "\n",
        "Frame 10 Agents 423219 A0: Density 0.0 Time 5.43872623582..."
       ]
      },
      {
       "output_type": "stream",
       "stream": "stdout",
       "text": [
        "\n",
        "Frame 20 Agents 281357 A0: Density 0.0 Time 5.43872623582..."
       ]
      },
      {
       "output_type": "stream",
       "stream": "stdout",
       "text": [
        "\n",
        "Frame 30 Agents 113585 A0: Density 0.0 Time 5.43872623582..."
       ]
      },
      {
       "output_type": "stream",
       "stream": "stdout",
       "text": [
        "\n",
        "Frame 40 Agents 19099 A0: Density 0.0 Time 5.43872623582..."
       ]
      },
      {
       "output_type": "stream",
       "stream": "stdout",
       "text": [
        "\n",
        "Frame 50 Agents 4334 A0: Density 0.0 Time 5.43872623582..."
       ]
      },
      {
       "output_type": "stream",
       "stream": "stdout",
       "text": [
        "\n",
        "Frame 60 Agents 2146 A0: Density 0.0 Time 5.43872623582..."
       ]
      },
      {
       "output_type": "stream",
       "stream": "stdout",
       "text": [
        "\n",
        "Frame 70 Agents 1345 A0: Density 0.0 Time 5.43872623582..."
       ]
      },
      {
       "output_type": "stream",
       "stream": "stdout",
       "text": [
        "\n",
        "Frame 80 Agents 843 A0: Density 0.0 Time 5.43872623582..."
       ]
      },
      {
       "output_type": "stream",
       "stream": "stdout",
       "text": [
        "\n",
        "Frame 90 Agents 464 A0: Density 0.0 Time 5.43872623582..."
       ]
      },
      {
       "output_type": "stream",
       "stream": "stdout",
       "text": [
        "\n",
        "Frame 100 Agents 230 A0: Density 0.0 Time 5.43872623582..."
       ]
      },
      {
       "output_type": "stream",
       "stream": "stdout",
       "text": [
        "\n",
        "Frame 110 Agents 175 A0: Density 0.0 Time 5.43872623582..."
       ]
      },
      {
       "output_type": "stream",
       "stream": "stdout",
       "text": [
        "\n",
        "Frame 120 Agents 129 A0: Density 0.0 Time 5.43872623582..."
       ]
      },
      {
       "output_type": "stream",
       "stream": "stdout",
       "text": [
        "\n",
        "Frame 130 Agents 67 A0: Density 0.0 Time 5.43872623582..."
       ]
      },
      {
       "output_type": "stream",
       "stream": "stdout",
       "text": [
        "\n",
        "Frame 140 Agents 28 A0: Density 0.0 Time 5.43872623582..."
       ]
      },
      {
       "output_type": "stream",
       "stream": "stdout",
       "text": [
        "\n",
        "Frame 148 Agents 0 A0: Density 0.0 Time 5.43872623582..."
       ]
      },
      {
       "output_type": "stream",
       "stream": "stdout",
       "text": [
        "\n",
        "End of this simulation.\n",
        "Agents saved to result."
       ]
      },
      {
       "output_type": "stream",
       "stream": "stdout",
       "text": [
        "\n",
        "abm/pfactor/Manchester/n-489144-destins-17-55-59-563-599-946-1440-2765-3988-4010-4268-4338-4755-5499-5883-5976-6439-6646-7272-7543-7832-8080-9880-9894-10036-10399-11470-13380-13523-15841-17404-20818-22405-22411-22687-22896-23319-23463"
       ]
      },
      {
       "output_type": "stream",
       "stream": "stdout",
       "text": [
        "\n",
        "Starting this simulation..."
       ]
      },
      {
       "output_type": "stream",
       "stream": "stdout",
       "text": [
        "\n",
        "Frame 0 Agents 488190 A0: Density 0.170377606859 Time None..."
       ]
      },
      {
       "output_type": "stream",
       "stream": "stdout",
       "text": [
        "\n",
        "Frame 10 Agents 429040 A0: Density 0.918055264203 Time None..."
       ]
      },
      {
       "output_type": "stream",
       "stream": "stdout",
       "text": [
        "\n",
        "Frame 20 Agents 327047 A0: Density 0.0284967208021 Time 19.2234216363..."
       ]
      },
      {
       "output_type": "stream",
       "stream": "stdout",
       "text": [
        "\n",
        "Frame 30 Agents 241864 A0: Density 0.0284967208021 Time 19.2234216363..."
       ]
      },
      {
       "output_type": "stream",
       "stream": "stdout",
       "text": [
        "\n",
        "Frame 40 Agents 186498 A0: Density 0.0284967208021 Time 19.2234216363..."
       ]
      },
      {
       "output_type": "stream",
       "stream": "stdout",
       "text": [
        "\n",
        "Frame 50 Agents 153677 A0: Density 0.0284967208021 Time 19.2234216363..."
       ]
      },
      {
       "output_type": "stream",
       "stream": "stdout",
       "text": [
        "\n",
        "Frame 60 Agents 126692 A0: Density 0.0284967208021 Time 19.2234216363..."
       ]
      },
      {
       "output_type": "stream",
       "stream": "stdout",
       "text": [
        "\n",
        "Frame 70 Agents 103980 A0: Density 0.0284967208021 Time 19.2234216363..."
       ]
      },
      {
       "output_type": "stream",
       "stream": "stdout",
       "text": [
        "\n",
        "Frame 80 Agents 85822 A0: Density 0.0284967208021 Time 19.2234216363..."
       ]
      },
      {
       "output_type": "stream",
       "stream": "stdout",
       "text": [
        "\n",
        "Frame 90 Agents 68442 A0: Density 0.0284967208021 Time 19.2234216363..."
       ]
      },
      {
       "output_type": "stream",
       "stream": "stdout",
       "text": [
        "\n",
        "Frame 100 Agents 51626 A0: Density 0.0284967208021 Time 19.2234216363..."
       ]
      },
      {
       "output_type": "stream",
       "stream": "stdout",
       "text": [
        "\n",
        "Frame 110 Agents 43437 A0: Density 0.0284967208021 Time 19.2234216363..."
       ]
      },
      {
       "output_type": "stream",
       "stream": "stdout",
       "text": [
        "\n",
        "Frame 120 Agents 37037 A0: Density 0.0284967208021 Time 19.2234216363..."
       ]
      },
      {
       "output_type": "stream",
       "stream": "stdout",
       "text": [
        "\n",
        "Frame 130 Agents 30118 A0: Density 0.0284967208021 Time 19.2234216363..."
       ]
      },
      {
       "output_type": "stream",
       "stream": "stdout",
       "text": [
        "\n",
        "Frame 140 Agents 24288 A0: Density 0.0284967208021 Time 19.2234216363..."
       ]
      },
      {
       "output_type": "stream",
       "stream": "stdout",
       "text": [
        "\n",
        "Frame 150 Agents 19150 A0: Density 0.0284967208021 Time 19.2234216363..."
       ]
      },
      {
       "output_type": "stream",
       "stream": "stdout",
       "text": [
        "\n",
        "Frame 160 Agents 15310 A0: Density 0.0284967208021 Time 19.2234216363..."
       ]
      },
      {
       "output_type": "stream",
       "stream": "stdout",
       "text": [
        "\n",
        "Frame 170 Agents 13029 A0: Density 0.0284967208021 Time 19.2234216363..."
       ]
      },
      {
       "output_type": "stream",
       "stream": "stdout",
       "text": [
        "\n",
        "Frame 180 Agents 11356 A0: Density 0.0284967208021 Time 19.2234216363..."
       ]
      },
      {
       "output_type": "stream",
       "stream": "stdout",
       "text": [
        "\n",
        "Frame 190 Agents 10496 A0: Density 0.0284967208021 Time 19.2234216363..."
       ]
      },
      {
       "output_type": "stream",
       "stream": "stdout",
       "text": [
        "\n",
        "Frame 200 Agents 9717 A0: Density 0.0284967208021 Time 19.2234216363..."
       ]
      },
      {
       "output_type": "stream",
       "stream": "stdout",
       "text": [
        "\n",
        "Frame 210 Agents 8953 A0: Density 0.0284967208021 Time 19.2234216363..."
       ]
      },
      {
       "output_type": "stream",
       "stream": "stdout",
       "text": [
        "\n",
        "Frame 220 Agents 8337 A0: Density 0.0284967208021 Time 19.2234216363..."
       ]
      },
      {
       "output_type": "stream",
       "stream": "stdout",
       "text": [
        "\n",
        "Frame 230 Agents 7527 A0: Density 0.0284967208021 Time 19.2234216363..."
       ]
      },
      {
       "output_type": "stream",
       "stream": "stdout",
       "text": [
        "\n",
        "Frame 240 Agents 6833 A0: Density 0.0284967208021 Time 19.2234216363..."
       ]
      },
      {
       "output_type": "stream",
       "stream": "stdout",
       "text": [
        "\n",
        "Frame 250 Agents 6162 A0: Density 0.0284967208021 Time 19.2234216363..."
       ]
      },
      {
       "output_type": "stream",
       "stream": "stdout",
       "text": [
        "\n",
        "Frame 260 Agents 5364 A0: Density 0.0284967208021 Time 19.2234216363..."
       ]
      },
      {
       "output_type": "stream",
       "stream": "stdout",
       "text": [
        "\n",
        "Frame 270 Agents 4755 A0: Density 0.0284967208021 Time 19.2234216363..."
       ]
      },
      {
       "output_type": "stream",
       "stream": "stdout",
       "text": [
        "\n",
        "Frame 280 Agents 3967 A0: Density 0.0284967208021 Time 19.2234216363..."
       ]
      },
      {
       "output_type": "stream",
       "stream": "stdout",
       "text": [
        "\n",
        "Frame 290 Agents 3239 A0: Density 0.0284967208021 Time 19.2234216363..."
       ]
      },
      {
       "output_type": "stream",
       "stream": "stdout",
       "text": [
        "\n",
        "Frame 300 Agents 2588 A0: Density 0.0284967208021 Time 19.2234216363..."
       ]
      },
      {
       "output_type": "stream",
       "stream": "stdout",
       "text": [
        "\n",
        "Frame 310 Agents 1781 A0: Density 0.0284967208021 Time 19.2234216363..."
       ]
      },
      {
       "output_type": "stream",
       "stream": "stdout",
       "text": [
        "\n",
        "Frame 320 Agents 1096 A0: Density 0.0284967208021 Time 19.2234216363..."
       ]
      },
      {
       "output_type": "stream",
       "stream": "stdout",
       "text": [
        "\n",
        "Frame 330 Agents 253 A0: Density 0.0284967208021 Time 19.2234216363..."
       ]
      },
      {
       "output_type": "stream",
       "stream": "stdout",
       "text": [
        "\n",
        "Frame 333 Agents 0 A0: Density 0.0284967208021 Time 19.2234216363..."
       ]
      },
      {
       "output_type": "stream",
       "stream": "stdout",
       "text": [
        "\n",
        "End of this simulation.\n",
        "Agents saved to result."
       ]
      },
      {
       "output_type": "stream",
       "stream": "stdout",
       "text": [
        "\n",
        "Processing paths to destination 107..."
       ]
      },
      {
       "output_type": "stream",
       "stream": "stdout",
       "text": [
        "\n",
        "Processing paths to destination 310..."
       ]
      },
      {
       "output_type": "stream",
       "stream": "stdout",
       "text": [
        "\n",
        "Processing paths to destination 1654..."
       ]
      },
      {
       "output_type": "stream",
       "stream": "stdout",
       "text": [
        "\n",
        "Processing paths to destination 4313..."
       ]
      },
      {
       "output_type": "stream",
       "stream": "stdout",
       "text": [
        "\n",
        "Processing paths to destination 5470..."
       ]
      },
      {
       "output_type": "stream",
       "stream": "stdout",
       "text": [
        "\n",
        "Processing paths to destination 7380..."
       ]
      },
      {
       "output_type": "stream",
       "stream": "stdout",
       "text": [
        "\n",
        "Processing paths to destination 10189..."
       ]
      },
      {
       "output_type": "stream",
       "stream": "stdout",
       "text": [
        "\n",
        "Processing paths to destination 14105..."
       ]
      },
      {
       "output_type": "stream",
       "stream": "stdout",
       "text": [
        "\n",
        "Processing paths to destination 14810..."
       ]
      },
      {
       "output_type": "stream",
       "stream": "stdout",
       "text": [
        "\n",
        "Processing paths to destination 23538..."
       ]
      },
      {
       "output_type": "stream",
       "stream": "stdout",
       "text": [
        "\n",
        "Processing paths to destination 25480..."
       ]
      },
      {
       "output_type": "stream",
       "stream": "stdout",
       "text": [
        "\n",
        "Processing paths to destination 25538..."
       ]
      },
      {
       "output_type": "stream",
       "stream": "stdout",
       "text": [
        "\n",
        "Processing paths to destination 25656..."
       ]
      },
      {
       "output_type": "stream",
       "stream": "stdout",
       "text": [
        "\n",
        "Processing paths to destination 27866..."
       ]
      },
      {
       "output_type": "stream",
       "stream": "stdout",
       "text": [
        "\n",
        "Processing paths to destination 28069..."
       ]
      },
      {
       "output_type": "stream",
       "stream": "stdout",
       "text": [
        "\n",
        "Processing paths to destination 28341..."
       ]
      },
      {
       "output_type": "stream",
       "stream": "stdout",
       "text": [
        "\n",
        "Processing paths to destination 28365..."
       ]
      },
      {
       "output_type": "stream",
       "stream": "stdout",
       "text": [
        "\n",
        "Processing paths to destination 28423..."
       ]
      },
      {
       "output_type": "stream",
       "stream": "stdout",
       "text": [
        "\n",
        "abm/pfactor/Bradford/(ff)n-531694-destins-107-310-1654-4313-5470-7380-10189-14105-14810-23538-25480-25538-25656-27866-28069-28341-28365-28423"
       ]
      },
      {
       "output_type": "stream",
       "stream": "stdout",
       "text": [
        "\n",
        "Starting this simulation..."
       ]
      },
      {
       "output_type": "stream",
       "stream": "stdout",
       "text": [
        "\n",
        "Frame 0 Agents 531273 A0: Density 0.0 Time None..."
       ]
      },
      {
       "output_type": "stream",
       "stream": "stdout",
       "text": [
        "\n",
        "Frame 10 Agents 519408 A0: Density 0.0 Time None..."
       ]
      },
      {
       "output_type": "stream",
       "stream": "stdout",
       "text": [
        "\n",
        "Frame 20 Agents 477481 A0: Density 0.0 Time None..."
       ]
      },
      {
       "output_type": "stream",
       "stream": "stdout",
       "text": [
        "\n",
        "Frame 30 Agents 414710 A0: Density 0.0 Time None..."
       ]
      },
      {
       "output_type": "stream",
       "stream": "stdout",
       "text": [
        "\n",
        "Frame 40 Agents 349507 A0: Density 0.0 Time 33.599006321..."
       ]
      },
      {
       "output_type": "stream",
       "stream": "stdout",
       "text": [
        "\n",
        "Frame 50 Agents 286236 A0: Density 0.0 Time 33.599006321..."
       ]
      },
      {
       "output_type": "stream",
       "stream": "stdout",
       "text": [
        "\n",
        "Frame 60 Agents 234037 A0: Density 0.0 Time 33.599006321..."
       ]
      },
      {
       "output_type": "stream",
       "stream": "stdout",
       "text": [
        "\n",
        "Frame 70 Agents 177887 A0: Density 0.0 Time 33.599006321..."
       ]
      },
      {
       "output_type": "stream",
       "stream": "stdout",
       "text": [
        "\n",
        "Frame 80 Agents 123329 A0: Density 0.0 Time 33.599006321..."
       ]
      },
      {
       "output_type": "stream",
       "stream": "stdout",
       "text": [
        "\n",
        "Frame 90 Agents 73846 A0: Density 0.0 Time 33.599006321..."
       ]
      },
      {
       "output_type": "stream",
       "stream": "stdout",
       "text": [
        "\n",
        "Frame 100 Agents 37106 A0: Density 0.0 Time 33.599006321..."
       ]
      },
      {
       "output_type": "stream",
       "stream": "stdout",
       "text": [
        "\n",
        "Frame 110 Agents 12768 A0: Density 0.0 Time 33.599006321..."
       ]
      },
      {
       "output_type": "stream",
       "stream": "stdout",
       "text": [
        "\n",
        "Frame 120 Agents 6824 A0: Density 0.0 Time 33.599006321..."
       ]
      },
      {
       "output_type": "stream",
       "stream": "stdout",
       "text": [
        "\n",
        "Frame 130 Agents 2693 A0: Density 0.0 Time 33.599006321..."
       ]
      },
      {
       "output_type": "stream",
       "stream": "stdout",
       "text": [
        "\n",
        "Frame 140 Agents 1322 A0: Density 0.0 Time 33.599006321..."
       ]
      },
      {
       "output_type": "stream",
       "stream": "stdout",
       "text": [
        "\n",
        "Frame 150 Agents 497 A0: Density 0.0 Time 33.599006321..."
       ]
      },
      {
       "output_type": "stream",
       "stream": "stdout",
       "text": [
        "\n",
        "Frame 160 Agents 188 A0: Density 0.0 Time 33.599006321..."
       ]
      },
      {
       "output_type": "stream",
       "stream": "stdout",
       "text": [
        "\n",
        "Frame 170 Agents 55 A0: Density 0.0 Time 33.599006321..."
       ]
      },
      {
       "output_type": "stream",
       "stream": "stdout",
       "text": [
        "\n",
        "Frame 180 Agents 9 A0: Density 0.0 Time 33.599006321..."
       ]
      },
      {
       "output_type": "stream",
       "stream": "stdout",
       "text": [
        "\n",
        "Frame 184 Agents 0 A0: Density 0.0 Time 33.599006321..."
       ]
      },
      {
       "output_type": "stream",
       "stream": "stdout",
       "text": [
        "\n",
        "End of this simulation.\n",
        "Agents saved to result."
       ]
      },
      {
       "output_type": "stream",
       "stream": "stdout",
       "text": [
        "\n",
        "abm/pfactor/Bradford/n-531694-destins-107-310-1654-4313-5470-7380-10189-14105-14810-23538-25480-25538-25656-27866-28069-28341-28365-28423"
       ]
      },
      {
       "output_type": "stream",
       "stream": "stdout",
       "text": [
        "\n",
        "Starting this simulation..."
       ]
      },
      {
       "output_type": "stream",
       "stream": "stdout",
       "text": [
        "\n",
        "Frame 0 Agents 531301 A0: Density 0.0696918219705 Time None..."
       ]
      },
      {
       "output_type": "stream",
       "stream": "stdout",
       "text": [
        "\n",
        "Frame 10 Agents 519440 A0: Density 0.401858713801 Time None..."
       ]
      },
      {
       "output_type": "stream",
       "stream": "stdout",
       "text": [
        "\n",
        "Frame 20 Agents 478208 A0: Density 0.999756480756 Time None..."
       ]
      },
      {
       "output_type": "stream",
       "stream": "stdout",
       "text": [
        "\n",
        "Frame 30 Agents 423347 A0: Density 1.95167682026 Time None..."
       ]
      },
      {
       "output_type": "stream",
       "stream": "stdout",
       "text": [
        "\n",
        "Frame 40 Agents 368004 A0: Density 1.60666632981 Time None..."
       ]
      },
      {
       "output_type": "stream",
       "stream": "stdout",
       "text": [
        "\n",
        "Frame 50 Agents 321094 A0: Density 0.0262820344032 Time 48.5632635557..."
       ]
      },
      {
       "output_type": "stream",
       "stream": "stdout",
       "text": [
        "\n",
        "Frame 60 Agents 281439 A0: Density 0.0262820344032 Time 48.5632635557..."
       ]
      },
      {
       "output_type": "stream",
       "stream": "stdout",
       "text": [
        "\n",
        "Frame 70 Agents 246525 A0: Density 0.0262820344032 Time 48.5632635557..."
       ]
      },
      {
       "output_type": "stream",
       "stream": "stdout",
       "text": [
        "\n",
        "Frame 80 Agents 215092 A0: Density 0.0262820344032 Time 48.5632635557..."
       ]
      },
      {
       "output_type": "stream",
       "stream": "stdout",
       "text": [
        "\n",
        "Frame 90 Agents 188639 A0: Density 0.0262820344032 Time 48.5632635557..."
       ]
      },
      {
       "output_type": "stream",
       "stream": "stdout",
       "text": [
        "\n",
        "Frame 100 Agents 166744 A0: Density 0.0262820344032 Time 48.5632635557..."
       ]
      },
      {
       "output_type": "stream",
       "stream": "stdout",
       "text": [
        "\n",
        "Frame 110 Agents 148703 A0: Density 0.0262820344032 Time 48.5632635557..."
       ]
      },
      {
       "output_type": "stream",
       "stream": "stdout",
       "text": [
        "\n",
        "Frame 120 Agents 137628 A0: Density 0.0262820344032 Time 48.5632635557..."
       ]
      },
      {
       "output_type": "stream",
       "stream": "stdout",
       "text": [
        "\n",
        "Frame 130 Agents 128769 A0: Density 0.0262820344032 Time 48.5632635557..."
       ]
      },
      {
       "output_type": "stream",
       "stream": "stdout",
       "text": [
        "\n",
        "Frame 140 Agents 119689 A0: Density 0.0262820344032 Time 48.5632635557..."
       ]
      },
      {
       "output_type": "stream",
       "stream": "stdout",
       "text": [
        "\n",
        "Frame 150 Agents 111124 A0: Density 0.0262820344032 Time 48.5632635557..."
       ]
      },
      {
       "output_type": "stream",
       "stream": "stdout",
       "text": [
        "\n",
        "Frame 160 Agents 102323 A0: Density 0.0262820344032 Time 48.5632635557..."
       ]
      },
      {
       "output_type": "stream",
       "stream": "stdout",
       "text": [
        "\n",
        "Frame 170 Agents 94779 A0: Density 0.0262820344032 Time 48.5632635557..."
       ]
      },
      {
       "output_type": "stream",
       "stream": "stdout",
       "text": [
        "\n",
        "Frame 180 Agents 87132 A0: Density 0.0262820344032 Time 48.5632635557..."
       ]
      },
      {
       "output_type": "stream",
       "stream": "stdout",
       "text": [
        "\n",
        "Frame 190 Agents 80082 A0: Density 0.0262820344032 Time 48.5632635557..."
       ]
      },
      {
       "output_type": "stream",
       "stream": "stdout",
       "text": [
        "\n",
        "Frame 200 Agents 73212 A0: Density 0.0262820344032 Time 48.5632635557..."
       ]
      },
      {
       "output_type": "stream",
       "stream": "stdout",
       "text": [
        "\n",
        "Frame 210 Agents 65491 A0: Density 0.0262820344032 Time 48.5632635557..."
       ]
      },
      {
       "output_type": "stream",
       "stream": "stdout",
       "text": [
        "\n",
        "Frame 220 Agents 60263 A0: Density 0.0262820344032 Time 48.5632635557..."
       ]
      },
      {
       "output_type": "stream",
       "stream": "stdout",
       "text": [
        "\n",
        "Frame 230 Agents 55742 A0: Density 0.0262820344032 Time 48.5632635557..."
       ]
      },
      {
       "output_type": "stream",
       "stream": "stdout",
       "text": [
        "\n",
        "Frame 240 Agents 51158 A0: Density 0.0262820344032 Time 48.5632635557..."
       ]
      },
      {
       "output_type": "stream",
       "stream": "stdout",
       "text": [
        "\n",
        "Frame 250 Agents 47097 A0: Density 0.0262820344032 Time 48.5632635557..."
       ]
      },
      {
       "output_type": "stream",
       "stream": "stdout",
       "text": [
        "\n",
        "Frame 260 Agents 42409 A0: Density 0.0262820344032 Time 48.5632635557..."
       ]
      },
      {
       "output_type": "stream",
       "stream": "stdout",
       "text": [
        "\n",
        "Frame 270 Agents 38891 A0: Density 0.0262820344032 Time 48.5632635557..."
       ]
      },
      {
       "output_type": "stream",
       "stream": "stdout",
       "text": [
        "\n",
        "Frame 280 Agents 35515 A0: Density 0.0262820344032 Time 48.5632635557..."
       ]
      },
      {
       "output_type": "stream",
       "stream": "stdout",
       "text": [
        "\n",
        "Frame 290 Agents 32625 A0: Density 0.0262820344032 Time 48.5632635557..."
       ]
      },
      {
       "output_type": "stream",
       "stream": "stdout",
       "text": [
        "\n",
        "Frame 300 Agents 29617 A0: Density 0.0262820344032 Time 48.5632635557..."
       ]
      },
      {
       "output_type": "stream",
       "stream": "stdout",
       "text": [
        "\n",
        "Frame 310 Agents 26776 A0: Density 0.0262820344032 Time 48.5632635557..."
       ]
      },
      {
       "output_type": "stream",
       "stream": "stdout",
       "text": [
        "\n",
        "Frame 320 Agents 23860 A0: Density 0.0262820344032 Time 48.5632635557..."
       ]
      },
      {
       "output_type": "stream",
       "stream": "stdout",
       "text": [
        "\n",
        "Frame 330 Agents 21005 A0: Density 0.0262820344032 Time 48.5632635557..."
       ]
      },
      {
       "output_type": "stream",
       "stream": "stdout",
       "text": [
        "\n",
        "Frame 340 Agents 18854 A0: Density 0.0262820344032 Time 48.5632635557..."
       ]
      },
      {
       "output_type": "stream",
       "stream": "stdout",
       "text": [
        "\n",
        "Frame 350 Agents 16781 A0: Density 0.0262820344032 Time 48.5632635557..."
       ]
      },
      {
       "output_type": "stream",
       "stream": "stdout",
       "text": [
        "\n",
        "Frame 360 Agents 13819 A0: Density 0.0262820344032 Time 48.5632635557..."
       ]
      },
      {
       "output_type": "stream",
       "stream": "stdout",
       "text": [
        "\n",
        "Frame 370 Agents 13165 A0: Density 0.0262820344032 Time 48.5632635557..."
       ]
      },
      {
       "output_type": "stream",
       "stream": "stdout",
       "text": [
        "\n",
        "Frame 380 Agents 12536 A0: Density 0.0262820344032 Time 48.5632635557..."
       ]
      },
      {
       "output_type": "stream",
       "stream": "stdout",
       "text": [
        "\n",
        "Frame 390 Agents 11908 A0: Density 0.0262820344032 Time 48.5632635557..."
       ]
      },
      {
       "output_type": "stream",
       "stream": "stdout",
       "text": [
        "\n",
        "Frame 400 Agents 11188 A0: Density 0.0262820344032 Time 48.5632635557..."
       ]
      },
      {
       "output_type": "stream",
       "stream": "stdout",
       "text": [
        "\n",
        "Frame 410 Agents 10448 A0: Density 0.0262820344032 Time 48.5632635557..."
       ]
      },
      {
       "output_type": "stream",
       "stream": "stdout",
       "text": [
        "\n",
        "Frame 420 Agents 9724 A0: Density 0.0262820344032 Time 48.5632635557..."
       ]
      },
      {
       "output_type": "stream",
       "stream": "stdout",
       "text": [
        "\n",
        "Frame 430 Agents 8982 A0: Density 0.0262820344032 Time 48.5632635557..."
       ]
      },
      {
       "output_type": "stream",
       "stream": "stdout",
       "text": [
        "\n",
        "Frame 440 Agents 8229 A0: Density 0.0262820344032 Time 48.5632635557..."
       ]
      },
      {
       "output_type": "stream",
       "stream": "stdout",
       "text": [
        "\n",
        "Frame 450 Agents 7510 A0: Density 0.0262820344032 Time 48.5632635557..."
       ]
      },
      {
       "output_type": "stream",
       "stream": "stdout",
       "text": [
        "\n",
        "Frame 460 Agents 6822 A0: Density 0.0262820344032 Time 48.5632635557..."
       ]
      },
      {
       "output_type": "stream",
       "stream": "stdout",
       "text": [
        "\n",
        "Frame 470 Agents 6118 A0: Density 0.0262820344032 Time 48.5632635557..."
       ]
      },
      {
       "output_type": "stream",
       "stream": "stdout",
       "text": [
        "\n",
        "Frame 480 Agents 5453 A0: Density 0.0262820344032 Time 48.5632635557..."
       ]
      },
      {
       "output_type": "stream",
       "stream": "stdout",
       "text": [
        "\n",
        "Frame 490 Agents 4869 A0: Density 0.0262820344032 Time 48.5632635557..."
       ]
      },
      {
       "output_type": "stream",
       "stream": "stdout",
       "text": [
        "\n",
        "Frame 500 Agents 4196 A0: Density 0.0262820344032 Time 48.5632635557..."
       ]
      },
      {
       "output_type": "stream",
       "stream": "stdout",
       "text": [
        "\n",
        "Frame 510 Agents 3464 A0: Density 0.0262820344032 Time 48.5632635557..."
       ]
      },
      {
       "output_type": "stream",
       "stream": "stdout",
       "text": [
        "\n",
        "Frame 520 Agents 2741 A0: Density 0.0262820344032 Time 48.5632635557..."
       ]
      },
      {
       "output_type": "stream",
       "stream": "stdout",
       "text": [
        "\n",
        "Frame 530 Agents 2024 A0: Density 0.0262820344032 Time 48.5632635557..."
       ]
      },
      {
       "output_type": "stream",
       "stream": "stdout",
       "text": [
        "\n",
        "Frame 540 Agents 1267 A0: Density 0.0262820344032 Time 48.5632635557..."
       ]
      },
      {
       "output_type": "stream",
       "stream": "stdout",
       "text": [
        "\n",
        "Frame 550 Agents 111 A0: Density 0.0262820344032 Time 48.5632635557..."
       ]
      },
      {
       "output_type": "stream",
       "stream": "stdout",
       "text": [
        "\n",
        "Frame 552 Agents 0 A0: Density 0.0262820344032 Time 48.5632635557..."
       ]
      },
      {
       "output_type": "stream",
       "stream": "stdout",
       "text": [
        "\n",
        "End of this simulation.\n",
        "Agents saved to result."
       ]
      },
      {
       "output_type": "stream",
       "stream": "stdout",
       "text": [
        "\n",
        "Processing paths to destination 127..."
       ]
      },
      {
       "output_type": "stream",
       "stream": "stdout",
       "text": [
        "\n",
        "Processing paths to destination 1563..."
       ]
      },
      {
       "output_type": "stream",
       "stream": "stdout",
       "text": [
        "\n",
        "Processing paths to destination 1874..."
       ]
      },
      {
       "output_type": "stream",
       "stream": "stdout",
       "text": [
        "\n",
        "Processing paths to destination 1989..."
       ]
      },
      {
       "output_type": "stream",
       "stream": "stdout",
       "text": [
        "\n",
        "Processing paths to destination 2126..."
       ]
      },
      {
       "output_type": "stream",
       "stream": "stdout",
       "text": [
        "\n",
        "Processing paths to destination 3184..."
       ]
      },
      {
       "output_type": "stream",
       "stream": "stdout",
       "text": [
        "\n",
        "Processing paths to destination 3707..."
       ]
      },
      {
       "output_type": "stream",
       "stream": "stdout",
       "text": [
        "\n",
        "Processing paths to destination 4995..."
       ]
      },
      {
       "output_type": "stream",
       "stream": "stdout",
       "text": [
        "\n",
        "Processing paths to destination 15562..."
       ]
      },
      {
       "output_type": "stream",
       "stream": "stdout",
       "text": [
        "\n",
        "Processing paths to destination 19940..."
       ]
      },
      {
       "output_type": "stream",
       "stream": "stdout",
       "text": [
        "\n",
        "Processing paths to destination 23165..."
       ]
      },
      {
       "output_type": "stream",
       "stream": "stdout",
       "text": [
        "\n",
        "Processing paths to destination 23792..."
       ]
      },
      {
       "output_type": "stream",
       "stream": "stdout",
       "text": [
        "\n",
        "Processing paths to destination 23958..."
       ]
      },
      {
       "output_type": "stream",
       "stream": "stdout",
       "text": [
        "\n",
        "Processing paths to destination 24235..."
       ]
      },
      {
       "output_type": "stream",
       "stream": "stdout",
       "text": [
        "\n",
        "Processing paths to destination 24255..."
       ]
      },
      {
       "output_type": "stream",
       "stream": "stdout",
       "text": [
        "\n",
        "abm/pfactor/City of Bristol/(ff)n-279659-destins-127-1563-1874-1989-2126-3184-3707-4995-15562-19940-23165-23792-23958-24235-24255"
       ]
      },
      {
       "output_type": "stream",
       "stream": "stdout",
       "text": [
        "\n",
        "Starting this simulation..."
       ]
      },
      {
       "output_type": "stream",
       "stream": "stdout",
       "text": [
        "\n",
        "Frame 0 Agents 279353 A0: Density 0.0 Time None..."
       ]
      },
      {
       "output_type": "stream",
       "stream": "stdout",
       "text": [
        "\n",
        "Frame 10 Agents 262955 A0: Density 0.0 Time None..."
       ]
      },
      {
       "output_type": "stream",
       "stream": "stdout",
       "text": [
        "\n",
        "Frame 20 Agents 218333 A0: Density 0.0 Time None..."
       ]
      },
      {
       "output_type": "stream",
       "stream": "stdout",
       "text": [
        "\n",
        "Frame 30 Agents 147036 A0: Density 0.0 Time 22.8684711935..."
       ]
      },
      {
       "output_type": "stream",
       "stream": "stdout",
       "text": [
        "\n",
        "Frame 40 Agents 68537 A0: Density 0.0 Time 22.8684711935..."
       ]
      },
      {
       "output_type": "stream",
       "stream": "stdout",
       "text": [
        "\n",
        "Frame 50 Agents 17475 A0: Density 0.0 Time 22.8684711935..."
       ]
      },
      {
       "output_type": "stream",
       "stream": "stdout",
       "text": [
        "\n",
        "Frame 60 Agents 5357 A0: Density 0.0 Time 22.8684711935..."
       ]
      },
      {
       "output_type": "stream",
       "stream": "stdout",
       "text": [
        "\n",
        "Frame 70 Agents 2505 A0: Density 0.0 Time 22.8684711935..."
       ]
      },
      {
       "output_type": "stream",
       "stream": "stdout",
       "text": [
        "\n",
        "Frame 80 Agents 1093 A0: Density 0.0 Time 22.8684711935..."
       ]
      },
      {
       "output_type": "stream",
       "stream": "stdout",
       "text": [
        "\n",
        "Frame 90 Agents 551 A0: Density 0.0 Time 22.8684711935..."
       ]
      },
      {
       "output_type": "stream",
       "stream": "stdout",
       "text": [
        "\n",
        "Frame 100 Agents 351 A0: Density 0.0 Time 22.8684711935..."
       ]
      },
      {
       "output_type": "stream",
       "stream": "stdout",
       "text": [
        "\n",
        "Frame 110 Agents 61 A0: Density 0.0 Time 22.8684711935..."
       ]
      },
      {
       "output_type": "stream",
       "stream": "stdout",
       "text": [
        "\n",
        "Frame 114 Agents 0 A0: Density 0.0 Time 22.8684711935..."
       ]
      },
      {
       "output_type": "stream",
       "stream": "stdout",
       "text": [
        "\n",
        "End of this simulation.\n",
        "Agents saved to result."
       ]
      },
      {
       "output_type": "stream",
       "stream": "stdout",
       "text": [
        "\n",
        "abm/pfactor/City of Bristol/n-279659-destins-127-1563-1874-1989-2126-3184-3707-4995-15562-19940-23165-23792-23958-24235-24255"
       ]
      },
      {
       "output_type": "stream",
       "stream": "stdout",
       "text": [
        "\n",
        "Starting this simulation..."
       ]
      },
      {
       "output_type": "stream",
       "stream": "stdout",
       "text": [
        "\n",
        "Frame 0 Agents 279340 A0: Density 0.0533520223587 Time None..."
       ]
      },
      {
       "output_type": "stream",
       "stream": "stdout",
       "text": [
        "\n",
        "Frame 10 Agents 264186 A0: Density 2.60618803692 Time None..."
       ]
      },
      {
       "output_type": "stream",
       "stream": "stdout",
       "text": [
        "\n",
        "Frame 20 Agents 229281 A0: Density 1.38523065187 Time None..."
       ]
      },
      {
       "output_type": "stream",
       "stream": "stdout",
       "text": [
        "\n",
        "Frame 30 Agents 178843 A0: Density 0.409295803054 Time None..."
       ]
      },
      {
       "output_type": "stream",
       "stream": "stdout",
       "text": [
        "\n",
        "Frame 40 Agents 138504 A0: Density 5.495012944 Time None..."
       ]
      },
      {
       "output_type": "stream",
       "stream": "stdout",
       "text": [
        "\n",
        "Frame 50 Agents 105567 A0: Density 5.47182723537 Time None..."
       ]
      },
      {
       "output_type": "stream",
       "stream": "stdout",
       "text": [
        "\n",
        "Frame 60 Agents 86584 A0: Density 5.495012944 Time None..."
       ]
      },
      {
       "output_type": "stream",
       "stream": "stdout",
       "text": [
        "\n",
        "Frame 70 Agents 72714 A0: Density 5.495012944 Time None..."
       ]
      },
      {
       "output_type": "stream",
       "stream": "stdout",
       "text": [
        "\n",
        "Frame 80 Agents 61158 A0: Density 5.495012944 Time None..."
       ]
      },
      {
       "output_type": "stream",
       "stream": "stdout",
       "text": [
        "\n",
        "Frame 90 Agents 50128 A0: Density 5.495012944 Time None..."
       ]
      },
      {
       "output_type": "stream",
       "stream": "stdout",
       "text": [
        "\n",
        "Frame 100 Agents 43778 A0: Density 5.495012944 Time None..."
       ]
      },
      {
       "output_type": "stream",
       "stream": "stdout",
       "text": [
        "\n",
        "Frame 110 Agents 41063 A0: Density 5.49278391831 Time None..."
       ]
      },
      {
       "output_type": "stream",
       "stream": "stdout",
       "text": [
        "\n",
        "Frame 120 Agents 39496 A0: Density 5.49278391831 Time None..."
       ]
      },
      {
       "output_type": "stream",
       "stream": "stdout",
       "text": [
        "\n",
        "Frame 130 Agents 37970 A0: Density 5.46815260029 Time None..."
       ]
      },
      {
       "output_type": "stream",
       "stream": "stdout",
       "text": [
        "\n",
        "Frame 140 Agents 36452 A0: Density 5.48196901492 Time None..."
       ]
      },
      {
       "output_type": "stream",
       "stream": "stdout",
       "text": [
        "\n",
        "Frame 150 Agents 34934 A0: Density 5.48196901492 Time None..."
       ]
      },
      {
       "output_type": "stream",
       "stream": "stdout",
       "text": [
        "\n",
        "Frame 160 Agents 33405 A0: Density 5.48196901492 Time None..."
       ]
      },
      {
       "output_type": "stream",
       "stream": "stdout",
       "text": [
        "\n",
        "Frame 170 Agents 31892 A0: Density 5.48196901492 Time None..."
       ]
      },
      {
       "output_type": "stream",
       "stream": "stdout",
       "text": [
        "\n",
        "Frame 180 Agents 30057 A0: Density 5.49192913903 Time None..."
       ]
      },
      {
       "output_type": "stream",
       "stream": "stdout",
       "text": [
        "\n",
        "Frame 190 Agents 28553 A0: Density 5.49192913903 Time None..."
       ]
      },
      {
       "output_type": "stream",
       "stream": "stdout",
       "text": [
        "\n",
        "Frame 200 Agents 27047 A0: Density 5.49774101961 Time None..."
       ]
      },
      {
       "output_type": "stream",
       "stream": "stdout",
       "text": [
        "\n",
        "Frame 210 Agents 25539 A0: Density 5.49508125134 Time None..."
       ]
      },
      {
       "output_type": "stream",
       "stream": "stdout",
       "text": [
        "\n",
        "Frame 220 Agents 24027 A0: Density 5.49935779905 Time None..."
       ]
      },
      {
       "output_type": "stream",
       "stream": "stdout",
       "text": [
        "\n",
        "Frame 230 Agents 22515 A0: Density 5.49089150339 Time None..."
       ]
      },
      {
       "output_type": "stream",
       "stream": "stdout",
       "text": [
        "\n",
        "Frame 240 Agents 21011 A0: Density 5.49785484108 Time None..."
       ]
      },
      {
       "output_type": "stream",
       "stream": "stdout",
       "text": [
        "\n",
        "Frame 250 Agents 19498 A0: Density 5.48867645236 Time None..."
       ]
      },
      {
       "output_type": "stream",
       "stream": "stdout",
       "text": [
        "\n",
        "Frame 260 Agents 17996 A0: Density 5.49785484108 Time None..."
       ]
      },
      {
       "output_type": "stream",
       "stream": "stdout",
       "text": [
        "\n",
        "Frame 270 Agents 16490 A0: Density 5.49785484108 Time None..."
       ]
      },
      {
       "output_type": "stream",
       "stream": "stdout",
       "text": [
        "\n",
        "Frame 280 Agents 14982 A0: Density 5.49718945429 Time None..."
       ]
      },
      {
       "output_type": "stream",
       "stream": "stdout",
       "text": [
        "\n",
        "Frame 290 Agents 13474 A0: Density 5.4938351175 Time None..."
       ]
      },
      {
       "output_type": "stream",
       "stream": "stdout",
       "text": [
        "\n",
        "Frame 300 Agents 11971 A0: Density 5.48439618851 Time None..."
       ]
      },
      {
       "output_type": "stream",
       "stream": "stdout",
       "text": [
        "\n",
        "Frame 310 Agents 10459 A0: Density 5.49452774181 Time None..."
       ]
      },
      {
       "output_type": "stream",
       "stream": "stdout",
       "text": [
        "\n",
        "Frame 320 Agents 8952 A0: Density 5.49452774181 Time None..."
       ]
      },
      {
       "output_type": "stream",
       "stream": "stdout",
       "text": [
        "\n",
        "Frame 330 Agents 7440 A0: Density 5.49150563664 Time None..."
       ]
      },
      {
       "output_type": "stream",
       "stream": "stdout",
       "text": [
        "\n",
        "Frame 340 Agents 5940 A0: Density 0.736420300736 Time None..."
       ]
      },
      {
       "output_type": "stream",
       "stream": "stdout",
       "text": [
        "\n",
        "Frame 350 Agents 4426 A0: Density 0.106004097848 Time 343.867665426..."
       ]
      },
      {
       "output_type": "stream",
       "stream": "stdout",
       "text": [
        "\n",
        "Frame 360 Agents 2922 A0: Density 0.106004097848 Time 343.867665426..."
       ]
      },
      {
       "output_type": "stream",
       "stream": "stdout",
       "text": [
        "\n",
        "Frame 370 Agents 1318 A0: Density 0.106004097848 Time 343.867665426..."
       ]
      },
      {
       "output_type": "stream",
       "stream": "stdout",
       "text": [
        "\n",
        "Frame 380 Agents 577 A0: Density 0.106004097848 Time 343.867665426..."
       ]
      },
      {
       "output_type": "stream",
       "stream": "stdout",
       "text": [
        "\n",
        "Frame 386 Agents 0 A0: Density 0.106004097848 Time 343.867665426..."
       ]
      },
      {
       "output_type": "stream",
       "stream": "stdout",
       "text": [
        "\n",
        "End of this simulation.\n",
        "Agents saved to result."
       ]
      },
      {
       "output_type": "stream",
       "stream": "stdout",
       "text": [
        "\n",
        "Processing paths to destination 87..."
       ]
      },
      {
       "output_type": "stream",
       "stream": "stdout",
       "text": [
        "\n",
        "Processing paths to destination 163..."
       ]
      },
      {
       "output_type": "stream",
       "stream": "stdout",
       "text": [
        "\n",
        "Processing paths to destination 306..."
       ]
      },
      {
       "output_type": "stream",
       "stream": "stdout",
       "text": [
        "\n",
        "Processing paths to destination 659..."
       ]
      },
      {
       "output_type": "stream",
       "stream": "stdout",
       "text": [
        "\n",
        "Processing paths to destination 2001..."
       ]
      },
      {
       "output_type": "stream",
       "stream": "stdout",
       "text": [
        "\n",
        "Processing paths to destination 2005..."
       ]
      },
      {
       "output_type": "stream",
       "stream": "stdout",
       "text": [
        "\n",
        "Processing paths to destination 20909..."
       ]
      },
      {
       "output_type": "stream",
       "stream": "stdout",
       "text": [
        "\n",
        "Processing paths to destination 29983..."
       ]
      },
      {
       "output_type": "stream",
       "stream": "stdout",
       "text": [
        "\n",
        "Processing paths to destination 30040..."
       ]
      },
      {
       "output_type": "stream",
       "stream": "stdout",
       "text": [
        "\n",
        "Processing paths to destination 34751..."
       ]
      },
      {
       "output_type": "stream",
       "stream": "stdout",
       "text": [
        "\n",
        "Processing paths to destination 46020..."
       ]
      },
      {
       "output_type": "stream",
       "stream": "stdout",
       "text": [
        "\n",
        "Processing paths to destination 46189..."
       ]
      },
      {
       "output_type": "stream",
       "stream": "stdout",
       "text": [
        "\n",
        "Processing paths to destination 46374..."
       ]
      },
      {
       "output_type": "stream",
       "stream": "stdout",
       "text": [
        "\n",
        "Processing paths to destination 46494..."
       ]
      },
      {
       "output_type": "stream",
       "stream": "stdout",
       "text": [
        "\n",
        "Processing paths to destination 46603..."
       ]
      },
      {
       "output_type": "stream",
       "stream": "stdout",
       "text": [
        "\n",
        "Processing paths to destination 50357..."
       ]
      },
      {
       "output_type": "stream",
       "stream": "stdout",
       "text": [
        "\n",
        "abm/pfactor/Sheffield/(ff)n-531450-destins-87-163-306-659-2001-2005-20909-29983-30040-34751-46020-46189-46374-46494-46603-50357"
       ]
      },
      {
       "output_type": "stream",
       "stream": "stdout",
       "text": [
        "\n",
        "Starting this simulation..."
       ]
      },
      {
       "output_type": "stream",
       "stream": "stdout",
       "text": [
        "\n",
        "Frame 0 Agents 531265 A0: Density 0.0 Time None..."
       ]
      },
      {
       "output_type": "stream",
       "stream": "stdout",
       "text": [
        "\n",
        "Frame 10 Agents 524210 A0: Density 0.0 Time None..."
       ]
      },
      {
       "output_type": "stream",
       "stream": "stdout",
       "text": [
        "\n",
        "Frame 20 Agents 497712 A0: Density 0.0 Time None..."
       ]
      },
      {
       "output_type": "stream",
       "stream": "stdout",
       "text": [
        "\n",
        "Frame 30 Agents 447417 A0: Density 0.0 Time None..."
       ]
      },
      {
       "output_type": "stream",
       "stream": "stdout",
       "text": [
        "\n",
        "Frame 40 Agents 367671 A0: Density 0.0 Time None..."
       ]
      },
      {
       "output_type": "stream",
       "stream": "stdout",
       "text": [
        "\n",
        "Frame 50 Agents 294798 A0: Density 0.0 Time None..."
       ]
      },
      {
       "output_type": "stream",
       "stream": "stdout",
       "text": [
        "\n",
        "Frame 60 Agents 219815 A0: Density 0.0 Time None..."
       ]
      },
      {
       "output_type": "stream",
       "stream": "stdout",
       "text": [
        "\n",
        "Frame 70 Agents 159100 A0: Density 0.0 Time 62.302119379..."
       ]
      },
      {
       "output_type": "stream",
       "stream": "stdout",
       "text": [
        "\n",
        "Frame 80 Agents 103306 A0: Density 0.0 Time 62.302119379..."
       ]
      },
      {
       "output_type": "stream",
       "stream": "stdout",
       "text": [
        "\n",
        "Frame 90 Agents 58567 A0: Density 0.0 Time 62.302119379..."
       ]
      },
      {
       "output_type": "stream",
       "stream": "stdout",
       "text": [
        "\n",
        "Frame 100 Agents 24171 A0: Density 0.0 Time 62.302119379..."
       ]
      },
      {
       "output_type": "stream",
       "stream": "stdout",
       "text": [
        "\n",
        "Frame 110 Agents 15969 A0: Density 0.0 Time 62.302119379..."
       ]
      },
      {
       "output_type": "stream",
       "stream": "stdout",
       "text": [
        "\n",
        "Frame 120 Agents 12269 A0: Density 0.0 Time 62.302119379..."
       ]
      },
      {
       "output_type": "stream",
       "stream": "stdout",
       "text": [
        "\n",
        "Frame 130 Agents 9783 A0: Density 0.0 Time 62.302119379..."
       ]
      },
      {
       "output_type": "stream",
       "stream": "stdout",
       "text": [
        "\n",
        "Frame 140 Agents 8374 A0: Density 0.0 Time 62.302119379..."
       ]
      },
      {
       "output_type": "stream",
       "stream": "stdout",
       "text": [
        "\n",
        "Frame 150 Agents 6966 A0: Density 0.0 Time 62.302119379..."
       ]
      },
      {
       "output_type": "stream",
       "stream": "stdout",
       "text": [
        "\n",
        "Frame 160 Agents 5400 A0: Density 0.0 Time 62.302119379..."
       ]
      },
      {
       "output_type": "stream",
       "stream": "stdout",
       "text": [
        "\n",
        "Frame 170 Agents 2990 A0: Density 0.0 Time 62.302119379..."
       ]
      },
      {
       "output_type": "stream",
       "stream": "stdout",
       "text": [
        "\n",
        "Frame 180 Agents 1387 A0: Density 0.0 Time 62.302119379..."
       ]
      },
      {
       "output_type": "stream",
       "stream": "stdout",
       "text": [
        "\n",
        "Frame 190 Agents 774 A0: Density 0.0 Time 62.302119379..."
       ]
      },
      {
       "output_type": "stream",
       "stream": "stdout",
       "text": [
        "\n",
        "Frame 200 Agents 186 A0: Density 0.0 Time 62.302119379..."
       ]
      },
      {
       "output_type": "stream",
       "stream": "stdout",
       "text": [
        "\n",
        "Frame 210 Agents 91 A0: Density 0.0 Time 62.302119379..."
       ]
      },
      {
       "output_type": "stream",
       "stream": "stdout",
       "text": [
        "\n",
        "Frame 220 Agents 33 A0: Density 0.0 Time 62.302119379..."
       ]
      },
      {
       "output_type": "stream",
       "stream": "stdout",
       "text": [
        "\n",
        "Frame 229 Agents 0 A0: Density 0.0 Time 62.302119379..."
       ]
      },
      {
       "output_type": "stream",
       "stream": "stdout",
       "text": [
        "\n",
        "End of this simulation.\n",
        "Agents saved to result."
       ]
      },
      {
       "output_type": "stream",
       "stream": "stdout",
       "text": [
        "\n",
        "abm/pfactor/Sheffield/n-531450-destins-87-163-306-659-2001-2005-20909-29983-30040-34751-46020-46189-46374-46494-46603-50357"
       ]
      },
      {
       "output_type": "stream",
       "stream": "stdout",
       "text": [
        "\n",
        "Starting this simulation..."
       ]
      },
      {
       "output_type": "stream",
       "stream": "stdout",
       "text": [
        "\n",
        "Frame 0 Agents 531285 A0: Density 0.158535483993 Time None..."
       ]
      },
      {
       "output_type": "stream",
       "stream": "stdout",
       "text": [
        "\n",
        "Frame 10 Agents 524361 A0: Density 0.626945979809 Time None..."
       ]
      },
      {
       "output_type": "stream",
       "stream": "stdout",
       "text": [
        "\n",
        "Frame 20 Agents 499241 A0: Density 0.751665294969 Time None..."
       ]
      },
      {
       "output_type": "stream",
       "stream": "stdout",
       "text": [
        "\n",
        "Frame 30 Agents 456882 A0: Density 0.00236899049769 Time 22.8917534232..."
       ]
      },
      {
       "output_type": "stream",
       "stream": "stdout",
       "text": [
        "\n",
        "Frame 40 Agents 409352 A0: Density 0.00236899049769 Time 22.8917534232..."
       ]
      },
      {
       "output_type": "stream",
       "stream": "stdout",
       "text": [
        "\n",
        "Frame 50 Agents 364638 A0: Density 0.00236899049769 Time 22.8917534232..."
       ]
      },
      {
       "output_type": "stream",
       "stream": "stdout",
       "text": [
        "\n",
        "Frame 60 Agents 325692 A0: Density 0.00236899049769 Time 22.8917534232..."
       ]
      },
      {
       "output_type": "stream",
       "stream": "stdout",
       "text": [
        "\n",
        "Frame 70 Agents 295521 A0: Density 0.00236899049769 Time 22.8917534232..."
       ]
      },
      {
       "output_type": "stream",
       "stream": "stdout",
       "text": [
        "\n",
        "Frame 80 Agents 266273 A0: Density 0.00236899049769 Time 22.8917534232..."
       ]
      },
      {
       "output_type": "stream",
       "stream": "stdout",
       "text": [
        "\n",
        "Frame 90 Agents 240761 A0: Density 0.00236899049769 Time 22.8917534232..."
       ]
      },
      {
       "output_type": "stream",
       "stream": "stdout",
       "text": [
        "\n",
        "Frame 100 Agents 219212 A0: Density 0.00236899049769 Time 22.8917534232..."
       ]
      },
      {
       "output_type": "stream",
       "stream": "stdout",
       "text": [
        "\n",
        "Frame 110 Agents 202601 A0: Density 0.00236899049769 Time 22.8917534232..."
       ]
      },
      {
       "output_type": "stream",
       "stream": "stdout",
       "text": [
        "\n",
        "Frame 120 Agents 185840 A0: Density 0.00236899049769 Time 22.8917534232..."
       ]
      },
      {
       "output_type": "stream",
       "stream": "stdout",
       "text": [
        "\n",
        "Frame 130 Agents 170335 A0: Density 0.00236899049769 Time 22.8917534232..."
       ]
      },
      {
       "output_type": "stream",
       "stream": "stdout",
       "text": [
        "\n",
        "Frame 140 Agents 156415 A0: Density 0.00236899049769 Time 22.8917534232..."
       ]
      },
      {
       "output_type": "stream",
       "stream": "stdout",
       "text": [
        "\n",
        "Frame 150 Agents 142980 A0: Density 0.00236899049769 Time 22.8917534232..."
       ]
      },
      {
       "output_type": "stream",
       "stream": "stdout",
       "text": [
        "\n",
        "Frame 160 Agents 130081 A0: Density 0.00236899049769 Time 22.8917534232..."
       ]
      },
      {
       "output_type": "stream",
       "stream": "stdout",
       "text": [
        "\n",
        "Frame 170 Agents 117471 A0: Density 0.00236899049769 Time 22.8917534232..."
       ]
      },
      {
       "output_type": "stream",
       "stream": "stdout",
       "text": [
        "\n",
        "Frame 180 Agents 109193 A0: Density 0.00236899049769 Time 22.8917534232..."
       ]
      },
      {
       "output_type": "stream",
       "stream": "stdout",
       "text": [
        "\n",
        "Frame 190 Agents 99228 A0: Density 0.00236899049769 Time 22.8917534232..."
       ]
      },
      {
       "output_type": "stream",
       "stream": "stdout",
       "text": [
        "\n",
        "Frame 200 Agents 93323 A0: Density 0.00236899049769 Time 22.8917534232..."
       ]
      },
      {
       "output_type": "stream",
       "stream": "stdout",
       "text": [
        "\n",
        "Frame 210 Agents 88489 A0: Density 0.00236899049769 Time 22.8917534232..."
       ]
      },
      {
       "output_type": "stream",
       "stream": "stdout",
       "text": [
        "\n",
        "Frame 220 Agents 85050 A0: Density 0.00236899049769 Time 22.8917534232..."
       ]
      },
      {
       "output_type": "stream",
       "stream": "stdout",
       "text": [
        "\n",
        "Frame 230 Agents 81763 A0: Density 0.00236899049769 Time 22.8917534232..."
       ]
      },
      {
       "output_type": "stream",
       "stream": "stdout",
       "text": [
        "\n",
        "Frame 240 Agents 77594 A0: Density 0.00236899049769 Time 22.8917534232..."
       ]
      },
      {
       "output_type": "stream",
       "stream": "stdout",
       "text": [
        "\n",
        "Frame 250 Agents 74729 A0: Density 0.00236899049769 Time 22.8917534232..."
       ]
      },
      {
       "output_type": "stream",
       "stream": "stdout",
       "text": [
        "\n",
        "Frame 260 Agents 71978 A0: Density 0.00236899049769 Time 22.8917534232..."
       ]
      },
      {
       "output_type": "stream",
       "stream": "stdout",
       "text": [
        "\n",
        "Frame 270 Agents 69083 A0: Density 0.00236899049769 Time 22.8917534232..."
       ]
      },
      {
       "output_type": "stream",
       "stream": "stdout",
       "text": [
        "\n",
        "Frame 280 Agents 65985 A0: Density 0.00236899049769 Time 22.8917534232..."
       ]
      },
      {
       "output_type": "stream",
       "stream": "stdout",
       "text": [
        "\n",
        "Frame 290 Agents 64104 A0: Density 0.00236899049769 Time 22.8917534232..."
       ]
      },
      {
       "output_type": "stream",
       "stream": "stdout",
       "text": [
        "\n",
        "Frame 300 Agents 61554 A0: Density 0.00236899049769 Time 22.8917534232..."
       ]
      },
      {
       "output_type": "stream",
       "stream": "stdout",
       "text": [
        "\n",
        "Frame 310 Agents 59565 A0: Density 0.00236899049769 Time 22.8917534232..."
       ]
      },
      {
       "output_type": "stream",
       "stream": "stdout",
       "text": [
        "\n",
        "Frame 320 Agents 58005 A0: Density 0.00236899049769 Time 22.8917534232..."
       ]
      },
      {
       "output_type": "stream",
       "stream": "stdout",
       "text": [
        "\n",
        "Frame 330 Agents 56762 A0: Density 0.00236899049769 Time 22.8917534232..."
       ]
      },
      {
       "output_type": "stream",
       "stream": "stdout",
       "text": [
        "\n",
        "Frame 340 Agents 55419 A0: Density 0.00236899049769 Time 22.8917534232..."
       ]
      },
      {
       "output_type": "stream",
       "stream": "stdout",
       "text": [
        "\n",
        "Frame 350 Agents 53661 A0: Density 0.00236899049769 Time 22.8917534232..."
       ]
      },
      {
       "output_type": "stream",
       "stream": "stdout",
       "text": [
        "\n",
        "Frame 360 Agents 52427 A0: Density 0.00236899049769 Time 22.8917534232..."
       ]
      },
      {
       "output_type": "stream",
       "stream": "stdout",
       "text": [
        "\n",
        "Frame 370 Agents 51116 A0: Density 0.00236899049769 Time 22.8917534232..."
       ]
      },
      {
       "output_type": "stream",
       "stream": "stdout",
       "text": [
        "\n",
        "Frame 380 Agents 49721 A0: Density 0.00236899049769 Time 22.8917534232..."
       ]
      },
      {
       "output_type": "stream",
       "stream": "stdout",
       "text": [
        "\n",
        "Frame 390 Agents 48052 A0: Density 0.00236899049769 Time 22.8917534232..."
       ]
      },
      {
       "output_type": "stream",
       "stream": "stdout",
       "text": [
        "\n",
        "Frame 400 Agents 46838 A0: Density 0.00236899049769 Time 22.8917534232..."
       ]
      },
      {
       "output_type": "stream",
       "stream": "stdout",
       "text": [
        "\n",
        "Frame 410 Agents 45510 A0: Density 0.00236899049769 Time 22.8917534232..."
       ]
      },
      {
       "output_type": "stream",
       "stream": "stdout",
       "text": [
        "\n",
        "Frame 420 Agents 43884 A0: Density 0.00236899049769 Time 22.8917534232..."
       ]
      },
      {
       "output_type": "stream",
       "stream": "stdout",
       "text": [
        "\n",
        "Frame 430 Agents 42456 A0: Density 0.00236899049769 Time 22.8917534232..."
       ]
      },
      {
       "output_type": "stream",
       "stream": "stdout",
       "text": [
        "\n",
        "Frame 440 Agents 41196 A0: Density 0.00236899049769 Time 22.8917534232..."
       ]
      },
      {
       "output_type": "stream",
       "stream": "stdout",
       "text": [
        "\n",
        "Frame 450 Agents 39814 A0: Density 0.00236899049769 Time 22.8917534232..."
       ]
      },
      {
       "output_type": "stream",
       "stream": "stdout",
       "text": [
        "\n",
        "Frame 460 Agents 38093 A0: Density 0.00236899049769 Time 22.8917534232..."
       ]
      },
      {
       "output_type": "stream",
       "stream": "stdout",
       "text": [
        "\n",
        "Frame 470 Agents 36888 A0: Density 0.00236899049769 Time 22.8917534232..."
       ]
      },
      {
       "output_type": "stream",
       "stream": "stdout",
       "text": [
        "\n",
        "Frame 480 Agents 35573 A0: Density 0.00236899049769 Time 22.8917534232..."
       ]
      },
      {
       "output_type": "stream",
       "stream": "stdout",
       "text": [
        "\n",
        "Frame 490 Agents 34061 A0: Density 0.00236899049769 Time 22.8917534232..."
       ]
      },
      {
       "output_type": "stream",
       "stream": "stdout",
       "text": [
        "\n",
        "Frame 500 Agents 32496 A0: Density 0.00236899049769 Time 22.8917534232..."
       ]
      },
      {
       "output_type": "stream",
       "stream": "stdout",
       "text": [
        "\n",
        "Frame 510 Agents 31269 A0: Density 0.00236899049769 Time 22.8917534232..."
       ]
      },
      {
       "output_type": "stream",
       "stream": "stdout",
       "text": [
        "\n",
        "Frame 520 Agents 29932 A0: Density 0.00236899049769 Time 22.8917534232..."
       ]
      },
      {
       "output_type": "stream",
       "stream": "stdout",
       "text": [
        "\n",
        "Frame 530 Agents 28172 A0: Density 0.00236899049769 Time 22.8917534232..."
       ]
      },
      {
       "output_type": "stream",
       "stream": "stdout",
       "text": [
        "\n",
        "Frame 540 Agents 26921 A0: Density 0.00236899049769 Time 22.8917534232..."
       ]
      },
      {
       "output_type": "stream",
       "stream": "stdout",
       "text": [
        "\n",
        "Frame 550 Agents 25611 A0: Density 0.00236899049769 Time 22.8917534232..."
       ]
      },
      {
       "output_type": "stream",
       "stream": "stdout",
       "text": [
        "\n",
        "Frame 560 Agents 24209 A0: Density 0.00236899049769 Time 22.8917534232..."
       ]
      },
      {
       "output_type": "stream",
       "stream": "stdout",
       "text": [
        "\n",
        "Frame 570 Agents 22529 A0: Density 0.00236899049769 Time 22.8917534232..."
       ]
      },
      {
       "output_type": "stream",
       "stream": "stdout",
       "text": [
        "\n",
        "Frame 580 Agents 21316 A0: Density 0.00236899049769 Time 22.8917534232..."
       ]
      },
      {
       "output_type": "stream",
       "stream": "stdout",
       "text": [
        "\n",
        "Frame 590 Agents 19984 A0: Density 0.00236899049769 Time 22.8917534232..."
       ]
      },
      {
       "output_type": "stream",
       "stream": "stdout",
       "text": [
        "\n",
        "Frame 600 Agents 18382 A0: Density 0.00236899049769 Time 22.8917534232..."
       ]
      },
      {
       "output_type": "stream",
       "stream": "stdout",
       "text": [
        "\n",
        "Frame 610 Agents 16962 A0: Density 0.00236899049769 Time 22.8917534232..."
       ]
      },
      {
       "output_type": "stream",
       "stream": "stdout",
       "text": [
        "\n",
        "Frame 620 Agents 15689 A0: Density 0.00236899049769 Time 22.8917534232..."
       ]
      },
      {
       "output_type": "stream",
       "stream": "stdout",
       "text": [
        "\n",
        "Frame 630 Agents 14300 A0: Density 0.00236899049769 Time 22.8917534232..."
       ]
      },
      {
       "output_type": "stream",
       "stream": "stdout",
       "text": [
        "\n",
        "Frame 640 Agents 12591 A0: Density 0.00236899049769 Time 22.8917534232..."
       ]
      },
      {
       "output_type": "stream",
       "stream": "stdout",
       "text": [
        "\n",
        "Frame 650 Agents 11379 A0: Density 0.00236899049769 Time 22.8917534232..."
       ]
      },
      {
       "output_type": "stream",
       "stream": "stdout",
       "text": [
        "\n",
        "Frame 660 Agents 10062 A0: Density 0.00236899049769 Time 22.8917534232..."
       ]
      },
      {
       "output_type": "stream",
       "stream": "stdout",
       "text": [
        "\n",
        "Frame 670 Agents 8566 A0: Density 0.00236899049769 Time 22.8917534232..."
       ]
      },
      {
       "output_type": "stream",
       "stream": "stdout",
       "text": [
        "\n",
        "Frame 680 Agents 6994 A0: Density 0.00236899049769 Time 22.8917534232..."
       ]
      },
      {
       "output_type": "stream",
       "stream": "stdout",
       "text": [
        "\n",
        "Frame 690 Agents 5163 A0: Density 0.00236899049769 Time 22.8917534232..."
       ]
      },
      {
       "output_type": "stream",
       "stream": "stdout",
       "text": [
        "\n",
        "Frame 700 Agents 2830 A0: Density 0.00236899049769 Time 22.8917534232..."
       ]
      },
      {
       "output_type": "stream",
       "stream": "stdout",
       "text": [
        "\n",
        "Frame 710 Agents 2108 A0: Density 0.00236899049769 Time 22.8917534232..."
       ]
      },
      {
       "output_type": "stream",
       "stream": "stdout",
       "text": [
        "\n",
        "Frame 720 Agents 1393 A0: Density 0.00236899049769 Time 22.8917534232..."
       ]
      },
      {
       "output_type": "stream",
       "stream": "stdout",
       "text": [
        "\n",
        "Frame 730 Agents 629 A0: Density 0.00236899049769 Time 22.8917534232..."
       ]
      },
      {
       "output_type": "stream",
       "stream": "stdout",
       "text": [
        "\n",
        "Frame 733 Agents 0 A0: Density 0.00236899049769 Time 22.8917534232..."
       ]
      },
      {
       "output_type": "stream",
       "stream": "stdout",
       "text": [
        "\n",
        "End of this simulation.\n",
        "Agents saved to result."
       ]
      },
      {
       "output_type": "stream",
       "stream": "stdout",
       "text": [
        "\n",
        "Processing paths to destination 1..."
       ]
      },
      {
       "output_type": "stream",
       "stream": "stdout",
       "text": [
        "\n",
        "Processing paths to destination 19..."
       ]
      },
      {
       "output_type": "stream",
       "stream": "stdout",
       "text": [
        "\n",
        "Processing paths to destination 277..."
       ]
      },
      {
       "output_type": "stream",
       "stream": "stdout",
       "text": [
        "\n",
        "Processing paths to destination 531..."
       ]
      },
      {
       "output_type": "stream",
       "stream": "stdout",
       "text": [
        "\n",
        "Processing paths to destination 926..."
       ]
      },
      {
       "output_type": "stream",
       "stream": "stdout",
       "text": [
        "\n",
        "Processing paths to destination 946..."
       ]
      },
      {
       "output_type": "stream",
       "stream": "stdout",
       "text": [
        "\n",
        "Processing paths to destination 7305..."
       ]
      },
      {
       "output_type": "stream",
       "stream": "stdout",
       "text": [
        "\n",
        "Processing paths to destination 12851..."
       ]
      },
      {
       "output_type": "stream",
       "stream": "stdout",
       "text": [
        "\n",
        "Processing paths to destination 14121..."
       ]
      },
      {
       "output_type": "stream",
       "stream": "stdout",
       "text": [
        "\n",
        "Processing paths to destination 14918..."
       ]
      },
      {
       "output_type": "stream",
       "stream": "stdout",
       "text": [
        "\n",
        "abm/pfactor/Cambridge/(ff)n-129171-destins-1-19-277-531-926-946-7305-12851-14121-14918"
       ]
      },
      {
       "output_type": "stream",
       "stream": "stdout",
       "text": [
        "\n",
        "Starting this simulation..."
       ]
      },
      {
       "output_type": "stream",
       "stream": "stdout",
       "text": [
        "\n",
        "Frame 0 Agents 128977 A0: Density 0.0 Time None..."
       ]
      },
      {
       "output_type": "stream",
       "stream": "stdout",
       "text": [
        "\n",
        "Frame 10 Agents 116510 A0: Density 0.0 Time None..."
       ]
      },
      {
       "output_type": "stream",
       "stream": "stdout",
       "text": [
        "\n",
        "Frame 20 Agents 79109 A0: Density 0.0 Time None..."
       ]
      },
      {
       "output_type": "stream",
       "stream": "stdout",
       "text": [
        "\n",
        "Frame 30 Agents 30179 A0: Density 0.0 Time None..."
       ]
      },
      {
       "output_type": "stream",
       "stream": "stdout",
       "text": [
        "\n",
        "Frame 40 Agents 3012 A0: Density 0.0 Time 31.3054244542..."
       ]
      },
      {
       "output_type": "stream",
       "stream": "stdout",
       "text": [
        "\n",
        "Frame 50 Agents 780 A0: Density 0.0 Time 31.3054244542..."
       ]
      },
      {
       "output_type": "stream",
       "stream": "stdout",
       "text": [
        "\n",
        "Frame 60 Agents 284 A0: Density 0.0 Time 31.3054244542..."
       ]
      },
      {
       "output_type": "stream",
       "stream": "stdout",
       "text": [
        "\n",
        "Frame 70 Agents 121 A0: Density 0.0 Time 31.3054244542..."
       ]
      },
      {
       "output_type": "stream",
       "stream": "stdout",
       "text": [
        "\n",
        "Frame 80 Agents 12 A0: Density 0.0 Time 31.3054244542..."
       ]
      },
      {
       "output_type": "stream",
       "stream": "stdout",
       "text": [
        "\n",
        "Frame 84 Agents 0 A0: Density 0.0 Time 31.3054244542..."
       ]
      },
      {
       "output_type": "stream",
       "stream": "stdout",
       "text": [
        "\n",
        "End of this simulation.\n",
        "Agents saved to result."
       ]
      },
      {
       "output_type": "stream",
       "stream": "stdout",
       "text": [
        "\n",
        "abm/pfactor/Cambridge/n-129171-destins-1-19-277-531-926-946-7305-12851-14121-14918"
       ]
      },
      {
       "output_type": "stream",
       "stream": "stdout",
       "text": [
        "\n",
        "Starting this simulation..."
       ]
      },
      {
       "output_type": "stream",
       "stream": "stdout",
       "text": [
        "\n",
        "Frame 0 Agents 128962 A0: Density 0.0820625181221 Time None..."
       ]
      },
      {
       "output_type": "stream",
       "stream": "stdout",
       "text": [
        "\n",
        "Frame 10 Agents 116452 A0: Density 0.361152217972 Time None..."
       ]
      },
      {
       "output_type": "stream",
       "stream": "stdout",
       "text": [
        "\n",
        "Frame 20 Agents 82894 A0: Density 0.0425250249669 Time None..."
       ]
      },
      {
       "output_type": "stream",
       "stream": "stdout",
       "text": [
        "\n",
        "Frame 30 Agents 46536 A0: Density 0.0529917705987 Time 24.0044961935..."
       ]
      },
      {
       "output_type": "stream",
       "stream": "stdout",
       "text": [
        "\n",
        "Frame 40 Agents 25729 A0: Density 0.0529917705987 Time 24.0044961935..."
       ]
      },
      {
       "output_type": "stream",
       "stream": "stdout",
       "text": [
        "\n",
        "Frame 50 Agents 17972 A0: Density 0.0529917705987 Time 24.0044961935..."
       ]
      },
      {
       "output_type": "stream",
       "stream": "stdout",
       "text": [
        "\n",
        "Frame 60 Agents 11170 A0: Density 0.0529917705987 Time 24.0044961935..."
       ]
      },
      {
       "output_type": "stream",
       "stream": "stdout",
       "text": [
        "\n",
        "Frame 70 Agents 7007 A0: Density 0.0529917705987 Time 24.0044961935..."
       ]
      },
      {
       "output_type": "stream",
       "stream": "stdout",
       "text": [
        "\n",
        "Frame 80 Agents 5064 A0: Density 0.0529917705987 Time 24.0044961935..."
       ]
      },
      {
       "output_type": "stream",
       "stream": "stdout",
       "text": [
        "\n",
        "Frame 90 Agents 3644 A0: Density 0.0529917705987 Time 24.0044961935..."
       ]
      },
      {
       "output_type": "stream",
       "stream": "stdout",
       "text": [
        "\n",
        "Frame 100 Agents 2729 A0: Density 0.0529917705987 Time 24.0044961935..."
       ]
      },
      {
       "output_type": "stream",
       "stream": "stdout",
       "text": [
        "\n",
        "Frame 110 Agents 1477 A0: Density 0.0529917705987 Time 24.0044961935..."
       ]
      },
      {
       "output_type": "stream",
       "stream": "stdout",
       "text": [
        "\n",
        "Frame 120 Agents 667 A0: Density 0.0529917705987 Time 24.0044961935..."
       ]
      },
      {
       "output_type": "stream",
       "stream": "stdout",
       "text": [
        "\n",
        "Frame 128 Agents 0 A0: Density 0.0529917705987 Time 24.0044961935..."
       ]
      },
      {
       "output_type": "stream",
       "stream": "stdout",
       "text": [
        "\n",
        "End of this simulation.\n",
        "Agents saved to result."
       ]
      },
      {
       "output_type": "stream",
       "stream": "stdout",
       "text": [
        "\n",
        "Processing paths to destination 278..."
       ]
      },
      {
       "output_type": "stream",
       "stream": "stdout",
       "text": [
        "\n",
        "Processing paths to destination 440..."
       ]
      },
      {
       "output_type": "stream",
       "stream": "stdout",
       "text": [
        "\n",
        "Processing paths to destination 479..."
       ]
      },
      {
       "output_type": "stream",
       "stream": "stdout",
       "text": [
        "\n",
        "Processing paths to destination 706..."
       ]
      },
      {
       "output_type": "stream",
       "stream": "stdout",
       "text": [
        "\n",
        "Processing paths to destination 2588..."
       ]
      },
      {
       "output_type": "stream",
       "stream": "stdout",
       "text": [
        "\n",
        "Processing paths to destination 5830..."
       ]
      },
      {
       "output_type": "stream",
       "stream": "stdout",
       "text": [
        "\n",
        "Processing paths to destination 6437..."
       ]
      },
      {
       "output_type": "stream",
       "stream": "stdout",
       "text": [
        "\n",
        "Processing paths to destination 7197..."
       ]
      },
      {
       "output_type": "stream",
       "stream": "stdout",
       "text": [
        "\n",
        "Processing paths to destination 9340..."
       ]
      },
      {
       "output_type": "stream",
       "stream": "stdout",
       "text": [
        "\n",
        "Processing paths to destination 13114..."
       ]
      },
      {
       "output_type": "stream",
       "stream": "stdout",
       "text": [
        "\n",
        "Processing paths to destination 13395..."
       ]
      },
      {
       "output_type": "stream",
       "stream": "stdout",
       "text": [
        "\n",
        "Processing paths to destination 17164..."
       ]
      },
      {
       "output_type": "stream",
       "stream": "stdout",
       "text": [
        "\n",
        "Processing paths to destination 19693..."
       ]
      },
      {
       "output_type": "stream",
       "stream": "stdout",
       "text": [
        "\n",
        "Processing paths to destination 23101..."
       ]
      },
      {
       "output_type": "stream",
       "stream": "stdout",
       "text": [
        "\n",
        "Processing paths to destination 27170..."
       ]
      },
      {
       "output_type": "stream",
       "stream": "stdout",
       "text": [
        "\n",
        "Processing paths to destination 27202..."
       ]
      },
      {
       "output_type": "stream",
       "stream": "stdout",
       "text": [
        "\n",
        "Processing paths to destination 29106..."
       ]
      },
      {
       "output_type": "stream",
       "stream": "stdout",
       "text": [
        "\n",
        "Processing paths to destination 29193..."
       ]
      },
      {
       "output_type": "stream",
       "stream": "stdout",
       "text": [
        "\n",
        "Processing paths to destination 39723..."
       ]
      },
      {
       "output_type": "stream",
       "stream": "stdout",
       "text": [
        "\n",
        "Processing paths to destination 47911..."
       ]
      },
      {
       "output_type": "stream",
       "stream": "stdout",
       "text": [
        "\n",
        "Processing paths to destination 50242..."
       ]
      },
      {
       "output_type": "stream",
       "stream": "stdout",
       "text": [
        "\n",
        "Processing paths to destination 52300..."
       ]
      },
      {
       "output_type": "stream",
       "stream": "stdout",
       "text": [
        "\n",
        "Processing paths to destination 52948..."
       ]
      },
      {
       "output_type": "stream",
       "stream": "stdout",
       "text": [
        "\n",
        "Processing paths to destination 53984..."
       ]
      },
      {
       "output_type": "stream",
       "stream": "stdout",
       "text": [
        "\n",
        "Processing paths to destination 54663..."
       ]
      },
      {
       "output_type": "stream",
       "stream": "stdout",
       "text": [
        "\n",
        "Processing paths to destination 54721..."
       ]
      },
      {
       "output_type": "stream",
       "stream": "stdout",
       "text": [
        "\n",
        "Processing paths to destination 55526..."
       ]
      },
      {
       "output_type": "stream",
       "stream": "stdout",
       "text": [
        "\n",
        "Processing paths to destination 55553..."
       ]
      },
      {
       "output_type": "stream",
       "stream": "stdout",
       "text": [
        "\n",
        "Processing paths to destination 55580..."
       ]
      },
      {
       "output_type": "stream",
       "stream": "stdout",
       "text": [
        "\n",
        "Processing paths to destination 55654..."
       ]
      },
      {
       "output_type": "stream",
       "stream": "stdout",
       "text": [
        "\n",
        "abm/pfactor/Birmingham/(ff)n-1108449-destins-278-440-479-706-2588-5830-6437-7197-9340-13114-13395-17164-19693-23101-27170-27202-29106-29193-39723-47911-50242-52300-52948-53984-54663-54721-55526-55553-55580-55654"
       ]
      },
      {
       "output_type": "stream",
       "stream": "stdout",
       "text": [
        "\n",
        "Starting this simulation..."
       ]
      },
      {
       "output_type": "stream",
       "stream": "stdout",
       "text": [
        "\n",
        "Frame 0 Agents 1107143 A0: Density 0.0 Time None..."
       ]
      },
      {
       "output_type": "stream",
       "stream": "stdout",
       "text": [
        "\n",
        "Frame 10 Agents 1046938 A0: Density 0.0 Time None..."
       ]
      },
      {
       "output_type": "stream",
       "stream": "stdout",
       "text": [
        "\n",
        "Frame 20 Agents 914776 A0: Density 0.0 Time None..."
       ]
      },
      {
       "output_type": "stream",
       "stream": "stdout",
       "text": [
        "\n",
        "Frame 30 Agents 718957 A0: Density 0.0 Time 28.7905453893..."
       ]
      },
      {
       "output_type": "stream",
       "stream": "stdout",
       "text": [
        "\n",
        "Frame 40 Agents 531380 A0: Density 0.0 Time 28.7905453893..."
       ]
      },
      {
       "output_type": "stream",
       "stream": "stdout",
       "text": [
        "\n",
        "Frame 50 Agents 333773 A0: Density 0.0 Time 28.7905453893..."
       ]
      },
      {
       "output_type": "stream",
       "stream": "stdout",
       "text": [
        "\n",
        "Frame 60 Agents 156464 A0: Density 0.0 Time 28.7905453893..."
       ]
      },
      {
       "output_type": "stream",
       "stream": "stdout",
       "text": [
        "\n",
        "Frame 70 Agents 40939 A0: Density 0.0 Time 28.7905453893..."
       ]
      },
      {
       "output_type": "stream",
       "stream": "stdout",
       "text": [
        "\n",
        "Frame 80 Agents 3063 A0: Density 0.0 Time 28.7905453893..."
       ]
      },
      {
       "output_type": "stream",
       "stream": "stdout",
       "text": [
        "\n",
        "Frame 90 Agents 729 A0: Density 0.0 Time 28.7905453893..."
       ]
      },
      {
       "output_type": "stream",
       "stream": "stdout",
       "text": [
        "\n",
        "Frame 100 Agents 517 A0: Density 0.0 Time 28.7905453893..."
       ]
      },
      {
       "output_type": "stream",
       "stream": "stdout",
       "text": [
        "\n",
        "Frame 110 Agents 303 A0: Density 0.0 Time 28.7905453893..."
       ]
      },
      {
       "output_type": "stream",
       "stream": "stdout",
       "text": [
        "\n",
        "Frame 120 Agents 171 A0: Density 0.0 Time 28.7905453893..."
       ]
      },
      {
       "output_type": "stream",
       "stream": "stdout",
       "text": [
        "\n",
        "Frame 130 Agents 45 A0: Density 0.0 Time 28.7905453893..."
       ]
      },
      {
       "output_type": "stream",
       "stream": "stdout",
       "text": [
        "\n",
        "Frame 139 Agents 0 A0: Density 0.0 Time 28.7905453893..."
       ]
      },
      {
       "output_type": "stream",
       "stream": "stdout",
       "text": [
        "\n",
        "End of this simulation.\n",
        "Agents saved to result."
       ]
      },
      {
       "output_type": "stream",
       "stream": "stdout",
       "text": [
        "\n",
        "abm/pfactor/Birmingham/n-1108449-destins-278-440-479-706-2588-5830-6437-7197-9340-13114-13395-17164-19693-23101-27170-27202-29106-29193-39723-47911-50242-52300-52948-53984-54663-54721-55526-55553-55580-55654"
       ]
      },
      {
       "output_type": "stream",
       "stream": "stdout",
       "text": [
        "\n",
        "Starting this simulation..."
       ]
      },
      {
       "output_type": "stream",
       "stream": "stdout",
       "text": [
        "\n",
        "Frame 0 Agents 1107214 A0: Density 0.0318856826054 Time None..."
       ]
      },
      {
       "output_type": "stream",
       "stream": "stdout",
       "text": [
        "\n",
        "Frame 10 Agents 1052099 A0: Density 0.933598095728 Time None..."
       ]
      },
      {
       "output_type": "stream",
       "stream": "stdout",
       "text": [
        "\n",
        "Frame 20 Agents 966673 A0: Density 3.21207098134 Time None..."
       ]
      },
      {
       "output_type": "stream",
       "stream": "stdout",
       "text": [
        "\n",
        "Frame 30 Agents 874798 A0: Density 1.90421109393 Time None..."
       ]
      },
      {
       "output_type": "stream",
       "stream": "stdout",
       "text": [
        "\n",
        "Frame 40 Agents 802809 A0: Density 5.2973587657 Time None..."
       ]
      },
      {
       "output_type": "stream",
       "stream": "stdout",
       "text": [
        "\n",
        "Frame 50 Agents 741606 A0: Density 0.665083632493 Time None..."
       ]
      },
      {
       "output_type": "stream",
       "stream": "stdout",
       "text": [
        "\n",
        "Frame 60 Agents 693246 A0: Density 5.12007321973 Time None..."
       ]
      },
      {
       "output_type": "stream",
       "stream": "stdout",
       "text": [
        "\n",
        "Frame 70 Agents 634477 A0: Density 5.11113766437 Time None..."
       ]
      },
      {
       "output_type": "stream",
       "stream": "stdout",
       "text": [
        "\n",
        "Frame 80 Agents 584977 A0: Density 5.09895281616 Time None..."
       ]
      },
      {
       "output_type": "stream",
       "stream": "stdout",
       "text": [
        "\n",
        "Frame 90 Agents 547590 A0: Density 5.08026938223 Time None..."
       ]
      },
      {
       "output_type": "stream",
       "stream": "stdout",
       "text": [
        "\n",
        "Frame 100 Agents 517205 A0: Density 5.05265039294 Time None..."
       ]
      },
      {
       "output_type": "stream",
       "stream": "stdout",
       "text": [
        "\n",
        "Frame 110 Agents 486850 A0: Density 4.9762920108 Time None..."
       ]
      },
      {
       "output_type": "stream",
       "stream": "stdout",
       "text": [
        "\n",
        "Frame 120 Agents 455758 A0: Density 4.92592797151 Time None..."
       ]
      },
      {
       "output_type": "stream",
       "stream": "stdout",
       "text": [
        "\n",
        "Frame 130 Agents 428087 A0: Density 4.83169847865 Time None..."
       ]
      },
      {
       "output_type": "stream",
       "stream": "stdout",
       "text": [
        "\n",
        "Frame 140 Agents 400381 A0: Density 5.49742142961 Time None..."
       ]
      },
      {
       "output_type": "stream",
       "stream": "stdout",
       "text": [
        "\n",
        "Frame 150 Agents 377512 A0: Density 5.49742142961 Time None..."
       ]
      },
      {
       "output_type": "stream",
       "stream": "stdout",
       "text": [
        "\n",
        "Frame 160 Agents 354657 A0: Density 5.49742142961 Time None..."
       ]
      },
      {
       "output_type": "stream",
       "stream": "stdout",
       "text": [
        "\n",
        "Frame 170 Agents 332407 A0: Density 5.49742142961 Time None..."
       ]
      },
      {
       "output_type": "stream",
       "stream": "stdout",
       "text": [
        "\n",
        "Frame 180 Agents 311183 A0: Density 5.49742142961 Time None..."
       ]
      },
      {
       "output_type": "stream",
       "stream": "stdout",
       "text": [
        "\n",
        "Frame 190 Agents 292372 A0: Density 5.49742142961 Time None..."
       ]
      },
      {
       "output_type": "stream",
       "stream": "stdout",
       "text": [
        "\n",
        "Frame 200 Agents 273654 A0: Density 5.49882837419 Time None..."
       ]
      },
      {
       "output_type": "stream",
       "stream": "stdout",
       "text": [
        "\n",
        "Frame 210 Agents 256292 A0: Density 5.49735455344 Time None..."
       ]
      },
      {
       "output_type": "stream",
       "stream": "stdout",
       "text": [
        "\n",
        "Frame 220 Agents 242464 A0: Density 5.49735455344 Time None..."
       ]
      },
      {
       "output_type": "stream",
       "stream": "stdout",
       "text": [
        "\n",
        "Frame 230 Agents 227736 A0: Density 5.49735455344 Time None..."
       ]
      },
      {
       "output_type": "stream",
       "stream": "stdout",
       "text": [
        "\n",
        "Frame 240 Agents 214146 A0: Density 5.49735455344 Time None..."
       ]
      },
      {
       "output_type": "stream",
       "stream": "stdout",
       "text": [
        "\n",
        "Frame 250 Agents 201353 A0: Density 5.49735455344 Time None..."
       ]
      },
      {
       "output_type": "stream",
       "stream": "stdout",
       "text": [
        "\n",
        "Frame 260 Agents 187237 A0: Density 5.49735455344 Time None..."
       ]
      },
      {
       "output_type": "stream",
       "stream": "stdout",
       "text": [
        "\n",
        "Frame 270 Agents 176261 A0: Density 5.48924970006 Time None..."
       ]
      },
      {
       "output_type": "stream",
       "stream": "stdout",
       "text": [
        "\n",
        "Frame 280 Agents 167031 A0: Density 5.49921779696 Time None..."
       ]
      },
      {
       "output_type": "stream",
       "stream": "stdout",
       "text": [
        "\n",
        "Frame 290 Agents 158774 A0: Density 4.11602015816 Time None..."
       ]
      },
      {
       "output_type": "stream",
       "stream": "stdout",
       "text": [
        "\n",
        "Frame 300 Agents 151269 A0: Density 5.49829215226 Time None..."
       ]
      },
      {
       "output_type": "stream",
       "stream": "stdout",
       "text": [
        "\n",
        "Frame 310 Agents 143168 A0: Density 5.49829215226 Time None..."
       ]
      },
      {
       "output_type": "stream",
       "stream": "stdout",
       "text": [
        "\n",
        "Frame 320 Agents 135103 A0: Density 5.49829215226 Time None..."
       ]
      },
      {
       "output_type": "stream",
       "stream": "stdout",
       "text": [
        "\n",
        "Frame 330 Agents 128381 A0: Density 5.49829215226 Time None..."
       ]
      },
      {
       "output_type": "stream",
       "stream": "stdout",
       "text": [
        "\n",
        "Frame 340 Agents 121819 A0: Density 5.49829215226 Time None..."
       ]
      },
      {
       "output_type": "stream",
       "stream": "stdout",
       "text": [
        "\n",
        "Frame 350 Agents 115859 A0: Density 5.49829215226 Time None..."
       ]
      },
      {
       "output_type": "stream",
       "stream": "stdout",
       "text": [
        "\n",
        "Frame 360 Agents 109849 A0: Density 5.49839903404 Time None..."
       ]
      },
      {
       "output_type": "stream",
       "stream": "stdout",
       "text": [
        "\n",
        "Frame 370 Agents 103940 A0: Density 5.49839903404 Time None..."
       ]
      },
      {
       "output_type": "stream",
       "stream": "stdout",
       "text": [
        "\n",
        "Frame 380 Agents 98130 A0: Density 5.49839903404 Time None..."
       ]
      },
      {
       "output_type": "stream",
       "stream": "stdout",
       "text": [
        "\n",
        "Frame 390 Agents 92642 A0: Density 5.49839903404 Time None..."
       ]
      },
      {
       "output_type": "stream",
       "stream": "stdout",
       "text": [
        "\n",
        "Frame 400 Agents 88060 A0: Density 5.49654896707 Time None..."
       ]
      },
      {
       "output_type": "stream",
       "stream": "stdout",
       "text": [
        "\n",
        "Frame 410 Agents 83028 A0: Density 5.49839903404 Time None..."
       ]
      },
      {
       "output_type": "stream",
       "stream": "stdout",
       "text": [
        "\n",
        "Frame 420 Agents 77692 A0: Density 5.49794872186 Time None..."
       ]
      },
      {
       "output_type": "stream",
       "stream": "stdout",
       "text": [
        "\n",
        "Frame 430 Agents 73490 A0: Density 5.49794872186 Time None..."
       ]
      },
      {
       "output_type": "stream",
       "stream": "stdout",
       "text": [
        "\n",
        "Frame 440 Agents 69388 A0: Density 5.49794872186 Time None..."
       ]
      },
      {
       "output_type": "stream",
       "stream": "stdout",
       "text": [
        "\n",
        "Frame 450 Agents 66307 A0: Density 5.4866597801 Time None..."
       ]
      },
      {
       "output_type": "stream",
       "stream": "stdout",
       "text": [
        "\n",
        "Frame 460 Agents 62815 A0: Density 5.49548077653 Time None..."
       ]
      },
      {
       "output_type": "stream",
       "stream": "stdout",
       "text": [
        "\n",
        "Frame 470 Agents 59122 A0: Density 5.49949032037 Time None..."
       ]
      },
      {
       "output_type": "stream",
       "stream": "stdout",
       "text": [
        "\n",
        "Frame 480 Agents 55339 A0: Density 5.4962826853 Time None..."
       ]
      },
      {
       "output_type": "stream",
       "stream": "stdout",
       "text": [
        "\n",
        "Frame 490 Agents 51205 A0: Density 5.4818483275 Time None..."
       ]
      },
      {
       "output_type": "stream",
       "stream": "stdout",
       "text": [
        "\n",
        "Frame 500 Agents 47571 A0: Density 5.4986884116 Time None..."
       ]
      },
      {
       "output_type": "stream",
       "stream": "stdout",
       "text": [
        "\n",
        "Frame 510 Agents 40406 A0: Density 5.49788650283 Time None..."
       ]
      },
      {
       "output_type": "stream",
       "stream": "stdout",
       "text": [
        "\n",
        "Frame 520 Agents 36715 A0: Density 5.4962826853 Time None..."
       ]
      },
      {
       "output_type": "stream",
       "stream": "stdout",
       "text": [
        "\n",
        "Frame 530 Agents 34002 A0: Density 5.49548077653 Time None..."
       ]
      },
      {
       "output_type": "stream",
       "stream": "stdout",
       "text": [
        "\n",
        "Frame 540 Agents 31593 A0: Density 5.49548077653 Time None..."
       ]
      },
      {
       "output_type": "stream",
       "stream": "stdout",
       "text": [
        "\n",
        "Frame 550 Agents 29163 A0: Density 0.0647896294733 Time 549.205487223..."
       ]
      },
      {
       "output_type": "stream",
       "stream": "stdout",
       "text": [
        "\n",
        "Frame 560 Agents 26186 A0: Density 0.0647896294733 Time 549.205487223..."
       ]
      },
      {
       "output_type": "stream",
       "stream": "stdout",
       "text": [
        "\n",
        "Frame 570 Agents 22870 A0: Density 0.0647896294733 Time 549.205487223..."
       ]
      },
      {
       "output_type": "stream",
       "stream": "stdout",
       "text": [
        "\n",
        "Frame 580 Agents 19661 A0: Density 0.0647896294733 Time 549.205487223..."
       ]
      },
      {
       "output_type": "stream",
       "stream": "stdout",
       "text": [
        "\n",
        "Frame 590 Agents 16098 A0: Density 0.0647896294733 Time 549.205487223..."
       ]
      },
      {
       "output_type": "stream",
       "stream": "stdout",
       "text": [
        "\n",
        "Frame 600 Agents 14260 A0: Density 0.0647896294733 Time 549.205487223..."
       ]
      },
      {
       "output_type": "stream",
       "stream": "stdout",
       "text": [
        "\n",
        "Frame 610 Agents 13586 A0: Density 0.0647896294733 Time 549.205487223..."
       ]
      },
      {
       "output_type": "stream",
       "stream": "stdout",
       "text": [
        "\n",
        "Frame 620 Agents 12835 A0: Density 0.0647896294733 Time 549.205487223..."
       ]
      },
      {
       "output_type": "stream",
       "stream": "stdout",
       "text": [
        "\n",
        "Frame 630 Agents 12349 A0: Density 0.0647896294733 Time 549.205487223..."
       ]
      },
      {
       "output_type": "stream",
       "stream": "stdout",
       "text": [
        "\n",
        "Frame 640 Agents 11959 A0: Density 0.0647896294733 Time 549.205487223..."
       ]
      },
      {
       "output_type": "stream",
       "stream": "stdout",
       "text": [
        "\n",
        "Frame 650 Agents 11470 A0: Density 0.0647896294733 Time 549.205487223..."
       ]
      },
      {
       "output_type": "stream",
       "stream": "stdout",
       "text": [
        "\n",
        "Frame 660 Agents 10509 A0: Density 0.0647896294733 Time 549.205487223..."
       ]
      },
      {
       "output_type": "stream",
       "stream": "stdout",
       "text": [
        "\n",
        "Frame 670 Agents 9362 A0: Density 0.0647896294733 Time 549.205487223..."
       ]
      },
      {
       "output_type": "stream",
       "stream": "stdout",
       "text": [
        "\n",
        "Frame 680 Agents 8521 A0: Density 0.0647896294733 Time 549.205487223..."
       ]
      },
      {
       "output_type": "stream",
       "stream": "stdout",
       "text": [
        "\n",
        "Frame 690 Agents 7810 A0: Density 0.0647896294733 Time 549.205487223..."
       ]
      },
      {
       "output_type": "stream",
       "stream": "stdout",
       "text": [
        "\n",
        "Frame 700 Agents 6958 A0: Density 0.0647896294733 Time 549.205487223..."
       ]
      },
      {
       "output_type": "stream",
       "stream": "stdout",
       "text": [
        "\n",
        "Frame 710 Agents 6235 A0: Density 0.0647896294733 Time 549.205487223..."
       ]
      },
      {
       "output_type": "stream",
       "stream": "stdout",
       "text": [
        "\n",
        "Frame 720 Agents 4829 A0: Density 0.0647896294733 Time 549.205487223..."
       ]
      },
      {
       "output_type": "stream",
       "stream": "stdout",
       "text": [
        "\n",
        "Frame 730 Agents 4382 A0: Density 0.0647896294733 Time 549.205487223..."
       ]
      },
      {
       "output_type": "stream",
       "stream": "stdout",
       "text": [
        "\n",
        "Frame 740 Agents 3538 A0: Density 0.0647896294733 Time 549.205487223..."
       ]
      },
      {
       "output_type": "stream",
       "stream": "stdout",
       "text": [
        "\n",
        "Frame 750 Agents 2878 A0: Density 0.0647896294733 Time 549.205487223..."
       ]
      },
      {
       "output_type": "stream",
       "stream": "stdout",
       "text": [
        "\n",
        "Frame 760 Agents 2221 A0: Density 0.0647896294733 Time 549.205487223..."
       ]
      },
      {
       "output_type": "stream",
       "stream": "stdout",
       "text": [
        "\n",
        "Frame 770 Agents 1405 A0: Density 0.0647896294733 Time 549.205487223..."
       ]
      },
      {
       "output_type": "stream",
       "stream": "stdout",
       "text": [
        "\n",
        "Frame 780 Agents 850 A0: Density 0.0647896294733 Time 549.205487223..."
       ]
      },
      {
       "output_type": "stream",
       "stream": "stdout",
       "text": [
        "\n",
        "Frame 789 Agents 0 A0: Density 0.0647896294733 Time 549.205487223..."
       ]
      },
      {
       "output_type": "stream",
       "stream": "stdout",
       "text": [
        "\n",
        "End of this simulation.\n",
        "Agents saved to result."
       ]
      },
      {
       "output_type": "stream",
       "stream": "stdout",
       "text": [
        "\n",
        "Processing paths to destination 99..."
       ]
      },
      {
       "output_type": "stream",
       "stream": "stdout",
       "text": [
        "\n",
        "Processing paths to destination 137..."
       ]
      },
      {
       "output_type": "stream",
       "stream": "stdout",
       "text": [
        "\n",
        "Processing paths to destination 156..."
       ]
      },
      {
       "output_type": "stream",
       "stream": "stdout",
       "text": [
        "\n",
        "Processing paths to destination 187..."
       ]
      },
      {
       "output_type": "stream",
       "stream": "stdout",
       "text": [
        "\n",
        "Processing paths to destination 771..."
       ]
      },
      {
       "output_type": "stream",
       "stream": "stdout",
       "text": [
        "\n",
        "Processing paths to destination 975..."
       ]
      },
      {
       "output_type": "stream",
       "stream": "stdout",
       "text": [
        "\n",
        "Processing paths to destination 3945..."
       ]
      },
      {
       "output_type": "stream",
       "stream": "stdout",
       "text": [
        "\n",
        "Processing paths to destination 4364..."
       ]
      },
      {
       "output_type": "stream",
       "stream": "stdout",
       "text": [
        "\n",
        "Processing paths to destination 7363..."
       ]
      },
      {
       "output_type": "stream",
       "stream": "stdout",
       "text": [
        "\n",
        "Processing paths to destination 7898..."
       ]
      },
      {
       "output_type": "stream",
       "stream": "stdout",
       "text": [
        "\n",
        "Processing paths to destination 8921..."
       ]
      },
      {
       "output_type": "stream",
       "stream": "stdout",
       "text": [
        "\n",
        "Processing paths to destination 10081..."
       ]
      },
      {
       "output_type": "stream",
       "stream": "stdout",
       "text": [
        "\n",
        "Processing paths to destination 15601..."
       ]
      },
      {
       "output_type": "stream",
       "stream": "stdout",
       "text": [
        "\n",
        "Processing paths to destination 25014..."
       ]
      },
      {
       "output_type": "stream",
       "stream": "stdout",
       "text": [
        "\n",
        "Processing paths to destination 30676..."
       ]
      },
      {
       "output_type": "stream",
       "stream": "stdout",
       "text": [
        "\n",
        "Processing paths to destination 35667..."
       ]
      },
      {
       "output_type": "stream",
       "stream": "stdout",
       "text": [
        "\n",
        "Processing paths to destination 41846..."
       ]
      },
      {
       "output_type": "stream",
       "stream": "stdout",
       "text": [
        "\n",
        "Processing paths to destination 43024..."
       ]
      },
      {
       "output_type": "stream",
       "stream": "stdout",
       "text": [
        "\n",
        "Processing paths to destination 45701..."
       ]
      },
      {
       "output_type": "stream",
       "stream": "stdout",
       "text": [
        "\n",
        "Processing paths to destination 48982..."
       ]
      },
      {
       "output_type": "stream",
       "stream": "stdout",
       "text": [
        "\n",
        "Processing paths to destination 50099..."
       ]
      },
      {
       "output_type": "stream",
       "stream": "stdout",
       "text": [
        "\n",
        "Processing paths to destination 51173..."
       ]
      },
      {
       "output_type": "stream",
       "stream": "stdout",
       "text": [
        "\n",
        "Processing paths to destination 51993..."
       ]
      },
      {
       "output_type": "stream",
       "stream": "stdout",
       "text": [
        "\n",
        "Processing paths to destination 52371..."
       ]
      },
      {
       "output_type": "stream",
       "stream": "stdout",
       "text": [
        "\n",
        "Processing paths to destination 52705..."
       ]
      },
      {
       "output_type": "stream",
       "stream": "stdout",
       "text": [
        "\n",
        "Processing paths to destination 53746..."
       ]
      },
      {
       "output_type": "stream",
       "stream": "stdout",
       "text": [
        "\n",
        "Processing paths to destination 54022..."
       ]
      },
      {
       "output_type": "stream",
       "stream": "stdout",
       "text": [
        "\n",
        "Processing paths to destination 54103..."
       ]
      },
      {
       "output_type": "stream",
       "stream": "stdout",
       "text": [
        "\n",
        "Processing paths to destination 54161..."
       ]
      },
      {
       "output_type": "stream",
       "stream": "stdout",
       "text": [
        "\n",
        "Processing paths to destination 54329..."
       ]
      },
      {
       "output_type": "stream",
       "stream": "stdout",
       "text": [
        "\n",
        "Processing paths to destination 55262..."
       ]
      },
      {
       "output_type": "stream",
       "stream": "stdout",
       "text": [
        "\n",
        "Processing paths to destination 55386..."
       ]
      },
      {
       "output_type": "stream",
       "stream": "stdout",
       "text": [
        "\n",
        "Processing paths to destination 55390..."
       ]
      },
      {
       "output_type": "stream",
       "stream": "stdout",
       "text": [
        "\n",
        "abm/pfactor/Leeds/(ff)n-793955-destins-99-137-156-187-771-975-3945-4364-7363-7898-8921-10081-15601-25014-30676-35667-41846-43024-45701-48982-50099-51173-51993-52371-52705-53746-54022-54103-54161-54329-55262-55386-55390"
       ]
      },
      {
       "output_type": "stream",
       "stream": "stdout",
       "text": [
        "\n",
        "Starting this simulation..."
       ]
      },
      {
       "output_type": "stream",
       "stream": "stdout",
       "text": [
        "\n",
        "Frame 0 Agents 793406 A0: Density 0.0 Time None..."
       ]
      },
      {
       "output_type": "stream",
       "stream": "stdout",
       "text": [
        "\n",
        "Frame 10 Agents 774567 A0: Density 0.0 Time None..."
       ]
      },
      {
       "output_type": "stream",
       "stream": "stdout",
       "text": [
        "\n",
        "Frame 20 Agents 720087 A0: Density 0.0 Time 16.9058099442..."
       ]
      },
      {
       "output_type": "stream",
       "stream": "stdout",
       "text": [
        "\n",
        "Frame 30 Agents 635978 A0: Density 0.0 Time 16.9058099442..."
       ]
      },
      {
       "output_type": "stream",
       "stream": "stdout",
       "text": [
        "\n",
        "Frame 40 Agents 525955 A0: Density 0.0 Time 16.9058099442..."
       ]
      },
      {
       "output_type": "stream",
       "stream": "stdout",
       "text": [
        "\n",
        "Frame 50 Agents 412516 A0: Density 0.0 Time 16.9058099442..."
       ]
      },
      {
       "output_type": "stream",
       "stream": "stdout",
       "text": [
        "\n",
        "Frame 60 Agents 303252 A0: Density 0.0 Time 16.9058099442..."
       ]
      },
      {
       "output_type": "stream",
       "stream": "stdout",
       "text": [
        "\n",
        "Frame 70 Agents 206801 A0: Density 0.0 Time 16.9058099442..."
       ]
      },
      {
       "output_type": "stream",
       "stream": "stdout",
       "text": [
        "\n",
        "Frame 80 Agents 134314 A0: Density 0.0 Time 16.9058099442..."
       ]
      },
      {
       "output_type": "stream",
       "stream": "stdout",
       "text": [
        "\n",
        "Frame 90 Agents 76714 A0: Density 0.0 Time 16.9058099442..."
       ]
      },
      {
       "output_type": "stream",
       "stream": "stdout",
       "text": [
        "\n",
        "Frame 100 Agents 30065 A0: Density 0.0 Time 16.9058099442..."
       ]
      },
      {
       "output_type": "stream",
       "stream": "stdout",
       "text": [
        "\n",
        "Frame 110 Agents 9830 A0: Density 0.0 Time 16.9058099442..."
       ]
      },
      {
       "output_type": "stream",
       "stream": "stdout",
       "text": [
        "\n",
        "Frame 120 Agents 1151 A0: Density 0.0 Time 16.9058099442..."
       ]
      },
      {
       "output_type": "stream",
       "stream": "stdout",
       "text": [
        "\n",
        "Frame 130 Agents 162 A0: Density 0.0 Time 16.9058099442..."
       ]
      },
      {
       "output_type": "stream",
       "stream": "stdout",
       "text": [
        "\n",
        "Frame 140 Agents 75 A0: Density 0.0 Time 16.9058099442..."
       ]
      },
      {
       "output_type": "stream",
       "stream": "stdout",
       "text": [
        "\n",
        "Frame 150 Agents 9 A0: Density 0.0 Time 16.9058099442..."
       ]
      },
      {
       "output_type": "stream",
       "stream": "stdout",
       "text": [
        "\n",
        "Frame 153 Agents 0 A0: Density 0.0 Time 16.9058099442..."
       ]
      },
      {
       "output_type": "stream",
       "stream": "stdout",
       "text": [
        "\n",
        "End of this simulation.\n",
        "Agents saved to result."
       ]
      },
      {
       "output_type": "stream",
       "stream": "stdout",
       "text": [
        "\n",
        "abm/pfactor/Leeds/n-793955-destins-99-137-156-187-771-975-3945-4364-7363-7898-8921-10081-15601-25014-30676-35667-41846-43024-45701-48982-50099-51173-51993-52371-52705-53746-54022-54103-54161-54329-55262-55386-55390"
       ]
      },
      {
       "output_type": "stream",
       "stream": "stdout",
       "text": [
        "\n",
        "Starting this simulation..."
       ]
      },
      {
       "output_type": "stream",
       "stream": "stdout",
       "text": [
        "\n",
        "Frame 0 Agents 793426 A0: Density 0.2895288641 Time None..."
       ]
      },
      {
       "output_type": "stream",
       "stream": "stdout",
       "text": [
        "\n",
        "Frame 10 Agents 774265 A0: Density 0.382284018082 Time None..."
       ]
      },
      {
       "output_type": "stream",
       "stream": "stdout",
       "text": [
        "\n",
        "Frame 20 Agents 722630 A0: Density 0.689952091514 Time None..."
       ]
      },
      {
       "output_type": "stream",
       "stream": "stdout",
       "text": [
        "\n",
        "Frame 30 Agents 647734 A0: Density 2.5631913105 Time None..."
       ]
      },
      {
       "output_type": "stream",
       "stream": "stdout",
       "text": [
        "\n",
        "Frame 40 Agents 555850 A0: Density 5.49922004142 Time None..."
       ]
      },
      {
       "output_type": "stream",
       "stream": "stdout",
       "text": [
        "\n",
        "Frame 50 Agents 480970 A0: Density 5.49922004142 Time None..."
       ]
      },
      {
       "output_type": "stream",
       "stream": "stdout",
       "text": [
        "\n",
        "Frame 60 Agents 425161 A0: Density 1.70923201738 Time None..."
       ]
      },
      {
       "output_type": "stream",
       "stream": "stdout",
       "text": [
        "\n",
        "Frame 70 Agents 384863 A0: Density 1.34198231279 Time None..."
       ]
      },
      {
       "output_type": "stream",
       "stream": "stdout",
       "text": [
        "\n",
        "Frame 80 Agents 353513 A0: Density 4.22669875578 Time None..."
       ]
      },
      {
       "output_type": "stream",
       "stream": "stdout",
       "text": [
        "\n",
        "Frame 90 Agents 326097 A0: Density 1.03656650532 Time None..."
       ]
      },
      {
       "output_type": "stream",
       "stream": "stdout",
       "text": [
        "\n",
        "Frame 100 Agents 301838 A0: Density 0.0635035990705 Time 94.3732367385..."
       ]
      },
      {
       "output_type": "stream",
       "stream": "stdout",
       "text": [
        "\n",
        "Frame 110 Agents 281305 A0: Density 0.0635035990705 Time 94.3732367385..."
       ]
      },
      {
       "output_type": "stream",
       "stream": "stdout",
       "text": [
        "\n",
        "Frame 120 Agents 264241 A0: Density 0.0635035990705 Time 94.3732367385..."
       ]
      },
      {
       "output_type": "stream",
       "stream": "stdout",
       "text": [
        "\n",
        "Frame 130 Agents 248292 A0: Density 0.0635035990705 Time 94.3732367385..."
       ]
      },
      {
       "output_type": "stream",
       "stream": "stdout",
       "text": [
        "\n",
        "Frame 140 Agents 231279 A0: Density 0.0635035990705 Time 94.3732367385..."
       ]
      },
      {
       "output_type": "stream",
       "stream": "stdout",
       "text": [
        "\n",
        "Frame 150 Agents 215818 A0: Density 0.0635035990705 Time 94.3732367385..."
       ]
      },
      {
       "output_type": "stream",
       "stream": "stdout",
       "text": [
        "\n",
        "Frame 160 Agents 202827 A0: Density 0.0635035990705 Time 94.3732367385..."
       ]
      },
      {
       "output_type": "stream",
       "stream": "stdout",
       "text": [
        "\n",
        "Frame 170 Agents 188596 A0: Density 0.0635035990705 Time 94.3732367385..."
       ]
      },
      {
       "output_type": "stream",
       "stream": "stdout",
       "text": [
        "\n",
        "Frame 180 Agents 176395 A0: Density 0.0635035990705 Time 94.3732367385..."
       ]
      },
      {
       "output_type": "stream",
       "stream": "stdout",
       "text": [
        "\n",
        "Frame 190 Agents 164540 A0: Density 0.0635035990705 Time 94.3732367385..."
       ]
      },
      {
       "output_type": "stream",
       "stream": "stdout",
       "text": [
        "\n",
        "Frame 200 Agents 151433 A0: Density 0.0635035990705 Time 94.3732367385..."
       ]
      },
      {
       "output_type": "stream",
       "stream": "stdout",
       "text": [
        "\n",
        "Frame 210 Agents 140402 A0: Density 0.0635035990705 Time 94.3732367385..."
       ]
      },
      {
       "output_type": "stream",
       "stream": "stdout",
       "text": [
        "\n",
        "Frame 220 Agents 129123 A0: Density 0.0635035990705 Time 94.3732367385..."
       ]
      },
      {
       "output_type": "stream",
       "stream": "stdout",
       "text": [
        "\n",
        "Frame 230 Agents 117945 A0: Density 0.0635035990705 Time 94.3732367385..."
       ]
      },
      {
       "output_type": "stream",
       "stream": "stdout",
       "text": [
        "\n",
        "Frame 240 Agents 105803 A0: Density 0.0635035990705 Time 94.3732367385..."
       ]
      },
      {
       "output_type": "stream",
       "stream": "stdout",
       "text": [
        "\n",
        "Frame 250 Agents 98399 A0: Density 0.0635035990705 Time 94.3732367385..."
       ]
      },
      {
       "output_type": "stream",
       "stream": "stdout",
       "text": [
        "\n",
        "Frame 260 Agents 91636 A0: Density 0.0635035990705 Time 94.3732367385..."
       ]
      },
      {
       "output_type": "stream",
       "stream": "stdout",
       "text": [
        "\n",
        "Frame 270 Agents 85799 A0: Density 0.0635035990705 Time 94.3732367385..."
       ]
      },
      {
       "output_type": "stream",
       "stream": "stdout",
       "text": [
        "\n",
        "Frame 280 Agents 80701 A0: Density 0.0635035990705 Time 94.3732367385..."
       ]
      },
      {
       "output_type": "stream",
       "stream": "stdout",
       "text": [
        "\n",
        "Frame 290 Agents 76362 A0: Density 0.0635035990705 Time 94.3732367385..."
       ]
      },
      {
       "output_type": "stream",
       "stream": "stdout",
       "text": [
        "\n",
        "Frame 300 Agents 71614 A0: Density 0.0635035990705 Time 94.3732367385..."
       ]
      },
      {
       "output_type": "stream",
       "stream": "stdout",
       "text": [
        "\n",
        "Frame 310 Agents 65666 A0: Density 0.0635035990705 Time 94.3732367385..."
       ]
      },
      {
       "output_type": "stream",
       "stream": "stdout",
       "text": [
        "\n",
        "Frame 320 Agents 62653 A0: Density 0.0635035990705 Time 94.3732367385..."
       ]
      },
      {
       "output_type": "stream",
       "stream": "stdout",
       "text": [
        "\n",
        "Frame 330 Agents 59732 A0: Density 0.0635035990705 Time 94.3732367385..."
       ]
      },
      {
       "output_type": "stream",
       "stream": "stdout",
       "text": [
        "\n",
        "Frame 340 Agents 56816 A0: Density 0.0635035990705 Time 94.3732367385..."
       ]
      },
      {
       "output_type": "stream",
       "stream": "stdout",
       "text": [
        "\n",
        "Frame 350 Agents 54172 A0: Density 0.0635035990705 Time 94.3732367385..."
       ]
      },
      {
       "output_type": "stream",
       "stream": "stdout",
       "text": [
        "\n",
        "Frame 360 Agents 52095 A0: Density 0.0635035990705 Time 94.3732367385..."
       ]
      },
      {
       "output_type": "stream",
       "stream": "stdout",
       "text": [
        "\n",
        "Frame 370 Agents 50367 A0: Density 0.0635035990705 Time 94.3732367385..."
       ]
      },
      {
       "output_type": "stream",
       "stream": "stdout",
       "text": [
        "\n",
        "Frame 380 Agents 48907 A0: Density 0.0635035990705 Time 94.3732367385..."
       ]
      },
      {
       "output_type": "stream",
       "stream": "stdout",
       "text": [
        "\n",
        "Frame 390 Agents 47549 A0: Density 0.0635035990705 Time 94.3732367385..."
       ]
      },
      {
       "output_type": "stream",
       "stream": "stdout",
       "text": [
        "\n",
        "Frame 400 Agents 46174 A0: Density 0.0635035990705 Time 94.3732367385..."
       ]
      },
      {
       "output_type": "stream",
       "stream": "stdout",
       "text": [
        "\n",
        "Frame 410 Agents 44274 A0: Density 0.0635035990705 Time 94.3732367385..."
       ]
      },
      {
       "output_type": "stream",
       "stream": "stdout",
       "text": [
        "\n",
        "Frame 420 Agents 43632 A0: Density 0.0635035990705 Time 94.3732367385..."
       ]
      },
      {
       "output_type": "stream",
       "stream": "stdout",
       "text": [
        "\n",
        "Frame 430 Agents 42892 A0: Density 0.0635035990705 Time 94.3732367385..."
       ]
      },
      {
       "output_type": "stream",
       "stream": "stdout",
       "text": [
        "\n",
        "Frame 440 Agents 42248 A0: Density 0.0635035990705 Time 94.3732367385..."
       ]
      },
      {
       "output_type": "stream",
       "stream": "stdout",
       "text": [
        "\n",
        "Frame 450 Agents 41510 A0: Density 0.0635035990705 Time 94.3732367385..."
       ]
      },
      {
       "output_type": "stream",
       "stream": "stdout",
       "text": [
        "\n",
        "Frame 460 Agents 40871 A0: Density 0.0635035990705 Time 94.3732367385..."
       ]
      },
      {
       "output_type": "stream",
       "stream": "stdout",
       "text": [
        "\n",
        "Frame 470 Agents 40128 A0: Density 0.0635035990705 Time 94.3732367385..."
       ]
      },
      {
       "output_type": "stream",
       "stream": "stdout",
       "text": [
        "\n",
        "Frame 480 Agents 39496 A0: Density 0.0635035990705 Time 94.3732367385..."
       ]
      },
      {
       "output_type": "stream",
       "stream": "stdout",
       "text": [
        "\n",
        "Frame 490 Agents 38750 A0: Density 0.0635035990705 Time 94.3732367385..."
       ]
      },
      {
       "output_type": "stream",
       "stream": "stdout",
       "text": [
        "\n",
        "Frame 500 Agents 38108 A0: Density 0.0635035990705 Time 94.3732367385..."
       ]
      },
      {
       "output_type": "stream",
       "stream": "stdout",
       "text": [
        "\n",
        "Frame 510 Agents 37369 A0: Density 0.0635035990705 Time 94.3732367385..."
       ]
      },
      {
       "output_type": "stream",
       "stream": "stdout",
       "text": [
        "\n",
        "Frame 520 Agents 36727 A0: Density 0.0635035990705 Time 94.3732367385..."
       ]
      },
      {
       "output_type": "stream",
       "stream": "stdout",
       "text": [
        "\n",
        "Frame 530 Agents 35991 A0: Density 0.0635035990705 Time 94.3732367385..."
       ]
      },
      {
       "output_type": "stream",
       "stream": "stdout",
       "text": [
        "\n",
        "Frame 540 Agents 35348 A0: Density 0.0635035990705 Time 94.3732367385..."
       ]
      },
      {
       "output_type": "stream",
       "stream": "stdout",
       "text": [
        "\n",
        "Frame 550 Agents 34611 A0: Density 0.0635035990705 Time 94.3732367385..."
       ]
      },
      {
       "output_type": "stream",
       "stream": "stdout",
       "text": [
        "\n",
        "Frame 560 Agents 33970 A0: Density 0.0635035990705 Time 94.3732367385..."
       ]
      },
      {
       "output_type": "stream",
       "stream": "stdout",
       "text": [
        "\n",
        "Frame 570 Agents 33227 A0: Density 0.0635035990705 Time 94.3732367385..."
       ]
      },
      {
       "output_type": "stream",
       "stream": "stdout",
       "text": [
        "\n",
        "Frame 580 Agents 32586 A0: Density 0.0635035990705 Time 94.3732367385..."
       ]
      },
      {
       "output_type": "stream",
       "stream": "stdout",
       "text": [
        "\n",
        "Frame 590 Agents 31846 A0: Density 0.0635035990705 Time 94.3732367385..."
       ]
      },
      {
       "output_type": "stream",
       "stream": "stdout",
       "text": [
        "\n",
        "Frame 600 Agents 31207 A0: Density 0.0635035990705 Time 94.3732367385..."
       ]
      },
      {
       "output_type": "stream",
       "stream": "stdout",
       "text": [
        "\n",
        "Frame 610 Agents 30464 A0: Density 0.0635035990705 Time 94.3732367385..."
       ]
      },
      {
       "output_type": "stream",
       "stream": "stdout",
       "text": [
        "\n",
        "Frame 620 Agents 29829 A0: Density 0.0635035990705 Time 94.3732367385..."
       ]
      },
      {
       "output_type": "stream",
       "stream": "stdout",
       "text": [
        "\n",
        "Frame 630 Agents 29087 A0: Density 0.0635035990705 Time 94.3732367385..."
       ]
      },
      {
       "output_type": "stream",
       "stream": "stdout",
       "text": [
        "\n",
        "Frame 640 Agents 28440 A0: Density 0.0635035990705 Time 94.3732367385..."
       ]
      },
      {
       "output_type": "stream",
       "stream": "stdout",
       "text": [
        "\n",
        "Frame 650 Agents 27703 A0: Density 0.0635035990705 Time 94.3732367385..."
       ]
      },
      {
       "output_type": "stream",
       "stream": "stdout",
       "text": [
        "\n",
        "Frame 660 Agents 27067 A0: Density 0.0635035990705 Time 94.3732367385..."
       ]
      },
      {
       "output_type": "stream",
       "stream": "stdout",
       "text": [
        "\n",
        "Frame 670 Agents 26321 A0: Density 0.0635035990705 Time 94.3732367385..."
       ]
      },
      {
       "output_type": "stream",
       "stream": "stdout",
       "text": [
        "\n",
        "Frame 680 Agents 25683 A0: Density 0.0635035990705 Time 94.3732367385..."
       ]
      },
      {
       "output_type": "stream",
       "stream": "stdout",
       "text": [
        "\n",
        "Frame 690 Agents 24940 A0: Density 0.0635035990705 Time 94.3732367385..."
       ]
      },
      {
       "output_type": "stream",
       "stream": "stdout",
       "text": [
        "\n",
        "Frame 700 Agents 24299 A0: Density 0.0635035990705 Time 94.3732367385..."
       ]
      },
      {
       "output_type": "stream",
       "stream": "stdout",
       "text": [
        "\n",
        "Frame 710 Agents 23558 A0: Density 0.0635035990705 Time 94.3732367385..."
       ]
      },
      {
       "output_type": "stream",
       "stream": "stdout",
       "text": [
        "\n",
        "Frame 720 Agents 22919 A0: Density 0.0635035990705 Time 94.3732367385..."
       ]
      },
      {
       "output_type": "stream",
       "stream": "stdout",
       "text": [
        "\n",
        "Frame 730 Agents 22180 A0: Density 0.0635035990705 Time 94.3732367385..."
       ]
      },
      {
       "output_type": "stream",
       "stream": "stdout",
       "text": [
        "\n",
        "Frame 740 Agents 21538 A0: Density 0.0635035990705 Time 94.3732367385..."
       ]
      },
      {
       "output_type": "stream",
       "stream": "stdout",
       "text": [
        "\n",
        "Frame 750 Agents 20796 A0: Density 0.0635035990705 Time 94.3732367385..."
       ]
      },
      {
       "output_type": "stream",
       "stream": "stdout",
       "text": [
        "\n",
        "Frame 760 Agents 20158 A0: Density 0.0635035990705 Time 94.3732367385..."
       ]
      },
      {
       "output_type": "stream",
       "stream": "stdout",
       "text": [
        "\n",
        "Frame 770 Agents 19414 A0: Density 0.0635035990705 Time 94.3732367385..."
       ]
      },
      {
       "output_type": "stream",
       "stream": "stdout",
       "text": [
        "\n",
        "Frame 780 Agents 18776 A0: Density 0.0635035990705 Time 94.3732367385..."
       ]
      },
      {
       "output_type": "stream",
       "stream": "stdout",
       "text": [
        "\n",
        "Frame 790 Agents 18034 A0: Density 0.0635035990705 Time 94.3732367385..."
       ]
      },
      {
       "output_type": "stream",
       "stream": "stdout",
       "text": [
        "\n",
        "Frame 800 Agents 17390 A0: Density 0.0635035990705 Time 94.3732367385..."
       ]
      },
      {
       "output_type": "stream",
       "stream": "stdout",
       "text": [
        "\n",
        "Frame 810 Agents 16653 A0: Density 0.0635035990705 Time 94.3732367385..."
       ]
      },
      {
       "output_type": "stream",
       "stream": "stdout",
       "text": [
        "\n",
        "Frame 820 Agents 16017 A0: Density 0.0635035990705 Time 94.3732367385..."
       ]
      },
      {
       "output_type": "stream",
       "stream": "stdout",
       "text": [
        "\n",
        "Frame 830 Agents 15272 A0: Density 0.0635035990705 Time 94.3732367385..."
       ]
      },
      {
       "output_type": "stream",
       "stream": "stdout",
       "text": [
        "\n",
        "Frame 840 Agents 14636 A0: Density 0.0635035990705 Time 94.3732367385..."
       ]
      },
      {
       "output_type": "stream",
       "stream": "stdout",
       "text": [
        "\n",
        "Frame 850 Agents 13890 A0: Density 0.0635035990705 Time 94.3732367385..."
       ]
      },
      {
       "output_type": "stream",
       "stream": "stdout",
       "text": [
        "\n",
        "Frame 860 Agents 13256 A0: Density 0.0635035990705 Time 94.3732367385..."
       ]
      },
      {
       "output_type": "stream",
       "stream": "stdout",
       "text": [
        "\n",
        "Frame 870 Agents 12510 A0: Density 0.0635035990705 Time 94.3732367385..."
       ]
      },
      {
       "output_type": "stream",
       "stream": "stdout",
       "text": [
        "\n",
        "Frame 880 Agents 11878 A0: Density 0.0635035990705 Time 94.3732367385..."
       ]
      },
      {
       "output_type": "stream",
       "stream": "stdout",
       "text": [
        "\n",
        "Frame 890 Agents 11127 A0: Density 0.0635035990705 Time 94.3732367385..."
       ]
      },
      {
       "output_type": "stream",
       "stream": "stdout",
       "text": [
        "\n",
        "Frame 900 Agents 10488 A0: Density 0.0635035990705 Time 94.3732367385..."
       ]
      },
      {
       "output_type": "stream",
       "stream": "stdout",
       "text": [
        "\n",
        "Frame 910 Agents 9750 A0: Density 0.0635035990705 Time 94.3732367385..."
       ]
      },
      {
       "output_type": "stream",
       "stream": "stdout",
       "text": [
        "\n",
        "Frame 920 Agents 9109 A0: Density 0.0635035990705 Time 94.3732367385..."
       ]
      },
      {
       "output_type": "stream",
       "stream": "stdout",
       "text": [
        "\n",
        "Frame 930 Agents 8368 A0: Density 0.0635035990705 Time 94.3732367385..."
       ]
      },
      {
       "output_type": "stream",
       "stream": "stdout",
       "text": [
        "\n",
        "Frame 940 Agents 7732 A0: Density 0.0635035990705 Time 94.3732367385..."
       ]
      },
      {
       "output_type": "stream",
       "stream": "stdout",
       "text": [
        "\n",
        "Frame 950 Agents 6982 A0: Density 0.0635035990705 Time 94.3732367385..."
       ]
      },
      {
       "output_type": "stream",
       "stream": "stdout",
       "text": [
        "\n",
        "Frame 960 Agents 6356 A0: Density 0.0635035990705 Time 94.3732367385..."
       ]
      },
      {
       "output_type": "stream",
       "stream": "stdout",
       "text": [
        "\n",
        "Frame 970 Agents 5603 A0: Density 0.0635035990705 Time 94.3732367385..."
       ]
      },
      {
       "output_type": "stream",
       "stream": "stdout",
       "text": [
        "\n",
        "Frame 980 Agents 4966 A0: Density 0.0635035990705 Time 94.3732367385..."
       ]
      },
      {
       "output_type": "stream",
       "stream": "stdout",
       "text": [
        "\n",
        "Frame 990 Agents 4226 A0: Density 0.0635035990705 Time 94.3732367385..."
       ]
      },
      {
       "output_type": "stream",
       "stream": "stdout",
       "text": [
        "\n",
        "Frame 1000 Agents 3581 A0: Density 0.0635035990705 Time 94.3732367385..."
       ]
      },
      {
       "output_type": "stream",
       "stream": "stdout",
       "text": [
        "\n",
        "Frame 1010 Agents 2840 A0: Density 0.0635035990705 Time 94.3732367385..."
       ]
      },
      {
       "output_type": "stream",
       "stream": "stdout",
       "text": [
        "\n",
        "Frame 1020 Agents 2204 A0: Density 0.0635035990705 Time 94.3732367385..."
       ]
      },
      {
       "output_type": "stream",
       "stream": "stdout",
       "text": [
        "\n",
        "Frame 1030 Agents 1458 A0: Density 0.0635035990705 Time 94.3732367385..."
       ]
      },
      {
       "output_type": "stream",
       "stream": "stdout",
       "text": [
        "\n",
        "Frame 1040 Agents 959 A0: Density 0.0635035990705 Time 94.3732367385..."
       ]
      },
      {
       "output_type": "stream",
       "stream": "stdout",
       "text": [
        "\n",
        "Frame 1050 Agents 0 A0: Density 0.0635035990705 Time 94.3732367385..."
       ]
      },
      {
       "output_type": "stream",
       "stream": "stdout",
       "text": [
        "\n",
        "End of this simulation.\n",
        "Agents saved to result."
       ]
      },
      {
       "output_type": "stream",
       "stream": "stdout",
       "text": [
        "\n",
        "Processing paths to destination 1..."
       ]
      },
      {
       "output_type": "stream",
       "stream": "stdout",
       "text": [
        "\n",
        "Processing paths to destination 30..."
       ]
      },
      {
       "output_type": "stream",
       "stream": "stdout",
       "text": [
        "\n",
        "Processing paths to destination 45..."
       ]
      },
      {
       "output_type": "stream",
       "stream": "stdout",
       "text": [
        "\n",
        "Processing paths to destination 58..."
       ]
      },
      {
       "output_type": "stream",
       "stream": "stdout",
       "text": [
        "\n",
        "Processing paths to destination 130..."
       ]
      },
      {
       "output_type": "stream",
       "stream": "stdout",
       "text": [
        "\n",
        "Processing paths to destination 227..."
       ]
      },
      {
       "output_type": "stream",
       "stream": "stdout",
       "text": [
        "\n",
        "Processing paths to destination 503..."
       ]
      },
      {
       "output_type": "stream",
       "stream": "stdout",
       "text": [
        "\n",
        "Processing paths to destination 617..."
       ]
      },
      {
       "output_type": "stream",
       "stream": "stdout",
       "text": [
        "\n",
        "Processing paths to destination 663..."
       ]
      },
      {
       "output_type": "stream",
       "stream": "stdout",
       "text": [
        "\n",
        "Processing paths to destination 695..."
       ]
      },
      {
       "output_type": "stream",
       "stream": "stdout",
       "text": [
        "\n",
        "Processing paths to destination 1903..."
       ]
      },
      {
       "output_type": "stream",
       "stream": "stdout",
       "text": [
        "\n",
        "Processing paths to destination 2565..."
       ]
      },
      {
       "output_type": "stream",
       "stream": "stdout",
       "text": [
        "\n",
        "Processing paths to destination 3283..."
       ]
      },
      {
       "output_type": "stream",
       "stream": "stdout",
       "text": [
        "\n",
        "Processing paths to destination 8585..."
       ]
      },
      {
       "output_type": "stream",
       "stream": "stdout",
       "text": [
        "\n",
        "Processing paths to destination 10546..."
       ]
      },
      {
       "output_type": "stream",
       "stream": "stdout",
       "text": [
        "\n",
        "Processing paths to destination 13114..."
       ]
      },
      {
       "output_type": "stream",
       "stream": "stdout",
       "text": [
        "\n",
        "Processing paths to destination 14215..."
       ]
      },
      {
       "output_type": "stream",
       "stream": "stdout",
       "text": [
        "\n",
        "Processing paths to destination 18274..."
       ]
      },
      {
       "output_type": "stream",
       "stream": "stdout",
       "text": [
        "\n",
        "Processing paths to destination 23093..."
       ]
      },
      {
       "output_type": "stream",
       "stream": "stdout",
       "text": [
        "\n",
        "Processing paths to destination 28079..."
       ]
      },
      {
       "output_type": "stream",
       "stream": "stdout",
       "text": [
        "\n",
        "Processing paths to destination 28986..."
       ]
      },
      {
       "output_type": "stream",
       "stream": "stdout",
       "text": [
        "\n",
        "Processing paths to destination 32908..."
       ]
      },
      {
       "output_type": "stream",
       "stream": "stdout",
       "text": [
        "\n",
        "Processing paths to destination 35186..."
       ]
      },
      {
       "output_type": "stream",
       "stream": "stdout",
       "text": [
        "\n",
        "Processing paths to destination 36210..."
       ]
      },
      {
       "output_type": "stream",
       "stream": "stdout",
       "text": [
        "\n",
        "Processing paths to destination 38726..."
       ]
      },
      {
       "output_type": "stream",
       "stream": "stdout",
       "text": [
        "\n",
        "Processing paths to destination 41891..."
       ]
      },
      {
       "output_type": "stream",
       "stream": "stdout",
       "text": [
        "\n",
        "Processing paths to destination 52883..."
       ]
      },
      {
       "output_type": "stream",
       "stream": "stdout",
       "text": [
        "\n",
        "Processing paths to destination 64483..."
       ]
      },
      {
       "output_type": "stream",
       "stream": "stdout",
       "text": [
        "\n",
        "Processing paths to destination 69824..."
       ]
      },
      {
       "output_type": "stream",
       "stream": "stdout",
       "text": [
        "\n",
        "Processing paths to destination 78280..."
       ]
      },
      {
       "output_type": "stream",
       "stream": "stdout",
       "text": [
        "\n",
        "Processing paths to destination 81576..."
       ]
      },
      {
       "output_type": "stream",
       "stream": "stdout",
       "text": [
        "\n",
        "Processing paths to destination 85240..."
       ]
      },
      {
       "output_type": "stream",
       "stream": "stdout",
       "text": [
        "\n",
        "Processing paths to destination 98113..."
       ]
      },
      {
       "output_type": "stream",
       "stream": "stdout",
       "text": [
        "\n",
        "Processing paths to destination 104125..."
       ]
      },
      {
       "output_type": "stream",
       "stream": "stdout",
       "text": [
        "\n",
        "Processing paths to destination 104792..."
       ]
      },
      {
       "output_type": "stream",
       "stream": "stdout",
       "text": [
        "\n",
        "Processing paths to destination 108207..."
       ]
      },
      {
       "output_type": "stream",
       "stream": "stdout",
       "text": [
        "\n",
        "Processing paths to destination 146531..."
       ]
      },
      {
       "output_type": "stream",
       "stream": "stdout",
       "text": [
        "\n",
        "Processing paths to destination 148054..."
       ]
      },
      {
       "output_type": "stream",
       "stream": "stdout",
       "text": [
        "\n",
        "Processing paths to destination 148779..."
       ]
      },
      {
       "output_type": "stream",
       "stream": "stdout",
       "text": [
        "\n",
        "Processing paths to destination 148803..."
       ]
      },
      {
       "output_type": "stream",
       "stream": "stdout",
       "text": [
        "\n",
        "Processing paths to destination 150575..."
       ]
      },
      {
       "output_type": "stream",
       "stream": "stdout",
       "text": [
        "\n",
        "Processing paths to destination 151096..."
       ]
      },
      {
       "output_type": "stream",
       "stream": "stdout",
       "text": [
        "\n",
        "Processing paths to destination 158763..."
       ]
      },
      {
       "output_type": "stream",
       "stream": "stdout",
       "text": [
        "\n",
        "Processing paths to destination 162696..."
       ]
      },
      {
       "output_type": "stream",
       "stream": "stdout",
       "text": [
        "\n",
        "Processing paths to destination 168251..."
       ]
      },
      {
       "output_type": "stream",
       "stream": "stdout",
       "text": [
        "\n",
        "Processing paths to destination 168912..."
       ]
      },
      {
       "output_type": "stream",
       "stream": "stdout",
       "text": [
        "\n",
        "Processing paths to destination 168926..."
       ]
      },
      {
       "output_type": "stream",
       "stream": "stdout",
       "text": [
        "\n",
        "Processing paths to destination 171545..."
       ]
      },
      {
       "output_type": "stream",
       "stream": "stdout",
       "text": [
        "\n",
        "Processing paths to destination 171776..."
       ]
      },
      {
       "output_type": "stream",
       "stream": "stdout",
       "text": [
        "\n",
        "Processing paths to destination 187991..."
       ]
      },
      {
       "output_type": "stream",
       "stream": "stdout",
       "text": [
        "\n",
        "Processing paths to destination 195655..."
       ]
      },
      {
       "output_type": "stream",
       "stream": "stdout",
       "text": [
        "\n",
        "Processing paths to destination 209659..."
       ]
      },
      {
       "output_type": "stream",
       "stream": "stdout",
       "text": [
        "\n",
        "Processing paths to destination 210107..."
       ]
      },
      {
       "output_type": "stream",
       "stream": "stdout",
       "text": [
        "\n",
        "Processing paths to destination 214809..."
       ]
      },
      {
       "output_type": "stream",
       "stream": "stdout",
       "text": [
        "\n",
        "Processing paths to destination 218399..."
       ]
      },
      {
       "output_type": "stream",
       "stream": "stdout",
       "text": [
        "\n",
        "Processing paths to destination 225282..."
       ]
      },
      {
       "output_type": "stream",
       "stream": "stdout",
       "text": [
        "\n",
        "Processing paths to destination 226852..."
       ]
      },
      {
       "output_type": "stream",
       "stream": "stdout",
       "text": [
        "\n",
        "Processing paths to destination 227828..."
       ]
      },
      {
       "output_type": "stream",
       "stream": "stdout",
       "text": [
        "\n",
        "Processing paths to destination 228071..."
       ]
      },
      {
       "output_type": "stream",
       "stream": "stdout",
       "text": [
        "\n",
        "Processing paths to destination 228326..."
       ]
      },
      {
       "output_type": "stream",
       "stream": "stdout",
       "text": [
        "\n",
        "Processing paths to destination 228476..."
       ]
      },
      {
       "output_type": "stream",
       "stream": "stdout",
       "text": [
        "\n",
        "Processing paths to destination 229947..."
       ]
      },
      {
       "output_type": "stream",
       "stream": "stdout",
       "text": [
        "\n",
        "Processing paths to destination 230112..."
       ]
      },
      {
       "output_type": "stream",
       "stream": "stdout",
       "text": [
        "\n",
        "Processing paths to destination 231782..."
       ]
      },
      {
       "output_type": "stream",
       "stream": "stdout",
       "text": [
        "\n",
        "Processing paths to destination 231899..."
       ]
      },
      {
       "output_type": "stream",
       "stream": "stdout",
       "text": [
        "\n",
        "Processing paths to destination 233928..."
       ]
      },
      {
       "output_type": "stream",
       "stream": "stdout",
       "text": [
        "\n",
        "Processing paths to destination 235419..."
       ]
      },
      {
       "output_type": "stream",
       "stream": "stdout",
       "text": [
        "\n",
        "Processing paths to destination 235433..."
       ]
      },
      {
       "output_type": "stream",
       "stream": "stdout",
       "text": [
        "\n",
        "Processing paths to destination 235946..."
       ]
      },
      {
       "output_type": "stream",
       "stream": "stdout",
       "text": [
        "\n",
        "Processing paths to destination 236932..."
       ]
      },
      {
       "output_type": "stream",
       "stream": "stdout",
       "text": [
        "\n",
        "Processing paths to destination 240685..."
       ]
      },
      {
       "output_type": "stream",
       "stream": "stdout",
       "text": [
        "\n",
        "Processing paths to destination 243091..."
       ]
      },
      {
       "output_type": "stream",
       "stream": "stdout",
       "text": [
        "\n",
        "Processing paths to destination 251385..."
       ]
      },
      {
       "output_type": "stream",
       "stream": "stdout",
       "text": [
        "\n",
        "Processing paths to destination 256463..."
       ]
      },
      {
       "output_type": "stream",
       "stream": "stdout",
       "text": [
        "\n",
        "Processing paths to destination 258100..."
       ]
      },
      {
       "output_type": "stream",
       "stream": "stdout",
       "text": [
        "\n",
        "Processing paths to destination 261111..."
       ]
      },
      {
       "output_type": "stream",
       "stream": "stdout",
       "text": [
        "\n",
        "Processing paths to destination 261604..."
       ]
      },
      {
       "output_type": "stream",
       "stream": "stdout",
       "text": [
        "\n",
        "Processing paths to destination 265265..."
       ]
      },
      {
       "output_type": "stream",
       "stream": "stdout",
       "text": [
        "\n",
        "Processing paths to destination 265795..."
       ]
      },
      {
       "output_type": "stream",
       "stream": "stdout",
       "text": [
        "\n",
        "Processing paths to destination 269340..."
       ]
      },
      {
       "output_type": "stream",
       "stream": "stdout",
       "text": [
        "\n",
        "Processing paths to destination 269559..."
       ]
      },
      {
       "output_type": "stream",
       "stream": "stdout",
       "text": [
        "\n",
        "Processing paths to destination 270567..."
       ]
      },
      {
       "output_type": "stream",
       "stream": "stdout",
       "text": [
        "\n",
        "Processing paths to destination 270577..."
       ]
      },
      {
       "output_type": "stream",
       "stream": "stdout",
       "text": [
        "\n",
        "Processing paths to destination 270635..."
       ]
      },
      {
       "output_type": "stream",
       "stream": "stdout",
       "text": [
        "\n",
        "Processing paths to destination 270898..."
       ]
      },
      {
       "output_type": "stream",
       "stream": "stdout",
       "text": [
        "\n",
        "Processing paths to destination 271049..."
       ]
      },
      {
       "output_type": "stream",
       "stream": "stdout",
       "text": [
        "\n",
        "Processing paths to destination 271118..."
       ]
      },
      {
       "ename": "IOError",
       "evalue": "[Errno 36] File name too long: 'abm/pfactor/London/n-7869299-destins-1-30-45-58-130-227-503-617-663-695-1903-2565-3283-8585-10546-13114-14215-18274-23093-28079-28986-32908-35186-36210-38726-41891-52883-64483-69824-78280-81576-85240-98113-104125-104792-108207-146531-148054-148779-148803-150575-151096-158763-162696-168251-168912-168926-171545-171776-187991-195655-209659-210107-214809-218399-225282-226852-227828-228071-228326-228476-229947-230112-231782-231899-233928-235419-235433-235946-236932-240685-243091-251385-256463-258100-261111-261604-265265-265795-269340-269559-270567-270577-270635-270898-271049-271118.EA'",
       "output_type": "pyerr",
       "traceback": [
        "\u001b[1;31m---------------------------------------------------------------------------\u001b[0m\n\u001b[1;31mIOError\u001b[0m                                   Traceback (most recent call last)",
        "\u001b[1;32m<ipython-input-67-38d6dafcf04d>\u001b[0m in \u001b[0;36m<module>\u001b[1;34m()\u001b[0m\n\u001b[0;32m     26\u001b[0m \u001b[1;31m# Save each exit to a different file\u001b[0m\u001b[1;33m\u001b[0m\u001b[1;33m\u001b[0m\u001b[0m\n\u001b[0;32m     27\u001b[0m \u001b[1;32mfor\u001b[0m \u001b[0mcity\u001b[0m \u001b[1;32min\u001b[0m \u001b[0mcities\u001b[0m\u001b[1;33m:\u001b[0m\u001b[1;33m\u001b[0m\u001b[0m\n\u001b[1;32m---> 28\u001b[1;33m     \u001b[0mrun\u001b[0m \u001b[1;33m=\u001b[0m \u001b[0mabm\u001b[0m\u001b[1;33m.\u001b[0m\u001b[0mABM\u001b[0m\u001b[1;33m(\u001b[0m\u001b[0msim\u001b[0m\u001b[1;33m=\u001b[0m\u001b[0msim\u001b[0m\u001b[1;33m,\u001b[0m\u001b[0mname\u001b[0m\u001b[1;33m=\u001b[0m\u001b[0mcity\u001b[0m\u001b[1;33m,\u001b[0m\u001b[0mp_factor\u001b[0m\u001b[1;33m=\u001b[0m\u001b[0mp_factor\u001b[0m\u001b[1;33m,\u001b[0m\u001b[0mspeedup\u001b[0m\u001b[1;33m=\u001b[0m\u001b[1;36m60\u001b[0m\u001b[1;33m,\u001b[0m\u001b[0mloadpath\u001b[0m\u001b[1;33m=\u001b[0m\u001b[0mTrue\u001b[0m\u001b[1;33m,\u001b[0m\u001b[0mn\u001b[0m\u001b[1;33m=\u001b[0m\u001b[0mNone\u001b[0m\u001b[1;33m,\u001b[0m\u001b[0mdestins\u001b[0m\u001b[1;33m=\u001b[0m\u001b[0mNone\u001b[0m\u001b[1;33m)\u001b[0m\u001b[1;33m\u001b[0m\u001b[0m\n\u001b[0m\u001b[0;32m     29\u001b[0m     \u001b[1;32mfor\u001b[0m \u001b[0mdf\u001b[0m \u001b[1;32min\u001b[0m \u001b[1;33m[\u001b[0m\u001b[1;36m0\u001b[0m\u001b[1;33m,\u001b[0m\u001b[1;36m1\u001b[0m\u001b[1;33m]\u001b[0m\u001b[1;33m:\u001b[0m\u001b[1;33m\u001b[0m\u001b[0m\n\u001b[0;32m     30\u001b[0m         \u001b[0mrun\u001b[0m\u001b[1;33m.\u001b[0m\u001b[0mdensity_factor\u001b[0m \u001b[1;33m=\u001b[0m \u001b[0mdf\u001b[0m\u001b[1;33m\u001b[0m\u001b[0m\n",
        "\u001b[1;32m/home/bk12369/Dropbox/ABM/abm.pyc\u001b[0m in \u001b[0;36m__init__\u001b[1;34m(self, sim, name, p_factor, n, destins, speedup, loadpath, density_factor)\u001b[0m\n\u001b[0;32m    123\u001b[0m         \u001b[1;31m# Initialise the area of edges\u001b[0m\u001b[1;33m\u001b[0m\u001b[1;33m\u001b[0m\u001b[0m\n\u001b[0;32m    124\u001b[0m         \u001b[1;32mif\u001b[0m \u001b[0mloadpath\u001b[0m\u001b[1;33m:\u001b[0m\u001b[1;33m\u001b[0m\u001b[0m\n\u001b[1;32m--> 125\u001b[1;33m             \u001b[0mself\u001b[0m\u001b[1;33m.\u001b[0m\u001b[0minit_EA\u001b[0m\u001b[1;33m(\u001b[0m\u001b[1;33m)\u001b[0m\u001b[1;33m\u001b[0m\u001b[0m\n\u001b[0m\u001b[0;32m    126\u001b[0m \u001b[1;33m\u001b[0m\u001b[0m\n\u001b[0;32m    127\u001b[0m     \u001b[1;32mdef\u001b[0m \u001b[0mmake_agents_file\u001b[0m\u001b[1;33m(\u001b[0m\u001b[0mself\u001b[0m\u001b[1;33m)\u001b[0m\u001b[1;33m:\u001b[0m\u001b[1;33m\u001b[0m\u001b[0m\n",
        "\u001b[1;32m/home/bk12369/Dropbox/ABM/abm.pyc\u001b[0m in \u001b[0;36minit_EA\u001b[1;34m(self, fresh)\u001b[0m\n\u001b[0;32m    482\u001b[0m \u001b[1;33m\u001b[0m\u001b[0m\n\u001b[0;32m    483\u001b[0m             \u001b[1;31m# Dump the results to a file\u001b[0m\u001b[1;33m\u001b[0m\u001b[1;33m\u001b[0m\u001b[0m\n\u001b[1;32m--> 484\u001b[1;33m             \u001b[0mfile\u001b[0m \u001b[1;33m=\u001b[0m \u001b[0mopen\u001b[0m\u001b[1;33m(\u001b[0m\u001b[0mfname\u001b[0m\u001b[1;33m,\u001b[0m \u001b[1;34m'w'\u001b[0m\u001b[1;33m)\u001b[0m\u001b[1;33m\u001b[0m\u001b[0m\n\u001b[0m\u001b[0;32m    485\u001b[0m             \u001b[0mpickle\u001b[0m\u001b[1;33m.\u001b[0m\u001b[0mdump\u001b[0m\u001b[1;33m(\u001b[0m\u001b[0mself\u001b[0m\u001b[1;33m.\u001b[0m\u001b[0mEA\u001b[0m\u001b[1;33m,\u001b[0m \u001b[0mfile\u001b[0m\u001b[1;33m)\u001b[0m\u001b[1;33m\u001b[0m\u001b[0m\n\u001b[0;32m    486\u001b[0m             \u001b[0mfile\u001b[0m\u001b[1;33m.\u001b[0m\u001b[0mclose\u001b[0m\u001b[1;33m(\u001b[0m\u001b[1;33m)\u001b[0m\u001b[1;33m\u001b[0m\u001b[0m\n",
        "\u001b[1;31mIOError\u001b[0m: [Errno 36] File name too long: 'abm/pfactor/London/n-7869299-destins-1-30-45-58-130-227-503-617-663-695-1903-2565-3283-8585-10546-13114-14215-18274-23093-28079-28986-32908-35186-36210-38726-41891-52883-64483-69824-78280-81576-85240-98113-104125-104792-108207-146531-148054-148779-148803-150575-151096-158763-162696-168251-168912-168926-171545-171776-187991-195655-209659-210107-214809-218399-225282-226852-227828-228071-228326-228476-229947-230112-231782-231899-233928-235419-235433-235946-236932-240685-243091-251385-256463-258100-261111-261604-265265-265795-269340-269559-270567-270577-270635-270898-271049-271118.EA'"
       ]
      },
      {
       "output_type": "stream",
       "stream": "stdout",
       "text": [
        "\n"
       ]
      },
      {
       "output_type": "stream",
       "stream": "stderr",
       "text": [
        "/home/bk12369/Anaconda/lib/python2.7/site-packages/matplotlib/pyplot.py:412: RuntimeWarning: More than 20 figures have been opened. Figures created through the pyplot interface (`matplotlib.pyplot.figure`) are retained until explicitly closed and may consume too much memory. (To control this warning, see the rcParam `figure.max_num_figures`).\n",
        "  max_open_warning, RuntimeWarning)\n"
       ]
      }
     ],
     "prompt_number": 67
    },
    {
     "cell_type": "code",
     "collapsed": false,
     "input": [],
     "language": "python",
     "metadata": {},
     "outputs": []
    }
   ],
   "metadata": {}
  }
 ]
}