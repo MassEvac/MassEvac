{
 "metadata": {
  "name": ""
 },
 "nbformat": 3,
 "nbformat_minor": 0,
 "worksheets": [
  {
   "cells": [
    {
     "cell_type": "code",
     "collapsed": false,
     "input": [
      "import scipy.io\n",
      "import networkx as nx"
     ],
     "language": "python",
     "metadata": {},
     "outputs": [],
     "prompt_number": 3
    },
    {
     "cell_type": "markdown",
     "metadata": {},
     "source": [
      "Load Bristol and convert to networkx"
     ]
    },
    {
     "cell_type": "code",
     "collapsed": false,
     "input": [
      "mat = scipy.io.loadmat('Bristol/DAMsimple.mat')\n",
      "AM = mat['DAM'].tocoo();\n",
      "\n",
      "mat = scipy.io.loadmat('Bristol/nodesSimple.mat')\n",
      "nodelist = mat['nodes'];"
     ],
     "language": "python",
     "metadata": {},
     "outputs": [],
     "prompt_number": 5
    },
    {
     "cell_type": "markdown",
     "metadata": {},
     "source": [
      "Graph check"
     ]
    },
    {
     "cell_type": "code",
     "collapsed": false,
     "input": [
      "G=nx.DiGraph(AM)\n",
      "nx.is_directed(G)"
     ],
     "language": "python",
     "metadata": {},
     "outputs": [
      {
       "metadata": {},
       "output_type": "pyout",
       "prompt_number": 7,
       "text": [
        "True"
       ]
      }
     ],
     "prompt_number": 7
    },
    {
     "cell_type": "code",
     "collapsed": false,
     "input": [
      "G.number_of_nodes()==len(nodelist)"
     ],
     "language": "python",
     "metadata": {},
     "outputs": [
      {
       "metadata": {},
       "output_type": "pyout",
       "prompt_number": 8,
       "text": [
        "True"
       ]
      }
     ],
     "prompt_number": 8
    },
    {
     "cell_type": "markdown",
     "metadata": {},
     "source": [
      "Determine shortest paths by reversing the direction of the paths (from the transpose of the graph)"
     ]
    },
    {
     "cell_type": "code",
     "collapsed": false,
     "input": [
      "AMT = AM.T\n",
      "GT=nx.DiGraph(AMT)\n",
      "dest=51\n",
      "path=nx.single_source_dijkstra_path(GT,dest)"
     ],
     "language": "python",
     "metadata": {},
     "outputs": [],
     "prompt_number": 18
    },
    {
     "cell_type": "markdown",
     "metadata": {},
     "source": [
      "Generate a background image of the map"
     ]
    },
    {
     "cell_type": "code",
     "collapsed": false,
     "input": [
      "l,r=min(nodelist[:,0]),max(nodelist[:,0])\n",
      "b,t=min(nodelist[:,1]),max(nodelist[:,1])\n",
      "\n",
      "fig=plt.figure()\n",
      "ax = plt.axes(xlim=(l, r), ylim=(b, t))\n",
      "nx.draw_networkx_edges(G,pos=nodelist)\n",
      "extent = ax.get_window_extent().transformed(fig.dpi_scale_trans.inverted())\n",
      "savefig('map.png', bbox_inches=extent)\n",
      "plt.close('all')"
     ],
     "language": "python",
     "metadata": {},
     "outputs": [],
     "prompt_number": 39
    },
    {
     "cell_type": "markdown",
     "metadata": {},
     "source": [
      "Initialise agents, agent distribution matrix, agent link and progress"
     ]
    },
    {
     "cell_type": "code",
     "collapsed": false,
     "input": [
      "from random import uniform, randrange\n",
      "\n",
      "# Number of agents\n",
      "n=1000\n",
      "\n",
      "edges = len(AM.data) # Number of edges"
     ],
     "language": "python",
     "metadata": {},
     "outputs": [],
     "prompt_number": 13
    },
    {
     "cell_type": "markdown",
     "metadata": {},
     "source": [
      "Initialise an edge number matrix"
     ]
    },
    {
     "cell_type": "code",
     "collapsed": false,
     "input": [
      "# Initialise matrix with edge number\n",
      "\n",
      "EM = scipy.sparse.lil_matrix(shape(AM),dtype=int)\n",
      "\n",
      "# Number of edges in EM is always going to be edges-1 because the first edge is 0\n",
      "for i in range(edges):\n",
      "    EM[AM.row[i],AM.col[i]]=i"
     ],
     "language": "python",
     "metadata": {},
     "outputs": [],
     "prompt_number": 14
    },
    {
     "cell_type": "markdown",
     "metadata": {},
     "source": [
      "Initialise agent properties"
     ]
    },
    {
     "cell_type": "code",
     "collapsed": false,
     "input": [
      "def initialise_position():\n",
      "    # Position of the agents\n",
      "    P = zeros((n,2))\n",
      "    \n",
      "    # Edge that the agent is on\n",
      "    A = [None]*n\n",
      "    \n",
      "    # Location of along the link (min = 0, max = AM.data[thisEdge])\n",
      "    L = [None]*n\n",
      "    \n",
      "    # Time at which destination reached\n",
      "    T = [None]*n\n",
      "    \n",
      "    # Matrix with number of agents\n",
      "    PM = scipy.sparse.lil_matrix(shape(AM))    \n",
      "    \n",
      "    i = 0\n",
      "    e = 0\n",
      "    while i < n:\n",
      "        thisEdge = randrange(edges);\n",
      "        di = AM.data[thisEdge]\n",
      "        ci = AM.col[thisEdge]        \n",
      "        ri = AM.row[thisEdge]\n",
      "        # In the future, I will need to check capacity of the link before adding the agent\n",
      "        PM[ri,ci] += 1\n",
      "        # This takes direction into account, going from node ri to node ci\n",
      "        A[i] = thisEdge\n",
      "        L[i] = uniform(0,AM.data[thisEdge])    \n",
      "        # Determine the position\n",
      "        thisProg = L[i]/di                \n",
      "        thisNode = nodelist[ci,:]\n",
      "        thatNode = nodelist[ri,:]\n",
      "        P[i,:] = thisNode + (thatNode - thisNode)*thisProg        \n",
      "        try:\n",
      "            # Check to see if the agent can actually reach destination\n",
      "            mypath=path[ci]\n",
      "            i += 1\n",
      "        except KeyError:\n",
      "            e += 1\n",
      "\n",
      "    print e,', ',e/float(e+i)*100.0,'% of agents could not be created!'\n",
      "            \n",
      "    return P, A, L, T, PM"
     ],
     "language": "python",
     "metadata": {},
     "outputs": [],
     "prompt_number": 27
    },
    {
     "cell_type": "markdown",
     "metadata": {},
     "source": [
      "Function to get current position of agents"
     ]
    },
    {
     "cell_type": "code",
     "collapsed": false,
     "input": [
      "def update_position(P, A, L, T, vel, t):\n",
      "    # Need to randomise the range later\n",
      "    for i in range(n):\n",
      "        # If this agent hasn't finished its journey, proceed\n",
      "        if T[i] == None:\n",
      "            L[i] += vel # Move the agent                \n",
      "            thisEdge = A[i]\n",
      "            di = AM.data[thisEdge]            \n",
      "            ci = AM.col[thisEdge]\n",
      "            ri = AM.row[thisEdge]\n",
      "            Pr = L[i]/di # Percentage progress along the link (1 = completed)\n",
      "            # If the agent travels beyond the length of the link\n",
      "            if Pr > 1:\n",
      "                new_ci = path[ci][-2]\n",
      "                if new_ci == dest:\n",
      "                    # Agent has reached its destination, record time\n",
      "                    T[i] = t\n",
      "                    L[i] = 0\n",
      "                    Pr = 1\n",
      "                    print 'Timeout', i\n",
      "                else:\n",
      "                    Pr = 0\n",
      "                    L[i] = L[i] - di\n",
      "                    # New nodes\n",
      "                    ri = ci\n",
      "                    ci = new_ci\n",
      "                    # Find the new edge\n",
      "                    thisEdge = EM[ri,ci]\n",
      "                    A[i] = thisEdge\n",
      "                    if A[i]==0:\n",
      "                        print '     Reverse', EM[ci,ri], EM[ci,ri]==0\n",
      "            thisNode = nodelist[ci,:]\n",
      "            thatNode = nodelist[ri,:]\n",
      "            P[i,:] = thisNode + (thatNode - thisNode)*Pr\n",
      "    return P, A, L, T"
     ],
     "language": "python",
     "metadata": {},
     "outputs": [],
     "prompt_number": 16
    },
    {
     "cell_type": "markdown",
     "metadata": {},
     "source": [
      "Initialise and test to see that all paths exist, if there is no output, thats a good thing"
     ]
    },
    {
     "cell_type": "code",
     "collapsed": false,
     "input": [
      "# Initialise these variables\n",
      "P,A,L,T,PM = initialise_position()\n",
      "\n",
      "for agent in range(n):\n",
      "    print 'Agent', agent\n",
      "    mypath=path[AM.row[A[agent]]]\n",
      "    for i in reversed(range(len(mypath)-1)):\n",
      "        ri = mypath[i+1]\n",
      "        ci = mypath[i]\n",
      "        # print i, ri, ci, EM[ri,ci]\n",
      "        if EM[ri,ci]==0:\n",
      "            print '     Reverse', EM[ci,ri], EM[ci,ri]==0"
     ],
     "language": "python",
     "metadata": {},
     "outputs": [
      {
       "output_type": "stream",
       "stream": "stdout",
       "text": [
        "19 of 1019 ,  1.86457311089 % of agents could not be created!\n",
        "Agent 0\n",
        "Agent 1\n",
        "Agent 2\n",
        "Agent 3\n",
        "Agent 4\n",
        "Agent 5\n",
        "Agent"
       ]
      },
      {
       "output_type": "stream",
       "stream": "stdout",
       "text": [
        " 6\n",
        "Agent 7\n",
        "Agent 8\n",
        "Agent 9\n",
        "Agent 10\n",
        "Agent 11\n",
        "Agent 12\n",
        "Agent 13\n",
        "Agent"
       ]
      },
      {
       "output_type": "stream",
       "stream": "stdout",
       "text": [
        " 14\n",
        "Agent 15\n",
        "Agent 16\n",
        "Agent 17\n",
        "Agent 18\n",
        "Agent 19\n",
        "Agent 20\n",
        "Agent"
       ]
      },
      {
       "output_type": "stream",
       "stream": "stdout",
       "text": [
        " 21\n",
        "Agent 22\n",
        "Agent 23\n",
        "Agent 24\n",
        "Agent 25\n",
        "Agent 26\n",
        "Agent 27\n",
        "Agent"
       ]
      },
      {
       "output_type": "stream",
       "stream": "stdout",
       "text": [
        " 28\n",
        "Agent 29\n",
        "Agent 30\n",
        "Agent 31\n",
        "Agent 32\n",
        "Agent 33\n",
        "Agent 34\n",
        "Agent"
       ]
      },
      {
       "output_type": "stream",
       "stream": "stdout",
       "text": [
        " 35\n",
        "Agent 36\n",
        "Agent 37\n",
        "Agent 38\n",
        "Agent 39\n",
        "Agent 40\n",
        "Agent 41\n",
        "Agent 42\n",
        "Agent 43\n",
        "Agent"
       ]
      },
      {
       "output_type": "stream",
       "stream": "stdout",
       "text": [
        " 44\n",
        "Agent 45\n",
        "Agent 46\n",
        "Agent 47\n",
        "Agent 48\n",
        "Agent 49\n",
        "Agent"
       ]
      },
      {
       "output_type": "stream",
       "stream": "stdout",
       "text": [
        " 50\n",
        "Agent 51\n",
        "Agent 52\n",
        "Agent 53\n",
        "Agent 54\n",
        "Agent 55\n",
        "Agent 56\n",
        "Agent"
       ]
      },
      {
       "output_type": "stream",
       "stream": "stdout",
       "text": [
        " 57\n",
        "Agent 58\n",
        "Agent 59\n",
        "Agent 60\n",
        "Agent 61\n",
        "Agent 62\n",
        "Agent 63\n",
        "Agent 64\n",
        "Agent"
       ]
      },
      {
       "output_type": "stream",
       "stream": "stdout",
       "text": [
        " 65\n",
        "Agent 66\n",
        "Agent 67\n",
        "Agent 68\n",
        "Agent 69\n",
        "Agent"
       ]
      },
      {
       "output_type": "stream",
       "stream": "stdout",
       "text": [
        " 70\n",
        "Agent 71\n",
        "Agent 72\n",
        "Agent 73\n",
        "Agent 74\n",
        "Agent 75\n",
        "Agent 76\n",
        "Agent 77\n",
        "Agent"
       ]
      },
      {
       "output_type": "stream",
       "stream": "stdout",
       "text": [
        " 78\n",
        "Agent 79\n",
        "Agent 80\n",
        "Agent 81\n",
        "Agent 82\n",
        "Agent 83\n",
        "Agent 84\n",
        "Agent"
       ]
      },
      {
       "output_type": "stream",
       "stream": "stdout",
       "text": [
        " 85\n",
        "Agent 86\n",
        "Agent 87\n",
        "Agent 88\n",
        "Agent 89\n",
        "Agent 90\n",
        "Agent 91\n",
        "Agent"
       ]
      },
      {
       "output_type": "stream",
       "stream": "stdout",
       "text": [
        " 92\n",
        "Agent 93\n",
        "Agent 94\n",
        "Agent 95\n",
        "Agent 96\n",
        "Agent 97\n",
        "Agent 98\n",
        "Agent"
       ]
      },
      {
       "output_type": "stream",
       "stream": "stdout",
       "text": [
        " 99\n",
        "Agent 100\n",
        "Agent 101\n",
        "Agent 102\n",
        "Agent 103\n",
        "Agent 104\n",
        "Agent 105\n",
        "Agent"
       ]
      },
      {
       "output_type": "stream",
       "stream": "stdout",
       "text": [
        " 106\n",
        "Agent 107\n",
        "Agent 108\n",
        "Agent 109\n",
        "Agent 110\n",
        "Agent"
       ]
      },
      {
       "output_type": "stream",
       "stream": "stdout",
       "text": [
        " 111\n",
        "Agent 112\n",
        "Agent 113\n",
        "Agent 114\n",
        "Agent"
       ]
      },
      {
       "output_type": "stream",
       "stream": "stdout",
       "text": [
        " 115\n",
        "Agent 116\n",
        "Agent 117\n",
        "Agent 118\n",
        "Agent"
       ]
      },
      {
       "output_type": "stream",
       "stream": "stdout",
       "text": [
        " 119\n",
        "Agent 120\n",
        "Agent 121\n",
        "Agent 122\n",
        "Agent 123\n",
        "Agent 124\n",
        "Agent 125\n",
        "Agent 126\n",
        "Agent"
       ]
      },
      {
       "output_type": "stream",
       "stream": "stdout",
       "text": [
        " 127\n",
        "Agent 128\n",
        "Agent 129\n",
        "Agent 130\n",
        "Agent 131\n",
        "Agent 132\n",
        "Agent 133\n",
        "Agent 134\n",
        "Agent"
       ]
      },
      {
       "output_type": "stream",
       "stream": "stdout",
       "text": [
        " 135\n",
        "Agent 136\n",
        "Agent 137\n",
        "Agent 138\n",
        "Agent 139\n",
        "Agent 140\n",
        "Agent 141\n",
        "Agent 142\n",
        "Agent"
       ]
      },
      {
       "output_type": "stream",
       "stream": "stdout",
       "text": [
        " 143\n",
        "Agent 144\n",
        "Agent 145\n",
        "Agent 146\n",
        "Agent 147\n",
        "Agent 148\n",
        "Agent 149\n",
        "Agent 150\n",
        "Agent"
       ]
      },
      {
       "output_type": "stream",
       "stream": "stdout",
       "text": [
        " 151\n",
        "Agent 152\n",
        "Agent 153\n",
        "Agent 154\n",
        "Agent 155\n",
        "Agent 156\n",
        "Agent 157\n",
        "Agent 158\n",
        "Agent 159\n",
        "Agent 160\n",
        "Agent 161\n",
        "Agent"
       ]
      },
      {
       "output_type": "stream",
       "stream": "stdout",
       "text": [
        " 162\n",
        "Agent 163\n",
        "Agent 164\n",
        "Agent 165\n",
        "Agent 166\n",
        "Agent 167\n",
        "Agent 168\n",
        "Agent 169\n",
        "Agent"
       ]
      },
      {
       "output_type": "stream",
       "stream": "stdout",
       "text": [
        " 170\n",
        "Agent 171\n",
        "Agent 172\n",
        "Agent 173\n",
        "Agent 174\n",
        "Agent 175\n",
        "Agent 176\n",
        "Agent"
       ]
      },
      {
       "output_type": "stream",
       "stream": "stdout",
       "text": [
        " 177\n",
        "Agent 178\n",
        "Agent 179\n",
        "Agent 180\n",
        "Agent 181\n",
        "Agent 182\n",
        "Agent"
       ]
      },
      {
       "output_type": "stream",
       "stream": "stdout",
       "text": [
        " 183\n",
        "Agent 184\n",
        "Agent 185\n",
        "Agent 186\n",
        "Agent 187\n",
        "Agent 188\n",
        "Agent 189\n",
        "Agent"
       ]
      },
      {
       "output_type": "stream",
       "stream": "stdout",
       "text": [
        " 190\n",
        "Agent 191\n",
        "Agent 192\n",
        "Agent 193\n",
        "Agent 194\n",
        "Agent 195\n",
        "Agent 196\n",
        "Agent"
       ]
      },
      {
       "output_type": "stream",
       "stream": "stdout",
       "text": [
        " 197\n",
        "Agent 198\n",
        "Agent 199\n",
        "Agent 200\n",
        "Agent 201\n",
        "Agent 202\n",
        "Agent 203\n",
        "Agent"
       ]
      },
      {
       "output_type": "stream",
       "stream": "stdout",
       "text": [
        " 204\n",
        "Agent 205\n",
        "Agent 206\n",
        "Agent 207\n",
        "Agent 208\n",
        "Agent 209\n",
        "Agent 210\n",
        "Agent 211\n",
        "Agent 212\n",
        "Agent"
       ]
      },
      {
       "output_type": "stream",
       "stream": "stdout",
       "text": [
        " 213\n",
        "Agent 214\n",
        "Agent 215\n",
        "Agent 216\n",
        "Agent 217\n",
        "Agent 218\n",
        "Agent 219\n",
        "Agent 220\n",
        "Agent"
       ]
      },
      {
       "output_type": "stream",
       "stream": "stdout",
       "text": [
        " 221\n",
        "Agent 222\n",
        "Agent 223\n",
        "Agent 224\n",
        "Agent 225\n",
        "Agent 226\n",
        "Agent 227\n",
        "Agent 228\n",
        "Agent"
       ]
      },
      {
       "output_type": "stream",
       "stream": "stdout",
       "text": [
        " 229\n",
        "Agent 230\n",
        "Agent 231\n",
        "Agent 232\n",
        "Agent 233\n",
        "Agent 234\n",
        "Agent 235\n",
        "Agent"
       ]
      },
      {
       "output_type": "stream",
       "stream": "stdout",
       "text": [
        " 236\n",
        "Agent 237\n",
        "Agent 238\n",
        "Agent 239\n",
        "Agent 240\n",
        "Agent 241\n",
        "Agent 242\n",
        "Agent 243\n",
        "Agent 244\n",
        "Agent"
       ]
      },
      {
       "output_type": "stream",
       "stream": "stdout",
       "text": [
        " 245\n",
        "Agent 246\n",
        "Agent 247\n",
        "Agent 248\n",
        "Agent 249\n",
        "Agent 250\n",
        "Agent 251\n",
        "Agent 252\n",
        "Agent"
       ]
      },
      {
       "output_type": "stream",
       "stream": "stdout",
       "text": [
        " 253\n",
        "Agent 254\n",
        "Agent 255\n",
        "Agent 256\n",
        "Agent 257\n",
        "Agent 258\n",
        "Agent"
       ]
      },
      {
       "output_type": "stream",
       "stream": "stdout",
       "text": [
        " 259\n",
        "Agent 260\n",
        "Agent 261\n",
        "Agent 262\n",
        "Agent 263\n",
        "Agent 264\n",
        "Agent"
       ]
      },
      {
       "output_type": "stream",
       "stream": "stdout",
       "text": [
        " 265\n",
        "Agent 266\n",
        "Agent 267\n",
        "Agent 268\n",
        "Agent 269\n",
        "Agent 270\n",
        "Agent 271\n",
        "Agent 272\n",
        "Agent"
       ]
      },
      {
       "output_type": "stream",
       "stream": "stdout",
       "text": [
        " 273\n",
        "Agent 274\n",
        "Agent 275\n",
        "Agent 276\n",
        "Agent 277\n",
        "Agent 278\n",
        "Agent"
       ]
      },
      {
       "output_type": "stream",
       "stream": "stdout",
       "text": [
        " 279\n",
        "Agent 280\n",
        "Agent 281\n",
        "Agent 282\n",
        "Agent 283\n",
        "Agent"
       ]
      },
      {
       "output_type": "stream",
       "stream": "stdout",
       "text": [
        " 284\n",
        "Agent 285\n",
        "Agent 286\n",
        "Agent 287\n",
        "Agent 288\n",
        "Agent 289\n",
        "Agent 290\n",
        "Agent 291\n",
        "Agent 292\n",
        "Agent"
       ]
      },
      {
       "output_type": "stream",
       "stream": "stdout",
       "text": [
        " 293\n",
        "Agent 294\n",
        "Agent 295\n",
        "Agent 296\n",
        "Agent 297\n",
        "Agent 298\n",
        "Agent 299\n",
        "Agent"
       ]
      },
      {
       "output_type": "stream",
       "stream": "stdout",
       "text": [
        " 300\n",
        "Agent 301\n",
        "Agent 302\n",
        "Agent 303\n",
        "Agent 304\n",
        "Agent 305\n",
        "Agent 306\n",
        "Agent"
       ]
      },
      {
       "output_type": "stream",
       "stream": "stdout",
       "text": [
        " 307\n",
        "Agent 308\n",
        "Agent 309\n",
        "Agent 310\n",
        "Agent 311\n",
        "Agent"
       ]
      },
      {
       "output_type": "stream",
       "stream": "stdout",
       "text": [
        " 312\n",
        "Agent 313\n",
        "Agent 314\n",
        "Agent 315\n",
        "Agent 316\n",
        "Agent 317\n",
        "Agent 318\n",
        "Agent"
       ]
      },
      {
       "output_type": "stream",
       "stream": "stdout",
       "text": [
        " 319\n",
        "Agent 320\n",
        "Agent 321\n",
        "Agent 322\n",
        "Agent 323\n",
        "Agent 324\n",
        "Agent"
       ]
      },
      {
       "output_type": "stream",
       "stream": "stdout",
       "text": [
        " 325\n",
        "Agent 326\n",
        "Agent 327\n",
        "Agent 328\n",
        "Agent 329\n",
        "Agent 330\n",
        "Agent 331\n",
        "Agent"
       ]
      },
      {
       "output_type": "stream",
       "stream": "stdout",
       "text": [
        " 332\n",
        "Agent 333\n",
        "Agent 334\n",
        "Agent 335\n",
        "Agent 336\n",
        "Agent 337\n",
        "Agent"
       ]
      },
      {
       "output_type": "stream",
       "stream": "stdout",
       "text": [
        " 338\n",
        "Agent 339\n",
        "Agent 340\n",
        "Agent 341\n",
        "Agent 342\n",
        "Agent 343\n",
        "Agent 344\n",
        "Agent 345\n",
        "Agent"
       ]
      },
      {
       "output_type": "stream",
       "stream": "stdout",
       "text": [
        " 346\n",
        "Agent 347\n",
        "Agent 348\n",
        "Agent 349\n",
        "Agent 350\n",
        "Agent 351\n",
        "Agent 352\n",
        "Agent 353\n",
        "Agent"
       ]
      },
      {
       "output_type": "stream",
       "stream": "stdout",
       "text": [
        " 354\n",
        "Agent 355\n",
        "Agent 356\n",
        "Agent 357\n",
        "Agent 358\n",
        "Agent 359\n",
        "Agent 360\n",
        "Agent 361\n",
        "Agent 362\n",
        "Agent"
       ]
      },
      {
       "output_type": "stream",
       "stream": "stdout",
       "text": [
        " 363\n",
        "Agent 364\n",
        "Agent 365\n",
        "Agent 366\n",
        "Agent 367\n",
        "Agent"
       ]
      },
      {
       "output_type": "stream",
       "stream": "stdout",
       "text": [
        " 368\n",
        "Agent 369\n",
        "Agent 370\n",
        "Agent 371\n",
        "Agent 372\n",
        "Agent 373\n",
        "Agent 374\n",
        "Agent"
       ]
      },
      {
       "output_type": "stream",
       "stream": "stdout",
       "text": [
        " 375\n",
        "Agent 376\n",
        "Agent 377\n",
        "Agent 378\n",
        "Agent 379\n",
        "Agent 380\n",
        "Agent 381\n",
        "Agent 382\n",
        "Agent"
       ]
      },
      {
       "output_type": "stream",
       "stream": "stdout",
       "text": [
        " 383\n",
        "Agent 384\n",
        "Agent 385\n",
        "Agent 386\n",
        "Agent 387\n",
        "Agent 388\n",
        "Agent"
       ]
      },
      {
       "output_type": "stream",
       "stream": "stdout",
       "text": [
        " 389\n",
        "Agent 390\n",
        "Agent 391\n",
        "Agent 392\n",
        "Agent 393\n",
        "Agent 394\n",
        "Agent 395\n",
        "Agent"
       ]
      },
      {
       "output_type": "stream",
       "stream": "stdout",
       "text": [
        " 396\n",
        "Agent 397\n",
        "Agent 398\n",
        "Agent 399\n",
        "Agent 400\n",
        "Agent 401\n",
        "Agent 402\n",
        "Agent 403\n",
        "Agent"
       ]
      },
      {
       "output_type": "stream",
       "stream": "stdout",
       "text": [
        " 404\n",
        "Agent 405\n",
        "Agent 406\n",
        "Agent 407\n",
        "Agent 408\n",
        "Agent 409\n",
        "Agent"
       ]
      },
      {
       "output_type": "stream",
       "stream": "stdout",
       "text": [
        " 410\n",
        "Agent 411\n",
        "Agent 412\n",
        "Agent 413\n",
        "Agent 414\n",
        "Agent 415\n",
        "Agent 416\n",
        "Agent"
       ]
      },
      {
       "output_type": "stream",
       "stream": "stdout",
       "text": [
        " 417\n",
        "Agent 418\n",
        "Agent 419\n",
        "Agent 420\n",
        "Agent 421\n",
        "Agent 422\n",
        "Agent"
       ]
      },
      {
       "output_type": "stream",
       "stream": "stdout",
       "text": [
        " 423\n",
        "Agent 424\n",
        "Agent 425\n",
        "Agent 426\n",
        "Agent 427\n",
        "Agent 428\n",
        "Agent"
       ]
      },
      {
       "output_type": "stream",
       "stream": "stdout",
       "text": [
        " 429\n",
        "Agent 430\n",
        "Agent 431\n",
        "Agent 432\n",
        "Agent 433\n",
        "Agent 434\n",
        "Agent 435\n",
        "Agent"
       ]
      },
      {
       "output_type": "stream",
       "stream": "stdout",
       "text": [
        " 436\n",
        "Agent 437\n",
        "Agent 438\n",
        "Agent 439\n",
        "Agent 440\n",
        "Agent 441\n",
        "Agent 442\n",
        "Agent 443\n",
        "Agent"
       ]
      },
      {
       "output_type": "stream",
       "stream": "stdout",
       "text": [
        " 444\n",
        "Agent 445\n",
        "Agent 446\n",
        "Agent 447\n",
        "Agent 448\n",
        "Agent 449\n",
        "Agent"
       ]
      },
      {
       "output_type": "stream",
       "stream": "stdout",
       "text": [
        " 450\n",
        "Agent 451\n",
        "Agent 452\n",
        "Agent 453\n",
        "Agent 454\n",
        "Agent 455\n",
        "Agent"
       ]
      },
      {
       "output_type": "stream",
       "stream": "stdout",
       "text": [
        " 456\n",
        "Agent 457\n",
        "Agent 458\n",
        "Agent 459\n",
        "Agent 460\n",
        "Agent 461\n",
        "Agent 462\n",
        "Agent 463\n",
        "Agent"
       ]
      },
      {
       "output_type": "stream",
       "stream": "stdout",
       "text": [
        " 464\n",
        "Agent 465\n",
        "Agent 466\n",
        "Agent 467\n",
        "Agent 468\n",
        "Agent 469\n",
        "Agent"
       ]
      },
      {
       "output_type": "stream",
       "stream": "stdout",
       "text": [
        " 470\n",
        "Agent 471\n",
        "Agent 472\n",
        "Agent 473\n",
        "Agent 474\n",
        "Agent 475\n",
        "Agent 476\n",
        "Agent 477\n",
        "Agent 478\n",
        "Agent"
       ]
      },
      {
       "output_type": "stream",
       "stream": "stdout",
       "text": [
        " 479\n",
        "Agent 480\n",
        "Agent 481\n",
        "Agent 482\n",
        "Agent 483\n",
        "Agent 484\n",
        "Agent"
       ]
      },
      {
       "output_type": "stream",
       "stream": "stdout",
       "text": [
        " 485\n",
        "Agent 486\n",
        "Agent 487\n",
        "Agent 488\n",
        "Agent 489\n",
        "Agent 490\n",
        "Agent 491\n",
        "Agent 492\n",
        "Agent"
       ]
      },
      {
       "output_type": "stream",
       "stream": "stdout",
       "text": [
        " 493\n",
        "Agent 494\n",
        "Agent 495\n",
        "Agent 496\n",
        "Agent 497\n",
        "Agent 498\n",
        "Agent 499\n",
        "Agent 500\n",
        "Agent"
       ]
      },
      {
       "output_type": "stream",
       "stream": "stdout",
       "text": [
        " 501\n",
        "Agent 502\n",
        "Agent 503\n",
        "Agent 504\n",
        "Agent 505\n",
        "Agent 506\n",
        "Agent 507\n",
        "Agent 508\n",
        "Agent 509\n",
        "Agent"
       ]
      },
      {
       "output_type": "stream",
       "stream": "stdout",
       "text": [
        " 510\n",
        "Agent 511\n",
        "Agent 512\n",
        "Agent 513\n",
        "Agent 514\n",
        "Agent 515\n",
        "Agent 516\n",
        "Agent"
       ]
      },
      {
       "output_type": "stream",
       "stream": "stdout",
       "text": [
        " 517\n",
        "Agent 518\n",
        "Agent 519\n",
        "Agent 520\n",
        "Agent 521\n",
        "Agent 522\n",
        "Agent 523\n",
        "Agent 524\n",
        "Agent 525\n",
        "Agent"
       ]
      },
      {
       "output_type": "stream",
       "stream": "stdout",
       "text": [
        " 526\n",
        "Agent 527\n",
        "Agent 528\n",
        "Agent 529\n",
        "Agent 530\n",
        "Agent 531\n",
        "Agent"
       ]
      },
      {
       "output_type": "stream",
       "stream": "stdout",
       "text": [
        " 532\n",
        "Agent 533\n",
        "Agent 534\n",
        "Agent 535\n",
        "Agent 536\n",
        "Agent 537\n",
        "Agent"
       ]
      },
      {
       "output_type": "stream",
       "stream": "stdout",
       "text": [
        " 538\n",
        "Agent 539\n",
        "Agent 540\n",
        "Agent 541\n",
        "Agent 542\n",
        "Agent 543\n",
        "Agent 544\n",
        "Agent 545\n",
        "Agent"
       ]
      },
      {
       "output_type": "stream",
       "stream": "stdout",
       "text": [
        " 546\n",
        "Agent 547\n",
        "Agent 548\n",
        "Agent 549\n",
        "Agent 550\n",
        "Agent 551\n",
        "Agent 552\n",
        "Agent 553\n",
        "Agent 554\n",
        "Agent"
       ]
      },
      {
       "output_type": "stream",
       "stream": "stdout",
       "text": [
        " 555\n",
        "Agent 556\n",
        "Agent 557\n",
        "Agent 558\n",
        "Agent 559\n",
        "Agent 560\n",
        "Agent 561\n",
        "Agent"
       ]
      },
      {
       "output_type": "stream",
       "stream": "stdout",
       "text": [
        " 562\n",
        "Agent 563\n",
        "Agent 564\n",
        "Agent 565\n",
        "Agent 566\n",
        "Agent 567\n",
        "Agent"
       ]
      },
      {
       "output_type": "stream",
       "stream": "stdout",
       "text": [
        " 568\n",
        "Agent 569\n",
        "Agent 570\n",
        "Agent 571\n",
        "Agent 572\n",
        "Agent 573\n",
        "Agent 574\n",
        "Agent 575\n",
        "Agent"
       ]
      },
      {
       "output_type": "stream",
       "stream": "stdout",
       "text": [
        " 576\n",
        "Agent 577\n",
        "Agent 578\n",
        "Agent 579\n",
        "Agent 580\n",
        "Agent 581\n",
        "Agent 582\n",
        "Agent 583\n",
        "Agent 584\n",
        "Agent"
       ]
      },
      {
       "output_type": "stream",
       "stream": "stdout",
       "text": [
        " 585\n",
        "Agent 586\n",
        "Agent 587\n",
        "Agent 588\n",
        "Agent 589\n",
        "Agent 590\n",
        "Agent"
       ]
      },
      {
       "output_type": "stream",
       "stream": "stdout",
       "text": [
        " 591\n",
        "Agent 592\n",
        "Agent 593\n",
        "Agent 594\n",
        "Agent 595\n",
        "Agent 596\n",
        "Agent 597\n",
        "Agent"
       ]
      },
      {
       "output_type": "stream",
       "stream": "stdout",
       "text": [
        " 598\n",
        "Agent 599\n",
        "Agent 600\n",
        "Agent 601\n",
        "Agent 602\n",
        "Agent 603\n",
        "Agent 604\n",
        "Agent"
       ]
      },
      {
       "output_type": "stream",
       "stream": "stdout",
       "text": [
        " 605\n",
        "Agent 606\n",
        "Agent 607\n",
        "Agent 608\n",
        "Agent 609\n",
        "Agent 610\n",
        "Agent 611\n",
        "Agent"
       ]
      },
      {
       "output_type": "stream",
       "stream": "stdout",
       "text": [
        " 612\n",
        "Agent 613\n",
        "Agent 614\n",
        "Agent 615\n",
        "Agent 616\n",
        "Agent 617\n",
        "Agent 618\n",
        "Agent"
       ]
      },
      {
       "output_type": "stream",
       "stream": "stdout",
       "text": [
        " 619\n",
        "Agent 620\n",
        "Agent 621\n",
        "Agent 622\n",
        "Agent 623\n",
        "Agent 624\n",
        "Agent 625\n",
        "Agent"
       ]
      },
      {
       "output_type": "stream",
       "stream": "stdout",
       "text": [
        " 626\n",
        "Agent 627\n",
        "Agent 628\n",
        "Agent 629\n",
        "Agent 630\n",
        "Agent 631\n",
        "Agent 632\n",
        "Agent 633\n",
        "Agent"
       ]
      },
      {
       "output_type": "stream",
       "stream": "stdout",
       "text": [
        " 634\n",
        "Agent 635\n",
        "Agent 636\n",
        "Agent 637\n",
        "Agent 638\n",
        "Agent 639\n",
        "Agent 640\n",
        "Agent 641\n",
        "Agent"
       ]
      },
      {
       "output_type": "stream",
       "stream": "stdout",
       "text": [
        " 642\n",
        "Agent 643\n",
        "Agent 644\n",
        "Agent 645\n",
        "Agent 646\n",
        "Agent 647\n",
        "Agent 648\n",
        "Agent"
       ]
      },
      {
       "output_type": "stream",
       "stream": "stdout",
       "text": [
        " 649\n",
        "Agent 650\n",
        "Agent 651\n",
        "Agent 652\n",
        "Agent 653\n",
        "Agent 654\n",
        "Agent 655\n",
        "Agent 656\n",
        "Agent"
       ]
      },
      {
       "output_type": "stream",
       "stream": "stdout",
       "text": [
        " 657\n",
        "Agent 658\n",
        "Agent 659\n",
        "Agent 660\n",
        "Agent 661\n",
        "Agent 662\n",
        "Agent 663\n",
        "Agent 664\n",
        "Agent 665\n",
        "Agent 666\n",
        "Agent"
       ]
      },
      {
       "output_type": "stream",
       "stream": "stdout",
       "text": [
        " 667\n",
        "Agent 668\n",
        "Agent 669\n",
        "Agent 670\n",
        "Agent 671\n",
        "Agent 672\n",
        "Agent 673\n",
        "Agent"
       ]
      },
      {
       "output_type": "stream",
       "stream": "stdout",
       "text": [
        " 674\n",
        "Agent 675\n",
        "Agent 676\n",
        "Agent 677\n",
        "Agent 678\n",
        "Agent 679\n",
        "Agent 680\n",
        "Agent"
       ]
      },
      {
       "output_type": "stream",
       "stream": "stdout",
       "text": [
        " 681\n",
        "Agent 682\n",
        "Agent 683\n",
        "Agent 684\n",
        "Agent 685\n",
        "Agent 686\n",
        "Agent 687\n",
        "Agent"
       ]
      },
      {
       "output_type": "stream",
       "stream": "stdout",
       "text": [
        " 688\n",
        "Agent 689\n",
        "Agent 690\n",
        "Agent 691\n",
        "Agent 692\n",
        "Agent 693\n",
        "Agent 694\n",
        "Agent 695\n",
        "Agent 696\n",
        "Agent"
       ]
      },
      {
       "output_type": "stream",
       "stream": "stdout",
       "text": [
        " 697\n",
        "Agent 698\n",
        "Agent 699\n",
        "Agent 700\n",
        "Agent 701\n",
        "Agent 702\n",
        "Agent 703\n",
        "Agent 704\n",
        "Agent 705\n",
        "Agent"
       ]
      },
      {
       "output_type": "stream",
       "stream": "stdout",
       "text": [
        " 706\n",
        "Agent 707\n",
        "Agent 708\n",
        "Agent 709\n",
        "Agent 710\n",
        "Agent 711\n",
        "Agent 712\n",
        "Agent 713\n",
        "Agent"
       ]
      },
      {
       "output_type": "stream",
       "stream": "stdout",
       "text": [
        " 714\n",
        "Agent 715\n",
        "Agent 716\n",
        "Agent 717\n",
        "Agent 718\n",
        "Agent 719\n",
        "Agent 720\n",
        "Agent 721\n",
        "Agent 722\n",
        "Agent 723\n",
        "Agent"
       ]
      },
      {
       "output_type": "stream",
       "stream": "stdout",
       "text": [
        " 724\n",
        "Agent 725\n",
        "Agent 726\n",
        "Agent 727\n",
        "Agent 728\n",
        "Agent 729\n",
        "Agent 730\n",
        "Agent 731\n",
        "Agent 732\n",
        "Agent"
       ]
      },
      {
       "output_type": "stream",
       "stream": "stdout",
       "text": [
        " 733\n",
        "Agent 734\n",
        "Agent 735\n",
        "Agent 736\n",
        "Agent 737\n",
        "Agent 738\n",
        "Agent 739\n",
        "Agent 740\n",
        "Agent 741\n",
        "Agent"
       ]
      },
      {
       "output_type": "stream",
       "stream": "stdout",
       "text": [
        " 742\n",
        "Agent 743\n",
        "Agent 744\n",
        "Agent 745\n",
        "Agent 746\n",
        "Agent 747\n",
        "Agent 748\n",
        "Agent 749\n",
        "Agent 750\n",
        "Agent"
       ]
      },
      {
       "output_type": "stream",
       "stream": "stdout",
       "text": [
        " 751\n",
        "Agent 752\n",
        "Agent 753\n",
        "Agent 754\n",
        "Agent 755\n",
        "Agent 756\n",
        "Agent 757\n",
        "Agent 758\n",
        "Agent 759\n",
        "Agent 760\n",
        "Agent 761\n",
        "Agent 762\n",
        "Agent"
       ]
      },
      {
       "output_type": "stream",
       "stream": "stdout",
       "text": [
        " 763\n",
        "Agent 764\n",
        "Agent 765\n",
        "Agent 766\n",
        "Agent 767\n",
        "Agent 768\n",
        "Agent"
       ]
      },
      {
       "output_type": "stream",
       "stream": "stdout",
       "text": [
        " 769\n",
        "Agent 770\n",
        "Agent 771\n",
        "Agent 772\n",
        "Agent 773\n",
        "Agent 774\n",
        "Agent"
       ]
      },
      {
       "output_type": "stream",
       "stream": "stdout",
       "text": [
        " 775\n",
        "Agent 776\n",
        "Agent 777\n",
        "Agent 778\n",
        "Agent 779\n",
        "Agent 780\n",
        "Agent 781\n",
        "Agent "
       ]
      },
      {
       "output_type": "stream",
       "stream": "stdout",
       "text": [
        "782\n",
        "Agent 783\n",
        "Agent 784\n",
        "Agent 785\n",
        "Agent 786\n",
        "Agent 787\n",
        "Agent 788\n",
        "Agent 789\n",
        "Agent 790\n",
        "Agent"
       ]
      },
      {
       "output_type": "stream",
       "stream": "stdout",
       "text": [
        " 791\n",
        "Agent 792\n",
        "Agent 793\n",
        "Agent 794\n",
        "Agent 795\n",
        "Agent 796\n",
        "Agent 797\n",
        "Agent 798\n",
        "Agent 799\n",
        "Agent"
       ]
      },
      {
       "output_type": "stream",
       "stream": "stdout",
       "text": [
        " 800\n",
        "Agent 801\n",
        "Agent 802\n",
        "Agent 803\n",
        "Agent 804\n",
        "Agent 805\n",
        "Agent 806\n",
        "Agent 807\n",
        "Agent 808\n",
        "Agent 809\n",
        "Agent"
       ]
      },
      {
       "output_type": "stream",
       "stream": "stdout",
       "text": [
        " 810\n",
        "Agent 811\n",
        "Agent 812\n",
        "Agent 813\n",
        "Agent 814\n",
        "Agent 815\n",
        "Agent 816\n",
        "Agent 817\n",
        "Agent"
       ]
      },
      {
       "output_type": "stream",
       "stream": "stdout",
       "text": [
        " 818\n",
        "Agent 819\n",
        "Agent 820\n",
        "Agent 821\n",
        "Agent 822\n",
        "Agent 823\n",
        "Agent 824\n",
        "Agent 825\n",
        "Agent 826\n",
        "Agent"
       ]
      },
      {
       "output_type": "stream",
       "stream": "stdout",
       "text": [
        " 827\n",
        "Agent 828\n",
        "Agent 829\n",
        "Agent 830\n",
        "Agent 831\n",
        "Agent 832\n",
        "Agent 833\n",
        "Agent 834\n",
        "Agent"
       ]
      },
      {
       "output_type": "stream",
       "stream": "stdout",
       "text": [
        " 835\n",
        "Agent 836\n",
        "Agent 837\n",
        "Agent 838\n",
        "Agent 839\n",
        "Agent 840\n",
        "Agent 841\n",
        "Agent 842\n",
        "Agent"
       ]
      },
      {
       "output_type": "stream",
       "stream": "stdout",
       "text": [
        " 843\n",
        "Agent 844\n",
        "Agent 845\n",
        "Agent 846\n",
        "Agent 847\n",
        "Agent 848\n",
        "Agent 849\n",
        "Agent 850\n",
        "Agent 851\n",
        "Agent 852\n",
        "Agent 853\n",
        "Agent 854\n",
        "Agent"
       ]
      },
      {
       "output_type": "stream",
       "stream": "stdout",
       "text": [
        " 855\n",
        "Agent 856\n",
        "Agent 857\n",
        "Agent 858\n",
        "Agent 859\n",
        "Agent 860\n",
        "Agent 861\n",
        "Agent 862\n",
        "Agent 863\n",
        "Agent 864\n",
        "Agent 865\n",
        "Agent"
       ]
      },
      {
       "output_type": "stream",
       "stream": "stdout",
       "text": [
        " 866\n",
        "Agent 867\n",
        "Agent 868\n",
        "Agent 869\n",
        "Agent 870\n",
        "Agent 871\n",
        "Agent 872\n",
        "Agent"
       ]
      },
      {
       "output_type": "stream",
       "stream": "stdout",
       "text": [
        " 873\n",
        "Agent 874\n",
        "Agent 875\n",
        "Agent 876\n",
        "Agent 877\n",
        "Agent 878\n",
        "Agent 879\n",
        "Agent"
       ]
      },
      {
       "output_type": "stream",
       "stream": "stdout",
       "text": [
        " 880\n",
        "Agent 881\n",
        "Agent 882\n",
        "Agent 883\n",
        "Agent 884\n",
        "Agent"
       ]
      },
      {
       "output_type": "stream",
       "stream": "stdout",
       "text": [
        " 885\n",
        "Agent 886\n",
        "Agent 887\n",
        "Agent 888\n",
        "Agent 889\n",
        "Agent 890\n",
        "Agent 891\n",
        "Agent 892\n",
        "Agent"
       ]
      },
      {
       "output_type": "stream",
       "stream": "stdout",
       "text": [
        " 893\n",
        "Agent 894\n",
        "Agent 895\n",
        "Agent 896\n",
        "Agent 897\n",
        "Agent 898\n",
        "Agent 899\n",
        "Agent 900\n",
        "Agent"
       ]
      },
      {
       "output_type": "stream",
       "stream": "stdout",
       "text": [
        " 901\n",
        "Agent 902\n",
        "Agent 903\n",
        "Agent 904\n",
        "Agent 905\n",
        "Agent 906\n",
        "Agent 907\n",
        "Agent"
       ]
      },
      {
       "output_type": "stream",
       "stream": "stdout",
       "text": [
        " 908\n",
        "Agent 909\n",
        "Agent 910\n",
        "Agent 911\n",
        "Agent 912\n",
        "Agent 913\n",
        "Agent 914\n",
        "Agent 915\n",
        "Agent"
       ]
      },
      {
       "output_type": "stream",
       "stream": "stdout",
       "text": [
        " 916\n",
        "Agent 917\n",
        "Agent 918\n",
        "Agent 919\n",
        "Agent 920\n",
        "Agent 921\n",
        "Agent"
       ]
      },
      {
       "output_type": "stream",
       "stream": "stdout",
       "text": [
        " 922\n",
        "Agent 923\n",
        "Agent 924\n",
        "Agent 925\n",
        "Agent 926\n",
        "Agent 927\n",
        "Agent 928\n",
        "Agent"
       ]
      },
      {
       "output_type": "stream",
       "stream": "stdout",
       "text": [
        " 929\n",
        "Agent 930\n",
        "Agent 931\n",
        "Agent 932\n",
        "Agent 933\n",
        "Agent"
       ]
      },
      {
       "output_type": "stream",
       "stream": "stdout",
       "text": [
        " 934\n",
        "Agent 935\n",
        "Agent 936\n",
        "Agent 937\n",
        "Agent 938\n",
        "Agent 939\n",
        "Agent"
       ]
      },
      {
       "output_type": "stream",
       "stream": "stdout",
       "text": [
        " 940\n",
        "Agent 941\n",
        "Agent 942\n",
        "Agent 943\n",
        "Agent 944\n",
        "Agent 945\n",
        "Agent"
       ]
      },
      {
       "output_type": "stream",
       "stream": "stdout",
       "text": [
        " 946\n",
        "Agent 947\n",
        "Agent 948\n",
        "Agent 949\n",
        "Agent 950\n",
        "Agent 951\n",
        "Agent"
       ]
      },
      {
       "output_type": "stream",
       "stream": "stdout",
       "text": [
        " 952\n",
        "Agent 953\n",
        "Agent 954\n",
        "Agent 955\n",
        "Agent 956\n",
        "Agent 957\n",
        "Agent 958\n",
        "Agent 959\n",
        "Agent"
       ]
      },
      {
       "output_type": "stream",
       "stream": "stdout",
       "text": [
        " 960\n",
        "Agent 961\n",
        "Agent 962\n",
        "Agent 963\n",
        "Agent 964\n",
        "Agent 965\n",
        "Agent 966\n",
        "Agent 967\n",
        "Agent"
       ]
      },
      {
       "output_type": "stream",
       "stream": "stdout",
       "text": [
        " 968\n",
        "Agent 969\n",
        "Agent 970\n",
        "Agent 971\n",
        "Agent 972\n",
        "Agent"
       ]
      },
      {
       "output_type": "stream",
       "stream": "stdout",
       "text": [
        " 973\n",
        "Agent 974\n",
        "Agent 975\n",
        "Agent 976\n",
        "Agent 977\n",
        "Agent 978\n",
        "Agent"
       ]
      },
      {
       "output_type": "stream",
       "stream": "stdout",
       "text": [
        " 979\n",
        "Agent 980\n",
        "Agent 981\n",
        "Agent 982\n",
        "Agent 983\n",
        "Agent 984\n",
        "Agent 985\n",
        "Agent"
       ]
      },
      {
       "output_type": "stream",
       "stream": "stdout",
       "text": [
        " 986\n",
        "Agent 987\n",
        "Agent 988\n",
        "Agent 989\n",
        "Agent"
       ]
      },
      {
       "output_type": "stream",
       "stream": "stdout",
       "text": [
        " 990\n",
        "Agent 991\n",
        "Agent 992\n",
        "Agent 993\n",
        "Agent 994\n",
        "Agent"
       ]
      },
      {
       "output_type": "stream",
       "stream": "stdout",
       "text": [
        " 995\n",
        "Agent 996\n",
        "Agent 997\n",
        "Agent 998\n",
        "Agent 999\n"
       ]
      }
     ],
     "prompt_number": 35
    },
    {
     "cell_type": "markdown",
     "metadata": {},
     "source": [
      "Now animate the dots"
     ]
    },
    {
     "cell_type": "code",
     "collapsed": false,
     "input": [
      "\"\"\"\n",
      "Matplotlib Animation Example\n",
      "\n",
      "author: Jake Vanderplas\n",
      "email: vanderplas@astro.washington.edu\n",
      "website: http://jakevdp.github.com\n",
      "license: BSD\n",
      "Please feel free to use and modify this, but keep the above information. Thanks!\n",
      "\"\"\"\n",
      "\n",
      "import numpy as np\n",
      "from matplotlib import animation\n",
      "from scipy.misc import imread\n",
      "\n",
      "datafile = ('map.png')\n",
      "img = imread(datafile)\n",
      "\n",
      "# First set up the figure, the axis, and the plot element we want to animate\n",
      "plt.ion()\n",
      "fig = plt.figure()\n",
      "axs = plt.axes(xlim=(l, r), ylim=(b, t))\n",
      "plt.imshow(img, zorder=0, extent=[l, r, b, t])\n",
      "\n",
      "# Number of frames\n",
      "f = 500\n",
      "\n",
      "# Calculate centre of map and radius\n",
      "C = [(l+r)/2,(t+b)/2]\n",
      "R = max([r-l,t-b])\n",
      "\n",
      "# Speed of agents\n",
      "vel = 100\n",
      "\n",
      "# Tolerance\n",
      "tol = 0.001\n",
      "\n",
      "# Initialise the plots\n",
      "point, = axs.plot([], [], 'r.')  \n",
      "line, = axs.plot([], [], 'g-')  \n",
      "\n",
      "# Evacuation time vs % evacuated\n",
      "EvE=zeros((1,2))\n",
      "\n",
      "# initialization function: plot the background of each frame\n",
      "def init():\n",
      "    return 0,\n",
      "\n",
      "# animation function.  This is called sequentially\n",
      "def animate(i):\n",
      "    global P, A, L, T\n",
      "    \n",
      "    P, A, L, T = update_position(P, A, L, T, vel, i)\n",
      "    \n",
      "    thisNode=AM.row[A[0]]\n",
      "    M=nodelist[path[thisNode],:]\n",
      "\n",
      "    # Update the agent location graph\n",
      "    point.set_data(P[:,0], P[:,1])\n",
      "    line.set_data(M[:,0], M[:,1])\n",
      "\n",
      "    return 0,\n",
      "\n",
      "# call the animator.  blit=True means only re-draw the parts that have changed.\n",
      "anim = animation.FuncAnimation(fig, animate, init_func=init,\n",
      "                               frames=f, interval = 10,blit=False)\n",
      "\n",
      "# save the animation as an mp4.  This requires ffmpeg or mencoder to be\n",
      "# installed.  The extra_args ensure that the x264 codec is used, so that\n",
      "# the video can be embedded in html5.  You may need to adjust this for\n",
      "# your system: for more information, see\n",
      "# http://matplotlib.sourceforge.net/api/animation_api.html\n",
      "anim.save('bristol-minimum-viable.mp4', fps=25, extra_args=['-vcodec', 'libx264'])\n",
      "\n",
      "plt.ioff()\n",
      "plt.close('all')"
     ],
     "language": "python",
     "metadata": {},
     "outputs": [
      {
       "output_type": "stream",
       "stream": "stdout",
       "text": [
        "Timeout 59\n",
        "Timeout"
       ]
      },
      {
       "output_type": "stream",
       "stream": "stdout",
       "text": [
        " 440\n",
        "Timeout"
       ]
      },
      {
       "output_type": "stream",
       "stream": "stdout",
       "text": [
        " 222\n",
        "Timeout"
       ]
      },
      {
       "output_type": "stream",
       "stream": "stdout",
       "text": [
        " 539\n",
        "Timeout"
       ]
      },
      {
       "output_type": "stream",
       "stream": "stdout",
       "text": [
        " 843\n",
        "Timeout"
       ]
      },
      {
       "output_type": "stream",
       "stream": "stdout",
       "text": [
        " 158\n",
        "Timeout 200\n",
        "Timeout"
       ]
      },
      {
       "output_type": "stream",
       "stream": "stdout",
       "text": [
        " 400\n",
        "Timeout"
       ]
      },
      {
       "output_type": "stream",
       "stream": "stdout",
       "text": [
        " 209\n",
        "Timeout"
       ]
      },
      {
       "output_type": "stream",
       "stream": "stdout",
       "text": [
        " 620\n",
        "Timeout 739\n",
        "Timeout"
       ]
      },
      {
       "output_type": "stream",
       "stream": "stdout",
       "text": [
        " 718\n",
        "Timeout"
       ]
      },
      {
       "output_type": "stream",
       "stream": "stdout",
       "text": [
        " 512\n",
        "Timeout"
       ]
      },
      {
       "output_type": "stream",
       "stream": "stdout",
       "text": [
        " 599\n",
        "Timeout 753\n",
        "Timeout"
       ]
      },
      {
       "output_type": "stream",
       "stream": "stdout",
       "text": [
        " 494\n",
        "Timeout 890\n",
        "Timeout"
       ]
      },
      {
       "output_type": "stream",
       "stream": "stdout",
       "text": [
        " 12\n",
        "Timeout"
       ]
      },
      {
       "output_type": "stream",
       "stream": "stdout",
       "text": [
        " 471\n",
        "Timeout"
       ]
      },
      {
       "output_type": "stream",
       "stream": "stdout",
       "text": [
        " 694\n",
        "Timeout"
       ]
      },
      {
       "output_type": "stream",
       "stream": "stdout",
       "text": [
        " 553\n",
        "Timeout 807\n",
        "Timeout"
       ]
      },
      {
       "output_type": "stream",
       "stream": "stdout",
       "text": [
        " 243\n",
        "Timeout 477\n",
        "Timeout"
       ]
      },
      {
       "output_type": "stream",
       "stream": "stdout",
       "text": [
        " 550\n",
        "Timeout"
       ]
      },
      {
       "output_type": "stream",
       "stream": "stdout",
       "text": [
        " 183\n",
        "Timeout"
       ]
      },
      {
       "output_type": "stream",
       "stream": "stdout",
       "text": [
        " 344\n",
        "Timeout"
       ]
      },
      {
       "output_type": "stream",
       "stream": "stdout",
       "text": [
        " 163\n",
        "Timeout 285\n",
        "Timeout"
       ]
      },
      {
       "output_type": "stream",
       "stream": "stdout",
       "text": [
        " 458\n",
        "Timeout"
       ]
      },
      {
       "output_type": "stream",
       "stream": "stdout",
       "text": [
        " 35\n",
        "Timeout 347\n",
        "Timeout 653\n",
        "Timeout"
       ]
      },
      {
       "output_type": "stream",
       "stream": "stdout",
       "text": [
        " 850\n",
        "Timeout"
       ]
      },
      {
       "output_type": "stream",
       "stream": "stdout",
       "text": [
        " 230\n",
        "Timeout"
       ]
      },
      {
       "output_type": "stream",
       "stream": "stdout",
       "text": [
        " 498\n",
        "Timeout 508\n",
        "Timeout 697\n",
        "Timeout"
       ]
      },
      {
       "output_type": "stream",
       "stream": "stdout",
       "text": [
        " 269\n",
        "Timeout 695\n",
        "Timeout"
       ]
      },
      {
       "output_type": "stream",
       "stream": "stdout",
       "text": [
        " 392\n",
        "Timeout"
       ]
      },
      {
       "output_type": "stream",
       "stream": "stdout",
       "text": [
        " 75\n",
        "Timeout 187\n",
        "Timeout"
       ]
      },
      {
       "output_type": "stream",
       "stream": "stdout",
       "text": [
        " 962\n",
        "Timeout"
       ]
      },
      {
       "output_type": "stream",
       "stream": "stdout",
       "text": [
        " 194\n",
        "Timeout"
       ]
      },
      {
       "output_type": "stream",
       "stream": "stdout",
       "text": [
        " 706\n",
        "Timeout"
       ]
      },
      {
       "output_type": "stream",
       "stream": "stdout",
       "text": [
        " 224\n",
        "Timeout"
       ]
      },
      {
       "output_type": "stream",
       "stream": "stdout",
       "text": [
        " 208\n",
        "Timeout"
       ]
      },
      {
       "output_type": "stream",
       "stream": "stdout",
       "text": [
        " 658\n",
        "Timeout 861\n",
        "Timeout"
       ]
      },
      {
       "output_type": "stream",
       "stream": "stdout",
       "text": [
        " 131\n",
        "Timeout"
       ]
      },
      {
       "output_type": "stream",
       "stream": "stdout",
       "text": [
        " 758\n",
        "Timeout"
       ]
      },
      {
       "output_type": "stream",
       "stream": "stdout",
       "text": [
        " 207\n",
        "Timeout 540\n",
        "Timeout 734\n",
        "Timeout"
       ]
      },
      {
       "output_type": "stream",
       "stream": "stdout",
       "text": [
        " 580\n",
        "Timeout 927\n",
        "Timeout"
       ]
      },
      {
       "output_type": "stream",
       "stream": "stdout",
       "text": [
        " 242\n",
        "Timeout"
       ]
      },
      {
       "output_type": "stream",
       "stream": "stdout",
       "text": [
        " 632\n",
        "Timeout"
       ]
      },
      {
       "output_type": "stream",
       "stream": "stdout",
       "text": [
        " 517\n",
        "Timeout 640\n",
        "Timeout"
       ]
      },
      {
       "output_type": "stream",
       "stream": "stdout",
       "text": [
        " 120\n",
        "Timeout 189\n",
        "Timeout"
       ]
      },
      {
       "output_type": "stream",
       "stream": "stdout",
       "text": [
        " 771\n",
        "Timeout"
       ]
      },
      {
       "output_type": "stream",
       "stream": "stdout",
       "text": [
        " 864\n",
        "Timeout 985\n",
        "Timeout"
       ]
      },
      {
       "output_type": "stream",
       "stream": "stdout",
       "text": [
        " 40\n",
        "Timeout 263\n",
        "Timeout"
       ]
      },
      {
       "output_type": "stream",
       "stream": "stdout",
       "text": [
        " 507\n",
        "Timeout"
       ]
      },
      {
       "output_type": "stream",
       "stream": "stdout",
       "text": [
        " 303\n",
        "Timeout"
       ]
      },
      {
       "output_type": "stream",
       "stream": "stdout",
       "text": [
        " 107\n",
        "Timeout"
       ]
      },
      {
       "output_type": "stream",
       "stream": "stdout",
       "text": [
        " 657\n",
        "Timeout"
       ]
      },
      {
       "output_type": "stream",
       "stream": "stdout",
       "text": [
        " 78\n",
        "Timeout 215\n",
        "Timeout"
       ]
      },
      {
       "output_type": "stream",
       "stream": "stdout",
       "text": [
        " 909\n",
        "Timeout"
       ]
      },
      {
       "output_type": "stream",
       "stream": "stdout",
       "text": [
        " 351\n",
        "Timeout 676\n",
        "Timeout"
       ]
      },
      {
       "output_type": "stream",
       "stream": "stdout",
       "text": [
        " 7\n",
        "Timeout"
       ]
      },
      {
       "output_type": "stream",
       "stream": "stdout",
       "text": [
        " 776\n",
        "Timeout"
       ]
      },
      {
       "output_type": "stream",
       "stream": "stdout",
       "text": [
        " 689\n",
        "Timeout 782\n",
        "Timeout"
       ]
      },
      {
       "output_type": "stream",
       "stream": "stdout",
       "text": [
        " 156\n",
        "Timeout 201\n",
        "Timeout 265\n",
        "Timeout 349\n",
        "Timeout"
       ]
      },
      {
       "output_type": "stream",
       "stream": "stdout",
       "text": [
        " 991\n",
        "Timeout"
       ]
      },
      {
       "output_type": "stream",
       "stream": "stdout",
       "text": [
        " 148\n",
        "Timeout 444\n",
        "Timeout"
       ]
      },
      {
       "output_type": "stream",
       "stream": "stdout",
       "text": [
        " 152\n",
        "Timeout"
       ]
      },
      {
       "output_type": "stream",
       "stream": "stdout",
       "text": [
        " 960\n",
        "Timeout"
       ]
      },
      {
       "output_type": "stream",
       "stream": "stdout",
       "text": [
        " 130\n",
        "Timeout 339\n",
        "Timeout 669\n",
        "Timeout"
       ]
      },
      {
       "output_type": "stream",
       "stream": "stdout",
       "text": [
        " 413\n",
        "Timeout"
       ]
      },
      {
       "output_type": "stream",
       "stream": "stdout",
       "text": [
        " 899\n",
        "Timeout"
       ]
      },
      {
       "output_type": "stream",
       "stream": "stdout",
       "text": [
        " 383\n",
        "Timeout"
       ]
      },
      {
       "output_type": "stream",
       "stream": "stdout",
       "text": [
        " 800\n",
        "Timeout"
       ]
      },
      {
       "output_type": "stream",
       "stream": "stdout",
       "text": [
        " 575\n",
        "Timeout 731\n",
        "Timeout 759\n",
        "Timeout 847\n",
        "Timeout"
       ]
      },
      {
       "output_type": "stream",
       "stream": "stdout",
       "text": [
        " 6\n",
        "Timeout 8\n",
        "Timeout 286\n",
        "Timeout"
       ]
      },
      {
       "output_type": "stream",
       "stream": "stdout",
       "text": [
        " 497\n",
        "Timeout 576\n",
        "Timeout"
       ]
      },
      {
       "output_type": "stream",
       "stream": "stdout",
       "text": [
        " 978\n",
        "Timeout"
       ]
      },
      {
       "output_type": "stream",
       "stream": "stdout",
       "text": [
        " 275\n",
        "Timeout"
       ]
      },
      {
       "output_type": "stream",
       "stream": "stdout",
       "text": [
        " 757\n",
        "Timeout"
       ]
      },
      {
       "output_type": "stream",
       "stream": "stdout",
       "text": [
        " 141\n",
        "Timeout 287\n",
        "Timeout"
       ]
      },
      {
       "output_type": "stream",
       "stream": "stdout",
       "text": [
        " 862\n",
        "Timeout 954\n",
        "Timeout"
       ]
      },
      {
       "output_type": "stream",
       "stream": "stdout",
       "text": [
        " 94\n",
        "Timeout 211\n",
        "Timeout 410\n",
        "Timeout"
       ]
      },
      {
       "output_type": "stream",
       "stream": "stdout",
       "text": [
        " 793\n",
        "Timeout"
       ]
      },
      {
       "output_type": "stream",
       "stream": "stdout",
       "text": [
        " 543\n",
        "Timeout"
       ]
      },
      {
       "output_type": "stream",
       "stream": "stdout",
       "text": [
        " 127\n",
        "Timeout 323\n",
        "Timeout 427\n",
        "Timeout 442\n",
        "Timeout 457\n",
        "Timeout"
       ]
      },
      {
       "output_type": "stream",
       "stream": "stdout",
       "text": [
        " 681\n",
        "Timeout"
       ]
      },
      {
       "output_type": "stream",
       "stream": "stdout",
       "text": [
        " 58\n",
        "Timeout 356\n",
        "Timeout 462\n",
        "Timeout 605\n",
        "Timeout"
       ]
      },
      {
       "output_type": "stream",
       "stream": "stdout",
       "text": [
        " 735\n",
        "Timeout 902\n",
        "Timeout"
       ]
      },
      {
       "output_type": "stream",
       "stream": "stdout",
       "text": [
        " 153\n",
        "Timeout 403\n",
        "Timeout 474\n",
        "Timeout"
       ]
      },
      {
       "output_type": "stream",
       "stream": "stdout",
       "text": [
        " 854\n",
        "Timeout"
       ]
      },
      {
       "output_type": "stream",
       "stream": "stdout",
       "text": [
        " 379\n",
        "Timeout 429\n",
        "Timeout 523\n",
        "Timeout 627\n",
        "Timeout 760\n",
        "Timeout 805\n",
        "Timeout 826\n",
        "Timeout 873\n",
        "Timeout"
       ]
      },
      {
       "output_type": "stream",
       "stream": "stdout",
       "text": [
        " 125\n",
        "Timeout 314\n",
        "Timeout 329\n",
        "Timeout"
       ]
      },
      {
       "output_type": "stream",
       "stream": "stdout",
       "text": [
        " 84\n",
        "Timeout 372\n",
        "Timeout 405\n",
        "Timeout"
       ]
      },
      {
       "output_type": "stream",
       "stream": "stdout",
       "text": [
        " 788\n",
        "Timeout 831\n",
        "Timeout 844\n",
        "Timeout"
       ]
      },
      {
       "output_type": "stream",
       "stream": "stdout",
       "text": [
        " 30\n",
        "Timeout"
       ]
      },
      {
       "output_type": "stream",
       "stream": "stdout",
       "text": [
        " 728\n",
        "Timeout"
       ]
      },
      {
       "output_type": "stream",
       "stream": "stdout",
       "text": [
        " 46\n",
        "Timeout 77\n",
        "Timeout"
       ]
      },
      {
       "output_type": "stream",
       "stream": "stdout",
       "text": [
        " 784\n",
        "Timeout"
       ]
      },
      {
       "output_type": "stream",
       "stream": "stdout",
       "text": [
        " 72\n",
        "Timeout 100\n",
        "Timeout 138\n",
        "Timeout 348\n",
        "Timeout 652\n",
        "Timeout 662\n",
        "Timeout 712\n",
        "Timeout 747\n",
        "Timeout"
       ]
      },
      {
       "output_type": "stream",
       "stream": "stdout",
       "text": [
        " 818\n",
        "Timeout 888\n",
        "Timeout 942\n",
        "Timeout"
       ]
      },
      {
       "output_type": "stream",
       "stream": "stdout",
       "text": [
        " 132\n",
        "Timeout"
       ]
      },
      {
       "output_type": "stream",
       "stream": "stdout",
       "text": [
        " 81\n",
        "Timeout 238\n",
        "Timeout 359\n",
        "Timeout"
       ]
      },
      {
       "output_type": "stream",
       "stream": "stdout",
       "text": [
        " 105\n",
        "Timeout 155\n",
        "Timeout 219\n",
        "Timeout 355\n",
        "Timeout 536\n",
        "Timeout"
       ]
      },
      {
       "output_type": "stream",
       "stream": "stdout",
       "text": [
        " 690\n",
        "Timeout"
       ]
      },
      {
       "output_type": "stream",
       "stream": "stdout",
       "text": [
        " 352\n",
        "Timeout"
       ]
      },
      {
       "output_type": "stream",
       "stream": "stdout",
       "text": [
        " 13\n",
        "Timeout 246\n",
        "Timeout"
       ]
      },
      {
       "output_type": "stream",
       "stream": "stdout",
       "text": [
        " 545\n",
        "Timeout 574\n",
        "Timeout"
       ]
      },
      {
       "output_type": "stream",
       "stream": "stdout",
       "text": [
        " 341\n",
        "Timeout 501\n",
        "Timeout 629\n",
        "Timeout"
       ]
      },
      {
       "output_type": "stream",
       "stream": "stdout",
       "text": [
        " 55\n",
        "Timeout 166\n",
        "Timeout"
       ]
      },
      {
       "output_type": "stream",
       "stream": "stdout",
       "text": [
        " 401\n",
        "Timeout 436\n",
        "Timeout 557\n",
        "Timeout 750\n",
        "Timeout 813\n",
        "Timeout 814\n",
        "Timeout 851\n",
        "Timeout"
       ]
      },
      {
       "output_type": "stream",
       "stream": "stdout",
       "text": [
        " 360\n",
        "Timeout"
       ]
      },
      {
       "output_type": "stream",
       "stream": "stdout",
       "text": [
        " 24\n",
        "Timeout 249\n",
        "Timeout 295\n",
        "Timeout 380\n",
        "Timeout 639\n",
        "Timeout 803\n",
        "Timeout"
       ]
      },
      {
       "output_type": "stream",
       "stream": "stdout",
       "text": [
        " 983\n",
        "Timeout"
       ]
      },
      {
       "output_type": "stream",
       "stream": "stdout",
       "text": [
        " 137\n",
        "Timeout 645\n",
        "Timeout 675\n",
        "Timeout"
       ]
      },
      {
       "output_type": "stream",
       "stream": "stdout",
       "text": [
        " 860\n",
        "Timeout"
       ]
      },
      {
       "output_type": "stream",
       "stream": "stdout",
       "text": [
        " 143\n",
        "Timeout 736\n",
        "Timeout"
       ]
      },
      {
       "output_type": "stream",
       "stream": "stdout",
       "text": [
        " 45\n",
        "Timeout 76\n",
        "Timeout 108\n",
        "Timeout 375\n",
        "Timeout 376\n",
        "Timeout"
       ]
      },
      {
       "output_type": "stream",
       "stream": "stdout",
       "text": [
        " 998\n",
        "Timeout"
       ]
      },
      {
       "output_type": "stream",
       "stream": "stdout",
       "text": [
        " 290\n",
        "Timeout 313\n",
        "Timeout 417\n",
        "Timeout"
       ]
      },
      {
       "output_type": "stream",
       "stream": "stdout",
       "text": [
        " 301\n",
        "Timeout 624\n",
        "Timeout 905\n",
        "Timeout"
       ]
      },
      {
       "output_type": "stream",
       "stream": "stdout",
       "text": [
        " 950\n",
        "Timeout"
       ]
      },
      {
       "output_type": "stream",
       "stream": "stdout",
       "text": [
        " 181\n",
        "Timeout 237\n",
        "Timeout 374\n",
        "Timeout 502\n",
        "Timeout"
       ]
      },
      {
       "output_type": "stream",
       "stream": "stdout",
       "text": [
        " 923\n",
        "Timeout"
       ]
      },
      {
       "output_type": "stream",
       "stream": "stdout",
       "text": [
        " 430\n",
        "Timeout 725\n",
        "Timeout"
       ]
      },
      {
       "output_type": "stream",
       "stream": "stdout",
       "text": [
        " 173\n",
        "Timeout"
       ]
      },
      {
       "output_type": "stream",
       "stream": "stdout",
       "text": [
        " 36\n",
        "Timeout 89\n",
        "Timeout 489\n",
        "Timeout 513\n",
        "Timeout 684\n",
        "Timeout"
       ]
      },
      {
       "output_type": "stream",
       "stream": "stdout",
       "text": [
        " 21\n",
        "Timeout 57\n",
        "Timeout 85\n",
        "Timeout 139\n",
        "Timeout 514\n",
        "Timeout"
       ]
      },
      {
       "output_type": "stream",
       "stream": "stdout",
       "text": [
        " 765\n",
        "Timeout 817\n",
        "Timeout"
       ]
      },
      {
       "output_type": "stream",
       "stream": "stdout",
       "text": [
        " 521\n",
        "Timeout 582\n",
        "Timeout 787\n",
        "Timeout 806\n",
        "Timeout 809\n",
        "Timeout 955\n",
        "Timeout"
       ]
      },
      {
       "output_type": "stream",
       "stream": "stdout",
       "text": [
        " 748\n",
        "Timeout 772\n",
        "Timeout 783\n",
        "Timeout 822\n",
        "Timeout 990\n",
        "Timeout"
       ]
      },
      {
       "output_type": "stream",
       "stream": "stdout",
       "text": [
        " 16\n",
        "Timeout 103\n",
        "Timeout 214\n",
        "Timeout 239\n",
        "Timeout"
       ]
      },
      {
       "output_type": "stream",
       "stream": "stdout",
       "text": [
        " 579\n",
        "Timeout 661\n",
        "Timeout 869\n",
        "Timeout"
       ]
      },
      {
       "output_type": "stream",
       "stream": "stdout",
       "text": [
        " 460\n",
        "Timeout 524\n",
        "Timeout 560\n",
        "Timeout 596\n",
        "Timeout 633\n",
        "Timeout"
       ]
      },
      {
       "output_type": "stream",
       "stream": "stdout",
       "text": [
        " 22\n",
        "Timeout 106\n",
        "Timeout 470\n",
        "Timeout 672\n",
        "Timeout"
       ]
      },
      {
       "output_type": "stream",
       "stream": "stdout",
       "text": [
        " 773\n",
        "Timeout"
       ]
      },
      {
       "output_type": "stream",
       "stream": "stdout",
       "text": [
        " 95\n",
        "Timeout 147\n",
        "Timeout 397\n",
        "Timeout 733\n",
        "Timeout"
       ]
      },
      {
       "output_type": "stream",
       "stream": "stdout",
       "text": [
        " 87\n",
        "Timeout 468\n",
        "Timeout"
       ]
      },
      {
       "output_type": "stream",
       "stream": "stdout",
       "text": [
        " 791\n",
        "Timeout 853\n",
        "Timeout 870\n",
        "Timeout"
       ]
      },
      {
       "output_type": "stream",
       "stream": "stdout",
       "text": [
        " 366\n",
        "Timeout 488\n",
        "Timeout 732\n",
        "Timeout 775\n",
        "Timeout"
       ]
      },
      {
       "output_type": "stream",
       "stream": "stdout",
       "text": [
        " 247\n",
        "Timeout 486\n",
        "Timeout"
       ]
      },
      {
       "output_type": "stream",
       "stream": "stdout",
       "text": [
        " 643\n",
        "Timeout"
       ]
      },
      {
       "output_type": "stream",
       "stream": "stdout",
       "text": [
        " 411\n",
        "Timeout 551\n",
        "Timeout"
       ]
      },
      {
       "output_type": "stream",
       "stream": "stdout",
       "text": [
        " 83\n",
        "Timeout 297\n",
        "Timeout"
       ]
      },
      {
       "output_type": "stream",
       "stream": "stdout",
       "text": [
        " 393\n",
        "Timeout"
       ]
      },
      {
       "output_type": "stream",
       "stream": "stdout",
       "text": [
        " 195\n",
        "Timeout 554\n",
        "Timeout 858\n",
        "Timeout 892\n",
        "Timeout"
       ]
      },
      {
       "output_type": "stream",
       "stream": "stdout",
       "text": [
        " 38\n",
        "Timeout 232\n",
        "Timeout 235\n",
        "Timeout 456\n",
        "Timeout 493\n",
        "Timeout 520\n",
        "Timeout 637\n",
        "Timeout"
       ]
      },
      {
       "output_type": "stream",
       "stream": "stdout",
       "text": [
        " 863\n",
        "Timeout"
       ]
      },
      {
       "output_type": "stream",
       "stream": "stdout",
       "text": [
        " 4\n",
        "Timeout 279\n",
        "Timeout 598\n",
        "Timeout"
       ]
      },
      {
       "output_type": "stream",
       "stream": "stdout",
       "text": [
        " 179\n",
        "Timeout"
       ]
      },
      {
       "output_type": "stream",
       "stream": "stdout",
       "text": [
        " 270\n",
        "Timeout 602\n",
        "Timeout 647\n",
        "Timeout 867\n",
        "Timeout"
       ]
      },
      {
       "output_type": "stream",
       "stream": "stdout",
       "text": [
        " 463\n",
        "Timeout 559\n",
        "Timeout 982\n",
        "Timeout"
       ]
      },
      {
       "output_type": "stream",
       "stream": "stdout",
       "text": [
        " 284\n",
        "Timeout 294\n",
        "Timeout 388\n",
        "Timeout 434\n",
        "Timeout 786\n",
        "Timeout 859\n",
        "Timeout"
       ]
      },
      {
       "output_type": "stream",
       "stream": "stdout",
       "text": [
        " 288\n",
        "Timeout"
       ]
      },
      {
       "output_type": "stream",
       "stream": "stdout",
       "text": [
        " 335\n",
        "Timeout 722\n",
        "Timeout 893\n",
        "Timeout"
       ]
      },
      {
       "output_type": "stream",
       "stream": "stdout",
       "text": [
        " 135\n",
        "Timeout 154\n",
        "Timeout 338\n",
        "Timeout 810\n",
        "Timeout 811\n",
        "Timeout"
       ]
      },
      {
       "output_type": "stream",
       "stream": "stdout",
       "text": [
        " 26\n",
        "Timeout 663\n",
        "Timeout"
       ]
      },
      {
       "output_type": "stream",
       "stream": "stdout",
       "text": [
        " 50\n",
        "Timeout 416\n",
        "Timeout 802\n",
        "Timeout"
       ]
      },
      {
       "output_type": "stream",
       "stream": "stdout",
       "text": [
        " 43\n",
        "Timeout 206\n",
        "Timeout 437\n",
        "Timeout 659\n",
        "Timeout"
       ]
      },
      {
       "output_type": "stream",
       "stream": "stdout",
       "text": [
        " 852\n",
        "Timeout"
       ]
      },
      {
       "output_type": "stream",
       "stream": "stdout",
       "text": [
        " 196\n",
        "Timeout 324\n",
        "Timeout 794\n",
        "Timeout"
       ]
      },
      {
       "output_type": "stream",
       "stream": "stdout",
       "text": [
        " 102\n",
        "Timeout 273\n",
        "Timeout 438\n",
        "Timeout 499\n",
        "Timeout 865\n",
        "Timeout 901\n",
        "Timeout"
       ]
      },
      {
       "output_type": "stream",
       "stream": "stdout",
       "text": [
        " 169\n",
        "Timeout 541\n",
        "Timeout"
       ]
      },
      {
       "output_type": "stream",
       "stream": "stdout",
       "text": [
        " 144\n",
        "Timeout 332\n",
        "Timeout 426\n",
        "Timeout 490\n",
        "Timeout"
       ]
      },
      {
       "output_type": "stream",
       "stream": "stdout",
       "text": [
        " 930\n",
        "Timeout 952\n",
        "Timeout"
       ]
      },
      {
       "output_type": "stream",
       "stream": "stdout",
       "text": [
        " 172\n",
        "Timeout 451\n",
        "Timeout 597\n",
        "Timeout 741\n",
        "Timeout"
       ]
      },
      {
       "output_type": "stream",
       "stream": "stdout",
       "text": [
        " 65\n",
        "Timeout 328\n",
        "Timeout 358\n",
        "Timeout 716\n",
        "Timeout"
       ]
      },
      {
       "output_type": "stream",
       "stream": "stdout",
       "text": [
        " 904\n",
        "Timeout"
       ]
      },
      {
       "output_type": "stream",
       "stream": "stdout",
       "text": [
        " 116\n",
        "Timeout 210\n",
        "Timeout 302\n",
        "Timeout 849\n",
        "Timeout"
       ]
      },
      {
       "output_type": "stream",
       "stream": "stdout",
       "text": [
        " 743\n",
        "Timeout 754\n",
        "Timeout"
       ]
      },
      {
       "output_type": "stream",
       "stream": "stdout",
       "text": [
        " 229\n",
        "Timeout 336\n",
        "Timeout 473\n",
        "Timeout 674\n",
        "Timeout 936\n",
        "Timeout"
       ]
      },
      {
       "output_type": "stream",
       "stream": "stdout",
       "text": [
        " 39\n",
        "Timeout 289\n",
        "Timeout 424\n",
        "Timeout"
       ]
      },
      {
       "output_type": "stream",
       "stream": "stdout",
       "text": [
        " 612\n",
        "Timeout 678\n",
        "Timeout 723\n",
        "Timeout"
       ]
      },
      {
       "output_type": "stream",
       "stream": "stdout",
       "text": [
        " 1\n",
        "Timeout 11\n",
        "Timeout 20\n",
        "Timeout 354\n",
        "Timeout 495\n",
        "Timeout 510\n",
        "Timeout 527\n",
        "Timeout 577\n",
        "Timeout 607\n",
        "Timeout 749\n",
        "Timeout 880\n",
        "Timeout 916\n",
        "Timeout"
       ]
      },
      {
       "output_type": "stream",
       "stream": "stdout",
       "text": [
        " 115\n",
        "Timeout 151\n",
        "Timeout 157\n",
        "Timeout 160\n",
        "Timeout 300\n",
        "Timeout 418\n",
        "Timeout 447\n",
        "Timeout"
       ]
      },
      {
       "output_type": "stream",
       "stream": "stdout",
       "text": [
        " 828\n",
        "Timeout 855\n",
        "Timeout"
       ]
      },
      {
       "output_type": "stream",
       "stream": "stdout",
       "text": [
        " 34\n",
        "Timeout 162\n",
        "Timeout 218\n",
        "Timeout 241\n",
        "Timeout 522\n",
        "Timeout 837\n",
        "Timeout 891\n",
        "Timeout"
       ]
      },
      {
       "output_type": "stream",
       "stream": "stdout",
       "text": [
        " 161\n",
        "Timeout 271\n",
        "Timeout 370\n",
        "Timeout"
       ]
      },
      {
       "output_type": "stream",
       "stream": "stdout",
       "text": [
        " 720\n",
        "Timeout"
       ]
      },
      {
       "output_type": "stream",
       "stream": "stdout",
       "text": [
        " 27\n",
        "Timeout 581\n",
        "Timeout 636\n",
        "Timeout 699\n",
        "Timeout 727\n",
        "Timeout 915\n",
        "Timeout"
       ]
      },
      {
       "output_type": "stream",
       "stream": "stdout",
       "text": [
        " 330\n",
        "Timeout 487\n",
        "Timeout 973\n",
        "Timeout"
       ]
      },
      {
       "output_type": "stream",
       "stream": "stdout",
       "text": [
        " 227\n",
        "Timeout 485\n",
        "Timeout 628\n",
        "Timeout 683\n",
        "Timeout 848\n",
        "Timeout 951\n",
        "Timeout"
       ]
      },
      {
       "output_type": "stream",
       "stream": "stdout",
       "text": [
        " 15\n",
        "Timeout 216\n",
        "Timeout 478\n",
        "Timeout 742\n",
        "Timeout 780\n",
        "Timeout"
       ]
      },
      {
       "output_type": "stream",
       "stream": "stdout",
       "text": [
        " 272\n",
        "Timeout 630\n",
        "Timeout 642\n",
        "Timeout 717\n",
        "Timeout"
       ]
      },
      {
       "output_type": "stream",
       "stream": "stdout",
       "text": [
        " 204\n",
        "Timeout 317\n",
        "Timeout 423\n",
        "Timeout 590\n",
        "Timeout 777\n",
        "Timeout"
       ]
      },
      {
       "output_type": "stream",
       "stream": "stdout",
       "text": [
        " 315\n",
        "Timeout 340\n",
        "Timeout 808\n",
        "Timeout 917\n",
        "Timeout"
       ]
      },
      {
       "output_type": "stream",
       "stream": "stdout",
       "text": [
        " 41\n",
        "Timeout 255\n",
        "Timeout 319\n",
        "Timeout 386\n",
        "Timeout 415\n",
        "Timeout 585\n",
        "Timeout 608\n",
        "Timeout 664\n",
        "Timeout 755\n",
        "Timeout 876\n",
        "Timeout"
       ]
      },
      {
       "output_type": "stream",
       "stream": "stdout",
       "text": [
        " 937\n",
        "Timeout"
       ]
      },
      {
       "output_type": "stream",
       "stream": "stdout",
       "text": [
        " 29\n",
        "Timeout 254\n",
        "Timeout 305\n",
        "Timeout 610\n",
        "Timeout 668\n",
        "Timeout 729\n",
        "Timeout"
       ]
      },
      {
       "output_type": "stream",
       "stream": "stdout",
       "text": [
        " 123\n",
        "Timeout 221\n",
        "Timeout 320\n",
        "Timeout 399\n",
        "Timeout 583\n",
        "Timeout 671\n",
        "Timeout 911\n",
        "Timeout"
       ]
      },
      {
       "output_type": "stream",
       "stream": "stdout",
       "text": [
        " 56\n",
        "Timeout 419\n",
        "Timeout 433\n",
        "Timeout 619\n",
        "Timeout 634\n",
        "Timeout 698\n",
        "Timeout"
       ]
      },
      {
       "output_type": "stream",
       "stream": "stdout",
       "text": [
        " 170\n",
        "Timeout 594\n",
        "Timeout 940\n",
        "Timeout 997\n",
        "Timeout"
       ]
      },
      {
       "output_type": "stream",
       "stream": "stdout",
       "text": [
        " 14\n",
        "Timeout 118\n",
        "Timeout 274\n",
        "Timeout 562\n",
        "Timeout 687\n",
        "Timeout 711\n",
        "Timeout"
       ]
      },
      {
       "output_type": "stream",
       "stream": "stdout",
       "text": [
        " 944\n",
        "Timeout"
       ]
      },
      {
       "output_type": "stream",
       "stream": "stdout",
       "text": [
        " 240\n",
        "Timeout 385\n",
        "Timeout 515\n",
        "Timeout 616\n",
        "Timeout 696\n",
        "Timeout 894\n",
        "Timeout 971\n",
        "Timeout"
       ]
      },
      {
       "output_type": "stream",
       "stream": "stdout",
       "text": [
        " 291\n",
        "Timeout 422\n",
        "Timeout 714\n",
        "Timeout 885\n",
        "Timeout 928\n",
        "Timeout"
       ]
      },
      {
       "output_type": "stream",
       "stream": "stdout",
       "text": [
        " 2\n",
        "Timeout 112\n",
        "Timeout 113\n",
        "Timeout 588\n",
        "Timeout 595\n",
        "Timeout 977\n",
        "Timeout 987\n",
        "Timeout"
       ]
      },
      {
       "output_type": "stream",
       "stream": "stdout",
       "text": [
        " 63\n",
        "Timeout 455\n",
        "Timeout 547\n",
        "Timeout 611\n",
        "Timeout 957\n",
        "Timeout 984\n",
        "Timeout"
       ]
      },
      {
       "output_type": "stream",
       "stream": "stdout",
       "text": [
        " 48\n",
        "Timeout 134\n",
        "Timeout 225\n",
        "Timeout 570\n",
        "Timeout"
       ]
      },
      {
       "output_type": "stream",
       "stream": "stdout",
       "text": [
        " 10\n",
        "Timeout 142\n",
        "Timeout 168\n",
        "Timeout 518\n",
        "Timeout 823\n",
        "Timeout"
       ]
      },
      {
       "output_type": "stream",
       "stream": "stdout",
       "text": [
        " 872\n",
        "Timeout"
       ]
      },
      {
       "output_type": "stream",
       "stream": "stdout",
       "text": [
        " 91\n",
        "Timeout 453\n",
        "Timeout 475\n",
        "Timeout 680\n",
        "Timeout 830\n",
        "Timeout 841\n",
        "Timeout"
       ]
      },
      {
       "output_type": "stream",
       "stream": "stdout",
       "text": [
        " 99\n",
        "Timeout 122\n",
        "Timeout 176\n",
        "Timeout 212\n",
        "Timeout 389\n",
        "Timeout 446\n",
        "Timeout 454\n",
        "Timeout 535\n",
        "Timeout 565\n",
        "Timeout 641\n",
        "Timeout 756\n",
        "Timeout"
       ]
      },
      {
       "output_type": "stream",
       "stream": "stdout",
       "text": [
        " 70\n",
        "Timeout 177\n",
        "Timeout 326\n",
        "Timeout 958\n",
        "Timeout"
       ]
      },
      {
       "output_type": "stream",
       "stream": "stdout",
       "text": [
        " 164\n",
        "Timeout 245\n",
        "Timeout 251\n",
        "Timeout 296\n",
        "Timeout 421\n",
        "Timeout 546\n",
        "Timeout 548\n",
        "Timeout 691\n",
        "Timeout"
       ]
      },
      {
       "output_type": "stream",
       "stream": "stdout",
       "text": [
        " 28\n",
        "Timeout 325\n",
        "Timeout 538\n",
        "Timeout 763\n",
        "Timeout 797\n",
        "Timeout 840\n",
        "Timeout"
       ]
      },
      {
       "output_type": "stream",
       "stream": "stdout",
       "text": [
        " 199\n",
        "Timeout 369\n",
        "Timeout 377\n",
        "Timeout 746\n",
        "Timeout 832\n",
        "Timeout 842\n",
        "Timeout 857\n",
        "Timeout 866\n",
        "Timeout"
       ]
      },
      {
       "output_type": "stream",
       "stream": "stdout",
       "text": [
        " 69\n",
        "Timeout 981\n",
        "Timeout"
       ]
      },
      {
       "output_type": "stream",
       "stream": "stdout",
       "text": [
        " 361\n",
        "Timeout 431\n",
        "Timeout 479\n",
        "Timeout 505\n",
        "Timeout 617\n",
        "Timeout 804\n",
        "Timeout"
       ]
      },
      {
       "output_type": "stream",
       "stream": "stdout",
       "text": [
        " 92\n",
        "Timeout 331\n",
        "Timeout 382\n",
        "Timeout 591\n",
        "Timeout 790\n",
        "Timeout"
       ]
      },
      {
       "output_type": "stream",
       "stream": "stdout",
       "text": [
        " 5\n",
        "Timeout 67\n",
        "Timeout 660\n",
        "Timeout 816\n",
        "Timeout 889\n",
        "Timeout"
       ]
      },
      {
       "output_type": "stream",
       "stream": "stdout",
       "text": [
        " 197\n",
        "Timeout 262\n",
        "Timeout 526\n",
        "Timeout 529\n",
        "Timeout"
       ]
      },
      {
       "output_type": "stream",
       "stream": "stdout",
       "text": [
        " 111\n",
        "Timeout 192\n",
        "Timeout 409\n",
        "Timeout 476\n",
        "Timeout 491\n",
        "Timeout 500\n",
        "Timeout 874\n",
        "Timeout"
       ]
      },
      {
       "output_type": "stream",
       "stream": "stdout",
       "text": [
        " 97\n",
        "Timeout 738\n",
        "Timeout"
       ]
      },
      {
       "output_type": "stream",
       "stream": "stdout",
       "text": [
        " 119\n",
        "Timeout 280\n",
        "Timeout 564\n",
        "Timeout 673\n",
        "Timeout"
       ]
      },
      {
       "output_type": "stream",
       "stream": "stdout",
       "text": [
        " 378\n",
        "Timeout 649\n",
        "Timeout"
       ]
      },
      {
       "output_type": "stream",
       "stream": "stdout",
       "text": [
        " 322\n",
        "Timeout 721\n",
        "Timeout 974\n",
        "Timeout"
       ]
      },
      {
       "output_type": "stream",
       "stream": "stdout",
       "text": [
        " 414\n",
        "Timeout 945\n",
        "Timeout"
       ]
      },
      {
       "output_type": "stream",
       "stream": "stdout",
       "text": [
        " 396\n",
        "Timeout 586\n",
        "Timeout 752\n",
        "Timeout 896\n",
        "Timeout 908\n",
        "Timeout 924\n",
        "Timeout"
       ]
      },
      {
       "output_type": "stream",
       "stream": "stdout",
       "text": [
        " 188\n",
        "Timeout 450\n",
        "Timeout 825\n",
        "Timeout"
       ]
      },
      {
       "output_type": "stream",
       "stream": "stdout",
       "text": [
        " 910\n",
        "Timeout"
       ]
      },
      {
       "output_type": "stream",
       "stream": "stdout",
       "text": [
        " 140\n",
        "Timeout 174\n",
        "Timeout 175\n",
        "Timeout 789\n",
        "Timeout 897\n",
        "Timeout"
       ]
      },
      {
       "output_type": "stream",
       "stream": "stdout",
       "text": [
        " 461\n",
        "Timeout"
       ]
      },
      {
       "output_type": "stream",
       "stream": "stdout",
       "text": [
        " 283\n",
        "Timeout 311\n",
        "Timeout 439\n",
        "Timeout 469\n",
        "Timeout 496\n",
        "Timeout 769\n",
        "Timeout 996\n",
        "Timeout"
       ]
      },
      {
       "output_type": "stream",
       "stream": "stdout",
       "text": [
        " 51\n",
        "Timeout 528\n",
        "Timeout 820\n",
        "Timeout"
       ]
      },
      {
       "output_type": "stream",
       "stream": "stdout",
       "text": [
        " 64\n",
        "Timeout 250\n",
        "Timeout 327\n",
        "Timeout 398\n",
        "Timeout 509\n",
        "Timeout 587\n",
        "Timeout"
       ]
      },
      {
       "output_type": "stream",
       "stream": "stdout",
       "text": [
        " 0\n",
        "Timeout 278\n",
        "Timeout 408\n",
        "Timeout 656\n",
        "Timeout 707\n",
        "Timeout"
       ]
      },
      {
       "output_type": "stream",
       "stream": "stdout",
       "text": [
        " 49\n",
        "Timeout 60\n",
        "Timeout 213\n",
        "Timeout 312\n",
        "Timeout 589\n",
        "Timeout"
       ]
      },
      {
       "output_type": "stream",
       "stream": "stdout",
       "text": [
        " 96\n",
        "Timeout 167\n",
        "Timeout 205\n",
        "Timeout 381\n",
        "Timeout 827\n",
        "Timeout"
       ]
      },
      {
       "output_type": "stream",
       "stream": "stdout",
       "text": [
        " 19\n",
        "Timeout 121\n",
        "Timeout 573\n",
        "Timeout 781\n",
        "Timeout 914\n",
        "Timeout"
       ]
      },
      {
       "output_type": "stream",
       "stream": "stdout",
       "text": [
        " 387\n",
        "Timeout 472\n",
        "Timeout 601\n",
        "Timeout 745\n",
        "Timeout"
       ]
      },
      {
       "output_type": "stream",
       "stream": "stdout",
       "text": [
        " 71\n",
        "Timeout 203\n",
        "Timeout 655\n",
        "Timeout"
       ]
      },
      {
       "output_type": "stream",
       "stream": "stdout",
       "text": [
        " 555\n",
        "Timeout 569\n",
        "Timeout 677\n",
        "Timeout 953\n",
        "Timeout 959\n",
        "Timeout"
       ]
      },
      {
       "output_type": "stream",
       "stream": "stdout",
       "text": [
        " 223\n",
        "Timeout 248\n",
        "Timeout 571\n",
        "Timeout 613\n",
        "Timeout 631\n",
        "Timeout 635\n",
        "Timeout 884\n",
        "Timeout"
       ]
      },
      {
       "output_type": "stream",
       "stream": "stdout",
       "text": [
        " 80\n",
        "Timeout 568\n",
        "Timeout 650\n",
        "Timeout 667\n",
        "Timeout 701\n",
        "Timeout 708\n",
        "Timeout 737\n",
        "Timeout 895\n",
        "Timeout 976\n",
        "Timeout"
       ]
      },
      {
       "output_type": "stream",
       "stream": "stdout",
       "text": [
        " 542\n",
        "Timeout 710\n",
        "Timeout 724\n",
        "Timeout 785\n",
        "Timeout"
       ]
      },
      {
       "output_type": "stream",
       "stream": "stdout",
       "text": [
        " 79\n",
        "Timeout 395\n",
        "Timeout 404\n",
        "Timeout 713\n",
        "Timeout"
       ]
      },
      {
       "output_type": "stream",
       "stream": "stdout",
       "text": [
        " 133\n",
        "Timeout 159\n",
        "Timeout 266\n",
        "Timeout 443\n",
        "Timeout 552\n",
        "Timeout 875\n",
        "Timeout"
       ]
      },
      {
       "output_type": "stream",
       "stream": "stdout",
       "text": [
        " 126\n",
        "Timeout 220\n",
        "Timeout 260\n",
        "Timeout 357\n",
        "Timeout"
       ]
      },
      {
       "output_type": "stream",
       "stream": "stdout",
       "text": [
        " 25\n",
        "Timeout 37\n",
        "Timeout 449\n",
        "Timeout 682\n",
        "Timeout 685\n",
        "Timeout 692\n",
        "Timeout 836\n",
        "Timeout"
       ]
      },
      {
       "output_type": "stream",
       "stream": "stdout",
       "text": [
        " 31\n",
        "Timeout 428\n",
        "Timeout 593\n",
        "Timeout 600\n",
        "Timeout 762\n",
        "Timeout 835\n",
        "Timeout 965\n",
        "Timeout"
       ]
      },
      {
       "output_type": "stream",
       "stream": "stdout",
       "text": [
        " 88\n",
        "Timeout 563\n",
        "Timeout 622\n",
        "Timeout"
       ]
      },
      {
       "output_type": "stream",
       "stream": "stdout",
       "text": [
        " 651\n",
        "Timeout 767\n",
        "Timeout 846\n",
        "Timeout 989\n",
        "Timeout"
       ]
      },
      {
       "output_type": "stream",
       "stream": "stdout",
       "text": [
        " 9\n",
        "Timeout 236\n",
        "Timeout 256\n",
        "Timeout 364\n",
        "Timeout 391\n",
        "Timeout 558\n",
        "Timeout 709\n",
        "Timeout"
       ]
      },
      {
       "output_type": "stream",
       "stream": "stdout",
       "text": [
        " 740\n",
        "Timeout"
       ]
      },
      {
       "output_type": "stream",
       "stream": "stdout",
       "text": [
        " 171\n",
        "Timeout 182\n",
        "Timeout 252\n",
        "Timeout 292\n",
        "Timeout 626\n",
        "Timeout 821\n",
        "Timeout 918\n",
        "Timeout 933\n",
        "Timeout"
       ]
      },
      {
       "output_type": "stream",
       "stream": "stdout",
       "text": [
        " 54\n",
        "Timeout 362\n",
        "Timeout 465\n",
        "Timeout 801\n",
        "Timeout"
       ]
      },
      {
       "output_type": "stream",
       "stream": "stdout",
       "text": [
        " 136\n",
        "Timeout 226\n",
        "Timeout 719\n",
        "Timeout 839\n",
        "Timeout 877\n",
        "Timeout 900\n",
        "Timeout"
       ]
      },
      {
       "output_type": "stream",
       "stream": "stdout",
       "text": [
        " 86\n",
        "Timeout 390\n",
        "Timeout"
       ]
      },
      {
       "output_type": "stream",
       "stream": "stdout",
       "text": [
        " 483\n",
        "Timeout 604\n",
        "Timeout 654\n",
        "Timeout 819\n",
        "Timeout 845\n",
        "Timeout 898\n",
        "Timeout 967\n",
        "Timeout"
       ]
      },
      {
       "output_type": "stream",
       "stream": "stdout",
       "text": [
        " 52\n",
        "Timeout 298\n",
        "Timeout 432\n",
        "Timeout 481\n",
        "Timeout"
       ]
      },
      {
       "output_type": "stream",
       "stream": "stdout",
       "text": [
        " 42\n",
        "Timeout 62\n",
        "Timeout 346\n",
        "Timeout 856\n",
        "Timeout 939\n",
        "Timeout"
       ]
      },
      {
       "output_type": "stream",
       "stream": "stdout",
       "text": [
        " 345\n",
        "Timeout 879\n",
        "Timeout"
       ]
      },
      {
       "output_type": "stream",
       "stream": "stdout",
       "text": [
        " 333\n",
        "Timeout 406\n",
        "Timeout 511\n",
        "Timeout"
       ]
      },
      {
       "output_type": "stream",
       "stream": "stdout",
       "text": [
        " 101\n",
        "Timeout 191\n",
        "Timeout 638\n",
        "Timeout 666\n",
        "Timeout 995\n",
        "Timeout"
       ]
      },
      {
       "output_type": "stream",
       "stream": "stdout",
       "text": [
        " 98\n",
        "Timeout 519\n",
        "Timeout"
       ]
      },
      {
       "output_type": "stream",
       "stream": "stdout",
       "text": [
        " 452\n",
        "Timeout 715\n",
        "Timeout"
       ]
      },
      {
       "output_type": "stream",
       "stream": "stdout",
       "text": [
        " 149\n",
        "Timeout 530\n",
        "Timeout 648\n",
        "Timeout 834\n",
        "Timeout 926\n",
        "Timeout"
       ]
      },
      {
       "output_type": "stream",
       "stream": "stdout",
       "text": [
        " 61\n",
        "Timeout 342\n",
        "Timeout 506\n",
        "Timeout"
       ]
      },
      {
       "output_type": "stream",
       "stream": "stdout",
       "text": [
        " 104\n",
        "Timeout 988\n",
        "Timeout"
       ]
      },
      {
       "output_type": "stream",
       "stream": "stdout",
       "text": [
        " 705\n",
        "Timeout 798\n",
        "Timeout"
       ]
      },
      {
       "output_type": "stream",
       "stream": "stdout",
       "text": [
        " 165\n",
        "Timeout 264\n",
        "Timeout 365\n",
        "Timeout 744\n",
        "Timeout"
       ]
      },
      {
       "output_type": "stream",
       "stream": "stdout",
       "text": [
        " 18\n",
        "Timeout 231\n",
        "Timeout 373\n",
        "Timeout 572\n",
        "Timeout 592\n",
        "Timeout 703\n",
        "Timeout"
       ]
      },
      {
       "output_type": "stream",
       "stream": "stdout",
       "text": [
        " 185\n",
        "Timeout 267\n",
        "Timeout 688\n",
        "Timeout"
       ]
      },
      {
       "output_type": "stream",
       "stream": "stdout",
       "text": [
        " 129\n",
        "Timeout"
       ]
      },
      {
       "output_type": "stream",
       "stream": "stdout",
       "text": [
        " 186\n",
        "Timeout 969\n",
        "Timeout 970\n",
        "Timeout"
       ]
      },
      {
       "output_type": "stream",
       "stream": "stdout",
       "text": [
        " 912\n",
        "Timeout 941\n",
        "Timeout 993\n",
        "Timeout"
       ]
      },
      {
       "output_type": "stream",
       "stream": "stdout",
       "text": [
        " 217\n",
        "Timeout 316\n",
        "Timeout 367\n",
        "Timeout 932\n",
        "Timeout"
       ]
      },
      {
       "output_type": "stream",
       "stream": "stdout",
       "text": [
        " 584\n",
        "Timeout 644\n",
        "Timeout 938\n",
        "Timeout"
       ]
      },
      {
       "output_type": "stream",
       "stream": "stdout",
       "text": [
        " 815\n",
        "Timeout"
       ]
      },
      {
       "output_type": "stream",
       "stream": "stdout",
       "text": [
        " 963\n",
        "Timeout"
       ]
      },
      {
       "output_type": "stream",
       "stream": "stdout",
       "text": [
        " 198\n",
        "Timeout 482\n",
        "Timeout"
       ]
      },
      {
       "output_type": "stream",
       "stream": "stdout",
       "text": [
        " 484\n",
        "Timeout 615\n",
        "Timeout 931\n",
        "Timeout"
       ]
      },
      {
       "output_type": "stream",
       "stream": "stdout",
       "text": [
        " 394\n",
        "Timeout"
       ]
      },
      {
       "output_type": "stream",
       "stream": "stdout",
       "text": [
        " 109\n",
        "Timeout"
       ]
      },
      {
       "output_type": "stream",
       "stream": "stdout",
       "text": [
        " 90\n",
        "Timeout 268\n",
        "Timeout 307\n",
        "Timeout 833\n",
        "Timeout"
       ]
      },
      {
       "output_type": "stream",
       "stream": "stdout",
       "text": [
        " 23\n",
        "Timeout 779\n",
        "Timeout 838\n",
        "Timeout"
       ]
      },
      {
       "output_type": "stream",
       "stream": "stdout",
       "text": [
        " 549\n",
        "Timeout 925\n",
        "Timeout"
       ]
      },
      {
       "output_type": "stream",
       "stream": "stdout",
       "text": [
        " 146\n",
        "Timeout"
       ]
      },
      {
       "output_type": "stream",
       "stream": "stdout",
       "text": [
        " 190\n",
        "Timeout 961\n",
        "Timeout"
       ]
      },
      {
       "output_type": "stream",
       "stream": "stdout",
       "text": [
        " 308\n",
        "Timeout"
       ]
      },
      {
       "output_type": "stream",
       "stream": "stdout",
       "text": [
        " 74\n",
        "Timeout 234\n",
        "Timeout 920\n",
        "Timeout"
       ]
      },
      {
       "output_type": "stream",
       "stream": "stdout",
       "text": [
        " 761\n",
        "Timeout"
       ]
      },
      {
       "output_type": "stream",
       "stream": "stdout",
       "text": [
        " 66\n",
        "Timeout 306\n",
        "Timeout 621\n",
        "Timeout"
       ]
      },
      {
       "output_type": "stream",
       "stream": "stdout",
       "text": [
        " 919\n",
        "Timeout 929\n",
        "Timeout"
       ]
      },
      {
       "output_type": "stream",
       "stream": "stdout",
       "text": [
        " 124\n",
        "Timeout 310\n",
        "Timeout 533\n",
        "Timeout 702\n",
        "Timeout 730\n",
        "Timeout 812\n",
        "Timeout 943\n",
        "Timeout"
       ]
      },
      {
       "output_type": "stream",
       "stream": "stdout",
       "text": [
        " 150\n",
        "Timeout 704\n",
        "Timeout 907\n",
        "Timeout 946\n",
        "Timeout"
       ]
      },
      {
       "output_type": "stream",
       "stream": "stdout",
       "text": [
        " 343\n",
        "Timeout 796\n",
        "Timeout"
       ]
      },
      {
       "output_type": "stream",
       "stream": "stdout",
       "text": [
        " 73\n",
        "Timeout 184\n",
        "Timeout 412\n",
        "Timeout 467\n",
        "Timeout 999\n",
        "Timeout"
       ]
      },
      {
       "output_type": "stream",
       "stream": "stdout",
       "text": [
        " 228\n",
        "Timeout 994\n",
        "Timeout"
       ]
      },
      {
       "output_type": "stream",
       "stream": "stdout",
       "text": [
        " 371\n",
        "Timeout 561\n",
        "Timeout 829\n",
        "Timeout"
       ]
      },
      {
       "output_type": "stream",
       "stream": "stdout",
       "text": [
        " 3\n",
        "Timeout 480\n",
        "Timeout"
       ]
      },
      {
       "output_type": "stream",
       "stream": "stdout",
       "text": [
        " 257\n",
        "Timeout 516\n",
        "Timeout 795\n",
        "Timeout 935\n",
        "Timeout"
       ]
      },
      {
       "output_type": "stream",
       "stream": "stdout",
       "text": [
        " 259\n",
        "Timeout 276\n",
        "Timeout 277\n",
        "Timeout 282\n",
        "Timeout 665\n",
        "Timeout"
       ]
      },
      {
       "output_type": "stream",
       "stream": "stdout",
       "text": [
        " 304\n",
        "Timeout 534\n",
        "Timeout 578\n",
        "Timeout 609\n",
        "Timeout 764\n",
        "Timeout 868\n",
        "Timeout 906\n",
        "Timeout"
       ]
      },
      {
       "output_type": "stream",
       "stream": "stdout",
       "text": [
        " 492\n",
        "Timeout"
       ]
      },
      {
       "output_type": "stream",
       "stream": "stdout",
       "text": [
        " 402\n",
        "Timeout 566\n",
        "Timeout 887\n",
        "Timeout"
       ]
      },
      {
       "output_type": "stream",
       "stream": "stdout",
       "text": [
        " 525\n",
        "Timeout"
       ]
      },
      {
       "output_type": "stream",
       "stream": "stdout",
       "text": [
        " 441\n",
        "Timeout"
       ]
      },
      {
       "output_type": "stream",
       "stream": "stdout",
       "text": [
        " 384\n",
        "Timeout 466\n",
        "Timeout 531\n",
        "Timeout"
       ]
      },
      {
       "output_type": "stream",
       "stream": "stdout",
       "text": [
        " 47\n",
        "Timeout 309\n",
        "Timeout 670\n",
        "Timeout 792\n",
        "Timeout"
       ]
      },
      {
       "output_type": "stream",
       "stream": "stdout",
       "text": [
        " 947\n",
        "Timeout 964\n",
        "Timeout"
       ]
      },
      {
       "output_type": "stream",
       "stream": "stdout",
       "text": [
        " 53\n",
        "Timeout 117\n",
        "Timeout 145\n",
        "Timeout 293\n",
        "Timeout 623\n",
        "Timeout"
       ]
      },
      {
       "output_type": "stream",
       "stream": "stdout",
       "text": [
        " 114\n",
        "Timeout 766\n",
        "Timeout 768\n",
        "Timeout 778\n",
        "Timeout 968\n",
        "Timeout"
       ]
      },
      {
       "output_type": "stream",
       "stream": "stdout",
       "text": [
        " 110\n",
        "Timeout 353\n",
        "Timeout 407\n",
        "Timeout 504\n",
        "Timeout 948\n",
        "Timeout"
       ]
      },
      {
       "output_type": "stream",
       "stream": "stdout",
       "text": [
        " 459\n",
        "Timeout"
       ]
      },
      {
       "output_type": "stream",
       "stream": "stdout",
       "text": [
        " 693\n",
        "Timeout"
       ]
      },
      {
       "output_type": "stream",
       "stream": "stdout",
       "text": [
        " 445\n",
        "Timeout"
       ]
      },
      {
       "output_type": "stream",
       "stream": "stdout",
       "text": [
        " 93\n",
        "Timeout 934\n",
        "Timeout"
       ]
      },
      {
       "output_type": "stream",
       "stream": "stdout",
       "text": [
        " 503\n",
        "Timeout 878\n",
        "Timeout 903\n",
        "Timeout"
       ]
      },
      {
       "output_type": "stream",
       "stream": "stdout",
       "text": [
        " 532\n",
        "Timeout 751\n",
        "Timeout 881\n",
        "Timeout"
       ]
      },
      {
       "output_type": "stream",
       "stream": "stdout",
       "text": [
        " 233\n",
        "Timeout 253\n",
        "Timeout 337\n",
        "Timeout"
       ]
      },
      {
       "output_type": "stream",
       "stream": "stdout",
       "text": [
        " 334\n",
        "Timeout 979\n",
        "Timeout"
       ]
      },
      {
       "output_type": "stream",
       "stream": "stdout",
       "text": [
        " 603\n",
        "Timeout 770\n",
        "Timeout 922\n",
        "Timeout 966\n",
        "Timeout"
       ]
      },
      {
       "output_type": "stream",
       "stream": "stdout",
       "text": [
        " 202\n",
        "Timeout 646\n",
        "Timeout"
       ]
      },
      {
       "output_type": "stream",
       "stream": "stdout",
       "text": [
        " 193\n",
        "Timeout 544\n",
        "Timeout 700\n",
        "Timeout 886\n",
        "Timeout"
       ]
      },
      {
       "output_type": "stream",
       "stream": "stdout",
       "text": [
        " 556\n",
        "Timeout 726\n",
        "Timeout 921\n",
        "Timeout"
       ]
      },
      {
       "output_type": "stream",
       "stream": "stdout",
       "text": [
        " 949\n",
        "Timeout"
       ]
      },
      {
       "output_type": "stream",
       "stream": "stdout",
       "text": [
        " 882\n",
        "Timeout"
       ]
      },
      {
       "output_type": "stream",
       "stream": "stdout",
       "text": [
        " 992\n",
        "Timeout"
       ]
      },
      {
       "output_type": "stream",
       "stream": "stdout",
       "text": [
        " 32\n",
        "Timeout 679\n",
        "Timeout"
       ]
      },
      {
       "output_type": "stream",
       "stream": "stdout",
       "text": [
        " 871\n",
        "Timeout"
       ]
      },
      {
       "output_type": "stream",
       "stream": "stdout",
       "text": [
        " 464\n",
        "Timeout"
       ]
      },
      {
       "output_type": "stream",
       "stream": "stdout",
       "text": [
        " 350\n",
        "Timeout"
       ]
      },
      {
       "output_type": "stream",
       "stream": "stdout",
       "text": [
        " 567\n",
        "Timeout 980\n",
        "Timeout"
       ]
      },
      {
       "output_type": "stream",
       "stream": "stdout",
       "text": [
        " 299\n",
        "Timeout 883\n",
        "Timeout"
       ]
      },
      {
       "output_type": "stream",
       "stream": "stdout",
       "text": [
        " 614\n",
        "Timeout"
       ]
      },
      {
       "output_type": "stream",
       "stream": "stdout",
       "text": [
        " 448\n",
        "Timeout"
       ]
      },
      {
       "output_type": "stream",
       "stream": "stdout",
       "text": [
        " 972\n",
        "Timeout"
       ]
      },
      {
       "output_type": "stream",
       "stream": "stdout",
       "text": [
        " 774\n",
        "Timeout"
       ]
      },
      {
       "output_type": "stream",
       "stream": "stdout",
       "text": [
        " 318\n",
        "Timeout"
       ]
      },
      {
       "output_type": "stream",
       "stream": "stdout",
       "text": [
        " 799\n",
        "Timeout"
       ]
      },
      {
       "output_type": "stream",
       "stream": "stdout",
       "text": [
        " 261\n",
        "Timeout"
       ]
      },
      {
       "output_type": "stream",
       "stream": "stdout",
       "text": [
        " 82\n",
        "Timeout 606\n",
        "Timeout"
       ]
      },
      {
       "output_type": "stream",
       "stream": "stdout",
       "text": [
        " 244\n",
        "Timeout"
       ]
      },
      {
       "output_type": "stream",
       "stream": "stdout",
       "text": [
        " 281\n",
        "Timeout"
       ]
      },
      {
       "output_type": "stream",
       "stream": "stdout",
       "text": [
        " 33\n",
        "Timeout 618\n",
        "Timeout"
       ]
      },
      {
       "output_type": "stream",
       "stream": "stdout",
       "text": [
        " 17\n",
        "Timeout"
       ]
      },
      {
       "output_type": "stream",
       "stream": "stdout",
       "text": [
        " 824\n",
        "Timeout"
       ]
      },
      {
       "output_type": "stream",
       "stream": "stdout",
       "text": [
        " 321\n",
        "Timeout 368\n",
        "Timeout"
       ]
      },
      {
       "output_type": "stream",
       "stream": "stdout",
       "text": [
        " 420\n",
        "Timeout"
       ]
      },
      {
       "output_type": "stream",
       "stream": "stdout",
       "text": [
        " 258\n",
        "Timeout 956\n",
        "Timeout"
       ]
      },
      {
       "output_type": "stream",
       "stream": "stdout",
       "text": [
        " 425\n",
        "Timeout"
       ]
      },
      {
       "output_type": "stream",
       "stream": "stdout",
       "text": [
        " 178\n",
        "Timeout"
       ]
      },
      {
       "output_type": "stream",
       "stream": "stdout",
       "text": [
        " 913\n",
        "Timeout 986\n",
        "Timeout"
       ]
      },
      {
       "output_type": "stream",
       "stream": "stdout",
       "text": [
        " 128\n",
        "Timeout"
       ]
      },
      {
       "output_type": "stream",
       "stream": "stdout",
       "text": [
        " 686\n",
        "Timeout"
       ]
      },
      {
       "output_type": "stream",
       "stream": "stdout",
       "text": [
        " 180\n",
        "Timeout"
       ]
      },
      {
       "output_type": "stream",
       "stream": "stdout",
       "text": [
        " 44\n",
        "Timeout"
       ]
      },
      {
       "output_type": "stream",
       "stream": "stdout",
       "text": [
        " 625\n",
        "Timeout"
       ]
      },
      {
       "output_type": "stream",
       "stream": "stdout",
       "text": [
        " 975\n",
        "Timeout"
       ]
      },
      {
       "output_type": "stream",
       "stream": "stdout",
       "text": [
        " 68\n",
        "Timeout 363\n",
        "Timeout"
       ]
      },
      {
       "output_type": "stream",
       "stream": "stdout",
       "text": [
        " 435\n",
        "Timeout"
       ]
      },
      {
       "output_type": "stream",
       "stream": "stdout",
       "text": [
        " 537\n"
       ]
      }
     ],
     "prompt_number": 40
    },
    {
     "cell_type": "code",
     "collapsed": false,
     "input": [
      "hist,bins=histogram(T)"
     ],
     "language": "python",
     "metadata": {},
     "outputs": [],
     "prompt_number": 266
    },
    {
     "cell_type": "code",
     "collapsed": false,
     "input": [
      "hist, bins = np.histogram(T, bins=10)\n",
      "width = 0.7 * (bins[1] - bins[0])\n",
      "center = (bins[:-1] + bins[1:]) / 2\n",
      "plt.bar(center, hist, align='center', width=width)\n",
      "plt.show()"
     ],
     "language": "python",
     "metadata": {},
     "outputs": [],
     "prompt_number": 267
    },
    {
     "cell_type": "code",
     "collapsed": false,
     "input": [],
     "language": "python",
     "metadata": {},
     "outputs": []
    }
   ],
   "metadata": {}
  }
 ]
}