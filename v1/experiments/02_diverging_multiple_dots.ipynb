{
 "metadata": {
  "name": ""
 },
 "nbformat": 3,
 "nbformat_minor": 0,
 "worksheets": [
  {
   "cells": [
    {
     "cell_type": "code",
     "collapsed": false,
     "input": [
      "import scipy.io\n",
      "import networkx as nx"
     ],
     "language": "python",
     "metadata": {},
     "outputs": [],
     "prompt_number": 2
    },
    {
     "cell_type": "markdown",
     "metadata": {},
     "source": [
      "Load Bristol and convert to networkx"
     ]
    },
    {
     "cell_type": "code",
     "collapsed": false,
     "input": [
      "mat = scipy.io.loadmat('cities/City of Bristol/DAMsimple.mat')\n",
      "AM = mat['DAM'];\n",
      "\n",
      "mat = scipy.io.loadmat('cities/City of Bristol/nodesSimple.mat')\n",
      "nodelist = mat['nodes'];"
     ],
     "language": "python",
     "metadata": {},
     "outputs": [],
     "prompt_number": 3
    },
    {
     "cell_type": "code",
     "collapsed": false,
     "input": [
      "G=nx.from_scipy_sparse_matrix(AM);"
     ],
     "language": "python",
     "metadata": {},
     "outputs": [],
     "prompt_number": 4
    },
    {
     "cell_type": "markdown",
     "metadata": {},
     "source": [
      "Graph check"
     ]
    },
    {
     "cell_type": "code",
     "collapsed": false,
     "input": [
      "G.number_of_nodes()==len(nodelist)"
     ],
     "language": "python",
     "metadata": {},
     "outputs": [
      {
       "metadata": {},
       "output_type": "pyout",
       "prompt_number": 5,
       "text": [
        "True"
       ]
      }
     ],
     "prompt_number": 5
    },
    {
     "cell_type": "markdown",
     "metadata": {},
     "source": [
      "Generate a background image of the map"
     ]
    },
    {
     "cell_type": "code",
     "collapsed": false,
     "input": [
      "l,r=min(nodelist[:,0]),max(nodelist[:,0])\n",
      "b,t=min(nodelist[:,1]),max(nodelist[:,1])\n",
      "\n",
      "fig=plt.figure()\n",
      "ax = plt.axes(xlim=(l, r), ylim=(b, t))\n",
      "nx.draw_networkx_edges(G,pos=nodelist)\n",
      "extent = ax.get_window_extent().transformed(fig.dpi_scale_trans.inverted())\n",
      "savefig('map.png', bbox_inches=extent)"
     ],
     "language": "python",
     "metadata": {},
     "outputs": [],
     "prompt_number": 6
    },
    {
     "cell_type": "markdown",
     "metadata": {},
     "source": [
      "Now to move multiple dots"
     ]
    },
    {
     "cell_type": "code",
     "collapsed": false,
     "input": [
      "\"\"\"\n",
      "Matplotlib Animation Example\n",
      "\n",
      "author: Jake Vanderplas\n",
      "email: vanderplas@astro.washington.edu\n",
      "website: http://jakevdp.github.com\n",
      "license: BSD\n",
      "Please feel free to use and modify this, but keep the above information. Thanks!\n",
      "\"\"\"\n",
      "\n",
      "import numpy as np\n",
      "from matplotlib import animation\n",
      "from scipy.misc import imread\n",
      "\n",
      "datafile = ('map.png')\n",
      "img = imread(datafile)\n",
      "\n",
      "# First set up the figure, the axis, and the plot element we want to animate\n",
      "plt.ion()\n",
      "fig=plt.figure()\n",
      "ax = plt.axes(xlim=(l, r), ylim=(b, t))\n",
      "\n",
      "# Number of agents\n",
      "n=100\n",
      "\n",
      "# Calculate centre of map and radius\n",
      "cX = (l+r)/2\n",
      "cY = (t+b)/2\n",
      "R = max([r-l,t-b])\n",
      "\n",
      "# Speed of agents\n",
      "s=0.001\n",
      "\n",
      "xc=(r-l)*rand(1,n)+l\n",
      "yc=(t-b)*rand(1,n)+b\n",
      "\n",
      "point, = plt.plot([], [], 'r.') \n",
      "\n",
      "# initialization function: plot the background of each frame\n",
      "def init():\n",
      "    plt.imshow(img, zorder=0, extent=[l, r, b, t])\n",
      "    #Alternatively do the following to see how much speed boost the above command gives\n",
      "    #nx.draw_networkx_edges(G,pos=nodelist)\n",
      "    point.set_data([], [])\n",
      "    return point,\n",
      "\n",
      "# animation function.  This is called sequentially\n",
      "def animate(i):\n",
      "    global xc, yc\n",
      "    # Random component\n",
      "    xr=s*(1-2*around(rand(1,n)))\n",
      "    yr=s*(1-2*around(rand(1,n)))\n",
      "    # Go towards the perimeter\n",
      "    vX = xc - cX\n",
      "    vY = yc - cY\n",
      "    magV = sqrt(vX*vX + vY*vY)\n",
      "    # Incremental step towards the perimeter\n",
      "    xp = vX / magV * s;\n",
      "    yp = vY / magV * s;\n",
      "    # Point on the perimeter\n",
      "    # aX = cX + vX / magV * R\n",
      "    # aY = cY + vY / magV * R\n",
      "    xc=xc+xr+xp\n",
      "    yc=yc+yr+yp\n",
      "    point.set_data(xc, yc)\n",
      "    # print xc,yc\n",
      "    return point,\n",
      "\n",
      "# call the animator.  blit=True means only re-draw the parts that have changed.\n",
      "anim = animation.FuncAnimation(fig, animate, init_func=init,\n",
      "                               frames=200, interval = 10,blit=False)\n",
      "\n",
      "# save the animation as an mp4.  This requires ffmpeg or mencoder to be\n",
      "# installed.  The extra_args ensure that the x264 codec is used, so that\n",
      "# the video can be embedded in html5.  You may need to adjust this for\n",
      "# your system: for more information, see\n",
      "# http://matplotlib.sourceforge.net/api/animation_api.html\n",
      "anim.save('bristol-diverge.mp4', fps=25, extra_args=['-vcodec', 'libx264'])\n",
      "\n",
      "plt.ioff()\n",
      "plt.show()"
     ],
     "language": "python",
     "metadata": {},
     "outputs": [],
     "prompt_number": 7
    },
    {
     "cell_type": "code",
     "collapsed": false,
     "input": [
      "nodelist"
     ],
     "language": "python",
     "metadata": {},
     "outputs": [
      {
       "metadata": {},
       "output_type": "pyout",
       "prompt_number": 10,
       "text": [
        "array([[ -2.7046849,  51.5013937],\n",
        "       [ -2.703846 ,  51.5001077],\n",
        "       [ -2.7031812,  51.5051739],\n",
        "       ..., \n",
        "       [ -2.4618647,  51.4255312],\n",
        "       [ -2.4607275,  51.4167996],\n",
        "       [ -2.4575807,  51.4420054]])"
       ]
      }
     ],
     "prompt_number": 10
    },
    {
     "cell_type": "code",
     "collapsed": false,
     "input": [
      "max(nodelist[1])"
     ],
     "language": "python",
     "metadata": {},
     "outputs": [
      {
       "metadata": {},
       "output_type": "pyout",
       "prompt_number": 11,
       "text": [
        "51.500107700000001"
       ]
      }
     ],
     "prompt_number": 11
    },
    {
     "cell_type": "code",
     "collapsed": false,
     "input": [
      "nodelist[:,1]"
     ],
     "language": "python",
     "metadata": {},
     "outputs": [
      {
       "metadata": {},
       "output_type": "pyout",
       "prompt_number": 12,
       "text": [
        "array([ 51.5013937,  51.5001077,  51.5051739, ...,  51.4255312,\n",
        "        51.4167996,  51.4420054])"
       ]
      }
     ],
     "prompt_number": 12
    },
    {
     "cell_type": "code",
     "collapsed": false,
     "input": [],
     "language": "python",
     "metadata": {},
     "outputs": [],
     "prompt_number": 12
    },
    {
     "cell_type": "code",
     "collapsed": false,
     "input": [],
     "language": "python",
     "metadata": {},
     "outputs": [],
     "prompt_number": 12
    },
    {
     "cell_type": "code",
     "collapsed": false,
     "input": [],
     "language": "python",
     "metadata": {},
     "outputs": []
    },
    {
     "cell_type": "code",
     "collapsed": false,
     "input": [],
     "language": "python",
     "metadata": {},
     "outputs": []
    },
    {
     "cell_type": "code",
     "collapsed": false,
     "input": [],
     "language": "python",
     "metadata": {},
     "outputs": []
    },
    {
     "cell_type": "code",
     "collapsed": false,
     "input": [],
     "language": "python",
     "metadata": {},
     "outputs": []
    },
    {
     "cell_type": "code",
     "collapsed": false,
     "input": [],
     "language": "python",
     "metadata": {},
     "outputs": []
    },
    {
     "cell_type": "code",
     "collapsed": false,
     "input": [],
     "language": "python",
     "metadata": {},
     "outputs": []
    },
    {
     "cell_type": "code",
     "collapsed": false,
     "input": [],
     "language": "python",
     "metadata": {},
     "outputs": []
    },
    {
     "cell_type": "code",
     "collapsed": false,
     "input": [],
     "language": "python",
     "metadata": {},
     "outputs": []
    },
    {
     "cell_type": "code",
     "collapsed": false,
     "input": [],
     "language": "python",
     "metadata": {},
     "outputs": []
    },
    {
     "cell_type": "code",
     "collapsed": false,
     "input": [],
     "language": "python",
     "metadata": {},
     "outputs": []
    },
    {
     "cell_type": "code",
     "collapsed": false,
     "input": [],
     "language": "python",
     "metadata": {},
     "outputs": []
    }
   ],
   "metadata": {}
  }
 ]
}