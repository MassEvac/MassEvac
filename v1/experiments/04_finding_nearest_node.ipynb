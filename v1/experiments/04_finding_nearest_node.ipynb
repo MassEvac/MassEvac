{
 "metadata": {
  "name": ""
 },
 "nbformat": 3,
 "nbformat_minor": 0,
 "worksheets": [
  {
   "cells": [
    {
     "cell_type": "code",
     "collapsed": false,
     "input": [
      "import scipy.io\n",
      "import networkx as nx"
     ],
     "language": "python",
     "metadata": {},
     "outputs": [],
     "prompt_number": 1
    },
    {
     "cell_type": "markdown",
     "metadata": {},
     "source": [
      "Load Bristol and convert to networkx"
     ]
    },
    {
     "cell_type": "code",
     "collapsed": false,
     "input": [
      "mat = scipy.io.loadmat('Bristol/DAMsimple.mat')\n",
      "AM = mat['DAM'];\n",
      "\n",
      "mat = scipy.io.loadmat('Bristol/nodesSimple.mat')\n",
      "nodelist = mat['nodes'];"
     ],
     "language": "python",
     "metadata": {},
     "outputs": [],
     "prompt_number": 2
    },
    {
     "cell_type": "code",
     "collapsed": false,
     "input": [
      "G=nx.from_scipy_sparse_matrix(AM);"
     ],
     "language": "python",
     "metadata": {},
     "outputs": [],
     "prompt_number": 3
    },
    {
     "cell_type": "markdown",
     "metadata": {},
     "source": [
      "Graph check"
     ]
    },
    {
     "cell_type": "code",
     "collapsed": false,
     "input": [
      "G.number_of_nodes()==len(nodelist)"
     ],
     "language": "python",
     "metadata": {},
     "outputs": [
      {
       "metadata": {},
       "output_type": "pyout",
       "prompt_number": 4,
       "text": [
        "True"
       ]
      }
     ],
     "prompt_number": 4
    },
    {
     "cell_type": "markdown",
     "metadata": {},
     "source": [
      "Generate a background image of the map"
     ]
    },
    {
     "cell_type": "code",
     "collapsed": false,
     "input": [
      "l,r=min(nodelist[:,0]),max(nodelist[:,0])\n",
      "b,t=min(nodelist[:,1]),max(nodelist[:,1])\n",
      "\n",
      "fig=plt.figure()\n",
      "ax = plt.axes(xlim=(l, r), ylim=(b, t))\n",
      "nx.draw_networkx_edges(G,pos=nodelist)\n",
      "extent = ax.get_window_extent().transformed(fig.dpi_scale_trans.inverted())\n",
      "savefig('map.png', bbox_inches=extent)\n",
      "plt.close('all')"
     ],
     "language": "python",
     "metadata": {},
     "outputs": [],
     "prompt_number": 5
    },
    {
     "cell_type": "markdown",
     "metadata": {},
     "source": [
      "Now to move multiple dots"
     ]
    },
    {
     "cell_type": "code",
     "collapsed": false,
     "input": [
      "\"\"\"\n",
      "Matplotlib Animation Example\n",
      "\n",
      "author: Jake Vanderplas\n",
      "email: vanderplas@astro.washington.edu\n",
      "website: http://jakevdp.github.com\n",
      "license: BSD\n",
      "Please feel free to use and modify this, but keep the above information. Thanks!\n",
      "\"\"\"\n",
      "\n",
      "import numpy as np\n",
      "from matplotlib import animation\n",
      "from scipy.misc import imread\n",
      "\n",
      "datafile = ('map.png')\n",
      "img = imread(datafile)\n",
      "\n",
      "# First set up the figure, the axis, and the plot element we want to animate\n",
      "plt.ion()\n",
      "fig = plt.figure()\n",
      "ax1 = plt.axes(xlim=(l, r), ylim=(b, t))\n",
      "plt.imshow(img, zorder=0, extent=[l, r, b, t])\n",
      "# Alternatively do the following to see how much speed boost the above command gives\n",
      "# nx.draw_networkx_edges(G,pos=nodelist)\n",
      "\n",
      "ax2 = plt.axes(xlim=(l, r), ylim=(b, t))\n",
      "\n",
      "ax3 = plt.axes(xlim=(l, r), ylim=(b, t))\n",
      "\n",
      "# Number of frames\n",
      "f = 50\n",
      "\n",
      "# Calculate centre of map and radius\n",
      "CX = (l+r)/2\n",
      "CY = (t+b)/2\n",
      "R = max([r-l,t-b])\n",
      "\n",
      "# Speed of agents\n",
      "vel = 0.001\n",
      "\n",
      "# Tolerance\n",
      "tol = 0.001\n",
      "\n",
      "# Number of agents\n",
      "n=200\n",
      "\n",
      "PX=(r-l)*rand(1,n)+l\n",
      "PY=(t-b)*rand(1,n)+b\n",
      "\n",
      "NX=zeros((1,n))\n",
      "NY=zeros((1,n))\n",
      "\n",
      "for i in range(n):\n",
      "    distance=sqrt(square(nodelist[:,0]-PX[0,i])+square(nodelist[:,1]-PY[0,i]))\n",
      "    nearest=min(range(len(distance)), key=distance.__getitem__)\n",
      "    node=nodelist[nearest]\n",
      "    NX[0,i]=node[0]\n",
      "    NY[0,i]=node[1]\n",
      "\n",
      "point, = ax1.plot([], [], 'r.') \n",
      "nearp, = ax2.plot([], [], 'bo') \n",
      "line, = ax3.plot([], [], 'g-',linewidth=2.0) \n",
      "\n",
      "\n",
      "\n",
      "# Evacuation time vs % evacuated\n",
      "eve = [0,0]\n",
      "\n",
      "# initialization function: plot the background of each frame\n",
      "def init():\n",
      "    return 0,\n",
      "\n",
      "# animation function.  This is called sequentially\n",
      "def animate(i):\n",
      "    global PX, PY, eve, f\n",
      "    \n",
      "    # Determine the components of unit vector towards the nearest node\n",
      "    vX = PX - NX\n",
      "    vY = PY - NY\n",
      "    magV = sqrt(vX*vX + vY*vY)\n",
      "    \n",
      "    # Incremental step towards the perimeter (Edge)\n",
      "    EX = vX / magV * vel;\n",
      "    EY = vY / magV * vel;\n",
      "    \n",
      "    # Update the array with position of agents\n",
      "    PX=PX-EX\n",
      "    PY=PY-EY\n",
      "    \n",
      "    # Update the agent location graph\n",
      "    point.set_data(PX, PY)\n",
      "    \n",
      "    nearp.set_data(NX, NY)\n",
      "    \n",
      "    # Distance to the nearest node\n",
      "    dX = NX - PX\n",
      "    dY = NY - PY\n",
      "    magD = sqrt(dX*dX + dY*dY)\n",
      "    \n",
      "    # Count the number of agents that are within 0.1 of the radius\n",
      "    a = sum(d < tol for d in magD[0])\n",
      "    \n",
      "    # Update the array with evacuation time vs number of evacuaees\n",
      "    eve = vstack([eve,[i,a]])\n",
      "    \n",
      "    # Update the progress graph\n",
      "    LX = eve[:,0]/float(f)*(r-l)+l\n",
      "    LY = eve[:,1]/float(n)*(t-b)+b\n",
      "    line.set_data(LX, LY)\n",
      "    return 0,\n",
      "\n",
      "# call the animator.  blit=True means only re-draw the parts that have changed.\n",
      "anim = animation.FuncAnimation(fig, animate, init_func=init,\n",
      "                               frames=f, interval = 10,blit=False)\n",
      "\n",
      "# save the animation as an mp4.  This requires ffmpeg or mencoder to be\n",
      "# installed.  The extra_args ensure that the x264 codec is used, so that\n",
      "# the video can be embedded in html5.  You may need to adjust this for\n",
      "# your system: for more information, see\n",
      "# http://matplotlib.sourceforge.net/api/animation_api.html\n",
      "anim.save('bristol-nearest-node.mp4', fps=25, extra_args=['-vcodec', 'libx264'])\n",
      "\n",
      "plt.ioff()\n",
      "plt.close('all')"
     ],
     "language": "python",
     "metadata": {},
     "outputs": [],
     "prompt_number": 6
    },
    {
     "cell_type": "code",
     "collapsed": false,
     "input": [],
     "language": "python",
     "metadata": {},
     "outputs": [],
     "prompt_number": 6
    },
    {
     "cell_type": "code",
     "collapsed": false,
     "input": [],
     "language": "python",
     "metadata": {},
     "outputs": [],
     "prompt_number": 6
    },
    {
     "cell_type": "code",
     "collapsed": false,
     "input": [],
     "language": "python",
     "metadata": {},
     "outputs": [],
     "prompt_number": 6
    },
    {
     "cell_type": "code",
     "collapsed": false,
     "input": [],
     "language": "python",
     "metadata": {},
     "outputs": [],
     "prompt_number": 6
    },
    {
     "cell_type": "code",
     "collapsed": false,
     "input": [],
     "language": "python",
     "metadata": {},
     "outputs": [],
     "prompt_number": 6
    },
    {
     "cell_type": "code",
     "collapsed": false,
     "input": [],
     "language": "python",
     "metadata": {},
     "outputs": [],
     "prompt_number": 6
    },
    {
     "cell_type": "code",
     "collapsed": false,
     "input": [],
     "language": "python",
     "metadata": {},
     "outputs": [],
     "prompt_number": 6
    },
    {
     "cell_type": "code",
     "collapsed": false,
     "input": [],
     "language": "python",
     "metadata": {},
     "outputs": []
    }
   ],
   "metadata": {}
  }
 ]
}