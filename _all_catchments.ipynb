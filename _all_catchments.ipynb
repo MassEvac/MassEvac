{
 "cells": [
  {
   "cell_type": "markdown",
   "metadata": {
    "collapsed": false
   },
   "source": [
    "### %matplotlib inline\n",
    "%run init.py"
   ]
  },
  {
   "cell_type": "code",
   "execution_count": 3,
   "metadata": {
    "collapsed": false
   },
   "outputs": [
    {
     "name": "stdout",
     "output_type": "stream",
     "text": [
      "total 697\n",
      "nX city\n",
      "10 Tandridge\n",
      "12 Wokingham\n",
      "22 Windsor and Maidenhead\n",
      "6 Aberdeen City\n",
      "14 Wyre Forest\n",
      "12 Renfrewshire\n",
      "16 North West Leicestershire\n",
      "9 Chiltern\n",
      "5 Great Yarmouth\n",
      "8 Arun\n",
      "10 North East Lincolnshire\n",
      "19 Newcastle-under-Lyme\n",
      "7 Redcar and Cleveland\n",
      "21 North East Derbyshire\n",
      "4 Wirral District\n",
      "18 Bromsgrove\n",
      "23 Warrington\n",
      "23 Tonbridge and Malling\n",
      "14 Mole Valley\n",
      "8 Rochford\n",
      "7 York\n",
      "10 Fylde\n",
      "20 Rotherham\n",
      "11 Kettering\n",
      "10 West Dunbartonshire\n",
      "16 Sefton\n",
      "10 Medway\n",
      "20 Charnwood\n",
      "12 Warwick District\n",
      "20 Amber Valley\n",
      "10 Newport\n",
      "20 Solihull\n",
      "21 North Warwickshire\n",
      "18 City of Edinburgh\n",
      "1 Yell\n",
      "8 Lewes\n",
      "7 Thurrock\n",
      "9 Bridgend\n",
      "10 Caerphilly\n",
      "19 Guildford\n",
      "10 Dacorum\n",
      "24 Chorley\n",
      "18 Stockton-on-Tees\n",
      "23 Wigan\n",
      "38 Birmingham\n",
      "10 Darlington\n",
      "13 Telford and Wrekin\n",
      "15 Hart\n",
      "10 Swindon\n",
      "16 City of Bristol\n"
     ]
    }
   ],
   "source": [
    "nX = [len(Xi[x]) for x in Xi]\n",
    "print 'total',sum(nX)\n",
    "print 'nX','city'\n",
    "for n,x in zip(nX,X):\n",
    "    print n,x"
   ]
  },
  {
   "cell_type": "code",
   "execution_count": 6,
   "metadata": {
    "collapsed": false
   },
   "outputs": [
    {
     "data": {
      "text/plain": [
       "array([ 1,  4,  5,  6,  7,  7,  7,  8,  8,  8,  9,  9, 10, 10, 10, 10, 10,\n",
       "       10, 10, 10, 10, 10, 11, 12, 12, 12, 13, 14, 14, 15, 16, 16, 16, 18,\n",
       "       18, 18, 19, 19, 20, 20, 20, 20, 21, 21, 22, 23, 23, 23, 24, 38])"
      ]
     },
     "execution_count": 6,
     "metadata": {},
     "output_type": "execute_result"
    }
   ],
   "source": [
    "np.sort(nX)"
   ]
  },
  {
   "cell_type": "code",
   "execution_count": 11,
   "metadata": {
    "collapsed": false
   },
   "outputs": [
    {
     "name": "stdout",
     "output_type": "stream",
     "text": [
      " std 6.68852749116\n",
      "mean 13.94\n"
     ]
    },
    {
     "data": {
      "image/png": "[encoded data removed]",
      "text/plain": [
       "<matplotlib.figure.Figure at 0x109ca5f90>"
      ]
     },
     "metadata": {},
     "output_type": "display_data"
    }
   ],
   "source": [
    "plt.hist(nX)\n",
    "plt.xlabel('Number of catchment areas')\n",
    "plt.ylabel('Number of cities')\n",
    "print 'std',np.std(nX)\n",
    "print 'mean',np.mean(nX)"
   ]
  },
  {
   "cell_type": "code",
   "execution_count": null,
   "metadata": {
    "collapsed": false
   },
   "outputs": [],
   "source": []
  }
 ],
 "metadata": {
  "kernelspec": {
   "display_name": "Python 2",
   "language": "python",
   "name": "python2"
  },
  "language_info": {
   "codemirror_mode": {
    "name": "ipython",
    "version": 2
   },
   "file_extension": ".py",
   "mimetype": "text/x-python",
   "name": "python",
   "nbconvert_exporter": "python",
   "pygments_lexer": "ipython2",
   "version": "2.7.10"
  }
 },
 "nbformat": 4,
 "nbformat_minor": 0
}
